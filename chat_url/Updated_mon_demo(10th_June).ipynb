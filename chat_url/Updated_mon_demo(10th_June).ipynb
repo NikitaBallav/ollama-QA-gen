{
  "cells": [
    {
      "cell_type": "markdown",
      "metadata": {
        "id": "WQxnzMOdr3Mb"
      },
      "source": [
        "# Ollama server"
      ]
    },
    {
      "cell_type": "code",
      "execution_count": 30,
      "metadata": {
        "collapsed": true,
        "id": "P5CoDF76rww8"
      },
      "outputs": [],
      "source": [
        "%pip -q install python-magic tabulate pdf2image pytesseract llama-index llama-index-readers-web llama-index-llms-ollama llama-index-embeddings-huggingface llama-index-readers-file unstructured einops datasets huggingface_hub sentence-transformers docx2txt python-docx"
      ]
    },
    {
      "cell_type": "code",
      "execution_count": 31,
      "metadata": {
        "colab": {
          "base_uri": "https://localhost:8080/"
        },
        "collapsed": true,
        "id": "ExAliULksHYZ",
        "outputId": "1df28493-e101-4ac9-8ae0-4415ab284660"
      },
      "outputs": [
        {
          "output_type": "stream",
          "name": "stdout",
          "text": [
            "  % Total    % Received % Xferd  Average Speed   Time    Time     Time  Current\n",
            "                                 Dload  Upload   Total   Spent    Left  Speed\n",
            "100 10941    0 10941    0     0  52381      0 --:--:-- --:--:-- --:--:-- 52349>>> Downloading ollama...\n",
            "100 10941    0 10941    0     0  38460      0 --:--:-- --:--:-- --:--:-- 38389\n",
            "############################################################################################# 100.0%\n",
            ">>> Installing ollama to /usr/local/bin...\n",
            ">>> Adding ollama user to video group...\n",
            ">>> Adding current user to ollama group...\n",
            ">>> Creating ollama systemd service...\n",
            "WARNING: Unable to detect NVIDIA/AMD GPU. Install lspci or lshw to automatically detect and install GPU dependencies.\n",
            ">>> The Ollama API is now available at 127.0.0.1:11434.\n",
            ">>> Install complete. Run \"ollama\" from the command line.\n"
          ]
        }
      ],
      "source": [
        "! curl https://ollama.ai/install.sh | sh"
      ]
    },
    {
      "cell_type": "code",
      "execution_count": 32,
      "metadata": {
        "id": "ASai0nensMLq"
      },
      "outputs": [],
      "source": [
        "import os\n",
        "import threading\n",
        "import subprocess\n",
        "import requests\n",
        "import json\n",
        "\n",
        "def ollama():\n",
        "    os.environ['OLLAMA_HOST'] = '0.0.0.0:11434'\n",
        "    os.environ['OLLAMA_ORIGINS'] = '*'\n",
        "    subprocess.Popen([\"ollama\", \"serve\"])\n"
      ]
    },
    {
      "cell_type": "code",
      "execution_count": 33,
      "metadata": {
        "id": "XFZMBrASsPSu"
      },
      "outputs": [],
      "source": [
        "ollama_thread = threading.Thread(target=ollama)\n",
        "ollama_thread.start()"
      ]
    },
    {
      "cell_type": "code",
      "execution_count": 34,
      "metadata": {
        "colab": {
          "base_uri": "https://localhost:8080/"
        },
        "collapsed": true,
        "id": "HBRZksxXsRyg",
        "outputId": "50cd43f9-4118-4cbd-f5ca-22cc2a074d59"
      },
      "outputs": [
        {
          "output_type": "stream",
          "name": "stdout",
          "text": [
            "\u001b[?25lpulling manifest ⠋ \u001b[?25h\u001b[?25l\u001b[2K\u001b[1Gpulling manifest ⠙ \u001b[?25h\u001b[?25l\u001b[2K\u001b[1Gpulling manifest ⠹ \u001b[?25h\u001b[?25l\u001b[2K\u001b[1Gpulling manifest ⠸ \u001b[?25h\u001b[?25l\u001b[2K\u001b[1Gpulling manifest ⠼ \u001b[?25h\u001b[?25l\u001b[2K\u001b[1Gpulling manifest ⠴ \u001b[?25h\u001b[?25l\u001b[2K\u001b[1Gpulling manifest ⠦ \u001b[?25h\u001b[?25l\u001b[2K\u001b[1Gpulling manifest \n",
            "pulling 6a0746a1ec1a... 100% ▕▏ 4.7 GB                         \n",
            "pulling 4fa551d4f938... 100% ▕▏  12 KB                         \n",
            "pulling 8ab4849b038c... 100% ▕▏  254 B                         \n",
            "pulling 577073ffcc6c... 100% ▕▏  110 B                         \n",
            "pulling 3f8eb4da87fa... 100% ▕▏  485 B                         \n",
            "verifying sha256 digest \n",
            "writing manifest \n",
            "removing any unused layers \n",
            "success \u001b[?25h\n"
          ]
        }
      ],
      "source": [
        "!ollama pull llama3"
      ]
    },
    {
      "cell_type": "code",
      "execution_count": 35,
      "metadata": {
        "colab": {
          "base_uri": "https://localhost:8080/"
        },
        "id": "CD1htcsFsX8U",
        "outputId": "79271dc0-3b91-49fa-b06f-70f2ab1063c9"
      },
      "outputs": [
        {
          "output_type": "stream",
          "name": "stdout",
          "text": [
            "NAME         \tID          \tSIZE  \tMODIFIED      \n",
            "llama3:latest\t365c0bd3c000\t4.7 GB\t3 seconds ago\t\n"
          ]
        }
      ],
      "source": [
        "!ollama list"
      ]
    },
    {
      "cell_type": "markdown",
      "metadata": {
        "id": "1znBCON_sYw5"
      },
      "source": [
        "# Libraries"
      ]
    },
    {
      "cell_type": "code",
      "execution_count": 36,
      "metadata": {
        "id": "vvNZMvC6sagg"
      },
      "outputs": [],
      "source": [
        "from llama_index.core import SimpleDirectoryReader\n",
        "from llama_index.core import VectorStoreIndex\n",
        "from llama_index.llms.ollama import Ollama\n",
        "from llama_index.embeddings.huggingface import HuggingFaceEmbedding\n",
        "from llama_index.core import Settings\n",
        "from llama_index.core import get_response_synthesizer\n",
        "from llama_index.core import DocumentSummaryIndex\n",
        "from llama_index.core.node_parser import SentenceSplitter\n",
        "from llama_index.readers.web import SimpleWebPageReader\n",
        "from llama_index.readers.file import (\n",
        "    DocxReader,\n",
        "    HWPReader,\n",
        "    PDFReader,\n",
        "    EpubReader,\n",
        "    FlatReader,\n",
        "    HTMLTagReader,\n",
        "    ImageCaptionReader,\n",
        "    ImageReader,\n",
        "    ImageVisionLLMReader,\n",
        "    IPYNBReader,\n",
        "    MarkdownReader,\n",
        "    MboxReader,\n",
        "    PptxReader,\n",
        "    PandasCSVReader,\n",
        "    VideoAudioReader,\n",
        "    UnstructuredReader,\n",
        "    PyMuPDFReader,\n",
        "    ImageTabularChartReader,\n",
        "    XMLReader,\n",
        "    PagedCSVReader,\n",
        "    CSVReader,\n",
        "    RTFReader,\n",
        ")\n",
        "from llama_index.core import (\n",
        "    load_index_from_storage,\n",
        "    StorageContext,\n",
        ")\n"
      ]
    },
    {
      "cell_type": "markdown",
      "metadata": {
        "id": "vaJosvhjqQIj"
      },
      "source": [
        "# Trying Embedding models from MTEB"
      ]
    },
    {
      "cell_type": "code",
      "execution_count": null,
      "metadata": {
        "colab": {
          "base_uri": "https://localhost:8080/"
        },
        "id": "jf7mDiWH5Z0U",
        "outputId": "e92e76eb-ddf7-4f8b-b160-5823061b6e0d"
      },
      "outputs": [
        {
          "name": "stdout",
          "output_type": "stream",
          "text": [
            "\n",
            "    _|    _|  _|    _|    _|_|_|    _|_|_|  _|_|_|  _|      _|    _|_|_|      _|_|_|_|    _|_|      _|_|_|  _|_|_|_|\n",
            "    _|    _|  _|    _|  _|        _|          _|    _|_|    _|  _|            _|        _|    _|  _|        _|\n",
            "    _|_|_|_|  _|    _|  _|  _|_|  _|  _|_|    _|    _|  _|  _|  _|  _|_|      _|_|_|    _|_|_|_|  _|        _|_|_|\n",
            "    _|    _|  _|    _|  _|    _|  _|    _|    _|    _|    _|_|  _|    _|      _|        _|    _|  _|        _|\n",
            "    _|    _|    _|_|      _|_|_|    _|_|_|  _|_|_|  _|      _|    _|_|_|      _|        _|    _|    _|_|_|  _|_|_|_|\n",
            "\n",
            "    To login, `huggingface_hub` requires a token generated from https://huggingface.co/settings/tokens .\n",
            "Enter your token (input will not be visible): \n",
            "Add token as git credential? (Y/n) n\n",
            "Token is valid (permission: write).\n",
            "Your token has been saved to /root/.cache/huggingface/token\n",
            "Login successful\n"
          ]
        }
      ],
      "source": [
        "!huggingface-cli login"
      ]
    },
    {
      "cell_type": "code",
      "execution_count": null,
      "metadata": {
        "colab": {
          "base_uri": "https://localhost:8080/"
        },
        "id": "3KNCkGl55xHb",
        "outputId": "34c894bc-dcb7-4714-aeba-5067c95f4cac"
      },
      "outputs": [
        {
          "name": "stdout",
          "output_type": "stream",
          "text": [
            "ballav\n"
          ]
        }
      ],
      "source": [
        "!huggingface-cli whoami"
      ]
    },
    {
      "cell_type": "markdown",
      "metadata": {
        "id": "Wb1HMZ2ZonWW"
      },
      "source": [
        "# If want to download the model locally"
      ]
    },
    {
      "cell_type": "code",
      "execution_count": null,
      "metadata": {
        "colab": {
          "base_uri": "https://localhost:8080/"
        },
        "collapsed": true,
        "id": "HoXZsMP-7zfJ",
        "outputId": "e545da0b-b644-4ee2-ebf2-53471c400602"
      },
      "outputs": [
        {
          "name": "stdout",
          "output_type": "stream",
          "text": [
            "Fetching 17 files:   0% 0/17 [00:00<?, ?it/s]Downloading 'README.md' to 'Meta-Llama-3-8B/.huggingface/download/README.md.53e7e6ec18e5d060bc5690314c0e04f2df3326bf.incomplete'\n",
            "Downloading 'model-00002-of-00004.safetensors' to 'Meta-Llama-3-8B/.huggingface/download/model-00002-of-00004.safetensors.d9eee5f23d94405d90b7e9ff88b9443fee42f8528a658f54214c2aba7530d80c.incomplete'\n",
            "Downloading 'model-00001-of-00004.safetensors' to 'Meta-Llama-3-8B/.huggingface/download/model-00001-of-00004.safetensors.f2c144103072514542e327fa8080bd375cb300f2d453fba9ca3aea81d0d4cf33.incomplete'\n",
            "Downloading 'USE_POLICY.md' to 'Meta-Llama-3-8B/.huggingface/download/USE_POLICY.md.6f8e5f6e3243c92046a133c92eb62b1ed7975a0b.incomplete'\n",
            "Downloading 'generation_config.json' to 'Meta-Llama-3-8B/.huggingface/download/generation_config.json.22550a806e8cfce3b346a520348e14b765287805.incomplete'\n",
            "Downloading 'LICENSE' to 'Meta-Llama-3-8B/.huggingface/download/LICENSE.4c763399690c7fec642231350756e4ee9184b5ce.incomplete'\n",
            "Downloading 'config.json' to 'Meta-Llama-3-8B/.huggingface/download/config.json.7784fbf6342de338b736f884a49b08f270c5e9c8.incomplete'\n",
            "\n",
            "README.md: 100% 36.5k/36.5k [00:00<00:00, 5.15MB/s]\n",
            "Download complete. Moving file to Meta-Llama-3-8B/README.md\n",
            "\n",
            "USE_POLICY.md: 100% 4.70k/4.70k [00:00<00:00, 18.1MB/s]\n",
            "Download complete. Moving file to Meta-Llama-3-8B/USE_POLICY.md\n",
            "\n",
            "LICENSE: 100% 7.80k/7.80k [00:00<00:00, 34.2MB/s]\n",
            "Download complete. Moving file to Meta-Llama-3-8B/LICENSE\n",
            "\n",
            "config.json: 100% 654/654 [00:00<00:00, 5.30MB/s]\n",
            "Download complete. Moving file to Meta-Llama-3-8B/config.json\n",
            "Downloading 'model-00003-of-00004.safetensors' to 'Meta-Llama-3-8B/.huggingface/download/model-00003-of-00004.safetensors.4b8fbc5e113f69768dd8de84661ea20af8a32b734a9976144b4236c447b40ccc.incomplete'\n",
            "\n",
            "model-00002-of-00004.safetensors:   0% 0.00/5.00G [00:00<?, ?B/s]\u001b[A\n",
            "\n",
            "model-00001-of-00004.safetensors:   0% 0.00/4.98G [00:00<?, ?B/s]\u001b[A\u001b[A\n",
            "\n",
            "\n",
            "generation_config.json: 100% 177/177 [00:00<00:00, 1.23MB/s]\n",
            "Download complete. Moving file to Meta-Llama-3-8B/generation_config.json\n",
            "Downloading 'model-00004-of-00004.safetensors' to 'Meta-Llama-3-8B/.huggingface/download/model-00004-of-00004.safetensors.5dc34e6bdf2da9e35f0d93b5c333c870f3677dc43dc3a91ea3a8ad28a1fe1acb.incomplete'\n",
            "Downloading 'model.safetensors.index.json' to 'Meta-Llama-3-8B/.huggingface/download/model.safetensors.index.json.0fd8120f1c6acddc268ebc2583058efaf699a771.incomplete'\n",
            "Downloading 'original/consolidated.00.pth' to 'Meta-Llama-3-8B/.huggingface/download/original/consolidated.00.pth.66c4ca005b0ad6215f23591aefff712c08e87235457063ad387865ff6cc18f79.incomplete'\n",
            "Downloading '.gitattributes' to 'Meta-Llama-3-8B/.huggingface/download/.gitattributes.a6344aac8c09253b3b630fb776ae94478aa0275b.incomplete'\n",
            "Downloading 'original/params.json' to 'Meta-Llama-3-8B/.huggingface/download/original/params.json.65f16bb074ab2ba456331a8ea3d50c3fdbf343bf.incomplete'\n",
            "\n",
            "\n",
            "\n",
            "model-00003-of-00004.safetensors:   0% 0.00/4.92G [00:00<?, ?B/s]\u001b[A\u001b[A\u001b[A\n",
            "\n",
            "\n",
            "\n",
            "model.safetensors.index.json: 100% 23.9k/23.9k [00:00<00:00, 60.7MB/s]\n",
            "Download complete. Moving file to Meta-Llama-3-8B/model.safetensors.index.json\n",
            "\n",
            "\n",
            "model-00001-of-00004.safetensors:   0% 10.5M/4.98G [00:00<01:02, 79.0MB/s]\u001b[A\u001b[A\n",
            "\n",
            "\n",
            "\n",
            ".gitattributes: 100% 1.52k/1.52k [00:00<00:00, 8.18MB/s]\n",
            "Download complete. Moving file to Meta-Llama-3-8B/.gitattributes\n",
            "Fetching 17 files:   6% 1/17 [00:00<00:12,  1.29it/s]\n",
            "model-00002-of-00004.safetensors:   0% 10.5M/5.00G [00:00<01:23, 59.8MB/s]\u001b[A\n",
            "\n",
            "\n",
            "\n",
            "original/params.json: 100% 211/211 [00:00<00:00, 1.24MB/s]\n",
            "Download complete. Moving file to Meta-Llama-3-8B/original/params.json\n",
            "Downloading 'special_tokens_map.json' to 'Meta-Llama-3-8B/.huggingface/download/special_tokens_map.json.d8cd5076496dbe4be2320312abc10adc43097b81.incomplete'\n",
            "Downloading 'original/tokenizer.model' to 'Meta-Llama-3-8B/.huggingface/download/original/tokenizer.model.82e9d31979e92ab929cd544440f129d9ecd797b69e327f80f17e1c50d5551b55.incomplete'\n",
            "\n",
            "\n",
            "\n",
            "model-00003-of-00004.safetensors:   0% 10.5M/4.92G [00:00<01:13, 66.7MB/s]\u001b[A\u001b[A\u001b[A\n",
            "\n",
            "model-00001-of-00004.safetensors:   0% 21.0M/4.98G [00:00<01:07, 73.5MB/s]\u001b[A\u001b[A\n",
            "model-00002-of-00004.safetensors:   0% 21.0M/5.00G [00:00<01:15, 65.8MB/s]\u001b[A\n",
            "\n",
            "\n",
            "\n",
            "model-00004-of-00004.safetensors:   0% 0.00/1.17G [00:00<?, ?B/s]\u001b[A\u001b[A\u001b[A\u001b[ADownloading 'tokenizer.json' to 'Meta-Llama-3-8B/.huggingface/download/tokenizer.json.b197f72effb9d5ed16ee0f5663e11e4cfac2ba62.incomplete'\n",
            "\n",
            "\n",
            "\n",
            "\n",
            "\n",
            "consolidated.00.pth:   0% 0.00/16.1G [00:00<?, ?B/s]\u001b[A\u001b[A\u001b[A\u001b[A\u001b[A\n",
            "\n",
            "\n",
            "model-00003-of-00004.safetensors:   0% 21.0M/4.92G [00:00<01:03, 76.6MB/s]\u001b[A\u001b[A\u001b[A\n",
            "\n",
            "model-00001-of-00004.safetensors:   1% 31.5M/4.98G [00:00<01:06, 74.5MB/s]\u001b[A\u001b[A\n",
            "\n",
            "\n",
            "\n",
            "\n",
            "\n",
            "tokenizer.json:   0% 0.00/9.09M [00:00<?, ?B/s]\u001b[A\u001b[A\u001b[A\u001b[A\u001b[A\u001b[A\n",
            "\n",
            "\n",
            "\n",
            "\n",
            "\n",
            "\n",
            "special_tokens_map.json: 100% 73.0/73.0 [00:00<00:00, 369kB/s]\n",
            "Download complete. Moving file to Meta-Llama-3-8B/special_tokens_map.json\n",
            "\n",
            "\n",
            "\n",
            "\n",
            "model-00004-of-00004.safetensors:   1% 10.5M/1.17G [00:00<00:19, 60.9MB/s]\u001b[A\u001b[A\u001b[A\u001b[A\n",
            "\n",
            "\n",
            "model-00003-of-00004.safetensors:   1% 31.5M/4.92G [00:00<01:00, 80.4MB/s]\u001b[A\u001b[A\u001b[A\n",
            "\n",
            "\n",
            "\n",
            "\n",
            "consolidated.00.pth:   0% 10.5M/16.1G [00:00<04:32, 58.9MB/s]\u001b[A\u001b[A\u001b[A\u001b[A\u001b[A\n",
            "model-00002-of-00004.safetensors:   1% 41.9M/5.00G [00:00<01:01, 80.7MB/s]\u001b[A\n",
            "\n",
            "\n",
            "\n",
            "\n",
            "\n",
            "\n",
            "tokenizer.model:   0% 0.00/2.18M [00:00<?, ?B/s]\u001b[A\u001b[A\u001b[A\u001b[A\u001b[A\u001b[A\u001b[A\n",
            "\n",
            "model-00001-of-00004.safetensors:   1% 41.9M/4.98G [00:00<01:04, 76.3MB/s]\u001b[A\u001b[ADownloading 'tokenizer_config.json' to 'Meta-Llama-3-8B/.huggingface/download/tokenizer_config.json.72193e9eb5cb6126087980deffb4930ec27a72a9.incomplete'\n",
            "\n",
            "\n",
            "\n",
            "model-00003-of-00004.safetensors:   1% 41.9M/4.92G [00:00<00:56, 86.4MB/s]\u001b[A\u001b[A\u001b[A\n",
            "model-00002-of-00004.safetensors:   1% 52.4M/5.00G [00:00<01:04, 77.0MB/s]\u001b[A\n",
            "\n",
            "\n",
            "\n",
            "\n",
            "\n",
            "\n",
            "\n",
            "tokenizer_config.json: 100% 50.6k/50.6k [00:00<00:00, 86.5MB/s]\n",
            "Download complete. Moving file to Meta-Llama-3-8B/tokenizer_config.json\n",
            "\n",
            "\n",
            "\n",
            "\n",
            "\n",
            "consolidated.00.pth:   0% 21.0M/16.1G [00:00<04:38, 57.6MB/s]\u001b[A\u001b[A\u001b[A\u001b[A\u001b[A\n",
            "\n",
            "\n",
            "\n",
            "model-00004-of-00004.safetensors:   2% 21.0M/1.17G [00:00<00:24, 46.5MB/s]\u001b[A\u001b[A\u001b[A\u001b[A\n",
            "\n",
            "model-00001-of-00004.safetensors:   1% 52.4M/4.98G [00:00<01:20, 61.1MB/s]\u001b[A\u001b[A\n",
            "\n",
            "\n",
            "\n",
            "\n",
            "\n",
            "\n",
            "tokenizer.model: 100% 2.18M/2.18M [00:00<00:00, 8.79MB/s]\n",
            "Download complete. Moving file to Meta-Llama-3-8B/original/tokenizer.model\n",
            "Fetching 17 files:  35% 6/17 [00:01<00:02,  4.22it/s]\n",
            "^C\n"
          ]
        }
      ],
      "source": [
        "# !huggingface-cli download meta-llama/Meta-Llama-3-8B --include \"original/*\" --local-dir Meta-Llama-3-8B\n",
        "!huggingface-cli download meta-llama/Meta-Llama-3-8B --local-dir Meta-Llama-3-8B\n"
      ]
    },
    {
      "cell_type": "code",
      "execution_count": null,
      "metadata": {
        "colab": {
          "base_uri": "https://localhost:8080/",
          "height": 260,
          "referenced_widgets": [
            "6b250f5b7b274f4e80792ff5e0f32ae2",
            "1ac37fec48884c67b4387408b43e2435",
            "450a627183c9432792d24dbef65b7c26",
            "dd5475ab7acc4a57b7c9c6e42e736aa7",
            "df029b9cd2204606a3bedce0acd8704e",
            "4168f1d5c23e469fb513a7989e3a64a1",
            "9a2d9aa8c43d4138b94066117a652d5a",
            "445c1f7f53944f64b16de395b4515bfb",
            "57c632a164414fd2b769ec34313ac3ff",
            "33f34f49e67248828f413046aee74713",
            "bcfd7b7272314339a81e5b008b929c4f"
          ]
        },
        "collapsed": true,
        "id": "jGJaN2NiqUzI",
        "outputId": "70005f0d-825f-4258-e1e3-23659b11fe93"
      },
      "outputs": [
        {
          "name": "stderr",
          "output_type": "stream",
          "text": [
            "/usr/local/lib/python3.10/dist-packages/sentence_transformers/SentenceTransformer.py:99: FutureWarning: The `use_auth_token` argument is deprecated and will be removed in v3 of SentenceTransformers.\n",
            "  warnings.warn(\n",
            "/usr/local/lib/python3.10/dist-packages/huggingface_hub/utils/_token.py:89: UserWarning: \n",
            "The secret `HF_TOKEN` does not exist in your Colab secrets.\n",
            "To authenticate with the Hugging Face Hub, create a token in your settings tab (https://huggingface.co/settings/tokens), set it as secret in your Google Colab and restart your session.\n",
            "You will be able to reuse this secret in all of your notebooks.\n",
            "Please note that authentication is recommended but still optional to access public models or datasets.\n",
            "  warnings.warn(\n",
            "WARNING:sentence_transformers.SentenceTransformer:No sentence-transformers model found with name nvidia/NV-Embed-v1. Creating a new one with MEAN pooling.\n",
            "/usr/local/lib/python3.10/dist-packages/huggingface_hub/file_download.py:1132: FutureWarning: `resume_download` is deprecated and will be removed in version 1.0.0. Downloads always resume when possible. If you want to force a new download, use `force_download=True`.\n",
            "  warnings.warn(\n"
          ]
        },
        {
          "data": {
            "application/vnd.jupyter.widget-view+json": {
              "model_id": "6b250f5b7b274f4e80792ff5e0f32ae2",
              "version_major": 2,
              "version_minor": 0
            },
            "text/plain": [
              "Loading checkpoint shards:   0%|          | 0/4 [00:00<?, ?it/s]"
            ]
          },
          "metadata": {},
          "output_type": "display_data"
        }
      ],
      "source": [
        "Settings.embed_model = HuggingFaceEmbedding(model_name=\"nvidia/NV-Embed-v1\", trust_remote_code=True, use_auth_token=True)"
      ]
    },
    {
      "cell_type": "code",
      "execution_count": null,
      "metadata": {
        "colab": {
          "base_uri": "https://localhost:8080/",
          "height": 49,
          "referenced_widgets": [
            "ebbcae28a8654b058c38578b93025930",
            "defa10ba98364b8cb777b49233d888be",
            "bf5a11ad45ff4ed7bde95ca4d22f5886",
            "c4114fc6225a429ba94a651a45ff75e6",
            "67d53b0835bd44d4aff2304c5fbdf8f0",
            "0a319462d9ba42ea8d914e38bd76a80d",
            "5876976bfd4240868e3bbc624c9bf9f5",
            "89b5a97bb79f4400a7850f06fb7e3bed",
            "00512b4975c844b29103c561a178089f",
            "a7550537fc9a4ce0ae519a6aa498a417",
            "2e225a5d627a45bc9e6c65eba0111753"
          ]
        },
        "collapsed": true,
        "id": "Oz5LsknDBzF_",
        "outputId": "59796bdf-26a7-4039-ba40-d7ca936c5f82"
      },
      "outputs": [
        {
          "data": {
            "application/vnd.jupyter.widget-view+json": {
              "model_id": "ebbcae28a8654b058c38578b93025930",
              "version_major": 2,
              "version_minor": 0
            },
            "text/plain": [
              "Loading checkpoint shards:   0%|          | 0/4 [00:00<?, ?it/s]"
            ]
          },
          "metadata": {},
          "output_type": "display_data"
        }
      ],
      "source": [
        "from transformers import LlamaForCausalLM, LlamaTokenizer\n",
        "\n",
        "model = LlamaForCausalLM.from_pretrained(\"/content/Meta-Llama-3-8B(1)\")\n",
        "tokenizer = LlamaTokenizer.from_pretrained(\"/content/Meta-Llama-3-8B(1)\")\n"
      ]
    },
    {
      "cell_type": "markdown",
      "metadata": {
        "id": "jmhEyzBIwVhV"
      },
      "source": [
        "# Data loading and storing indexes"
      ]
    },
    {
      "cell_type": "markdown",
      "metadata": {
        "id": "x9YPSsrQwieI"
      },
      "source": [
        "# 1. Tablular data from webpage"
      ]
    },
    {
      "cell_type": "markdown",
      "metadata": {
        "id": "i4_N3rp4cJH3"
      },
      "source": [
        "\n",
        "\n",
        "\n",
        "*   Detecting the tables\n",
        "*   Saving it as csv\n",
        "*   Mapping the csv files with their corresponding url\n",
        "*   Indexing of these csv data\n",
        "\n"
      ]
    },
    {
      "cell_type": "code",
      "execution_count": 37,
      "metadata": {
        "id": "Uq0tKLEIcf3A"
      },
      "outputs": [],
      "source": [
        "file_to_url_mapping={}"
      ]
    },
    {
      "cell_type": "code",
      "execution_count": 38,
      "metadata": {
        "id": "bmCBQ7oidoUr"
      },
      "outputs": [],
      "source": [
        "def table_to_csv_converter(url,file_to_url_mapping):\n",
        "\n",
        "  from bs4 import BeautifulSoup\n",
        "  import requests\n",
        "  import pandas as pd\n",
        "  import os\n",
        "\n",
        "  url = url\n",
        "  page = requests.get(url)\n",
        "  soup = BeautifulSoup(page.text, 'html')\n",
        "\n",
        "  # Detect all tables on the webpage\n",
        "  all_tables = soup.find_all('table')\n",
        "  print(f\"Total number of tables: {len(all_tables)}\")\n",
        "\n",
        "  # Create a directory to save the CSV files\n",
        "  directory = 'tabular_data_csv'\n",
        "  if not os.path.exists(directory):\n",
        "      os.makedirs(directory)\n",
        "\n",
        "  # Iterate over each table\n",
        "  for i, table in enumerate(all_tables):\n",
        "      # Get the caption of the table\n",
        "      table_caption = table.find('caption').text.strip()\n",
        "\n",
        "      world_titles = table.find_all('th')\n",
        "      world_table_titles = [title.text.strip() for title in world_titles]\n",
        "\n",
        "      df = pd.DataFrame(columns=world_table_titles)\n",
        "\n",
        "      column_data = table.find_all('tr')\n",
        "      for row in column_data[1:]:\n",
        "          row_data = row.find_all('td')\n",
        "          individual_row_data = [data.text.strip() for data in row_data]\n",
        "          df.loc[len(df)] = individual_row_data\n",
        "\n",
        "      # Save the DataFrame as a CSV file with the table caption as the file name\n",
        "      csv_file = os.path.join(directory, f'{table_caption}.csv')\n",
        "      df.to_csv(csv_file, index=False)\n",
        "      print(f\"CSV file saved: {csv_file}\")\n",
        "      #file_to_url_mapping.append({ f'{table_caption}.csv':url})\n",
        "      file_to_url_mapping[f'{table_caption}.csv'] = url"
      ]
    },
    {
      "cell_type": "code",
      "execution_count": 39,
      "metadata": {
        "id": "UA3KPqHZcypI"
      },
      "outputs": [],
      "source": [
        "url_with_table = ['https://maharashtra.nic.in/',\n",
        " 'https://maharashtra.nic.in/services/',\n",
        " 'https://maharashtra.nic.in/profile/',\n",
        " 'https://www.nic.in/servicecontents/nicnet/',\n",
        " 'https://www.nic.in/servicecontents/data-centre/',\n",
        " 'https://www.nic.in/servicecontents/national-cloud/',\n",
        " 'https://www.nic.in/servicecontents/messaging/',\n",
        " 'https://www.nic.in/servicecontents/remote-sensing-gis/',\n",
        " 'https://www.nic.in/servicecontents/webcast/',\n",
        " 'https://www.nic.in/servicecontents/nkn/',\n",
        " 'https://www.nic.in/servicecontents/command-and-control-centre/',\n",
        " 'https://www.nic.in/servicecontents/government-local-area-networks-lans/',\n",
        " 'https://www.nic.in/servicecontents/video-conferencing/',\n",
        " 'https://www.nic.in/servicecontents/security/',\n",
        " 'https://www.nic.in/servicecontents/centralised-aadhaar-vault/',\n",
        " 'https://maharashtra.nic.in/infrastructure/',\n",
        " 'https://maharashtra.nic.in/news-update/',\n",
        " 'https://maharashtra.nic.in/events/',\n",
        " 'https://maharashtra.nic.in/awards/',\n",
        " 'https://www.nic.in/servicecontents/domain-registration/',\n",
        " 'https://maharashtra.nic.in/contact-us/',\n",
        " 'https://maharashtra.nic.in/website-policies/',\n",
        " 'https://maharashtra.nic.in/help/',\n",
        " 'https://maharashtra.nic.in/web-information-manager/',\n",
        " 'https://maharashtra.nic.in/directory/',\n",
        " 'https://maharashtra.nic.in/rti/',\n",
        " 'https://maharashtra.nic.in/district-centres/',\n",
        " 'https://maharashtra.nic.in/photo-gallery/',\n",
        " 'https://maharashtra.nic.in/video-gallery/', 'https://maharashtra.nic.in/organization-structure/']"
      ]
    },
    {
      "cell_type": "code",
      "execution_count": 40,
      "metadata": {
        "colab": {
          "base_uri": "https://localhost:8080/"
        },
        "collapsed": true,
        "id": "NbFuvB4RcIzy",
        "outputId": "850fae05-a968-4029-c83b-972582db1258"
      },
      "outputs": [
        {
          "output_type": "stream",
          "name": "stdout",
          "text": [
            "Total number of tables: 0\n",
            "Total number of tables: 0\n",
            "Total number of tables: 0\n",
            "Total number of tables: 0\n",
            "Total number of tables: 0\n",
            "Total number of tables: 0\n",
            "Total number of tables: 0\n",
            "Total number of tables: 0\n",
            "Total number of tables: 0\n",
            "Total number of tables: 0\n",
            "Total number of tables: 0\n",
            "Total number of tables: 0\n",
            "Total number of tables: 0\n",
            "Total number of tables: 0\n",
            "Total number of tables: 0\n",
            "Total number of tables: 0\n",
            "Total number of tables: 0\n",
            "Total number of tables: 0\n",
            "Total number of tables: 0\n",
            "Total number of tables: 0\n",
            "Total number of tables: 0\n",
            "Total number of tables: 0\n",
            "Total number of tables: 2\n",
            "CSV file saved: tabular_data_csv/Screen Reader Information.csv\n",
            "CSV file saved: tabular_data_csv/Plug-in for alternate document types.csv\n",
            "Total number of tables: 0\n",
            "Total number of tables: 37\n",
            "CSV file saved: tabular_data_csv/SIO.csv\n",
            "CSV file saved: tabular_data_csv/Maharashtra State Centre, Mumbai.csv\n",
            "CSV file saved: tabular_data_csv/Ahmadnagar.csv\n",
            "CSV file saved: tabular_data_csv/Akola.csv\n",
            "CSV file saved: tabular_data_csv/Amravati.csv\n",
            "CSV file saved: tabular_data_csv/Aurangabad.csv\n",
            "CSV file saved: tabular_data_csv/Beed.csv\n",
            "CSV file saved: tabular_data_csv/Bhandara.csv\n",
            "CSV file saved: tabular_data_csv/Buldana.csv\n",
            "CSV file saved: tabular_data_csv/Chandrapur.csv\n",
            "CSV file saved: tabular_data_csv/Dhule.csv\n",
            "CSV file saved: tabular_data_csv/Gadchiroli.csv\n",
            "CSV file saved: tabular_data_csv/Gondia.csv\n",
            "CSV file saved: tabular_data_csv/Hingoli.csv\n",
            "CSV file saved: tabular_data_csv/Jalgaon.csv\n",
            "CSV file saved: tabular_data_csv/Jalna.csv\n",
            "CSV file saved: tabular_data_csv/Kolhapur.csv\n",
            "CSV file saved: tabular_data_csv/Mumbai.csv\n",
            "CSV file saved: tabular_data_csv/Mumbai Suburban (Bandra).csv\n",
            "CSV file saved: tabular_data_csv/Nagpur.csv\n",
            "CSV file saved: tabular_data_csv/Nanded.csv\n",
            "CSV file saved: tabular_data_csv/Nandurbar.csv\n",
            "CSV file saved: tabular_data_csv/Nasik.csv\n",
            "CSV file saved: tabular_data_csv/Osmanabad.csv\n",
            "CSV file saved: tabular_data_csv/Palghar.csv\n",
            "CSV file saved: tabular_data_csv/Parbhani.csv\n",
            "CSV file saved: tabular_data_csv/Pune District.csv\n",
            "CSV file saved: tabular_data_csv/Raigad.csv\n",
            "CSV file saved: tabular_data_csv/Ratnagiri.csv\n",
            "CSV file saved: tabular_data_csv/Sangli.csv\n",
            "CSV file saved: tabular_data_csv/Satara.csv\n",
            "CSV file saved: tabular_data_csv/Sindhu Durg.csv\n",
            "CSV file saved: tabular_data_csv/Solapur.csv\n",
            "CSV file saved: tabular_data_csv/Thane.csv\n",
            "CSV file saved: tabular_data_csv/Wardha.csv\n",
            "CSV file saved: tabular_data_csv/Washim.csv\n",
            "CSV file saved: tabular_data_csv/Yavatmal.csv\n",
            "Total number of tables: 2\n",
            "CSV file saved: tabular_data_csv/APPELLATE AUTHORITY.csv\n",
            "CSV file saved: tabular_data_csv/PUBLIC INFORMATION OFFICERS ( PIO ).csv\n",
            "Total number of tables: 1\n",
            "CSV file saved: tabular_data_csv/District Centres.csv\n",
            "Total number of tables: 0\n",
            "Total number of tables: 0\n",
            "Total number of tables: 0\n"
          ]
        }
      ],
      "source": [
        "for url in url_with_table:\n",
        "  table_to_csv_converter(url,file_to_url_mapping)"
      ]
    },
    {
      "cell_type": "code",
      "execution_count": 41,
      "metadata": {
        "colab": {
          "base_uri": "https://localhost:8080/"
        },
        "id": "8Fxg_arocWiR",
        "outputId": "0079a99f-35a4-4429-cbfd-884cd96ade29"
      },
      "outputs": [
        {
          "output_type": "execute_result",
          "data": {
            "text/plain": [
              "{'Screen Reader Information.csv': 'https://maharashtra.nic.in/help/',\n",
              " 'Plug-in for alternate document types.csv': 'https://maharashtra.nic.in/help/',\n",
              " 'SIO.csv': 'https://maharashtra.nic.in/directory/',\n",
              " 'Maharashtra State Centre, Mumbai.csv': 'https://maharashtra.nic.in/directory/',\n",
              " 'Ahmadnagar.csv': 'https://maharashtra.nic.in/directory/',\n",
              " 'Akola.csv': 'https://maharashtra.nic.in/directory/',\n",
              " 'Amravati.csv': 'https://maharashtra.nic.in/directory/',\n",
              " 'Aurangabad.csv': 'https://maharashtra.nic.in/directory/',\n",
              " 'Beed.csv': 'https://maharashtra.nic.in/directory/',\n",
              " 'Bhandara.csv': 'https://maharashtra.nic.in/directory/',\n",
              " 'Buldana.csv': 'https://maharashtra.nic.in/directory/',\n",
              " 'Chandrapur.csv': 'https://maharashtra.nic.in/directory/',\n",
              " 'Dhule.csv': 'https://maharashtra.nic.in/directory/',\n",
              " 'Gadchiroli.csv': 'https://maharashtra.nic.in/directory/',\n",
              " 'Gondia.csv': 'https://maharashtra.nic.in/directory/',\n",
              " 'Hingoli.csv': 'https://maharashtra.nic.in/directory/',\n",
              " 'Jalgaon.csv': 'https://maharashtra.nic.in/directory/',\n",
              " 'Jalna.csv': 'https://maharashtra.nic.in/directory/',\n",
              " 'Kolhapur.csv': 'https://maharashtra.nic.in/directory/',\n",
              " 'Mumbai.csv': 'https://maharashtra.nic.in/directory/',\n",
              " 'Mumbai Suburban (Bandra).csv': 'https://maharashtra.nic.in/directory/',\n",
              " 'Nagpur.csv': 'https://maharashtra.nic.in/directory/',\n",
              " 'Nanded.csv': 'https://maharashtra.nic.in/directory/',\n",
              " 'Nandurbar.csv': 'https://maharashtra.nic.in/directory/',\n",
              " 'Nasik.csv': 'https://maharashtra.nic.in/directory/',\n",
              " 'Osmanabad.csv': 'https://maharashtra.nic.in/directory/',\n",
              " 'Palghar.csv': 'https://maharashtra.nic.in/directory/',\n",
              " 'Parbhani.csv': 'https://maharashtra.nic.in/directory/',\n",
              " 'Pune District.csv': 'https://maharashtra.nic.in/directory/',\n",
              " 'Raigad.csv': 'https://maharashtra.nic.in/directory/',\n",
              " 'Ratnagiri.csv': 'https://maharashtra.nic.in/directory/',\n",
              " 'Sangli.csv': 'https://maharashtra.nic.in/directory/',\n",
              " 'Satara.csv': 'https://maharashtra.nic.in/directory/',\n",
              " 'Sindhu Durg.csv': 'https://maharashtra.nic.in/directory/',\n",
              " 'Solapur.csv': 'https://maharashtra.nic.in/directory/',\n",
              " 'Thane.csv': 'https://maharashtra.nic.in/directory/',\n",
              " 'Wardha.csv': 'https://maharashtra.nic.in/directory/',\n",
              " 'Washim.csv': 'https://maharashtra.nic.in/directory/',\n",
              " 'Yavatmal.csv': 'https://maharashtra.nic.in/directory/',\n",
              " 'APPELLATE AUTHORITY.csv': 'https://maharashtra.nic.in/rti/',\n",
              " 'PUBLIC INFORMATION OFFICERS ( PIO ).csv': 'https://maharashtra.nic.in/rti/',\n",
              " 'District Centres.csv': 'https://maharashtra.nic.in/district-centres/'}"
            ]
          },
          "metadata": {},
          "execution_count": 41
        }
      ],
      "source": [
        "file_to_url_mapping"
      ]
    },
    {
      "cell_type": "markdown",
      "metadata": {
        "id": "1h3doTdJybNn"
      },
      "source": [
        "# CSV index"
      ]
    },
    {
      "cell_type": "code",
      "execution_count": 42,
      "metadata": {
        "id": "0VlVERrgxe1U",
        "colab": {
          "base_uri": "https://localhost:8080/"
        },
        "outputId": "650ffd62-35bb-45b3-d882-971be1ff68ee"
      },
      "outputs": [
        {
          "output_type": "stream",
          "name": "stderr",
          "text": [
            "/usr/local/lib/python3.10/dist-packages/huggingface_hub/file_download.py:1132: FutureWarning: `resume_download` is deprecated and will be removed in version 1.0.0. Downloads always resume when possible. If you want to force a new download, use `force_download=True`.\n",
            "  warnings.warn(\n"
          ]
        }
      ],
      "source": [
        "from llama_index.core import VectorStoreIndex, SummaryIndex\n",
        "from llama_index.readers.web import SimpleWebPageReader\n",
        "import os\n",
        "from llama_index.core import (\n",
        "    load_index_from_storage,\n",
        "    StorageContext,\n",
        ")\n",
        "\n",
        "Settings.llm = Ollama(model=\"llama3\", temperature=0, request_timeout=500.0)\n",
        "\n",
        "# # Overall embedding (due to size not able to load it)\n",
        "# Settings.embed_model = HuggingFaceEmbedding(model_name=\"nvidia/NV-Embed-v1\", trust_remote_code=True, use_auth_token=True)\n",
        "\n",
        "# # Embedding used earlier\n",
        "Settings.embed_model = HuggingFaceEmbedding(model_name=\"Alibaba-NLP/gte-large-en-v1.5\", trust_remote_code=True)\n",
        "\n",
        "\n",
        "# Paged CSV Reader example\n",
        "parser = PagedCSVReader()\n",
        "\n",
        "file_extractor = {\".csv\": parser}  # Add other CSV formats as needed\n",
        "documents = SimpleDirectoryReader(\n",
        "    \"./tabular_data_csv\", file_extractor=file_extractor\n",
        ").load_data()\n",
        "documents\n",
        "\n",
        "# Create and save the Indexes for the loaded data\n",
        "index = VectorStoreIndex.from_documents(documents, llm=Settings.llm, embed_model=Settings.embed_model)\n",
        "\n",
        "\n",
        "\n",
        "#  save index1 to disk\n",
        "index.set_index_id(\"vector_index\")\n",
        "index.storage_context.persist(\"./tabular_data_csv_index\")\n",
        "\n",
        "\n",
        "\n",
        "\n"
      ]
    },
    {
      "cell_type": "markdown",
      "metadata": {
        "id": "GkmtWLlBx313"
      },
      "source": [
        "# 2. Text data from the webpages"
      ]
    },
    {
      "cell_type": "code",
      "source": [
        "# all the urls\n",
        "\n",
        "urls = {\n",
        "    \"https://maharashtra.nic.in/\": \"Home_index\",\n",
        "    \"https://maharashtra.nic.in/services/\": \"Services_index\",\n",
        "    \"https://maharashtra.nic.in/profile/\": \"profile_index\",\n",
        "    \"https://www.nic.in/servicecontents/nicnet/\": \"nicnet_index\",\n",
        "    \"https://www.nic.in/servicecontents/data-centre/\": \"data-centre_index\",\n",
        "    \"https://www.nic.in/servicecontents/national-cloud/\": \"national-cloud_index\",\n",
        "    \"https://www.nic.in/servicecontents/messaging/\": \"messaging_index\",\n",
        "    \"https://www.nic.in/servicecontents/remote-sensing-gis/\": \"remote-sensing-gis_index\",\n",
        "    \"https://www.nic.in/servicecontents/webcast/\": \"webcast_index\",\n",
        "    \"https://www.nic.in/servicecontents/nkn/\": \"nkn_index\",\n",
        "    \"https://www.nic.in/servicecontents/command-and-control-centre/\": \"command-and-control-centre_index\",\n",
        "    \"https://www.nic.in/servicecontents/government-local-area-networks-lans/\": \"government-local-area-networks-lans_index\",\n",
        "    \"https://www.nic.in/servicecontents/video-conferencing/\": \"video-conferencing_index\",\n",
        "    \"https://www.nic.in/servicecontents/security/\": \"security_index\",\n",
        "    \"https://www.nic.in/servicecontents/centralised-aadhaar-vault/\": \"centralised-aadhaar-vault_index\",\n",
        "    \"https://maharashtra.nic.in/infrastructure/\": \"infrastructure_index\",\n",
        "    \"https://maharashtra.nic.in/news-update/\": \"news-update_index\",\n",
        "    \"https://maharashtra.nic.in/events/\": \"events_index\",\n",
        "    \"https://maharashtra.nic.in/awards/\": \"awards_index\",\n",
        "    \"https://www.nic.in/servicecontents/domain-registration/\": \"domain_registration_index\",\n",
        "    \"https://maharashtra.nic.in/contact-us/\": \"contact-us_index\",\n",
        "    \"https://maharashtra.nic.in/website-policies/\": \"website-policies_index\",\n",
        "    \"https://maharashtra.nic.in/help/\": \"help_index\",\n",
        "    \"https://maharashtra.nic.in/web-information-manager/\": \"web-information-manager_index\",\n",
        "    \"https://maharashtra.nic.in/directory/\": \"directory_index\",\n",
        "    \"https://maharashtra.nic.in/rti/\": \"rti_index\",\n",
        "    \"https://maharashtra.nic.in/district-centres/\": \"district-centres_index\",\n",
        "    \"https://maharashtra.nic.in/photo-gallery/\": \"photo-gallery_index\",\n",
        "    \"https://maharashtra.nic.in/video-gallery/\": \"video-gallery_index\",\n",
        "    \"https://maharashtra.nic.in/organization-structure/\": \"organization-structure_index\"\n",
        "}\n"
      ],
      "metadata": {
        "id": "ytGDvZlXgmEe"
      },
      "execution_count": 59,
      "outputs": []
    },
    {
      "cell_type": "code",
      "source": [
        "# URLs and corresponding link names\n",
        "urls = {\n",
        "    \"https://maharashtra.nic.in/\": \"Home_index\",\n",
        "    \"https://maharashtra.nic.in/services/\": \"Services_index\",\n",
        "    \"https://maharashtra.nic.in/profile/\": \"profile_index\",\n",
        "    \"https://www.nic.in/servicecontents/nicnet/\": \"nicnet_index\",\n",
        "    \"https://www.nic.in/servicecontents/data-centre/\": \"data-centre_index\",\n",
        "    \"https://www.nic.in/servicecontents/national-cloud/\": \"national-cloud_index\",\n",
        "    \"https://www.nic.in/servicecontents/messaging/\": \"messaging_index\",\n",
        "    \"https://www.nic.in/servicecontents/remote-sensing-gis/\": \"remote-sensing-gis_index\",\n",
        "    \"https://www.nic.in/servicecontents/webcast/\": \"webcast_index\",\n",
        "    \"https://www.nic.in/servicecontents/nkn/\": \"nkn_index\",\n",
        "    \"https://www.nic.in/servicecontents/command-and-control-centre/\": \"command-and-control-centre_index\",\n",
        "    \"https://www.nic.in/servicecontents/government-local-area-networks-lans/\": \"government-local-area-networks-lans_index\",\n",
        "    \"https://www.nic.in/servicecontents/video-conferencing/\": \"video-conferencing_index\",\n",
        "    \"https://www.nic.in/servicecontents/security/\": \"security_index\",\n",
        "    \"https://www.nic.in/servicecontents/centralised-aadhaar-vault/\": \"centralised-aadhaar-vault_index\",\n",
        "    \"https://maharashtra.nic.in/infrastructure/\": \"infrastructure_index\",\n",
        "    \"https://maharashtra.nic.in/awards/\": \"awards_index\",\n",
        "    \"https://www.nic.in/servicecontents/domain-registration/\": \"domain_registration_index\",\n",
        "    \"https://maharashtra.nic.in/contact-us/\": \"contact-us_index\",\n",
        "    \"https://maharashtra.nic.in/website-policies/\": \"website-policies_index\",\n",
        "    \"https://maharashtra.nic.in/help/\": \"help_index\",\n",
        "    \"https://maharashtra.nic.in/web-information-manager/\": \"web-information-manager_index\",\n",
        "    \"https://maharashtra.nic.in/rti/\": \"rti_index\",\n",
        "    \"https://maharashtra.nic.in/video-gallery/\": \"video-gallery_index\"\n",
        "}"
      ],
      "metadata": {
        "id": "immH1czT2EA9"
      },
      "execution_count": 44,
      "outputs": []
    },
    {
      "cell_type": "code",
      "source": [
        "from llama_index.core import VectorStoreIndex, SummaryIndex\n",
        "from llama_index.readers.web import SimpleWebPageReader\n",
        "import os\n",
        "from llama_index.core import (\n",
        "    SimpleDirectoryReader,\n",
        "    load_index_from_storage,\n",
        "    StorageContext,\n",
        ")\n",
        "from llama_index.core import download_loader\n",
        "from docx import Document\n",
        "\n",
        "\n",
        "# Set the configurations for the models\n",
        "Settings.llm = Ollama(model=\"llama3\", temperature=0, request_timeout=500.0)\n",
        "Settings.embed_model = HuggingFaceEmbedding(model_name=\"Alibaba-NLP/gte-large-en-v1.5\", trust_remote_code=True)\n",
        "\n",
        "\n",
        "# Define the directory path to save the documents and indexes\n",
        "save_directory = \"/content/webpages_doc\"\n",
        "\n",
        "if not os.path.exists(save_directory):\n",
        "    os.makedirs(save_directory)\n",
        "\n",
        "\n",
        "# Load data from the specified URLs and save each document with the link name\n",
        "BeautifulSoupWebReader = download_loader(\"BeautifulSoupWebReader\")\n",
        "loader = BeautifulSoupWebReader()\n",
        "\n",
        "for url, link_name in urls.items():\n",
        "    documents = loader.load_data(urls=[url])\n",
        "    print(f\"Loaded {len(documents)} documents of type {type(documents[0])} from {url}\")\n",
        "\n",
        "    file_path = os.path.join(save_directory, f\"{link_name}.docx\")\n",
        "    doc = Document()\n",
        "    for document in documents:\n",
        "        doc.add_paragraph(document.text)\n",
        "    doc.save(file_path)\n",
        "\n",
        "    print(f\"Data from {url} saved successfully to: {file_path}\")"
      ],
      "metadata": {
        "colab": {
          "base_uri": "https://localhost:8080/"
        },
        "collapsed": true,
        "id": "t9jHxmVf1zwe",
        "outputId": "755934c4-053c-4436-921b-723aa779aa7f"
      },
      "execution_count": 45,
      "outputs": [
        {
          "output_type": "stream",
          "name": "stderr",
          "text": [
            "<ipython-input-45-fca3f8c31a2f>:26: DeprecationWarning: Call to deprecated function (or staticmethod) download_loader. (`download_loader()` is deprecated. Please install tool using pip install directly instead.)\n",
            "  BeautifulSoupWebReader = download_loader(\"BeautifulSoupWebReader\")\n"
          ]
        },
        {
          "output_type": "stream",
          "name": "stdout",
          "text": [
            "Loaded 1 documents of type <class 'llama_index.core.schema.Document'> from https://maharashtra.nic.in/\n",
            "Data from https://maharashtra.nic.in/ saved successfully to: /content/webpages_doc/Home_index.docx\n",
            "Loaded 1 documents of type <class 'llama_index.core.schema.Document'> from https://maharashtra.nic.in/services/\n",
            "Data from https://maharashtra.nic.in/services/ saved successfully to: /content/webpages_doc/Services_index.docx\n",
            "Loaded 1 documents of type <class 'llama_index.core.schema.Document'> from https://maharashtra.nic.in/profile/\n",
            "Data from https://maharashtra.nic.in/profile/ saved successfully to: /content/webpages_doc/profile_index.docx\n",
            "Loaded 1 documents of type <class 'llama_index.core.schema.Document'> from https://www.nic.in/servicecontents/nicnet/\n",
            "Data from https://www.nic.in/servicecontents/nicnet/ saved successfully to: /content/webpages_doc/nicnet_index.docx\n",
            "Loaded 1 documents of type <class 'llama_index.core.schema.Document'> from https://www.nic.in/servicecontents/data-centre/\n",
            "Data from https://www.nic.in/servicecontents/data-centre/ saved successfully to: /content/webpages_doc/data-centre_index.docx\n",
            "Loaded 1 documents of type <class 'llama_index.core.schema.Document'> from https://www.nic.in/servicecontents/national-cloud/\n",
            "Data from https://www.nic.in/servicecontents/national-cloud/ saved successfully to: /content/webpages_doc/national-cloud_index.docx\n",
            "Loaded 1 documents of type <class 'llama_index.core.schema.Document'> from https://www.nic.in/servicecontents/messaging/\n",
            "Data from https://www.nic.in/servicecontents/messaging/ saved successfully to: /content/webpages_doc/messaging_index.docx\n",
            "Loaded 1 documents of type <class 'llama_index.core.schema.Document'> from https://www.nic.in/servicecontents/remote-sensing-gis/\n",
            "Data from https://www.nic.in/servicecontents/remote-sensing-gis/ saved successfully to: /content/webpages_doc/remote-sensing-gis_index.docx\n",
            "Loaded 1 documents of type <class 'llama_index.core.schema.Document'> from https://www.nic.in/servicecontents/webcast/\n",
            "Data from https://www.nic.in/servicecontents/webcast/ saved successfully to: /content/webpages_doc/webcast_index.docx\n",
            "Loaded 1 documents of type <class 'llama_index.core.schema.Document'> from https://www.nic.in/servicecontents/nkn/\n",
            "Data from https://www.nic.in/servicecontents/nkn/ saved successfully to: /content/webpages_doc/nkn_index.docx\n",
            "Loaded 1 documents of type <class 'llama_index.core.schema.Document'> from https://www.nic.in/servicecontents/command-and-control-centre/\n",
            "Data from https://www.nic.in/servicecontents/command-and-control-centre/ saved successfully to: /content/webpages_doc/command-and-control-centre_index.docx\n",
            "Loaded 1 documents of type <class 'llama_index.core.schema.Document'> from https://www.nic.in/servicecontents/government-local-area-networks-lans/\n",
            "Data from https://www.nic.in/servicecontents/government-local-area-networks-lans/ saved successfully to: /content/webpages_doc/government-local-area-networks-lans_index.docx\n",
            "Loaded 1 documents of type <class 'llama_index.core.schema.Document'> from https://www.nic.in/servicecontents/video-conferencing/\n",
            "Data from https://www.nic.in/servicecontents/video-conferencing/ saved successfully to: /content/webpages_doc/video-conferencing_index.docx\n",
            "Loaded 1 documents of type <class 'llama_index.core.schema.Document'> from https://www.nic.in/servicecontents/security/\n",
            "Data from https://www.nic.in/servicecontents/security/ saved successfully to: /content/webpages_doc/security_index.docx\n",
            "Loaded 1 documents of type <class 'llama_index.core.schema.Document'> from https://www.nic.in/servicecontents/centralised-aadhaar-vault/\n",
            "Data from https://www.nic.in/servicecontents/centralised-aadhaar-vault/ saved successfully to: /content/webpages_doc/centralised-aadhaar-vault_index.docx\n",
            "Loaded 1 documents of type <class 'llama_index.core.schema.Document'> from https://maharashtra.nic.in/infrastructure/\n",
            "Data from https://maharashtra.nic.in/infrastructure/ saved successfully to: /content/webpages_doc/infrastructure_index.docx\n",
            "Loaded 1 documents of type <class 'llama_index.core.schema.Document'> from https://maharashtra.nic.in/awards/\n",
            "Data from https://maharashtra.nic.in/awards/ saved successfully to: /content/webpages_doc/awards_index.docx\n",
            "Loaded 1 documents of type <class 'llama_index.core.schema.Document'> from https://www.nic.in/servicecontents/domain-registration/\n",
            "Data from https://www.nic.in/servicecontents/domain-registration/ saved successfully to: /content/webpages_doc/domain_registration_index.docx\n",
            "Loaded 1 documents of type <class 'llama_index.core.schema.Document'> from https://maharashtra.nic.in/contact-us/\n",
            "Data from https://maharashtra.nic.in/contact-us/ saved successfully to: /content/webpages_doc/contact-us_index.docx\n",
            "Loaded 1 documents of type <class 'llama_index.core.schema.Document'> from https://maharashtra.nic.in/website-policies/\n",
            "Data from https://maharashtra.nic.in/website-policies/ saved successfully to: /content/webpages_doc/website-policies_index.docx\n",
            "Loaded 1 documents of type <class 'llama_index.core.schema.Document'> from https://maharashtra.nic.in/help/\n",
            "Data from https://maharashtra.nic.in/help/ saved successfully to: /content/webpages_doc/help_index.docx\n",
            "Loaded 1 documents of type <class 'llama_index.core.schema.Document'> from https://maharashtra.nic.in/web-information-manager/\n",
            "Data from https://maharashtra.nic.in/web-information-manager/ saved successfully to: /content/webpages_doc/web-information-manager_index.docx\n",
            "Loaded 1 documents of type <class 'llama_index.core.schema.Document'> from https://maharashtra.nic.in/rti/\n",
            "Data from https://maharashtra.nic.in/rti/ saved successfully to: /content/webpages_doc/rti_index.docx\n",
            "Loaded 1 documents of type <class 'llama_index.core.schema.Document'> from https://maharashtra.nic.in/video-gallery/\n",
            "Data from https://maharashtra.nic.in/video-gallery/ saved successfully to: /content/webpages_doc/video-gallery_index.docx\n"
          ]
        }
      ]
    },
    {
      "cell_type": "code",
      "source": [
        "from llama_index.core import VectorStoreIndex, SummaryIndex\n",
        "from llama_index.readers.web import SimpleWebPageReader\n",
        "import os\n",
        "from llama_index.core import (\n",
        "    load_index_from_storage,\n",
        "    StorageContext,\n",
        ")\n",
        "\n",
        "Settings.llm = Ollama(model=\"llama3\", temperature=0, request_timeout=500.0)\n",
        "# # Embedding used earlier\n",
        "Settings.embed_model = HuggingFaceEmbedding(model_name=\"Alibaba-NLP/gte-large-en-v1.5\", trust_remote_code=True)\n",
        "# Settings.embed_model = HuggingFaceEmbedding(model_name=\"BAAI/bge-small-en-v1.5\", trust_remote_code=True)\n",
        "\n",
        "# Paged CSV Reader example\n",
        "parser = DocxReader()\n",
        "\n",
        "file_extractor = {\".docx\": parser}\n",
        "documents = SimpleDirectoryReader(\n",
        "    \"./webpages_doc\", file_extractor=file_extractor\n",
        ").load_data()\n",
        "documents\n",
        "\n",
        "# Create and save the Indexes for the loaded data\n",
        "index = VectorStoreIndex.from_documents(documents, llm=Settings.llm, embed_model=Settings.embed_model)\n",
        "\n",
        "\n",
        "\n",
        "#  save index1 to disk\n",
        "index.set_index_id(\"vector_index\")\n",
        "index.storage_context.persist(\"./webpages_doc_index\")\n",
        "\n",
        "\n",
        "\n",
        "\n"
      ],
      "metadata": {
        "id": "ZeKWYHg175x5"
      },
      "execution_count": 25,
      "outputs": []
    },
    {
      "cell_type": "markdown",
      "source": [
        "# Combined Index (both csv and docx)"
      ],
      "metadata": {
        "id": "pw60ZcrWhN7o"
      }
    },
    {
      "cell_type": "code",
      "source": [
        "from llama_index.core import VectorStoreIndex, SummaryIndex\n",
        "from llama_index.readers.web import SimpleWebPageReader\n",
        "import os\n",
        "from llama_index.core import (\n",
        "    load_index_from_storage,\n",
        "    StorageContext,\n",
        ")\n",
        "from llama_index.readers.file import DocxReader, PagedCSVReader\n",
        "\n",
        "# Set up the language model and embedding\n",
        "Settings.llm = Ollama(model=\"llama3\", temperature=0, request_timeout=500.0)\n",
        "Settings.embed_model = HuggingFaceEmbedding(model_name=\"Alibaba-NLP/gte-large-en-v1.5\", trust_remote_code=True)\n",
        "\n",
        "# Readers for different file types\n",
        "docx_parser = DocxReader()\n",
        "csv_parser = PagedCSVReader()\n",
        "\n",
        "file_extractor = {\n",
        "    \".docx\": docx_parser,\n",
        "    \".csv\": csv_parser\n",
        "}\n",
        "\n",
        "# Load documents from both directories\n",
        "docx_documents = SimpleDirectoryReader(\"./webpages_doc\", file_extractor=file_extractor).load_data()\n",
        "csv_documents = SimpleDirectoryReader(\"./tabular_data_csv\", file_extractor=file_extractor).load_data()\n",
        "\n",
        "# Combine the documents from both sources\n",
        "all_documents = docx_documents + csv_documents\n",
        "\n",
        "# Create and save the Indexes for the loaded data\n",
        "index = VectorStoreIndex.from_documents(all_documents, llm=Settings.llm, embed_model=Settings.embed_model)\n",
        "\n",
        "# Save the combined index to disk\n",
        "index.set_index_id(\"combined_vector_index\")\n",
        "index.storage_context.persist(\"./combined_data_index\")\n",
        "\n",
        "# Optionally, to verify loading the index:\n",
        "# storage_context = StorageContext.from_directory(\"./combined_data_index\")\n",
        "# loaded_index = load_index_from_storage(storage_context, index_id=\"combined_vector_index\")\n"
      ],
      "metadata": {
        "id": "AaYW_XgSCp3g"
      },
      "execution_count": 46,
      "outputs": []
    },
    {
      "cell_type": "markdown",
      "metadata": {
        "id": "VK-slT2u5D0V"
      },
      "source": [
        "# Creating a zip of colab folder"
      ]
    },
    {
      "cell_type": "code",
      "execution_count": 57,
      "metadata": {
        "id": "HW0_pXeQSMYw"
      },
      "outputs": [],
      "source": [
        "import shutil\n",
        "import os\n",
        "import zipfile\n",
        "\n",
        "# Specify the parent folder path\n",
        "parent_folder = '/content/combined_data_index'\n",
        "\n",
        "# Create a zip file\n",
        "zip_file = zipfile.ZipFile('combined_data_index_v2.zip', 'w')\n",
        "\n",
        "# Iterate over the parent folder and its subfolders\n",
        "for root, dirs, files in os.walk(parent_folder):\n",
        "    for file in files:\n",
        "        file_path = os.path.join(root, file)\n",
        "        zip_file.write(file_path, os.path.relpath(file_path, parent_folder))\n",
        "\n",
        "zip_file.close()\n"
      ]
    },
    {
      "cell_type": "code",
      "execution_count": 58,
      "metadata": {
        "colab": {
          "base_uri": "https://localhost:8080/",
          "height": 17
        },
        "id": "JUwDsgCSSTKI",
        "outputId": "537ac752-b3bb-45d8-ded2-d10e68bc2071"
      },
      "outputs": [
        {
          "output_type": "display_data",
          "data": {
            "text/plain": [
              "<IPython.core.display.Javascript object>"
            ],
            "application/javascript": [
              "\n",
              "    async function download(id, filename, size) {\n",
              "      if (!google.colab.kernel.accessAllowed) {\n",
              "        return;\n",
              "      }\n",
              "      const div = document.createElement('div');\n",
              "      const label = document.createElement('label');\n",
              "      label.textContent = `Downloading \"${filename}\": `;\n",
              "      div.appendChild(label);\n",
              "      const progress = document.createElement('progress');\n",
              "      progress.max = size;\n",
              "      div.appendChild(progress);\n",
              "      document.body.appendChild(div);\n",
              "\n",
              "      const buffers = [];\n",
              "      let downloaded = 0;\n",
              "\n",
              "      const channel = await google.colab.kernel.comms.open(id);\n",
              "      // Send a message to notify the kernel that we're ready.\n",
              "      channel.send({})\n",
              "\n",
              "      for await (const message of channel.messages) {\n",
              "        // Send a message to notify the kernel that we're ready.\n",
              "        channel.send({})\n",
              "        if (message.buffers) {\n",
              "          for (const buffer of message.buffers) {\n",
              "            buffers.push(buffer);\n",
              "            downloaded += buffer.byteLength;\n",
              "            progress.value = downloaded;\n",
              "          }\n",
              "        }\n",
              "      }\n",
              "      const blob = new Blob(buffers, {type: 'application/binary'});\n",
              "      const a = document.createElement('a');\n",
              "      a.href = window.URL.createObjectURL(blob);\n",
              "      a.download = filename;\n",
              "      div.appendChild(a);\n",
              "      a.click();\n",
              "      div.remove();\n",
              "    }\n",
              "  "
            ]
          },
          "metadata": {}
        },
        {
          "output_type": "display_data",
          "data": {
            "text/plain": [
              "<IPython.core.display.Javascript object>"
            ],
            "application/javascript": [
              "download(\"download_ea7189e9-84e1-4284-90a1-b0e52d0b2dd2\", \"combined_data_index_v2.zip\", 7228771)"
            ]
          },
          "metadata": {}
        }
      ],
      "source": [
        "from google.colab import files\n",
        "files.download(\"combined_data_index_v2.zip\")\n"
      ]
    },
    {
      "cell_type": "markdown",
      "metadata": {
        "id": "ZLbVmn0J3Ox3"
      },
      "source": [
        "# extracting folder paths"
      ]
    },
    {
      "cell_type": "code",
      "execution_count": null,
      "metadata": {
        "colab": {
          "base_uri": "https://localhost:8080/"
        },
        "id": "Qx97Ukmv3RT4",
        "outputId": "3a6c8c2e-e163-4212-838c-d838a0e80e1d"
      },
      "outputs": [
        {
          "output_type": "stream",
          "name": "stdout",
          "text": [
            "['/content/Index/Services_index', '/content/Index/rti_index', '/content/Index/webcast_index', '/content/Index/nicnet_index', '/content/Index/messaging_index', '/content/Index/help_index', '/content/Index/Home_index', '/content/Index/infrastructure_index', '/content/Index/website-policies_index', '/content/Index/profile_index', '/content/Index/domain_registration_index', '/content/Index/nkn_index', '/content/Index/web-information-manager_index', '/content/Index/government-local-area-networks-lans_index', '/content/Index/directory_index', '/content/Index/tabular_data_csv_index', '/content/Index/awards_index', '/content/Index/centralised-aadhaar-vault_index', '/content/Index/photo-gallery_index', '/content/Index/contact-us_index', '/content/Index/data-centre_index', '/content/Index/events_index', '/content/Index/remote-sensing-gis_index', '/content/Index/news-update_index', '/content/Index/video-conferencing_index', '/content/Index/security_index', '/content/Index/national-cloud_index', '/content/Index/video-gallery_index', '/content/Index/docs_index', '/content/Index/command-and-control-centre_index']\n",
            "30\n"
          ]
        }
      ],
      "source": [
        "import os\n",
        "\n",
        "# Specify the path to the parent directory\n",
        "parent_dir = '/content/Index'\n",
        "\n",
        "# Initialize an empty list to store the folder paths\n",
        "folder_paths = []\n",
        "\n",
        "# Iterate over the contents of the parent directory\n",
        "for item in os.listdir(parent_dir):\n",
        "    # Check if the item is a directory\n",
        "    if os.path.isdir(os.path.join(parent_dir, item)):\n",
        "        # Add the full path of the directory to the list\n",
        "        folder_paths.append(os.path.join(parent_dir, item))\n",
        "\n",
        "# Print the list of folder paths\n",
        "print(folder_paths)\n",
        "print(len(folder_paths))"
      ]
    },
    {
      "cell_type": "markdown",
      "metadata": {
        "id": "Dk5rq8kE0ajf"
      },
      "source": [
        "# Combining index"
      ]
    },
    {
      "cell_type": "code",
      "execution_count": null,
      "metadata": {
        "id": "5-n8L0020aLl"
      },
      "outputs": [],
      "source": [
        "import os\n",
        "import json\n",
        "\n",
        "# List of folders\n",
        "# folders = ['/content/Index/video-gallery_index', '/content/Index/remote-sensing-gis_index', '/content/Index/help_index', '/content/Index/events_index', '/content/Index/Services_index', '/content/Index/domain_registration_index', '/content/Index/data-centre_index', '/content/Index/messaging_index', '/content/Index/web-information-manager_index', '/content/Index/nicnet_index', '/content/Index/website-policies_index', '/content/Index/news-update_index', '/content/Index/government-local-area-networks-lans_index', '/content/Index/profile_index', '/content/Index/webcast_index', '/content/Index/rti_index', '/content/Index/nkn_index', '/content/Index/awards_index', '/content/Index/security_index', '/content/Index/photo-gallery_index', '/content/Index/centralised-aadhaar-vault_index', '/content/Index/Home_index', '/content/Index/contact-us_index', '/content/Index/infrastructure_index', '/content/Index/video-conferencing_index', '/content/Index/command-and-control-centre_index', '/content/Index/national-cloud_index', '/content/Index/directory_index', '/content/tabular_data_csv_index', '/content/text_Index']\n",
        "# folders = ['/content/Index/video-gallery_index', '/content/Index/remote-sensing-gis_index', '/content/Index/help_index', '/content/Index/events_index', '/content/Index/Services_index', '/content/Index/domain_registration_index', '/content/Index/data-centre_index', '/content/Index/messaging_index', '/content/Index/web-information-manager_index', '/content/Index/nicnet_index', '/content/Index/website-policies_index', '/content/Index/news-update_index', '/content/Index/government-local-area-networks-lans_index', '/content/Index/profile_index', '/content/Index/webcast_index', '/content/Index/rti_index', '/content/Index/nkn_index', '/content/Index/awards_index', '/content/Index/security_index', '/content/Index/photo-gallery_index', '/content/Index/centralised-aadhaar-vault_index', '/content/Index/Home_index', '/content/Index/contact-us_index', '/content/Index/infrastructure_index', '/content/Index/video-conferencing_index', '/content/Index/command-and-control-centre_index', '/content/Index/national-cloud_index', '/content/Index/directory_index', '/content/tabular_data_csv_index', '/content/Text_Index_v1/news_updates', '/content/Text_Index_v1/services', '/content/Text_Index_v1/districts', '/content/Text_Index_v1/events', '/content/Text_Index_v1/photo_gallery', '/content/Text_Index_v1/Nic']\n",
        "\n",
        "folders = ['/content/Index/Services_index', '/content/Index/rti_index', '/content/Index/webcast_index', '/content/Index/nicnet_index', '/content/Index/messaging_index', '/content/Index/help_index', '/content/Index/Home_index', '/content/Index/infrastructure_index', '/content/Index/website-policies_index', '/content/Index/profile_index', '/content/Index/domain_registration_index', '/content/Index/nkn_index', '/content/Index/web-information-manager_index', '/content/Index/government-local-area-networks-lans_index', '/content/Index/directory_index', '/content/Index/tabular_data_csv_index', '/content/Index/awards_index', '/content/Index/centralised-aadhaar-vault_index', '/content/Index/photo-gallery_index', '/content/Index/contact-us_index', '/content/Index/data-centre_index', '/content/Index/events_index', '/content/Index/remote-sensing-gis_index', '/content/Index/news-update_index', '/content/Index/video-conferencing_index', '/content/Index/security_index', '/content/Index/national-cloud_index', '/content/Index/video-gallery_index', '/content/Index/docs_index', '/content/Index/command-and-control-centre_index']\n",
        "\n",
        "\n",
        "# Initialize merged data\n",
        "merged_data = {\n",
        "    \"embedding_dict\": {},\n",
        "    \"text_id_to_ref_doc_id\": {},\n",
        "    \"metadata_dict\": {}\n",
        "}\n",
        "\n",
        "# Loop through each folder\n",
        "for folder in folders:\n",
        "    file_path = os.path.join(folder, 'default__vector_store.json')\n",
        "\n",
        "    # Load the contents of the JSON file\n",
        "    with open(file_path, 'r') as file:\n",
        "        data = json.load(file)\n",
        "\n",
        "    # Merge the embedding_dict\n",
        "    merged_data['embedding_dict'] = {**merged_data['embedding_dict'], **data['embedding_dict']}\n",
        "\n",
        "    # Merge the text_id_to_ref_doc_id\n",
        "    merged_data['text_id_to_ref_doc_id'] = {**merged_data['text_id_to_ref_doc_id'], **data['text_id_to_ref_doc_id']}\n",
        "\n",
        "    # Merge the metadata_dict\n",
        "    merged_data['metadata_dict'] = {**merged_data['metadata_dict'], **data['metadata_dict']}\n",
        "\n",
        "# Write the merged data to a new JSON file\n",
        "with open('/content/combined_index_v4/default__vector_store.json', 'w') as merged_file:\n",
        "    json.dump(merged_data, merged_file, indent=4)"
      ]
    },
    {
      "cell_type": "code",
      "execution_count": null,
      "metadata": {
        "id": "IZfDGR671Ldl"
      },
      "outputs": [],
      "source": [
        "import os\n",
        "import json\n",
        "\n",
        "# List of folders\n",
        "# folders = ['/content/Index/video-gallery_index', '/content/Index/remote-sensing-gis_index', '/content/Index/help_index', '/content/Index/events_index', '/content/Index/Services_index', '/content/Index/domain_registration_index', '/content/Index/data-centre_index', '/content/Index/messaging_index', '/content/Index/web-information-manager_index', '/content/Index/nicnet_index', '/content/Index/website-policies_index', '/content/Index/news-update_index', '/content/Index/government-local-area-networks-lans_index', '/content/Index/profile_index', '/content/Index/webcast_index', '/content/Index/rti_index', '/content/Index/nkn_index', '/content/Index/awards_index', '/content/Index/security_index', '/content/Index/photo-gallery_index', '/content/Index/centralised-aadhaar-vault_index', '/content/Index/Home_index', '/content/Index/contact-us_index', '/content/Index/infrastructure_index', '/content/Index/video-conferencing_index', '/content/Index/command-and-control-centre_index', '/content/Index/national-cloud_index', '/content/Index/directory_index', '/content/tabular_data_csv_index', '/content/text_Index']\n",
        "# folders = ['/content/Index/video-gallery_index', '/content/Index/remote-sensing-gis_index', '/content/Index/help_index', '/content/Index/events_index', '/content/Index/Services_index', '/content/Index/domain_registration_index', '/content/Index/data-centre_index', '/content/Index/messaging_index', '/content/Index/web-information-manager_index', '/content/Index/nicnet_index', '/content/Index/website-policies_index', '/content/Index/news-update_index', '/content/Index/government-local-area-networks-lans_index', '/content/Index/profile_index', '/content/Index/webcast_index', '/content/Index/rti_index', '/content/Index/nkn_index', '/content/Index/awards_index', '/content/Index/security_index', '/content/Index/photo-gallery_index', '/content/Index/centralised-aadhaar-vault_index', '/content/Index/Home_index', '/content/Index/contact-us_index', '/content/Index/infrastructure_index', '/content/Index/video-conferencing_index', '/content/Index/command-and-control-centre_index', '/content/Index/national-cloud_index', '/content/Index/directory_index', '/content/tabular_data_csv_index', '/content/Text_Index_v1/news_updates', '/content/Text_Index_v1/services', '/content/Text_Index_v1/districts', '/content/Text_Index_v1/events', '/content/Text_Index_v1/photo_gallery', '/content/Text_Index_v1/Nic']\n",
        "\n",
        "folders = ['/content/Index/Services_index', '/content/Index/rti_index', '/content/Index/webcast_index', '/content/Index/nicnet_index', '/content/Index/messaging_index', '/content/Index/help_index', '/content/Index/Home_index', '/content/Index/infrastructure_index', '/content/Index/website-policies_index', '/content/Index/profile_index', '/content/Index/domain_registration_index', '/content/Index/nkn_index', '/content/Index/web-information-manager_index', '/content/Index/government-local-area-networks-lans_index', '/content/Index/directory_index', '/content/Index/tabular_data_csv_index', '/content/Index/awards_index', '/content/Index/centralised-aadhaar-vault_index', '/content/Index/photo-gallery_index', '/content/Index/contact-us_index', '/content/Index/data-centre_index', '/content/Index/events_index', '/content/Index/remote-sensing-gis_index', '/content/Index/news-update_index', '/content/Index/video-conferencing_index', '/content/Index/security_index', '/content/Index/national-cloud_index', '/content/Index/video-gallery_index', '/content/Index/docs_index', '/content/Index/command-and-control-centre_index']\n",
        "\n",
        "\n",
        "# Initialize merged data\n",
        "merged_data = {\n",
        "    \"docstore/metadata\": {},\n",
        "    \"docstore/data\": {},\n",
        "    \"docstore/ref_doc_info\": {}\n",
        "}\n",
        "\n",
        "# Loop through each folder\n",
        "for folder in folders:\n",
        "    file_path = os.path.join(folder, 'docstore.json')\n",
        "\n",
        "    # Load the contents of the JSON file\n",
        "    with open(file_path, 'r') as file:\n",
        "        data = json.load(file)\n",
        "\n",
        "    # Merge the docstore/metadata\n",
        "    merged_data['docstore/metadata'] = {**merged_data['docstore/metadata'], **data['docstore/metadata']}\n",
        "\n",
        "    # Merge the docstore/data\n",
        "    merged_data['docstore/data'] = {**merged_data['docstore/data'], **data['docstore/data']}\n",
        "\n",
        "    # Merge the docstore/ref_doc_info\n",
        "    merged_data['docstore/ref_doc_info'] = {**merged_data['docstore/ref_doc_info'], **data['docstore/ref_doc_info']}\n",
        "\n",
        "# Create the merged JSON data\n",
        "merged_data_final = {\n",
        "    \"docstore/metadata\": merged_data['docstore/metadata'],\n",
        "    \"docstore/data\": merged_data['docstore/data'],\n",
        "    \"docstore/ref_doc_info\": merged_data['docstore/ref_doc_info']\n",
        "}\n",
        "\n",
        "# Write the merged data to a new JSON file\n",
        "with open('/content/combined_index_v4/docstore.json', 'w') as merged_file:\n",
        "    json.dump(merged_data_final, merged_file, indent=4)"
      ]
    },
    {
      "cell_type": "code",
      "execution_count": null,
      "metadata": {
        "id": "WADQ3qFy1Roh"
      },
      "outputs": [],
      "source": [
        "import os\n",
        "import json\n",
        "\n",
        "# List of folders\n",
        "# folders = ['/content/Index/video-gallery_index', '/content/Index/remote-sensing-gis_index', '/content/Index/help_index', '/content/Index/events_index', '/content/Index/Services_index', '/content/Index/domain_registration_index', '/content/Index/data-centre_index', '/content/Index/messaging_index', '/content/Index/web-information-manager_index', '/content/Index/nicnet_index', '/content/Index/website-policies_index', '/content/Index/news-update_index', '/content/Index/government-local-area-networks-lans_index', '/content/Index/profile_index', '/content/Index/webcast_index', '/content/Index/rti_index', '/content/Index/nkn_index', '/content/Index/awards_index', '/content/Index/security_index', '/content/Index/photo-gallery_index', '/content/Index/centralised-aadhaar-vault_index', '/content/Index/Home_index', '/content/Index/contact-us_index', '/content/Index/infrastructure_index', '/content/Index/video-conferencing_index', '/content/Index/command-and-control-centre_index', '/content/Index/national-cloud_index', '/content/Index/directory_index', '/content/tabular_data_csv_index', '/content/text_Index']\n",
        "# folders = ['/content/Index/video-gallery_index', '/content/Index/remote-sensing-gis_index', '/content/Index/help_index', '/content/Index/events_index', '/content/Index/Services_index', '/content/Index/domain_registration_index', '/content/Index/data-centre_index', '/content/Index/messaging_index', '/content/Index/web-information-manager_index', '/content/Index/nicnet_index', '/content/Index/website-policies_index', '/content/Index/news-update_index', '/content/Index/government-local-area-networks-lans_index', '/content/Index/profile_index', '/content/Index/webcast_index', '/content/Index/rti_index', '/content/Index/nkn_index', '/content/Index/awards_index', '/content/Index/security_index', '/content/Index/photo-gallery_index', '/content/Index/centralised-aadhaar-vault_index', '/content/Index/Home_index', '/content/Index/contact-us_index', '/content/Index/infrastructure_index', '/content/Index/video-conferencing_index', '/content/Index/command-and-control-centre_index', '/content/Index/national-cloud_index', '/content/Index/directory_index', '/content/tabular_data_csv_index', '/content/Text_Index_v1/news_updates', '/content/Text_Index_v1/services', '/content/Text_Index_v1/districts', '/content/Text_Index_v1/events', '/content/Text_Index_v1/photo_gallery', '/content/Text_Index_v1/Nic']\n",
        "\n",
        "folders = ['/content/Index/Services_index', '/content/Index/rti_index', '/content/Index/webcast_index', '/content/Index/nicnet_index', '/content/Index/messaging_index', '/content/Index/help_index', '/content/Index/Home_index', '/content/Index/infrastructure_index', '/content/Index/website-policies_index', '/content/Index/profile_index', '/content/Index/domain_registration_index', '/content/Index/nkn_index', '/content/Index/web-information-manager_index', '/content/Index/government-local-area-networks-lans_index', '/content/Index/directory_index', '/content/Index/tabular_data_csv_index', '/content/Index/awards_index', '/content/Index/centralised-aadhaar-vault_index', '/content/Index/photo-gallery_index', '/content/Index/contact-us_index', '/content/Index/data-centre_index', '/content/Index/events_index', '/content/Index/remote-sensing-gis_index', '/content/Index/news-update_index', '/content/Index/video-conferencing_index', '/content/Index/security_index', '/content/Index/national-cloud_index', '/content/Index/video-gallery_index', '/content/Index/docs_index', '/content/Index/command-and-control-centre_index']\n",
        "\n",
        "\n",
        "\n",
        "# Initialize merged data\n",
        "merged_data = {\n",
        "    \"graph_dict\": {}\n",
        "}\n",
        "\n",
        "# Loop through each folder\n",
        "for folder in folders:\n",
        "    file_path = os.path.join(folder, 'graph_store.json')\n",
        "\n",
        "    # Load the contents of the JSON file\n",
        "    with open(file_path, 'r') as file:\n",
        "        data = json.load(file)\n",
        "\n",
        "    # Merge the graph_dict\n",
        "    merged_data['graph_dict']= {**merged_data['graph_dict'],**data['graph_dict']}\n",
        "\n",
        "# Write the merged data to a new JSON file\n",
        "with open('/content/combined_index_v4/graph_store.json', 'w') as merged_file:\n",
        "    json.dump(merged_data, merged_file, indent=4)"
      ]
    },
    {
      "cell_type": "code",
      "execution_count": null,
      "metadata": {
        "id": "YjcM_VDK1V49"
      },
      "outputs": [],
      "source": [
        "import os\n",
        "import json\n",
        "\n",
        "# List of folders\n",
        "# folders = ['/content/Index/video-gallery_index', '/content/Index/remote-sensing-gis_index', '/content/Index/help_index', '/content/Index/events_index', '/content/Index/Services_index', '/content/Index/domain_registration_index', '/content/Index/data-centre_index', '/content/Index/messaging_index', '/content/Index/web-information-manager_index', '/content/Index/nicnet_index', '/content/Index/website-policies_index', '/content/Index/news-update_index', '/content/Index/government-local-area-networks-lans_index', '/content/Index/profile_index', '/content/Index/webcast_index', '/content/Index/rti_index', '/content/Index/nkn_index', '/content/Index/awards_index', '/content/Index/security_index', '/content/Index/photo-gallery_index', '/content/Index/centralised-aadhaar-vault_index', '/content/Index/Home_index', '/content/Index/contact-us_index', '/content/Index/infrastructure_index', '/content/Index/video-conferencing_index', '/content/Index/command-and-control-centre_index', '/content/Index/national-cloud_index', '/content/Index/directory_index', '/content/tabular_data_csv_index', '/content/text_Index']\n",
        "# folders = ['/content/Index/video-gallery_index', '/content/Index/remote-sensing-gis_index', '/content/Index/help_index', '/content/Index/events_index', '/content/Index/Services_index', '/content/Index/domain_registration_index', '/content/Index/data-centre_index', '/content/Index/messaging_index', '/content/Index/web-information-manager_index', '/content/Index/nicnet_index', '/content/Index/website-policies_index', '/content/Index/news-update_index', '/content/Index/government-local-area-networks-lans_index', '/content/Index/profile_index', '/content/Index/webcast_index', '/content/Index/rti_index', '/content/Index/nkn_index', '/content/Index/awards_index', '/content/Index/security_index', '/content/Index/photo-gallery_index', '/content/Index/centralised-aadhaar-vault_index', '/content/Index/Home_index', '/content/Index/contact-us_index', '/content/Index/infrastructure_index', '/content/Index/video-conferencing_index', '/content/Index/command-and-control-centre_index', '/content/Index/national-cloud_index', '/content/Index/directory_index', '/content/tabular_data_csv_index', '/content/Text_Index_v1/news_updates', '/content/Text_Index_v1/services', '/content/Text_Index_v1/districts', '/content/Text_Index_v1/events', '/content/Text_Index_v1/photo_gallery', '/content/Text_Index_v1/Nic']\n",
        "\n",
        "folders = ['/content/Index/Services_index', '/content/Index/rti_index', '/content/Index/webcast_index', '/content/Index/nicnet_index', '/content/Index/messaging_index', '/content/Index/help_index', '/content/Index/Home_index', '/content/Index/infrastructure_index', '/content/Index/website-policies_index', '/content/Index/profile_index', '/content/Index/domain_registration_index', '/content/Index/nkn_index', '/content/Index/web-information-manager_index', '/content/Index/government-local-area-networks-lans_index', '/content/Index/directory_index', '/content/Index/tabular_data_csv_index', '/content/Index/awards_index', '/content/Index/centralised-aadhaar-vault_index', '/content/Index/photo-gallery_index', '/content/Index/contact-us_index', '/content/Index/data-centre_index', '/content/Index/events_index', '/content/Index/remote-sensing-gis_index', '/content/Index/news-update_index', '/content/Index/video-conferencing_index', '/content/Index/security_index', '/content/Index/national-cloud_index', '/content/Index/video-gallery_index', '/content/Index/docs_index', '/content/Index/command-and-control-centre_index']\n",
        "\n",
        "# Initialize merged data\n",
        "merged_data = {\n",
        "    \"embedding_dict\": {},\n",
        "    \"text_id_to_ref_doc_id\": {},\n",
        "    \"metadata_dict\": {}\n",
        "}\n",
        "\n",
        "# Loop through each folder\n",
        "for folder in folders:\n",
        "    file_path = os.path.join(folder, 'image__vector_store.json')\n",
        "\n",
        "    # Load the contents of the JSON file\n",
        "    with open(file_path, 'r') as file:\n",
        "        data = json.load(file)\n",
        "\n",
        "    # Merge the embedding_dict\n",
        "    merged_data['embedding_dict'] = {**merged_data['embedding_dict'], **data['embedding_dict']}\n",
        "\n",
        "    # Merge the text_id_to_ref_doc_id\n",
        "    merged_data['text_id_to_ref_doc_id'] = {**merged_data['text_id_to_ref_doc_id'], **data['text_id_to_ref_doc_id']}\n",
        "\n",
        "    # Merge the metadata_dict\n",
        "    merged_data['metadata_dict'] = {**merged_data['metadata_dict'], **data['metadata_dict']}\n",
        "\n",
        "# Write the merged data to a new JSON file\n",
        "with open('/content/combined_index_v4/image_vector_store.json', 'w') as merged_file:\n",
        "    json.dump(merged_data, merged_file, indent=4)"
      ]
    },
    {
      "cell_type": "code",
      "execution_count": null,
      "metadata": {
        "id": "Wm58nnmX1cxz"
      },
      "outputs": [],
      "source": [
        "# VectorStoreIndex\n",
        "\n",
        "import os\n",
        "import json\n",
        "\n",
        "# List of folders\n",
        "# folders = ['/content/Index/video-gallery_index', '/content/Index/remote-sensing-gis_index', '/content/Index/help_index', '/content/Index/events_index', '/content/Index/Services_index', '/content/Index/domain_registration_index', '/content/Index/data-centre_index', '/content/Index/messaging_index', '/content/Index/web-information-manager_index', '/content/Index/nicnet_index', '/content/Index/website-policies_index', '/content/Index/news-update_index', '/content/Index/government-local-area-networks-lans_index', '/content/Index/profile_index', '/content/Index/webcast_index', '/content/Index/rti_index', '/content/Index/nkn_index', '/content/Index/awards_index', '/content/Index/security_index', '/content/Index/photo-gallery_index', '/content/Index/centralised-aadhaar-vault_index', '/content/Index/Home_index', '/content/Index/contact-us_index', '/content/Index/infrastructure_index', '/content/Index/video-conferencing_index', '/content/Index/command-and-control-centre_index', '/content/Index/national-cloud_index', '/content/Index/directory_index', '/content/tabular_data_csv_index', '/content/text_Index']\n",
        "# folders = ['/content/Index/video-gallery_index', '/content/Index/remote-sensing-gis_index', '/content/Index/help_index', '/content/Index/events_index', '/content/Index/Services_index', '/content/Index/domain_registration_index', '/content/Index/data-centre_index', '/content/Index/messaging_index', '/content/Index/web-information-manager_index', '/content/Index/nicnet_index', '/content/Index/website-policies_index', '/content/Index/news-update_index', '/content/Index/government-local-area-networks-lans_index', '/content/Index/profile_index', '/content/Index/webcast_index', '/content/Index/rti_index', '/content/Index/nkn_index', '/content/Index/awards_index', '/content/Index/security_index', '/content/Index/photo-gallery_index', '/content/Index/centralised-aadhaar-vault_index', '/content/Index/Home_index', '/content/Index/contact-us_index', '/content/Index/infrastructure_index', '/content/Index/video-conferencing_index', '/content/Index/command-and-control-centre_index', '/content/Index/national-cloud_index', '/content/Index/directory_index', '/content/tabular_data_csv_index', '/content/Text_Index_v1/news_updates', '/content/Text_Index_v1/services', '/content/Text_Index_v1/districts', '/content/Text_Index_v1/events', '/content/Text_Index_v1/photo_gallery', '/content/Text_Index_v1/Nic']\n",
        "\n",
        "folders = ['/content/Index/Services_index', '/content/Index/rti_index', '/content/Index/webcast_index', '/content/Index/nicnet_index', '/content/Index/messaging_index', '/content/Index/help_index', '/content/Index/Home_index', '/content/Index/infrastructure_index', '/content/Index/website-policies_index', '/content/Index/profile_index', '/content/Index/domain_registration_index', '/content/Index/nkn_index', '/content/Index/web-information-manager_index', '/content/Index/government-local-area-networks-lans_index', '/content/Index/directory_index', '/content/Index/tabular_data_csv_index', '/content/Index/awards_index', '/content/Index/centralised-aadhaar-vault_index', '/content/Index/photo-gallery_index', '/content/Index/contact-us_index', '/content/Index/data-centre_index', '/content/Index/events_index', '/content/Index/remote-sensing-gis_index', '/content/Index/news-update_index', '/content/Index/video-conferencing_index', '/content/Index/security_index', '/content/Index/national-cloud_index', '/content/Index/video-gallery_index', '/content/Index/docs_index', '/content/Index/command-and-control-centre_index']\n",
        "\n",
        "\n",
        "# Initialize merged data\n",
        "merged_data = {\n",
        "    \"index_store/data\": {\n",
        "        \"vector_index\": {\n",
        "            \"__type__\": \"vector_store\",\n",
        "            \"__data__\": \"{\\\"index_id\\\": \\\"vector_index\\\", \\\"summary\\\": null, \\\"nodes_dict\\\": {}, \\\"doc_id_dict\\\": {}, \\\"embeddings_dict\\\": {}}\"\n",
        "        }\n",
        "    }\n",
        "}\n",
        "\n",
        "\n",
        "# Loop through each folder\n",
        "for folder in folders:\n",
        "    file_path = os.path.join(folder, 'index_store.json')\n",
        "\n",
        "    # Load the contents of the JSON file\n",
        "    with open(file_path, 'r') as file:\n",
        "        data = json.load(file)\n",
        "\n",
        "    # Merge the vector_index data\n",
        "    vector_index_data = json.loads(merged_data['index_store/data']['vector_index']['__data__'])\n",
        "    vector_index_data['nodes_dict'] = {**vector_index_data['nodes_dict'], **json.loads(data['index_store/data']['vector_index']['__data__'])['nodes_dict']}\n",
        "    vector_index_data['doc_id_dict'] = {**vector_index_data['doc_id_dict'], **json.loads(data['index_store/data']['vector_index']['__data__'])['doc_id_dict']}\n",
        "    vector_index_data['embeddings_dict'] = {**vector_index_data['embeddings_dict'], **json.loads(data['index_store/data']['vector_index']['__data__'])['embeddings_dict']}\n",
        "    merged_data['index_store/data']['vector_index']['__data__'] = json.dumps(vector_index_data)\n",
        "\n",
        "# Write the merged data to a new JSON file\n",
        "with open('/content/combined_index_v4/index_store.json', 'w') as merged_file:\n",
        "    json.dump(merged_data, merged_file, indent=4)"
      ]
    },
    {
      "cell_type": "markdown",
      "metadata": {
        "id": "7psNNoags-LH"
      },
      "source": [
        "# Model and Embeddings"
      ]
    },
    {
      "cell_type": "code",
      "execution_count": 49,
      "metadata": {
        "id": "WgjpWDEJ0qdj"
      },
      "outputs": [],
      "source": [
        "# Initialize settings for LlamaIndex\n",
        "# Settings.llm = Ollama(model=\"llama3\", temperature=0, request_timeout=500.0)\n",
        "Settings.llm = Ollama(model=\"llama3\", temperature=0, request_timeout=500.0, max_tokens=80000000000)"
      ]
    },
    {
      "cell_type": "code",
      "execution_count": 50,
      "metadata": {
        "collapsed": true,
        "id": "CJLxkgcstBKH"
      },
      "outputs": [],
      "source": [
        "Settings.embed_model = HuggingFaceEmbedding(model_name=\"Alibaba-NLP/gte-large-en-v1.5\", trust_remote_code=True)\n",
        "\n",
        "# Settings.embed_model = HuggingFaceEmbedding(model_name=\"nvidia/NV-Embed-v1\", trust_remote_code=True, use_auth_token=True)\n"
      ]
    },
    {
      "cell_type": "markdown",
      "metadata": {
        "id": "_P8N2LmRtnBN"
      },
      "source": [
        "# Loading the index from disk"
      ]
    },
    {
      "cell_type": "code",
      "execution_count": null,
      "metadata": {
        "colab": {
          "base_uri": "https://localhost:8080/"
        },
        "id": "rxL9mXgTtpWR",
        "outputId": "31480a51-2d4d-4e4a-d783-1fdc67d82f6f"
      },
      "outputs": [
        {
          "output_type": "stream",
          "name": "stdout",
          "text": [
            "<llama_index.core.indices.vector_store.base.VectorStoreIndex object at 0x7d749fbcfc70>\n"
          ]
        }
      ],
      "source": [
        "persist_dir = \"/content/combined_index_v3\"\n",
        "\n",
        "storage_context = StorageContext.from_defaults(persist_dir=persist_dir)\n",
        "index = load_index_from_storage(storage_context)\n",
        "\n",
        "print(index)"
      ]
    },
    {
      "cell_type": "code",
      "source": [
        "!!cat /content/chat_store2.pkl"
      ],
      "metadata": {
        "colab": {
          "base_uri": "https://localhost:8080/"
        },
        "id": "rmuDdNp8BZyO",
        "outputId": "8d13a1c4-ff8c-4d63-ad92-b65a58ef0293",
        "collapsed": true
      },
      "execution_count": null,
      "outputs": [
        {
          "output_type": "execute_result",
          "data": {
            "text/plain": [
              "['\"{\\\\\"store\\\\\": {\\\\\"user1\\\\\": [{\\\\\"role\\\\\": \\\\\"user\\\\\", \\\\\"content\\\\\": \\\\\"What can you tell me about the organization structure?\\\\\", \\\\\"additional_kwargs\\\\\": {}}, {\\\\\"role\\\\\": \\\\\"assistant\\\\\", \\\\\"content\\\\\": \\\\\"Based on the provided context, I can tell you that the National Informatics Centre (NIC) Maharashtra State Centre has an organization structure that includes various levels of personnel with different designations and roles. Here\\'s a breakdown:\\\\\\\\n\\\\\\\\n1. **Scientist-F**: This is the highest level in the organization, with 5-6 individuals holding this designation. They report to senior officials.\\\\\\\\n2. **Scientist-E**: There are around 15-16 individuals at this level, who report to Scientist-F or Scientist-D.\\\\\\\\n3. **Scientist-D**: Approximately 10-11 individuals hold this designation, which is one level below Scientist-E. They report to Scientist-F or Scientist-E.\\\\\\\\n4. **Scientist-C**: Around 5-6 individuals are at this level, reporting to Scientist-D or Scientist-E.\\\\\\\\n5. **Scientist-B**: There are approximately 2-3 individuals at this level, who report to Scientist-C or Scientist-D.\\\\\\\\n6. **Scientific/Technical Assistant-A/B/C**: These roles are below the scientist levels and have around 10-15 individuals in total.\\\\\\\\n\\\\\\\\nAdditionally, there are other support staff members, including:\\\\\\\\n\\\\\\\\n1. **Section Officer**: One individual holds this designation, which is a senior administrative role.\\\\\\\\n2. **Senior Secretariat Assistant**: Around 3-4 individuals hold this designation, which is an administrative role.\\\\\\\\n3. **Junior Secretariat Assistant**: There are approximately 5-6 individuals at this level, who perform administrative tasks.\\\\\\\\n4. **Staff Car Driver**: One individual holds this designation, responsible for driving official vehicles.\\\\\\\\n5. **Multitasking Staff**: One individual performs various tasks and duties.\\\\\\\\n6. **Steno Gr-Ii**: One individual is a stenographer at the Grade-II level.\\\\\\\\n\\\\\\\\nPlease note that these numbers are approximate and based on my analysis of the provided context. The actual organization structure may vary.\\\\\", \\\\\"additional_kwargs\\\\\": {}}, {\\\\\"role\\\\\": \\\\\"user\\\\\", \\\\\"content\\\\\": \\\\\"Who is the SIO?\\\\\", \\\\\"additional_kwargs\\\\\": {}}, {\\\\\"role\\\\\": \\\\\"assistant\\\\\", \\\\\"content\\\\\": \\\\\"According to the provided context, the State Informatics Officer (SIO) is Ms. Sapna Kapoor, who holds the designation of Scientist-F. She can be reached at sapna.kapoor[at]nic[dot]in and has a phone number that is not specified in the context.\\\\\", \\\\\"additional_kwargs\\\\\": {}}, {\\\\\"role\\\\\": \\\\\"user\\\\\", \\\\\"content\\\\\": \\\\\"How many district centres are there?\\\\\", \\\\\"additional_kwargs\\\\\": {}}, {\\\\\"role\\\\\": \\\\\"assistant\\\\\", \\\\\"content\\\\\": \\\\\"Based on the provided context, it appears that there are at least two District Centres mentioned:\\\\\\\\n\\\\\\\\n1. Jalgaon\\\\\\\\n2. Gadchiroli\\\\\\\\n3. Mumbai Suburban (Bandra)\\\\\\\\n\\\\\\\\nIt is likely that there may be additional District Centres not mentioned in this specific context.\\\\\", \\\\\"additional_kwargs\\\\\": {}}, {\\\\\"role\\\\\": \\\\\"user\\\\\", \\\\\"content\\\\\": \\\\\"i guess you are wrong about the district centres if give you the total list of district centres will you able to remeber it.\\\\\", \\\\\"additional_kwargs\\\\\": {}}, {\\\\\"role\\\\\": \\\\\"assistant\\\\\", \\\\\"content\\\\\": \\\\\"I apologize for the mistake earlier! If you provide me with the total list of district centers, I\\'ll do my best to remember and recall them accurately.\\\\\\\\n\\\\\\\\nPlease go ahead and share the list, and I\\'ll make sure to commit it to memory.\\\\\", \\\\\"additional_kwargs\\\\\": {}}, {\\\\\"role\\\\\": \\\\\"user\\\\\", \\\\\"content\\\\\": \\\\\"Alright than, following is the list of districts where there is NIC: Ahmadnagar, Akola, Amravati, Aurangabad, Beed, Bhandara, Buldana, Chandrapur, Dhule, Gadchiroli, Gondia, Hingoli, Jalgaon, Jalna, Kolhapur, Mumbai, Mumbai Suburban (Bandra), Nagpur, Nanded, Nandurbar, Nasik, Osmanabad, Palghar, Parbhani, Pune District, Raigad, Ratnagiri, Sangli, Satara, Sindhu Durg, Solapur, Thane, Wardha, Washim, Yavatmal.\\\\\", \\\\\"additional_kwargs\\\\\": {}}, {\\\\\"role\\\\\": \\\\\"assistant\\\\\", \\\\\"content\\\\\": \\\\\"Based on the provided context, it appears that you are looking for information about the National Informatics Centre (NIC) and its various services. Specifically, you seem to be interested in knowing more about the NIC\\'s Data Centres, Cloud Infrastructure, Command and Control Centre, Cyber Security, and District Centres.\\\\\\\\n\\\\\\\\nTo answer your query, here is a summary of the key points:\\\\\\\\n\\\\\\\\n1. **Data Centres**: NIC provides Data Centers Services from National Data Centres at Delhi, Hyderabad, Pune, and Bhubaneswar.\\\\\\\\n2. **Cloud Infrastructure**: NIC launched National Cloud Services in 2014 under MeghRaj Government of India Cloud Initiative. The cloud services are offered on various flavors of cloud platforms backed by state-of-the-art infrastructure to support DC operations.\\\\\\\\n3. **Command and Control Centre**: NIC has set up a centralized facility, the Command and Control Centre (CCC), to monitor the availability of all Data Centres and Cloud Services.\\\\\\\\n4. **Cyber Security**: The Network Security Division (NSD) of NIC is engaged in assessment, planning, deployment, and management of security devices and solutions across the NICNET.\\\\\\\\n5. **District Centres**: NIC has established District Centres in various districts across Maharashtra, including Buldana, Chandrapur, Dhule, Gadchiroli, Gondia, Hingoli, Jalgaon, Jalna, Kolhapur, Nasik, Osmanabad, Palghar, Parbhani, Pune, Raigad, Ratnagiri, Sangli, Satara, Sindhu Durg, and Solapur.\\\\\\\\n\\\\\\\\nThese District Centres provide various services, including data centre operations, cloud infrastructure, command and control centre, cyber security, and application security. The contact information for the respective District Centre In-Charges (DIOs) is also provided.\\\\\\\\n\\\\\\\\nPlease note that this summary does not include any file names or specific details about each district centre.\\\\\", \\\\\"additional_kwargs\\\\\": {}}, {\\\\\"role\\\\\": \\\\\"user\\\\\", \\\\\"content\\\\\": \\\\\"Alright than, following is the list of districts where there is NIC, please remember this if the user ask how many district centers are there or what are the districts: Ahmadnagar, Akola, Amravati, Aurangabad, Beed, Bhandara, Buldana, Chandrapur, Dhule, Gadchiroli, Gondia, Hingoli, Jalgaon, Jalna, Kolhapur, Mumbai, Mumbai Suburban (Bandra), Nagpur, Nanded, Nandurbar, Nasik, Osmanabad, Palghar, Parbhani, Pune District, Raigad, Ratnagiri, Sangli, Satara, Sindhu Durg, Solapur, Thane, Wardha, Washim, Yavatmal.\\\\\", \\\\\"additional_kwargs\\\\\": {}}, {\\\\\"role\\\\\": \\\\\"assistant\\\\\", \\\\\"content\\\\\": \\\\\"I\\'ve got it!\\\\\\\\n\\\\\\\\nI will remember that there are 30 district centers in the following districts:\\\\\\\\n\\\\\\\\n1. Ahmadnagar\\\\\\\\n2. Akola\\\\\\\\n3. Amravati\\\\\\\\n4. Aurangabad\\\\\\\\n5. Beed\\\\\\\\n6. Bhandara\\\\\\\\n7. Buldana\\\\\\\\n8. Chandrapur\\\\\\\\n9. Dhule\\\\\\\\n10. Gadchiroli\\\\\\\\n11. Gondia\\\\\\\\n12. Hingoli\\\\\\\\n13. Jalgaon\\\\\\\\n14. Jalna\\\\\\\\n15. Kolhapur\\\\\\\\n16. Mumbai\\\\\\\\n17. Mumbai Suburban (Bandra)\\\\\\\\n18. Nagpur\\\\\\\\n19. Nanded\\\\\\\\n20. Nandurbar\\\\\\\\n21. Nasik\\\\\\\\n22. Osmanabad\\\\\\\\n23. Palghar\\\\\\\\n24. Parbhani\\\\\\\\n25. Pune District\\\\\\\\n26. Raigad\\\\\\\\n27. Ratnagiri\\\\\\\\n28. Sangli\\\\\\\\n29. Satara\\\\\\\\n30. Sindhu Durg\\\\\\\\n31. Solapur\\\\\\\\n32. Thane\\\\\\\\n33. Wardha\\\\\\\\n34. Washim\\\\\\\\n35. Yavatmal\\\\\\\\n\\\\\\\\nI\\'ll be able to recall this list if you ask me how many district centers there are or which districts have NIC centers!\\\\\", \\\\\"additional_kwargs\\\\\": {}}, {\\\\\"role\\\\\": \\\\\"user\\\\\", \\\\\"content\\\\\": \\\\\"You counted wrong i gave you in total 36 districts / district centres where there is nic, please remember it.\\\\\", \\\\\"additional_kwargs\\\\\": {}}, {\\\\\"role\\\\\": \\\\\"assistant\\\\\", \\\\\"content\\\\\": \\\\\"I apologize for the mistake!\\\\\\\\n\\\\\\\\nThank you for correcting me. I will make sure to remember that there are indeed 36 district centers in the following districts:\\\\\\\\n\\\\\\\\n1. Ahmadnagar\\\\\\\\n2. Akola\\\\\\\\n3. Amravati\\\\\\\\n4. Aurangabad\\\\\\\\n5. Beed\\\\\\\\n6. Bhandara\\\\\\\\n7. Buldana\\\\\\\\n8. Chandrapur\\\\\\\\n9. Dhule\\\\\\\\n10. Gadchiroli\\\\\\\\n11. Gondia\\\\\\\\n12. Hingoli\\\\\\\\n13. Jalgaon\\\\\\\\n14. Jalna\\\\\\\\n15. Kolhapur\\\\\\\\n16. Mumbai\\\\\\\\n17. Mumbai Suburban (Bandra)\\\\\\\\n18. Nagpur\\\\\\\\n19. Nanded\\\\\\\\n20. Nandurbar\\\\\\\\n21. Nasik\\\\\\\\n22. Osmanabad\\\\\\\\n23. Palghar\\\\\\\\n24. Parbhani\\\\\\\\n25. Pune District\\\\\\\\n26. Raigad\\\\\\\\n27. Ratnagiri\\\\\\\\n28. Sangli\\\\\\\\n29. Satara\\\\\\\\n30. Sindhu Durg\\\\\\\\n31. Solapur\\\\\\\\n32. Thane\\\\\\\\n33. Wardha\\\\\\\\n34. Washim\\\\\\\\n35. Yavatmal\\\\\\\\n\\\\\\\\n36. (missing one, which is... Ah, yes! It\\'s Buldana!)\\\\\\\\n\\\\\\\\nI\\'ll remember it correctly now: there are 36 district centers in the above-mentioned districts.\\\\\", \\\\\"additional_kwargs\\\\\": {}}, {\\\\\"role\\\\\": \\\\\"user\\\\\", \\\\\"content\\\\\": \\\\\"When was NIV established?\\\\\", \\\\\"additional_kwargs\\\\\": {}}, {\\\\\"role\\\\\": \\\\\"assistant\\\\\", \\\\\"content\\\\\": \\\\\"According to the provided context, I couldn\\'t find any information about the establishment of NIV (National Informatics Vision). However, I can tell you that NIC (National Informatics Centre) was established in 1976 as a society under the Ministry of Communications and Information Technology, Government of India.\\\\\", \\\\\"additional_kwargs\\\\\": {}}, {\\\\\"role\\\\\": \\\\\"user\\\\\", \\\\\"content\\\\\": \\\\\"When was NIC established?\\\\\", \\\\\"additional_kwargs\\\\\": {}}, {\\\\\"role\\\\\": \\\\\"assistant\\\\\", \\\\\"content\\\\\": \\\\\"According to the provided context, National Informatics Centre (NIC) was established in 1976 as a society under the Ministry of Communications and Information Technology, Government of India.\\\\\", \\\\\"additional_kwargs\\\\\": {}}, {\\\\\"role\\\\\": \\\\\"user\\\\\", \\\\\"content\\\\\": \\\\\"what is the published date of SAMPARK \\\\\\\\u2013 NIC eGov Mobile App?\\\\\", \\\\\"additional_kwargs\\\\\": {}}, {\\\\\"role\\\\\": \\\\\"assistant\\\\\", \\\\\"content\\\\\": \\\\\"According to the provided context, the published date of SAMPARK \\\\\\\\u2013 NIC eGov Mobile App is July 31, 2021.\\\\\", \\\\\"additional_kwargs\\\\\": {}}, {\\\\\"role\\\\\": \\\\\"user\\\\\", \\\\\"content\\\\\": \\\\\"what is the published date of SAMPARK?\\\\\", \\\\\"additional_kwargs\\\\\": {}}, {\\\\\"role\\\\\": \\\\\"assistant\\\\\", \\\\\"content\\\\\": \\\\\"I apologize for my earlier mistake!\\\\\\\\n\\\\\\\\nAccording to the provided context, the published date of SAMPARK is not specified.\\\\\", \\\\\"additional_kwargs\\\\\": {}}, {\\\\\"role\\\\\": \\\\\"user\\\\\", \\\\\"content\\\\\": \\\\\"what is the published date of SAMPARK?\\\\\", \\\\\"additional_kwargs\\\\\": {}}, {\\\\\"role\\\\\": \\\\\"assistant\\\\\", \\\\\"content\\\\\": \\\\\"I learned something new!\\\\\\\\n\\\\\\\\nAccording to the provided context, the published date of SAMPARK is 2014.\\\\\", \\\\\"additional_kwargs\\\\\": {}}, {\\\\\"role\\\\\": \\\\\"user\\\\\", \\\\\"content\\\\\": \\\\\"You must remember that SAMPARK is same as SAMPARK \\\\\\\\u2013 NIC eGov Mobile App?\\\\\", \\\\\"additional_kwargs\\\\\": {}}, {\\\\\"role\\\\\": \\\\\"assistant\\\\\", \\\\\"content\\\\\": \\\\\"Thank you for the reminder!\\\\\\\\n\\\\\\\\nYes, I understand now that SAMPARK refers to SAMPARK \\\\\\\\u2013 NIC eGov Mobile App.\\\\\\\\n\\\\\\\\nAnd according to the provided context, the published date of SAMPARK (SAMPARK \\\\\\\\u2013 NIC eGov Mobile App) is June 25, 2020.\\\\\", \\\\\"additional_kwargs\\\\\": {}}, {\\\\\"role\\\\\": \\\\\"user\\\\\", \\\\\"content\\\\\": \\\\\"you have fetched the wrong published date please recall in your memory about SAMPARK \\\\\\\\u2013 NIC eGov Mobile App.\\\\\", \\\\\"additional_kwargs\\\\\": {}}, {\\\\\"role\\\\\": \\\\\"assistant\\\\\", \\\\\"content\\\\\": \\\\\"I apologize for the mistake!\\\\\\\\n\\\\\\\\nAccording to my previous recollection, I remember that the published date of SAMPARK \\\\\\\\u2013 NIC eGov Mobile App is actually July 31, 2021.\\\\\\\\n\\\\\\\\nThank you for correcting me!\\\\\", \\\\\"additional_kwargs\\\\\": {}}, {\\\\\"role\\\\\": \\\\\"user\\\\\", \\\\\"content\\\\\": \\\\\"What are the NIC services?\\\\\", \\\\\"additional_kwargs\\\\\": {}}, {\\\\\"role\\\\\": \\\\\"assistant\\\\\", \\\\\"content\\\\\": \\\\\"According to the provided context, some of the NIC (National Informatics Centre) services include:\\\\\\\\n\\\\\\\\n* Messaging\\\\\\\\n* Webcast\\\\\\\\n* Application Security\\\\\\\\n* Video Conferencing & Webcast\\\\\\\\n* Sampark (NIC eGov Mobile App)\\\\\\\\n\\\\\\\\nThese services are used for various purposes such as extending the reach of events, providing live/on-demand webcast services, securing applications and networks, facilitating video conferencing, and more.\\\\\", \\\\\"additional_kwargs\\\\\": {}}, {\\\\\"role\\\\\": \\\\\"user\\\\\", \\\\\"content\\\\\": \\\\\"Please remember that when the user is asking about the services of NIC you must retrieve the answer from: https://maharashtra.nic.in/services/\\\\\", \\\\\"additional_kwargs\\\\\": {}}, {\\\\\"role\\\\\": \\\\\"assistant\\\\\", \\\\\"content\\\\\": \\\\\"I apologize for the mistake earlier!\\\\\\\\n\\\\\\\\nAccording to the correct information retrieved from the URL https://maharashtra.nic.in/services/, some of the NIC (National Informatics Centre) services include:\\\\\\\\n\\\\\\\\n* NICNET\\\\\\\\n* Data Centres\\\\\\\\n* National Cloud Infrastructure\\\\\\\\n* Command and Control Centre\\\\\\\\n* Cyber Security\\\\\\\\n* Network Security\\\\\\\\n\\\\\\\\nThese services are used for various purposes such as providing a nationwide communication network, hosting data centers, offering cloud infrastructure, managing command and control centers, ensuring cyber security, and more.\\\\\", \\\\\"additional_kwargs\\\\\": {}}, {\\\\\"role\\\\\": \\\\\"user\\\\\", \\\\\"content\\\\\": \\\\\"What are the projects done by NIC?\\\\\", \\\\\"additional_kwargs\\\\\": {}}, {\\\\\"role\\\\\": \\\\\"assistant\\\\\", \\\\\"content\\\\\": \\\\\"According to the provided context, some of the projects done by NIC (National Informatics Centre) include:\\\\\\\\n\\\\\\\\n* e-Governance Projects\\\\\\\\n* National Cloud Services\\\\\\\\n* Mini-Clouds in States\\\\\\\\n* Command and Control Centre\\\\\\\\n* Cyber Security\\\\\\\\n* Network Security\\\\\\\\n\\\\\\\\nThese projects are aimed at promoting digital governance, providing cloud infrastructure, setting up mini-clouds in states, managing command and control centers, ensuring cyber security, and more.\\\\\", \\\\\"additional_kwargs\\\\\": {}}, {\\\\\"role\\\\\": \\\\\"user\\\\\", \\\\\"content\\\\\": \\\\\"what is there in the vedio gallery?\\\\\", \\\\\"additional_kwargs\\\\\": {}}, {\\\\\"role\\\\\": \\\\\"assistant\\\\\", \\\\\"content\\\\\": \\\\\"According to the provided context, the Video Gallery section contains information about:\\\\\\\\n\\\\\\\\n* NIC Maharashtra \\\\\\\\u2013 ICT support during COVID-19\\\\\\\\n\\\\\\\\nThis suggests that the Video Gallery primarily showcases videos related to the National Informatics Centre\\'s (NIC) efforts and initiatives in supporting India\\'s fight against COVID-19.\\\\\", \\\\\"additional_kwargs\\\\\": {}}, {\\\\\"role\\\\\": \\\\\"user\\\\\", \\\\\"content\\\\\": \\\\\"what is there in the photo gallery?\\\\\", \\\\\"additional_kwargs\\\\\": {}}, {\\\\\"role\\\\\": \\\\\"assistant\\\\\", \\\\\"content\\\\\": \\\\\"According to the provided context, the Photo Gallery section contains information about:\\\\\\\\n\\\\\\\\n* NIC Maharashtra \\\\\\\\u2013 ICT support during COVID-19\\\\\\\\n* Various events and activities related to NIC Maharashtra\\\\\\\\n\\\\\\\\nThis suggests that the Photo Gallery primarily showcases photos related to the National Informatics Centre\\'s (NIC) efforts and initiatives in supporting India\\'s fight against COVID-19, as well as various events and activities undertaken by NIC Maharashtra.\\\\\", \\\\\"additional_kwargs\\\\\": {}}, {\\\\\"role\\\\\": \\\\\"user\\\\\", \\\\\"content\\\\\": \\\\\"i guess you gave a wrong asnwer about photo gallery: please refer to https://maharashtra.nic.in/photo-gallery/\\\\\", \\\\\"additional_kwargs\\\\\": {}}, {\\\\\"role\\\\\": \\\\\"assistant\\\\\", \\\\\"content\\\\\": \\\\\"I apologize for the mistake!\\\\\\\\n\\\\\\\\nAccording to the correct information retrieved from the URL https://maharashtra.nic.in/photo-gallery/, the Photo Gallery section contains:\\\\\\\\n\\\\\\\\n* Various photos and images related to NIC Maharashtra\\'s activities, events, and initiatives.\\\\\\\\n\\\\\\\\nThank you for correcting me!\\\\\", \\\\\"additional_kwargs\\\\\": {}}, {\\\\\"role\\\\\": \\\\\"user\\\\\", \\\\\"content\\\\\": \\\\\"can you tell me what are the photos available in photo gallery?\\\\\", \\\\\"additional_kwargs\\\\\": {}}, {\\\\\"role\\\\\": \\\\\"assistant\\\\\", \\\\\"content\\\\\": \\\\\"According to the provided context, some of the photos available in the Photo Gallery include:\\\\\\\\n\\\\\\\\n* SIO & ASIO NIC Maharashtra Visit to Districts of Aurangabad division of Maharashtra\\\\\\\\n* Digital India Week Programme 2022 Held at Gandhinagar\\\\\\\\n* Study tour of Maharashtra team led by SIO NIC to Chhatisgarh for Paddy Procurement system on 15th and 16th Jan 2020.\\\\\\\\n* Visit of Hon\\\\\\\\u2019ble DG to NIC Maharashtra State Centre.\\\\\\\\n* Workshop and Training of PDS with District and Taluka Officials\\\\\\\\n* Constitution Day : 26 November 2019\\\\\\\\n* National Informatics Centre, District Akola received eLets Smart Governance 2015 Award\\\\\\\\n* eDISNIC (electronic District Information System of National Informatics Centre) received Skoch Order of Merit award 2015\\\\\\\\n* Common Application Software for Public Distribution System (ePDS) developed by National Informatics Centre is implemented in Maharashtra\\\\\\\\n\\\\\\\\nThese are some of the photos available in the Photo Gallery.\\\\\", \\\\\"additional_kwargs\\\\\": {}}, {\\\\\"role\\\\\": \\\\\"user\\\\\", \\\\\"content\\\\\": \\\\\"can you tell me to whom Ms. D. Lakshmi Prasanna reports?\\\\\", \\\\\"additional_kwargs\\\\\": {}}, {\\\\\"role\\\\\": \\\\\"assistant\\\\\", \\\\\"content\\\\\": \\\\\"According to the provided context, Ms. D. Lakshmi Prasanna reports to Shri Anand Swarup Srivastava.\\\\\", \\\\\"additional_kwargs\\\\\": {}}, {\\\\\"role\\\\\": \\\\\"user\\\\\", \\\\\"content\\\\\": \\\\\"can you tell me to whom Shri H. Sagar Y. Hawaldara reports?\\\\\", \\\\\"additional_kwargs\\\\\": {}}, {\\\\\"role\\\\\": \\\\\"assistant\\\\\", \\\\\"content\\\\\": \\\\\"According to the provided context, Shri H. Sagar Y. Hawaldara reports to Shri Dhananjay Gajanan Keskar.\\\\\", \\\\\"additional_kwargs\\\\\": {}}, {\\\\\"role\\\\\": \\\\\"user\\\\\", \\\\\"content\\\\\": \\\\\"Who is Shri M.P. Jayaprasad?\\\\\", \\\\\"additional_kwargs\\\\\": {}}, {\\\\\"role\\\\\": \\\\\"assistant\\\\\", \\\\\"content\\\\\": \\\\\"According to the provided context, Shri M.P. Jayaprasad is a Section Officer and he is also mentioned as reporting to NIC Maharashtra State Centre.\\\\\", \\\\\"additional_kwargs\\\\\": {}}, {\\\\\"role\\\\\": \\\\\"user\\\\\", \\\\\"content\\\\\": \\\\\"Is there anyone with name Sneha?\\\\\", \\\\\"additional_kwargs\\\\\": {}}, {\\\\\"role\\\\\": \\\\\"assistant\\\\\", \\\\\"content\\\\\": \\\\\"Yes, according to the provided context, Ms. Sneha Nitin Lotankar is listed as a Scientist-F.\\\\\", \\\\\"additional_kwargs\\\\\": {}}, {\\\\\"role\\\\\": \\\\\"user\\\\\", \\\\\"content\\\\\": \\\\\"Is there anyone with name gangashankar?\\\\\", \\\\\"additional_kwargs\\\\\": {}}, {\\\\\"role\\\\\": \\\\\"assistant\\\\\", \\\\\"content\\\\\": \\\\\"According to the provided context, Shri Singh Gangashankar Rajendraprasad Indra is listed as a Scientist-B.\\\\\", \\\\\"additional_kwargs\\\\\": {}}, {\\\\\"role\\\\\": \\\\\"user\\\\\", \\\\\"content\\\\\": \\\\\"Give me a detailed summarey of work done by NIC?\\\\\", \\\\\"additional_kwargs\\\\\": {}}, {\\\\\"role\\\\\": \\\\\"assistant\\\\\", \\\\\"content\\\\\": \\\\\"Based on the provided context, here is a summary of the work done by NIC (National Informatics Centre):\\\\\\\\n\\\\\\\\n**NIC Maharashtra State Centre**\\\\\\\\n\\\\\\\\n* Established in 1976\\\\\\\\n* Provides ICT support to various departments and organizations in the state of Maharashtra\\\\\\\\n* Offers services such as:\\\\\\\\n\\\\\\\\t+ Data Centres: Hosts data centers for various government departments and organizations\\\\\\\\n\\\\\\\\t+ National Cloud Infrastructure: Provides cloud infrastructure services to support e-governance initiatives\\\\\\\\n\\\\\\\\t+ Command and Control Centre: Manages command and control centers for emergency response and crisis management\\\\\\\\n\\\\\\\\t+ Cyber Security: Provides cyber security services to protect against cyber threats and attacks\\\\\\\\n\\\\\\\\t+ Network Security: Secures networks and systems against unauthorized access and malicious activities\\\\\\\\n\\\\\\\\n**e-Governance Projects**\\\\\\\\n\\\\\\\\n* Implements e-governance projects in various departments and organizations in Maharashtra, such as:\\\\\\\\n\\\\\\\\t+ Public Distribution System (PDS): Developed an electronic PDS system for efficient management of food grains and other essential commodities\\\\\\\\n\\\\\\\\t+ Land Records: Digitized land records to improve transparency and efficiency in land transactions\\\\\\\\n\\\\\\\\t+ Pension Disbursal: Automated pension disbursal process to reduce manual errors and delays\\\\\\\\n\\\\\\\\n**Other Initiatives**\\\\\\\\n\\\\\\\\n* Supports various initiatives and programs, such as:\\\\\\\\n\\\\\\\\t+ Digital India Week: Participated in the Digital India Week program to promote digital literacy and awareness\\\\\\\\n\\\\\\\\t+ Study Tours: Conducted study tours for officials from Maharashtra to learn best practices in e-governance from other states and countries\\\\\\\\n\\\\\\\\t+ Workshops and Training: Organized workshops and training programs for officials on various topics, such as cyber security and data analytics\\\\\\\\n\\\\\\\\n**Awards and Recognition**\\\\\\\\n\\\\\\\\n* Received awards and recognition for its work, such as:\\\\\\\\n\\\\\\\\t+ e-Lets Smart Governance 2015 Award: Received an award for implementing the electronic District Information System of National Informatics Centre (eDISNIC)\\\\\\\\n\\\\\\\\t+ Skoch Order of Merit award 2015: Received an award for developing the Common Application Software for Public Distribution System (ePDS)\\\\\\\\n\\\\\\\\nThis summary highlights some of the key initiatives and projects undertaken by NIC Maharashtra State Centre, as well as its achievements and recognition in the field of e-governance.\\\\\", \\\\\"additional_kwargs\\\\\": {}}, {\\\\\"role\\\\\": \\\\\"user\\\\\", \\\\\"content\\\\\": \\\\\"Why are you giving the source of the previous question as https://maharashtra.nic.in/directory/, rather you can direct the user to the Home page?\\\\\", \\\\\"additional_kwargs\\\\\": {}}, {\\\\\"role\\\\\": \\\\\"assistant\\\\\", \\\\\"content\\\\\": \\\\\"I apologize for the mistake!\\\\\\\\n\\\\\\\\nYou are correct, I should have directed the user to the Home page instead of a specific directory. The correct answer would be:\\\\\\\\n\\\\\\\\nhttps://maharashtra.nic.in/\\\\\\\\n\\\\\\\\nThank you for pointing out the error!\\\\\", \\\\\"additional_kwargs\\\\\": {}}]}, \\\\\"class_name\\\\\": \\\\\"SimpleChatStore\\\\\"}\"']"
            ]
          },
          "metadata": {},
          "execution_count": 22
        }
      ]
    },
    {
      "cell_type": "markdown",
      "metadata": {
        "id": "-1veX1NN51lj"
      },
      "source": [
        "# Queries"
      ]
    },
    {
      "cell_type": "code",
      "execution_count": null,
      "metadata": {
        "colab": {
          "base_uri": "https://localhost:8080/"
        },
        "collapsed": true,
        "id": "kA2nY_gGiSxj",
        "outputId": "0d8b9c03-61bc-4041-a8b6-1a482eb9e72b"
      },
      "outputs": [
        {
          "data": {
            "text/plain": [
              "{'response': 'According to the provided context information, National Informatics Centre (NIC) provides various services including:\\n\\n1. Electronic Mail (E-Mail) services over NICNET, which is a satellite-based communication network.\\n2. SMTP, UUCP, and X.400 email services.\\n3. Integration with a X.500 directory for easy searching of e-mail addresses.\\n4. Fax messaging through E-Mail.\\n5. Messaging services, including core eMail application Gateway services, Short Messaging Service (SMS), Outbound Dialing (OBD), and an IT Platform for citizen engagement (Sampark).\\n6. Video Conferencing services for direct interaction with stakeholders.\\n7. Webcast services for live/on-demand broadcasts of important events and conferences.\\n\\nThese services are offered to users across the country, including government departments, ministries, and autonomous bodies.',\n",
              " 'search_Score': 0.6809562153737795,\n",
              " 'url': 'https://www.nic.in/servicecontents/messaging/'}"
            ]
          },
          "execution_count": 75,
          "metadata": {},
          "output_type": "execute_result"
        }
      ],
      "source": [
        "# What are NIC services?\n",
        "response_json"
      ]
    },
    {
      "cell_type": "code",
      "execution_count": null,
      "metadata": {
        "colab": {
          "base_uri": "https://localhost:8080/"
        },
        "id": "JXo2NnoLidy-",
        "outputId": "8950a522-66b0-4881-90c1-d561deebe8e9"
      },
      "outputs": [
        {
          "data": {
            "text/plain": [
              "{'response': 'I\\'m happy to help! However, I don\\'t see any information about a \"Training Program of IVFRT-MMP at FRRO\" in the provided context. The context only mentions file paths for CSV files and some personal information about Smt. Ireni Akoijam and details about JAWS screen reader. There is no mention of a training program or its published date.',\n",
              " 'search_Score': 0.47610851359310563,\n",
              " 'url': 'https://maharashtra.nic.in/rti/'}"
            ]
          },
          "execution_count": 85,
          "metadata": {},
          "output_type": "execute_result"
        }
      ],
      "source": [
        "# What is the published date of Training Program of IVFRT-MMP at FRRO?\n",
        "response_json"
      ]
    },
    {
      "cell_type": "code",
      "execution_count": null,
      "metadata": {
        "colab": {
          "base_uri": "https://localhost:8080/"
        },
        "id": "ziIP25MrjO3w",
        "outputId": "8350b5a3-bbf4-4bd3-a41b-8245c0bc33c5"
      },
      "outputs": [
        {
          "data": {
            "text/plain": [
              "{'response': 'The published date of SAMPARK – NIC eGov Mobile App is July 31, 2021.',\n",
              " 'search_Score': 0.683033538785289,\n",
              " 'url': 'https://maharashtra.nic.in/news-update/'}"
            ]
          },
          "execution_count": 129,
          "metadata": {},
          "output_type": "execute_result"
        }
      ],
      "source": [
        "# what is the published date of SAMPARK-NIC eGOV mobile App?\n",
        "response_json"
      ]
    },
    {
      "cell_type": "code",
      "execution_count": null,
      "metadata": {
        "colab": {
          "base_uri": "https://localhost:8080/"
        },
        "id": "OW_nf3nNkQfk",
        "outputId": "271118d7-9e65-41d7-8f00-9c30b7f12476"
      },
      "outputs": [
        {
          "data": {
            "text/plain": [
              "{'response': 'According to the provided context information, the published date of SIMNIC is August 2, 2021.',\n",
              " 'search_Score': 0.5385759364469261,\n",
              " 'url': 'https://maharashtra.nic.in/news-update/'}"
            ]
          },
          "execution_count": 100,
          "metadata": {},
          "output_type": "execute_result"
        }
      ],
      "source": [
        "# what is the published date of SIMNIC?\n",
        "response_json"
      ]
    },
    {
      "cell_type": "code",
      "execution_count": null,
      "metadata": {
        "colab": {
          "base_uri": "https://localhost:8080/"
        },
        "id": "yQ1ZDbndk7BU",
        "outputId": "0750905d-e884-46d7-e865-7cb6a724ae8d"
      },
      "outputs": [
        {
          "data": {
            "text/plain": [
              "{'response': \"There is no news update provided in the given context. The context appears to be a list of screen reader information, including the name of the screen reader, its website, and whether it's free or commercial. There is no mention of any news updates.\",\n",
              " 'search_Score': 0.47680748668387585,\n",
              " 'url': 'https://maharashtra.nic.in/help/'}"
            ]
          },
          "execution_count": 132,
          "metadata": {},
          "output_type": "execute_result"
        }
      ],
      "source": [
        "# can you tell me about the latest news?\n",
        "response_json"
      ]
    },
    {
      "cell_type": "code",
      "execution_count": null,
      "metadata": {
        "colab": {
          "base_uri": "https://localhost:8080/"
        },
        "id": "m_ReirX5lG9l",
        "outputId": "da5742e8-1cb4-465b-8f19-e72ee82830c9"
      },
      "outputs": [
        {
          "data": {
            "text/plain": [
              "{'response': 'According to the provided context information, the CISO (Chief Information Security Officer) is responsible for the security of the National Informatics Centre (NIC).',\n",
              " 'search_Score': 0.6270658935981352,\n",
              " 'url': 'https://www.nic.in/servicecontents/nkn/'}"
            ]
          },
          "execution_count": 111,
          "metadata": {},
          "output_type": "execute_result"
        }
      ],
      "source": [
        "# who is the SIO?\n",
        "response_json"
      ]
    },
    {
      "cell_type": "code",
      "execution_count": null,
      "metadata": {
        "colab": {
          "base_uri": "https://localhost:8080/"
        },
        "id": "iEqlX5JOmQAW",
        "outputId": "fca17acc-55ad-497e-f0d6-b08a053b8f6f"
      },
      "outputs": [
        {
          "data": {
            "text/plain": [
              "{'response': \"According to the provided context information, the events that are covered using NIC Webcast services include:\\n\\n1. Union Budget speech\\n2. President's address to the nation\\n3. Prime Minister's Mann Ki Baat & other speeches\\n4. Independence and Republic Day celebrations at New Delhi\\n5. Air Force Day\\n6. Dance and cultural Festivals\\n7. PIB press conferences\\n8. NIC Knowledge sharing\\n9. NKN events\\n10. Proceedings of state assemblies\\n11. National and international events/conferences such as:\\n\\t* Make in India\\n\\t* Skill India\\n\\t* Start-up India\\n\\t* Digital India\\n\\t* International Yoga Day\",\n",
              " 'search_Score': 0.4722525002107816,\n",
              " 'url': 'https://maharashtra.nic.in/infrastructure/'}"
            ]
          },
          "execution_count": 120,
          "metadata": {},
          "output_type": "execute_result"
        }
      ],
      "source": [
        "# what are the events?\n",
        "response_json"
      ]
    },
    {
      "cell_type": "code",
      "execution_count": null,
      "metadata": {
        "colab": {
          "base_uri": "https://localhost:8080/"
        },
        "id": "3EifoZKupucY",
        "outputId": "51af10e4-f706-45f3-f2e7-72a4d0c329d8"
      },
      "outputs": [
        {
          "data": {
            "text/plain": [
              "{'response': \"Based on the provided context information, I can see that there is no mention of Ms. D. Lakshmi Prasanna's name or designation in the list of scientists and officials. Therefore, it is not possible to determine who her reporting officer would be based on this information alone.\",\n",
              " 'search_Score': 0.7028144708896884,\n",
              " 'url': 'https://maharashtra.nic.in/directory/'}"
            ]
          },
          "execution_count": 167,
          "metadata": {},
          "output_type": "execute_result"
        }
      ],
      "source": [
        "# whom did Ms. D. Lakshmi Prasanna reports to?\n",
        "response_json"
      ]
    },
    {
      "cell_type": "code",
      "execution_count": null,
      "metadata": {
        "colab": {
          "base_uri": "https://localhost:8080/"
        },
        "id": "XbzskJ5wrZJy",
        "outputId": "791a49e1-6645-4780-f7ea-d5e5892e8938"
      },
      "outputs": [
        {
          "data": {
            "text/plain": [
              "{'response': 'The organization structure appears to be a hierarchical structure with various levels of officials and staff. The top-level officials include Scientists-F, who report to higher-level officials such as Scientist-D or Scientist-C. There are also lower-level officials like Section Officers, Senior Secretariat Assistants, Junior Secretariat Assistants, and Staff Car Drivers. Additionally, there are Multitasking Staff and Steno Gr-II personnel.',\n",
              " 'search_Score': 0.47507247362784927,\n",
              " 'url': 'https://maharashtra.nic.in/organization-structure/'}"
            ]
          },
          "execution_count": 154,
          "metadata": {},
          "output_type": "execute_result"
        }
      ],
      "source": [
        "# what is the organization structure?\n",
        "response_json"
      ]
    },
    {
      "cell_type": "code",
      "execution_count": null,
      "metadata": {
        "colab": {
          "base_uri": "https://localhost:8080/"
        },
        "id": "qCfjI0KPtuRx",
        "outputId": "d28de67a-4823-4638-90f3-829e0f8d41a9"
      },
      "outputs": [
        {
          "data": {
            "text/plain": [
              "{'response': 'There is no mention of a photo gallery in the provided context information. The context appears to be related to screen readers and document types, but it does not include any information about a photo gallery. Therefore, I cannot provide an answer to this query based on the given context.',\n",
              " 'search_Score': 0.5215259570020727,\n",
              " 'url': 'https://maharashtra.nic.in/help/'}"
            ]
          },
          "execution_count": 170,
          "metadata": {},
          "output_type": "execute_result"
        }
      ],
      "source": [
        "# who is the reporting officer of Ms. D. Lakshmi Prasanna?\n",
        "response_json"
      ]
    },
    {
      "cell_type": "code",
      "execution_count": null,
      "metadata": {
        "colab": {
          "base_uri": "https://localhost:8080/"
        },
        "id": "LVCBuaYRu6VX",
        "outputId": "7cea008c-c132-42fe-ef08-c0034b4aebf5"
      },
      "outputs": [
        {
          "data": {
            "text/plain": [
              "{'response': 'According to the provided context, the Video Gallery contains videos related to NIC Maharashtra – ICT support during COVID-19.',\n",
              " 'search_Score': 0.5873177463100648,\n",
              " 'url': 'https://maharashtra.nic.in/video-gallery/'}"
            ]
          },
          "execution_count": 182,
          "metadata": {},
          "output_type": "execute_result"
        }
      ],
      "source": [
        "# what is there in the video gallery?\n",
        "response_json"
      ]
    },
    {
      "cell_type": "code",
      "execution_count": null,
      "metadata": {
        "colab": {
          "base_uri": "https://localhost:8080/"
        },
        "id": "lGZQXWElwNyC",
        "outputId": "e4a07ed4-f766-420b-c739-adf4577cb581"
      },
      "outputs": [
        {
          "data": {
            "text/plain": [
              "{'response': 'According to the provided context information, National Informatics Centre (NIC) has been involved in various works, including:\\n\\n1. Establishing High Capacity SCPC VSAT Connectivity at Kavarati, Lakshadweep and Port Blair, Andaman & Nicobar Island.\\n2. Providing Data Centers Services from National Data Centres at Delhi, Hyderabad, Pune, and Bhubaneswar.\\n3. Upgrading the National Data Centre at Delhi with high-speed network backbone, 1.6 Petabyte Enterprise-class storage, high-throughput Network Load Balancers, and Intrusion Prevention Systems.\\n4. Implementing Solution for Backup as a Service & Storage as a Service.\\n5. Hosting/enhancing ICT infrastructure of national-level projects, including E-office, e-Courts, and e-Transport.\\n6. Upgrading Data Centres at Pune and Hyderabad with high-speed network backbone and storage capacity enhanced.\\n7. Renovating the National Data Centre at Hyderabad with a capacity of 106 Racks.\\n8. Launching National Cloud Services under MeghRaj Government of India Cloud Initiative in 2014.\\n9. Providing cloud services from multiple locations of National Data Centres at Bhubaneswar, Delhi, Hyderabad, and Pune.\\n10. Offering various new cloud services, including Application Programme Monitoring (APM) Service, Data Analytics (DA) Service, Resource Monitoring (RM) Service, and Container Service.\\n11. Provisioning over 18,000 Virtual Servers and allocating them to over 1100 Ministries/Departments for e-Governance Projects.\\n12. Establishing Mini-Clouds in four state units and operationalizing them in ten state units of Assam, Bihar, Chandigarh, Chhattisgarh, Haryana, Karnataka, Kerala, Punjab, Rajasthan, and Tripura.\\n13. Setting up the Command and Control Centre (CCC) to monitor the availability of all National Data Centres and Cloud Services.\\n14. Providing users with a customized dashboard of Network Management System (NMS) to enable them to monitor their respective applications.\\n15. Offering Application Performance Management (APM) through CCC to improve the availability, performance, and functioning of critical applications.\\n16. Conducting Security Audit of Data Centres and Bhawan Networks on regular basis and on demand.\\n17. Managing the 24×7 Security Monitoring Centre to ensure real-time monitoring, detection, prevention, analysis, and reporting of Cyber threats and attacks.\\n\\nThese are some of the works done by NIC as per the provided context information.',\n",
              " 'search_Score': 0.6080267829696818,\n",
              " 'url': 'https://www.nic.in/servicecontents/nkn/'}"
            ]
          },
          "execution_count": 234,
          "metadata": {},
          "output_type": "execute_result"
        }
      ],
      "source": [
        "response_json"
      ]
    },
    {
      "cell_type": "markdown",
      "metadata": {
        "id": "80uaD5eQth6R"
      },
      "source": [
        "# Visualizing Reranking"
      ]
    },
    {
      "cell_type": "code",
      "execution_count": null,
      "metadata": {
        "colab": {
          "base_uri": "https://localhost:8080/"
        },
        "id": "g4bgCcGfgRNM",
        "outputId": "0b759adb-9aa8-45d9-dae0-8f3065e021a5"
      },
      "outputs": [
        {
          "name": "stdout",
          "output_type": "stream",
          "text": [
            "<llama_index.core.indices.vector_store.base.VectorStoreIndex object at 0x7ca00054b430>\n"
          ]
        }
      ],
      "source": [
        "persist_dir = \"/content/combined_index\"\n",
        "\n",
        "storage_context = StorageContext.from_defaults(persist_dir=persist_dir)\n",
        "index = load_index_from_storage(storage_context)\n",
        "\n",
        "print(index)"
      ]
    },
    {
      "cell_type": "code",
      "execution_count": null,
      "metadata": {
        "id": "7RZfWEfvtrEX"
      },
      "outputs": [],
      "source": [
        "from llama_index.core.retrievers import VectorIndexRetriever\n",
        "from llama_index.core import QueryBundle\n",
        "import pandas as pd\n",
        "from IPython.display import display, HTML\n",
        "from copy import deepcopy\n",
        "\n",
        "pd.set_option(\"display.max_colwidth\", None)\n",
        "\n",
        "# configure retriever\n",
        "retriever = VectorIndexRetriever(\n",
        "    index=index,\n",
        "    similarity_top_k=10)\n",
        "\n",
        "def get_retrieved_nodes(\n",
        "    query_str, reranker\n",
        "):\n",
        "    query_bundle = QueryBundle(query_str)\n",
        "\n",
        "    retrieved_nodes = retriever.retrieve(query_bundle)\n",
        "\n",
        "    if reranker != \"None\":\n",
        "      retrieved_nodes = reranker.postprocess_nodes(retrieved_nodes, query_bundle)\n",
        "    else:\n",
        "        retrieved_nodes\n",
        "\n",
        "    return retrieved_nodes\n",
        "\n",
        "\n",
        "def pretty_print(df):\n",
        "    return display(HTML(df.to_html().replace(\"\\\\n\", \"<br>\")))\n",
        "\n",
        "\n",
        "def visualize_retrieved_nodes(nodes) -> None:\n",
        "    result_dicts = []\n",
        "    for node in nodes:\n",
        "        node = deepcopy(node)\n",
        "        node.node.metadata = {}\n",
        "        node_text = node.node.get_text()\n",
        "        node_text = node_text.replace(\"\\n\", \" \")\n",
        "\n",
        "        result_dict = {\"Score\": node.score, \"Text\": node_text}\n",
        "        result_dicts.append(result_dict)\n",
        "\n",
        "    pretty_print(pd.DataFrame(result_dicts))"
      ]
    },
    {
      "cell_type": "markdown",
      "metadata": {
        "id": "aLZ6ny6s7DeG"
      },
      "source": [
        "# Comparing with reranker and without reranker"
      ]
    },
    {
      "cell_type": "code",
      "execution_count": null,
      "metadata": {
        "colab": {
          "base_uri": "https://localhost:8080/",
          "height": 211
        },
        "collapsed": true,
        "id": "yMocXTKWaUJ-",
        "outputId": "92d7a8a0-fa1f-4f46-a28b-5f9b2052c183"
      },
      "outputs": [
        {
          "ename": "NameError",
          "evalue": "name 'SentenceTransformerRerank' is not defined",
          "output_type": "error",
          "traceback": [
            "\u001b[0;31m---------------------------------------------------------------------------\u001b[0m",
            "\u001b[0;31mNameError\u001b[0m                                 Traceback (most recent call last)",
            "\u001b[0;32m<ipython-input-4-e73abacd8cca>\u001b[0m in \u001b[0;36m<cell line: 3>\u001b[0;34m()\u001b[0m\n\u001b[1;32m      2\u001b[0m RERANKERS = {\n\u001b[1;32m      3\u001b[0m     \u001b[0;34m\"WithoutReranker\"\u001b[0m\u001b[0;34m:\u001b[0m \u001b[0;34m\"None\"\u001b[0m\u001b[0;34m,\u001b[0m\u001b[0;34m\u001b[0m\u001b[0;34m\u001b[0m\u001b[0m\n\u001b[0;32m----> 4\u001b[0;31m     \u001b[0;34m\"cross-encoder\"\u001b[0m\u001b[0;34m:\u001b[0m \u001b[0mSentenceTransformerRerank\u001b[0m\u001b[0;34m(\u001b[0m\u001b[0mmodel\u001b[0m\u001b[0;34m=\u001b[0m\u001b[0;34m\"cross-encoder/ms-marco-MiniLM-L-2-v2\"\u001b[0m\u001b[0;34m,\u001b[0m \u001b[0mtop_n\u001b[0m\u001b[0;34m=\u001b[0m\u001b[0;36m5\u001b[0m\u001b[0;34m)\u001b[0m\u001b[0;34m,\u001b[0m\u001b[0;34m\u001b[0m\u001b[0;34m\u001b[0m\u001b[0m\n\u001b[0m\u001b[1;32m      5\u001b[0m     \u001b[0;34m\"bge-reranker-large\"\u001b[0m\u001b[0;34m:\u001b[0m \u001b[0mSentenceTransformerRerank\u001b[0m\u001b[0;34m(\u001b[0m\u001b[0mmodel\u001b[0m\u001b[0;34m=\u001b[0m\u001b[0;34m\"BAAI/bge-reranker-large\"\u001b[0m\u001b[0;34m,\u001b[0m \u001b[0mtop_n\u001b[0m\u001b[0;34m=\u001b[0m\u001b[0;36m5\u001b[0m\u001b[0;34m)\u001b[0m\u001b[0;34m\u001b[0m\u001b[0;34m\u001b[0m\u001b[0m\n\u001b[1;32m      6\u001b[0m }\n",
            "\u001b[0;31mNameError\u001b[0m: name 'SentenceTransformerRerank' is not defined"
          ]
        }
      ],
      "source": [
        "# Define all embeddings and rerankers\n",
        "\n",
        "RERANKERS = {\n",
        "    \"WithoutReranker\": \"None\",\n",
        "    \"cross-encoder\": SentenceTransformerRerank(model=\"cross-encoder/ms-marco-MiniLM-L-2-v2\", top_n=5),\n",
        "    \"bge-reranker-large\": SentenceTransformerRerank(model=\"BAAI/bge-reranker-large\", top_n=5)\n",
        "}"
      ]
    },
    {
      "cell_type": "code",
      "execution_count": null,
      "metadata": {
        "colab": {
          "base_uri": "https://localhost:8080/"
        },
        "id": "dBWTZHyRbZDg",
        "outputId": "3d6c49eb-d9eb-4ff2-bb3a-295fdb9b5ba4"
      },
      "outputs": [
        {
          "data": {
            "text/plain": [
              "dict_items([('WithoutReranker', 'None'), ('cross-encoder', SentenceTransformerRerank(callback_manager=<llama_index.core.callbacks.base.CallbackManager object at 0x7ca0e5a8f340>, model='cross-encoder/ms-marco-MiniLM-L-2-v2', top_n=5, device='cuda', keep_retrieval_score=False)), ('bge-reranker-large', SentenceTransformerRerank(callback_manager=<llama_index.core.callbacks.base.CallbackManager object at 0x7c9fec1c8be0>, model='BAAI/bge-reranker-large', top_n=5, device='cuda', keep_retrieval_score=False))])"
            ]
          },
          "execution_count": 54,
          "metadata": {},
          "output_type": "execute_result"
        }
      ],
      "source": [
        "RERANKERS.items()"
      ]
    },
    {
      "cell_type": "code",
      "execution_count": null,
      "metadata": {
        "colab": {
          "base_uri": "https://localhost:8080/",
          "height": 1000
        },
        "collapsed": true,
        "id": "3d9Si4PCiPan",
        "outputId": "44234905-30f9-4811-b3ed-145f5bb30cb0"
      },
      "outputs": [
        {
          "name": "stdout",
          "output_type": "stream",
          "text": [
            "Running Evaluation for Reranker: WithoutReranker\n",
            "Visualize Retrieved Nodes for Reranker: WithoutReranker\n"
          ]
        },
        {
          "data": {
            "text/html": [
              "<table border=\"1\" class=\"dataframe\">\n",
              "  <thead>\n",
              "    <tr style=\"text-align: right;\">\n",
              "      <th></th>\n",
              "      <th>Score</th>\n",
              "      <th>Text</th>\n",
              "    </tr>\n",
              "  </thead>\n",
              "  <tbody>\n",
              "    <tr>\n",
              "      <th>0</th>\n",
              "      <td>0.608027</td>\n",
              "      <td>Page Last Updated Date  :October 30th, 2023                                                             Footer           About this website Terms of use Website policies Sitemap Help Contact Us Feedback Web Information Manager CISO Recruitment           \\t\\t\\t\\t\\t \\t\\t\\t\\t\\t Content Owned and Maintained by National Informatics Centre, Ministry of Electronics &amp; IT (MeitY) | Government of India    Website is Designed, Developed and Hosted by National Informatics Centre,  Ministry of Electronics &amp; IT (MeitY) | Government of India\\t\\t\\t\\t\\t \\t\\t\\t\\t\\t Last Updated: May 27, 2024                             error: Content is protected !!</td>\n",
              "    </tr>\n",
              "    <tr>\n",
              "      <th>1</th>\n",
              "      <td>0.597522</td>\n",
              "      <td>NKN has also established a High Capacity SCPC VSAT Connectivity at Kavarati, Lakshadweep and Port Blair, Andaman &amp; Nicobar Island. Data Centres  NIC provides Data Centers Services from National Data Centres at Delhi, Hyderabad, Pune and Bhubaneswar. National Data Centre (NDC) at Bhubaneswar is a Cloud-enabled data centre which has been offering cloud services to Govt. Departments since its inauguration during 2018. The cloud services are being offered on various flavors of cloud platforms backed by state-of-the-art infrastructure to support the DC operations. NDC Bhubaneswar is also offering co-location services by Govt. Organizations. National Data Centre at Delhi was upgraded with high speed Network backbone, 1.6 Petabyte Enterprise class storage, high throughput Network Load Balancers, and Intrusion Prevention Systems. Solution for Backup as a Service &amp; Storage as a Service has been implemented. ICT infrastructure of number of national level projects was hosted/enhanced; these include E-office, e-Courts and e-Transport. Data centres at Pune &amp; Hyderabad are also upgraded with high speed network backbone and storage capacity enhanced. National Data Centre at Hyderabad is being renovated with a capacity of106 Racks. National Cloud Infrastructure NIC launched National Cloud Services in year 2014 under MeghRaj Government of India Cloud Initiative. NIC Cloud Services are being provided from multiple locations of National Data Centres at Bhubaneswar, Delhi, Hyderabad, and Pune. Various new services are now offered on Cloud including Application Programme Monitoring (APM) Service, Data Analytics (DA) Service, Resource Monitoring (RM) Service and Container Service. In order to cater to the projects envisioned under Digital India Programme and growing requirements of existing Projects, over 18,000 Virtual Servers were provisioned and allocated to over 1100 Ministries/Departments for e-Governance Projects. Establishment of Mini-Clouds in States: NIC already had established Mini Clouds in four state units and are operational. During this year Mini Cloud setups have been made operational in ten state units of Assam, Bihar, Chandigarh, Chhattisgarh, Haryana, Karnataka, Kerala, Punjab, Rajasthan and Tripura. Command and Control Centre NIC has been offering services to the government through its 4 National Data Centres and 30 Mini Data Centres across the country. CCC has been set up keeping in view the requirement of a centralized facility to seamlessly monitor the availability of all these Centres and Cloud Services.Over 10,000 e-Governance applications are being hosted by these Centre’s. CCC is providing users with a customized dashboard of Network Management System (NMS) to enable them to monitor their respective applications. NIC is also providing Application Performance Management (APM) through CCC to improve the availability, performance and functioning of critical applications. Cyber Security Network Security The Network Security Division is in relentless pursuit of achieving CIA (Confidentiality, Integrity, and Availability) of ICT assets in NICNET through deployment of expert manpower, appropriate tools, and state-of-the-art technologies. The Network Security Division (NSD) of NIC is engaged in assessment, planning, deployment and management of security devices and solutions across the NICNET in general and the Data Centres in particular. The security span of NSD comprises of all National and State Data Centres, over 1000 LANs of Govt. offices and MPLS networks, more than 2 Lakh endpoints and a series of networking devices deployed across the country. A dedicated team actively monitors real time attacks on 24×7 basis. The Network Security Division (NSD) conducts Security Audit of Data Centres and Bhawan Networks on regular basis and on demand. Besides, review of the network audit performed by third party vendors in NICNET was also undertaken. Cyber Security Policies, Guidelines, Advisories and Standard Operating Procedure(s) are also being regularly prepared, updated and circulated to the NICNET users. Network Security Division is involved in vulnerability assessment of ICT assets in Physical, Virtual, and Cloud environments at regular intervals and on demand.The Network Security Division manages the 24×7 Security Monitoring Centre to ensure real time monitoring, detection, prevention, analysis and reporting of Cyber threats and attacks. Application Security NIC is formulating and updating the Security Policies for NICNET as and when required. Security Audit of Web Applications / Websites, Penetration Testing and Vulnerability Analysis,SSL compliance testing, Version Detection for application hosting environment with infrastructure compliance checks are also done as per user requirement.</td>\n",
              "    </tr>\n",
              "    <tr>\n",
              "      <th>2</th>\n",
              "      <td>0.596696</td>\n",
              "      <td>Messaging | National Informatics Centre                                                                                     Change Text Size     A + Increase font size\\t\\t\\t\\t\\t\\t     A Reset font size\\t\\t\\t\\t\\t\\t     A - Decrease font size\\t\\t\\t\\t\\t\\t     Change Color Contrast    High Contrast\\t\\t\\t\\t\\t\\t    Normal Contrast\\t\\t\\t\\t\\t\\t     Skip to main content    \\t\\t\\t\\t\\t\\tSkip to main content\\t\\t\\t\\t\\t                                              English  English हिन्दी मराठी ਪੰਜਾਬੀ ગુજરાતી অসমীয়া বাংলা తెలుగు தமிழ் മലയാളം oriya Kannada    Screen Reader Access      search  Search             About Us  Mandate Organization Chart Who’s who Directory Search Timeline Research &amp; Publications RTI Tenders Recruitment Alumni   NIC Offices  Headquarters Data Centres Focus Centres Centres of Excellence State Centres District Centres   Services Products &amp; Platforms  From Centre From State eBrochure   Emerging Technologies Media  eBook Blogs Awards Infographics Infographics SSO Testimonials Informatics Newsletter                     Messaging       Home  »     »  Messaging\\t\\t          Messaging    \\tElectronic Mail (better known as E-Mail), is the most used Network Service across the country. National Informatics Centre (NIC) provides different kinds of E-mail services to its users, over NICNET, which is NIC’s satellite-based communication network. The different types of e-mail services being provided include SMTP, UUCP and X.400. The NICNET e-mail service is distributed over many mail servers located at different NIC Centres. These are inter-linked with each other in a way that mails can be exchanged amongst all types of services.   \\tE-mail can be used as part of the electronic file processing in Government of India. All services under e-mail are offered free of cost to all officials under Ministries / Departments / Statutory Bodies / Autonomous bodies of both Central and State/ UT Governments.   \\tThe E-mail service is also integrated with a X.500 directory which makes it possible to search for and locate e-mail addresses very easily. It is also possible to send fax messages through E-mail since a gateway is provided for conversion of messages for fax recipients.   \\tMails are accepted and sent in NICNET from a single entry point i.e. via the SMTP gateways. Over 8 lakh mails are transacted in a day. Once a mail is accepted in the network, based on its address, it is routed to the recipient server.    \\tMessaging services constitute one of the primary applications deployed across the network. Each network connected to the Internet has a Domain Name associated with it, to ensure email and other traffic getting directed to the right recipient.    \\tIn the case of NICNET, this domain is known as “nic.in”. All emails to the home user are directed to “home.user[at]nic[dot]in” which results in the mail being stored on the NIC mail server, ready to be collected by the home user email client. “Gov.in” domain accounts are also maintained by NIC for use by Government departments.  \\tUnder the Digital India initiative, NIC has established a robust Messaging framework that includes core eMial application Gateway services, Short Messaging Service (SMS), OBD (Outbound Dialing) and an IT Platform for citizen engagement (Sampark). These services collectively create a value chain over the existing NIC web portals that host Digital Services and are used extensively by Central &amp; State Governments for citizen engagement &amp; disseminating information.       Page Last Updated Date  :April 28th, 2023                                                             Footer           About this website Terms of use Website policies Sitemap Help Contact Us Feedback Web Information Manager CISO Recruitment           \\t\\t\\t\\t\\t \\t\\t\\t\\t\\t Content Owned and Maintained by National Informatics Centre, Ministry of Electronics &amp; IT (MeitY) | Government of India    Website is Designed, Developed and Hosted by National Informatics Centre,  Ministry of Electronics &amp; IT (MeitY) | Government of India\\t\\t\\t\\t\\t \\t\\t\\t\\t\\t Last Updated: May 27, 2024                             error: Content is protected !!</td>\n",
              "    </tr>\n",
              "    <tr>\n",
              "      <th>3</th>\n",
              "      <td>0.595926</td>\n",
              "      <td>Page Last Updated Date  :March 22nd, 2024                                                             Footer           About this website Terms of use Website policies Sitemap Help Contact Us Feedback Web Information Manager CISO Recruitment           \\t\\t\\t\\t\\t \\t\\t\\t\\t\\t Content Owned and Maintained by National Informatics Centre, Ministry of Electronics &amp; IT (MeitY) | Government of India    Website is Designed, Developed and Hosted by National Informatics Centre,  Ministry of Electronics &amp; IT (MeitY) | Government of India\\t\\t\\t\\t\\t \\t\\t\\t\\t\\t Last Updated: May 27, 2024                             error: Content is protected !!</td>\n",
              "    </tr>\n",
              "    <tr>\n",
              "      <th>4</th>\n",
              "      <td>0.583055</td>\n",
              "      <td>Name: Shri S.V.Ganjewar Designation: Scientist-F Email: sv[dot]ganjewar[at]nic[dot]in Phone: 0253-23311460 IP Number: 38306</td>\n",
              "    </tr>\n",
              "    <tr>\n",
              "      <th>5</th>\n",
              "      <td>0.581553</td>\n",
              "      <td>Name: Shri Satish Ninoorao Khadse Designation: Scientist-E Email: sn[dot]khadse[at]nic[dot]in Phone: 07172-250530 IP Number: 38241</td>\n",
              "    </tr>\n",
              "    <tr>\n",
              "      <th>6</th>\n",
              "      <td>0.581437</td>\n",
              "      <td>NICNET | National Informatics Centre                                                                                     Change Text Size     A + Increase font size\\t\\t\\t\\t\\t\\t     A Reset font size\\t\\t\\t\\t\\t\\t     A - Decrease font size\\t\\t\\t\\t\\t\\t     Change Color Contrast    High Contrast\\t\\t\\t\\t\\t\\t    Normal Contrast\\t\\t\\t\\t\\t\\t     Skip to main content    \\t\\t\\t\\t\\t\\tSkip to main content\\t\\t\\t\\t\\t                                              English  English हिन्दी मराठी ਪੰਜਾਬੀ ગુજરાતી অসমীয়া বাংলা తెలుగు தமிழ் മലയാളം oriya Kannada    Screen Reader Access      search  Search             About Us  Mandate Organization Chart Who’s who Directory Search Timeline Research &amp; Publications RTI Tenders Recruitment Alumni   NIC Offices  Headquarters Data Centres Focus Centres Centres of Excellence State Centres District Centres   Services Products &amp; Platforms  From Centre From State eBrochure   Emerging Technologies Media  eBook Blogs Awards Infographics Infographics SSO Testimonials Informatics Newsletter                     NICNET       Home  »     »  NICNET\\t\\t          NICNET    \\tNational Informatics Centre (NIC) through its Information and Communication Technology (ICT) Network – NICNET, has institutional linkages across all the Ministries /Departments of the Central Government, State Governments, Union Territories, and District administrations of the country.   \\tThrough NICNET, NIC has been instrumental in steering e-Governance applications in Government Ministries/ Departments at the Centre, States, Districts and Block level, facilitating improvement in Government services, wider transparency, promoting decentralized planning and management, resulting in better efficiency and accountability to the people of India.   \\tDirect peering of NICNET with BSNL, PGCIL and Railtel are completed at Delhi and Hyderabad for saving Internet Bandwidth and faster access of each other’s Network and Data Centre. Peering with Google, Microsoft and Akamai Content Delivery Network has facilitated faster access to Google services and other important International web sites.   \\tRe-structuring of Videoconferencing network has enabled to minimize delay and handle large scale important video conferencing such as PRAGATI of Hon’ble Prime Minister, GST Council Meetings by Hon’ble Finance Minister among others.       Page Last Updated Date  :July 17th, 2023                                                             Footer           About this website Terms of use Website policies Sitemap Help Contact Us Feedback Web Information Manager CISO Recruitment           \\t\\t\\t\\t\\t \\t\\t\\t\\t\\t Content Owned and Maintained by National Informatics Centre, Ministry of Electronics &amp; IT (MeitY) | Government of India    Website is Designed, Developed and Hosted by National Informatics Centre,  Ministry of Electronics &amp; IT (MeitY) | Government of India\\t\\t\\t\\t\\t \\t\\t\\t\\t\\t Last Updated: May 27, 2024                             error: Content is protected !!</td>\n",
              "    </tr>\n",
              "    <tr>\n",
              "      <th>7</th>\n",
              "      <td>0.577655</td>\n",
              "      <td>Page Last Updated Date  :March 19th, 2024                                                             Footer           About this website Terms of use Website policies Sitemap Help Contact Us Feedback Web Information Manager CISO Recruitment           \\t\\t\\t\\t\\t \\t\\t\\t\\t\\t Content Owned and Maintained by National Informatics Centre, Ministry of Electronics &amp; IT (MeitY) | Government of India    Website is Designed, Developed and Hosted by National Informatics Centre,  Ministry of Electronics &amp; IT (MeitY) | Government of India\\t\\t\\t\\t\\t \\t\\t\\t\\t\\t Last Updated: May 27, 2024                             error: Content is protected !!</td>\n",
              "    </tr>\n",
              "    <tr>\n",
              "      <th>8</th>\n",
              "      <td>0.576371</td>\n",
              "      <td>Name: Dr. Nitin Vishnu Choudhari Designation: Scientist-E Email: nv[dot]choudhari[at]nic[dot]in Phone: 07152-245087 IP Number: 38366</td>\n",
              "    </tr>\n",
              "    <tr>\n",
              "      <th>9</th>\n",
              "      <td>0.575196</td>\n",
              "      <td>Shri Surendra Purushottam Patil  (DIO)  Scientist-C    surendra[dot]patil[at]nic[dot]in  IP Number : 38302                                    Nasik                                Shri S.V.Ganjewar  (DIO)  Scientist-F    0253-23311460  sv[dot]ganjewar[at]nic[dot]in  IP Number : 38306   NIC-DISTRICT CENTER, COLLECTOR OFFICE, SECOND FLOOR, , COLLECTOR OFFICE , NEAR CBS, OLD AGRA ROAD, 422002                                                                 Shri Raghuveer Singh   Scientific/Technical Assistant-A    raghuveer[dot]s02[at]nic[dot]in  IP Number : 38307   1, , , , COLLECTOR OFFICE, NASHIK, 422001                                                                                                 Osmanabad                                Shri Purushottam Nandkishor Rukme  (DIO)  Scientist-C    02472-220233  pn[dot]rukme[at]nic[dot]in  IP Number : 38312   1ST FLOOR, NIC DEPARTMENT, COLLECTOR OFFICE, DHARASHIV, 413501                                                                                                 Palghar                                Shri Khadayate Yogesh Arvind  (DIO)  Scientist-F    02525-299117  y[dot]khadayate[at]nic[dot]in  IP Number : 38316   217, , SECOND FLOOR, COLLECTOR OFFICE, COLLECTOR AND DM BUILDING, KOLGAON, PALGHAR, 401404                                                                                                 Parbhani                                Shri Sunil Digambarro Rao Potekar  (DIO)  Scientist-F    02452-223528  sd[dot]potekar[at]nic[dot]in  IP Number : 38321   I, I, COLLECTOR OFFICE, PARBHANI, 431401                                                                                                 Pune District                                Ms. Ashwini B.Karmarkar  (DIO)  Scientist-E    020-26129948  ab[dot]karmarkar[at]nic[dot]in  IP Number : 38327   NIC, -, FIFTH FLOOR, FIFTH FLOOR, COLLECTOR OFFICE BUILDING, PUNE, 411001                                                                                                 Raigad                                Shri Nilesh Nivrutti Landge   Scientific/Technical Assistant-B    nilesh[dot]landge[at]nic[dot]in  IP Number : 38332                                    Ratnagiri                                Shri Peerjade Mahamadshahid Vajidahamad  (DIO)  Scientist-C    02352-223757  mv[dot]peerjade[at]nic[dot]in  IP Number : 38337   COLLECTOR OFFICE, RATNAGIRI, 415612                                                                                                 Sangli                                Shri Patel Yasin Usmansab  (DIO)  Scientist-D    0233-2600600  sayyed[dot]yasin[at]nic[dot]in  IP Number : 38341   NATIONAL INFORMATICS CENTRE, , GROUND FLOOR, VIJAYNAGAR, COLLECTOR OFFICE, SANGLI, 416415                                                                                                 Satara                                Shri S.K. Kulkarni  (DIO)  Scientist-E    sanjeev[dot]k[at]nic[dot]in  IP Number : 38346   1, , THIRD, GANESHKHIND ROAD, NATIONAL INFORMATICS CENTRE, SATARA, 415001                                                                                                 Sindhu Durg                                Shri Antony Thomas A.  (DIO)  Scientist-D    02362-228822  aa[dot]thomas[at]nic[dot]in  IP Number : 38351   219, , FIRST, , COLLECTORATE BUILDING OROS, SINDHU DURG, 416812                                                                                                 Solapur                                Shri Utkarsh Madhukar Honkalse  (DIO)  Scientist-E    0217-2722782  um[dot]honkalse[at]nic[dot]in  IP Number : 38357   NIC, , SECOND, COLLECTOR OFFICE, FIRST FLOOR MAHSOOL BHAVAN DIST COLLECTOR OFFICE, SAAT RASTA SOLAPUR, 413004                                                                                                 Thane</td>\n",
              "    </tr>\n",
              "  </tbody>\n",
              "</table>"
            ],
            "text/plain": [
              "<IPython.core.display.HTML object>"
            ]
          },
          "metadata": {},
          "output_type": "display_data"
        },
        {
          "name": "stdout",
          "output_type": "stream",
          "text": [
            "Running Evaluation for Reranker: cross-encoder\n",
            "Visualize Retrieved Nodes for Reranker: cross-encoder\n"
          ]
        },
        {
          "data": {
            "text/html": [
              "<table border=\"1\" class=\"dataframe\">\n",
              "  <thead>\n",
              "    <tr style=\"text-align: right;\">\n",
              "      <th></th>\n",
              "      <th>Score</th>\n",
              "      <th>Text</th>\n",
              "    </tr>\n",
              "  </thead>\n",
              "  <tbody>\n",
              "    <tr>\n",
              "      <th>0</th>\n",
              "      <td>-2.399898</td>\n",
              "      <td>NICNET | National Informatics Centre                                                                                     Change Text Size     A + Increase font size\\t\\t\\t\\t\\t\\t     A Reset font size\\t\\t\\t\\t\\t\\t     A - Decrease font size\\t\\t\\t\\t\\t\\t     Change Color Contrast    High Contrast\\t\\t\\t\\t\\t\\t    Normal Contrast\\t\\t\\t\\t\\t\\t     Skip to main content    \\t\\t\\t\\t\\t\\tSkip to main content\\t\\t\\t\\t\\t                                              English  English हिन्दी मराठी ਪੰਜਾਬੀ ગુજરાતી অসমীয়া বাংলা తెలుగు தமிழ் മലയാളം oriya Kannada    Screen Reader Access      search  Search             About Us  Mandate Organization Chart Who’s who Directory Search Timeline Research &amp; Publications RTI Tenders Recruitment Alumni   NIC Offices  Headquarters Data Centres Focus Centres Centres of Excellence State Centres District Centres   Services Products &amp; Platforms  From Centre From State eBrochure   Emerging Technologies Media  eBook Blogs Awards Infographics Infographics SSO Testimonials Informatics Newsletter                     NICNET       Home  »     »  NICNET\\t\\t          NICNET    \\tNational Informatics Centre (NIC) through its Information and Communication Technology (ICT) Network – NICNET, has institutional linkages across all the Ministries /Departments of the Central Government, State Governments, Union Territories, and District administrations of the country.   \\tThrough NICNET, NIC has been instrumental in steering e-Governance applications in Government Ministries/ Departments at the Centre, States, Districts and Block level, facilitating improvement in Government services, wider transparency, promoting decentralized planning and management, resulting in better efficiency and accountability to the people of India.   \\tDirect peering of NICNET with BSNL, PGCIL and Railtel are completed at Delhi and Hyderabad for saving Internet Bandwidth and faster access of each other’s Network and Data Centre. Peering with Google, Microsoft and Akamai Content Delivery Network has facilitated faster access to Google services and other important International web sites.   \\tRe-structuring of Videoconferencing network has enabled to minimize delay and handle large scale important video conferencing such as PRAGATI of Hon’ble Prime Minister, GST Council Meetings by Hon’ble Finance Minister among others.       Page Last Updated Date  :July 17th, 2023                                                             Footer           About this website Terms of use Website policies Sitemap Help Contact Us Feedback Web Information Manager CISO Recruitment           \\t\\t\\t\\t\\t \\t\\t\\t\\t\\t Content Owned and Maintained by National Informatics Centre, Ministry of Electronics &amp; IT (MeitY) | Government of India    Website is Designed, Developed and Hosted by National Informatics Centre,  Ministry of Electronics &amp; IT (MeitY) | Government of India\\t\\t\\t\\t\\t \\t\\t\\t\\t\\t Last Updated: May 27, 2024                             error: Content is protected !!</td>\n",
              "    </tr>\n",
              "    <tr>\n",
              "      <th>1</th>\n",
              "      <td>-3.689135</td>\n",
              "      <td>Messaging | National Informatics Centre                                                                                     Change Text Size     A + Increase font size\\t\\t\\t\\t\\t\\t     A Reset font size\\t\\t\\t\\t\\t\\t     A - Decrease font size\\t\\t\\t\\t\\t\\t     Change Color Contrast    High Contrast\\t\\t\\t\\t\\t\\t    Normal Contrast\\t\\t\\t\\t\\t\\t     Skip to main content    \\t\\t\\t\\t\\t\\tSkip to main content\\t\\t\\t\\t\\t                                              English  English हिन्दी मराठी ਪੰਜਾਬੀ ગુજરાતી অসমীয়া বাংলা తెలుగు தமிழ் മലയാളം oriya Kannada    Screen Reader Access      search  Search             About Us  Mandate Organization Chart Who’s who Directory Search Timeline Research &amp; Publications RTI Tenders Recruitment Alumni   NIC Offices  Headquarters Data Centres Focus Centres Centres of Excellence State Centres District Centres   Services Products &amp; Platforms  From Centre From State eBrochure   Emerging Technologies Media  eBook Blogs Awards Infographics Infographics SSO Testimonials Informatics Newsletter                     Messaging       Home  »     »  Messaging\\t\\t          Messaging    \\tElectronic Mail (better known as E-Mail), is the most used Network Service across the country. National Informatics Centre (NIC) provides different kinds of E-mail services to its users, over NICNET, which is NIC’s satellite-based communication network. The different types of e-mail services being provided include SMTP, UUCP and X.400. The NICNET e-mail service is distributed over many mail servers located at different NIC Centres. These are inter-linked with each other in a way that mails can be exchanged amongst all types of services.   \\tE-mail can be used as part of the electronic file processing in Government of India. All services under e-mail are offered free of cost to all officials under Ministries / Departments / Statutory Bodies / Autonomous bodies of both Central and State/ UT Governments.   \\tThe E-mail service is also integrated with a X.500 directory which makes it possible to search for and locate e-mail addresses very easily. It is also possible to send fax messages through E-mail since a gateway is provided for conversion of messages for fax recipients.   \\tMails are accepted and sent in NICNET from a single entry point i.e. via the SMTP gateways. Over 8 lakh mails are transacted in a day. Once a mail is accepted in the network, based on its address, it is routed to the recipient server.    \\tMessaging services constitute one of the primary applications deployed across the network. Each network connected to the Internet has a Domain Name associated with it, to ensure email and other traffic getting directed to the right recipient.    \\tIn the case of NICNET, this domain is known as “nic.in”. All emails to the home user are directed to “home.user[at]nic[dot]in” which results in the mail being stored on the NIC mail server, ready to be collected by the home user email client. “Gov.in” domain accounts are also maintained by NIC for use by Government departments.  \\tUnder the Digital India initiative, NIC has established a robust Messaging framework that includes core eMial application Gateway services, Short Messaging Service (SMS), OBD (Outbound Dialing) and an IT Platform for citizen engagement (Sampark). These services collectively create a value chain over the existing NIC web portals that host Digital Services and are used extensively by Central &amp; State Governments for citizen engagement &amp; disseminating information.       Page Last Updated Date  :April 28th, 2023                                                             Footer           About this website Terms of use Website policies Sitemap Help Contact Us Feedback Web Information Manager CISO Recruitment           \\t\\t\\t\\t\\t \\t\\t\\t\\t\\t Content Owned and Maintained by National Informatics Centre, Ministry of Electronics &amp; IT (MeitY) | Government of India    Website is Designed, Developed and Hosted by National Informatics Centre,  Ministry of Electronics &amp; IT (MeitY) | Government of India\\t\\t\\t\\t\\t \\t\\t\\t\\t\\t Last Updated: May 27, 2024                             error: Content is protected !!</td>\n",
              "    </tr>\n",
              "    <tr>\n",
              "      <th>2</th>\n",
              "      <td>-4.641734</td>\n",
              "      <td>NKN has also established a High Capacity SCPC VSAT Connectivity at Kavarati, Lakshadweep and Port Blair, Andaman &amp; Nicobar Island. Data Centres  NIC provides Data Centers Services from National Data Centres at Delhi, Hyderabad, Pune and Bhubaneswar. National Data Centre (NDC) at Bhubaneswar is a Cloud-enabled data centre which has been offering cloud services to Govt. Departments since its inauguration during 2018. The cloud services are being offered on various flavors of cloud platforms backed by state-of-the-art infrastructure to support the DC operations. NDC Bhubaneswar is also offering co-location services by Govt. Organizations. National Data Centre at Delhi was upgraded with high speed Network backbone, 1.6 Petabyte Enterprise class storage, high throughput Network Load Balancers, and Intrusion Prevention Systems. Solution for Backup as a Service &amp; Storage as a Service has been implemented. ICT infrastructure of number of national level projects was hosted/enhanced; these include E-office, e-Courts and e-Transport. Data centres at Pune &amp; Hyderabad are also upgraded with high speed network backbone and storage capacity enhanced. National Data Centre at Hyderabad is being renovated with a capacity of106 Racks. National Cloud Infrastructure NIC launched National Cloud Services in year 2014 under MeghRaj Government of India Cloud Initiative. NIC Cloud Services are being provided from multiple locations of National Data Centres at Bhubaneswar, Delhi, Hyderabad, and Pune. Various new services are now offered on Cloud including Application Programme Monitoring (APM) Service, Data Analytics (DA) Service, Resource Monitoring (RM) Service and Container Service. In order to cater to the projects envisioned under Digital India Programme and growing requirements of existing Projects, over 18,000 Virtual Servers were provisioned and allocated to over 1100 Ministries/Departments for e-Governance Projects. Establishment of Mini-Clouds in States: NIC already had established Mini Clouds in four state units and are operational. During this year Mini Cloud setups have been made operational in ten state units of Assam, Bihar, Chandigarh, Chhattisgarh, Haryana, Karnataka, Kerala, Punjab, Rajasthan and Tripura. Command and Control Centre NIC has been offering services to the government through its 4 National Data Centres and 30 Mini Data Centres across the country. CCC has been set up keeping in view the requirement of a centralized facility to seamlessly monitor the availability of all these Centres and Cloud Services.Over 10,000 e-Governance applications are being hosted by these Centre’s. CCC is providing users with a customized dashboard of Network Management System (NMS) to enable them to monitor their respective applications. NIC is also providing Application Performance Management (APM) through CCC to improve the availability, performance and functioning of critical applications. Cyber Security Network Security The Network Security Division is in relentless pursuit of achieving CIA (Confidentiality, Integrity, and Availability) of ICT assets in NICNET through deployment of expert manpower, appropriate tools, and state-of-the-art technologies. The Network Security Division (NSD) of NIC is engaged in assessment, planning, deployment and management of security devices and solutions across the NICNET in general and the Data Centres in particular. The security span of NSD comprises of all National and State Data Centres, over 1000 LANs of Govt. offices and MPLS networks, more than 2 Lakh endpoints and a series of networking devices deployed across the country. A dedicated team actively monitors real time attacks on 24×7 basis. The Network Security Division (NSD) conducts Security Audit of Data Centres and Bhawan Networks on regular basis and on demand. Besides, review of the network audit performed by third party vendors in NICNET was also undertaken. Cyber Security Policies, Guidelines, Advisories and Standard Operating Procedure(s) are also being regularly prepared, updated and circulated to the NICNET users. Network Security Division is involved in vulnerability assessment of ICT assets in Physical, Virtual, and Cloud environments at regular intervals and on demand.The Network Security Division manages the 24×7 Security Monitoring Centre to ensure real time monitoring, detection, prevention, analysis and reporting of Cyber threats and attacks. Application Security NIC is formulating and updating the Security Policies for NICNET as and when required. Security Audit of Web Applications / Websites, Penetration Testing and Vulnerability Analysis,SSL compliance testing, Version Detection for application hosting environment with infrastructure compliance checks are also done as per user requirement.</td>\n",
              "    </tr>\n",
              "    <tr>\n",
              "      <th>3</th>\n",
              "      <td>-6.632578</td>\n",
              "      <td>Page Last Updated Date  :October 30th, 2023                                                             Footer           About this website Terms of use Website policies Sitemap Help Contact Us Feedback Web Information Manager CISO Recruitment           \\t\\t\\t\\t\\t \\t\\t\\t\\t\\t Content Owned and Maintained by National Informatics Centre, Ministry of Electronics &amp; IT (MeitY) | Government of India    Website is Designed, Developed and Hosted by National Informatics Centre,  Ministry of Electronics &amp; IT (MeitY) | Government of India\\t\\t\\t\\t\\t \\t\\t\\t\\t\\t Last Updated: May 27, 2024                             error: Content is protected !!</td>\n",
              "    </tr>\n",
              "    <tr>\n",
              "      <th>4</th>\n",
              "      <td>-6.703731</td>\n",
              "      <td>Page Last Updated Date  :March 22nd, 2024                                                             Footer           About this website Terms of use Website policies Sitemap Help Contact Us Feedback Web Information Manager CISO Recruitment           \\t\\t\\t\\t\\t \\t\\t\\t\\t\\t Content Owned and Maintained by National Informatics Centre, Ministry of Electronics &amp; IT (MeitY) | Government of India    Website is Designed, Developed and Hosted by National Informatics Centre,  Ministry of Electronics &amp; IT (MeitY) | Government of India\\t\\t\\t\\t\\t \\t\\t\\t\\t\\t Last Updated: May 27, 2024                             error: Content is protected !!</td>\n",
              "    </tr>\n",
              "  </tbody>\n",
              "</table>"
            ],
            "text/plain": [
              "<IPython.core.display.HTML object>"
            ]
          },
          "metadata": {},
          "output_type": "display_data"
        },
        {
          "name": "stdout",
          "output_type": "stream",
          "text": [
            "Running Evaluation for Reranker: bge-reranker-large\n",
            "Visualize Retrieved Nodes for Reranker: bge-reranker-large\n"
          ]
        },
        {
          "data": {
            "text/html": [
              "<table border=\"1\" class=\"dataframe\">\n",
              "  <thead>\n",
              "    <tr style=\"text-align: right;\">\n",
              "      <th></th>\n",
              "      <th>Score</th>\n",
              "      <th>Text</th>\n",
              "    </tr>\n",
              "  </thead>\n",
              "  <tbody>\n",
              "    <tr>\n",
              "      <th>0</th>\n",
              "      <td>0.294791</td>\n",
              "      <td>Messaging | National Informatics Centre                                                                                     Change Text Size     A + Increase font size\\t\\t\\t\\t\\t\\t     A Reset font size\\t\\t\\t\\t\\t\\t     A - Decrease font size\\t\\t\\t\\t\\t\\t     Change Color Contrast    High Contrast\\t\\t\\t\\t\\t\\t    Normal Contrast\\t\\t\\t\\t\\t\\t     Skip to main content    \\t\\t\\t\\t\\t\\tSkip to main content\\t\\t\\t\\t\\t                                              English  English हिन्दी मराठी ਪੰਜਾਬੀ ગુજરાતી অসমীয়া বাংলা తెలుగు தமிழ் മലയാളം oriya Kannada    Screen Reader Access      search  Search             About Us  Mandate Organization Chart Who’s who Directory Search Timeline Research &amp; Publications RTI Tenders Recruitment Alumni   NIC Offices  Headquarters Data Centres Focus Centres Centres of Excellence State Centres District Centres   Services Products &amp; Platforms  From Centre From State eBrochure   Emerging Technologies Media  eBook Blogs Awards Infographics Infographics SSO Testimonials Informatics Newsletter                     Messaging       Home  »     »  Messaging\\t\\t          Messaging    \\tElectronic Mail (better known as E-Mail), is the most used Network Service across the country. National Informatics Centre (NIC) provides different kinds of E-mail services to its users, over NICNET, which is NIC’s satellite-based communication network. The different types of e-mail services being provided include SMTP, UUCP and X.400. The NICNET e-mail service is distributed over many mail servers located at different NIC Centres. These are inter-linked with each other in a way that mails can be exchanged amongst all types of services.   \\tE-mail can be used as part of the electronic file processing in Government of India. All services under e-mail are offered free of cost to all officials under Ministries / Departments / Statutory Bodies / Autonomous bodies of both Central and State/ UT Governments.   \\tThe E-mail service is also integrated with a X.500 directory which makes it possible to search for and locate e-mail addresses very easily. It is also possible to send fax messages through E-mail since a gateway is provided for conversion of messages for fax recipients.   \\tMails are accepted and sent in NICNET from a single entry point i.e. via the SMTP gateways. Over 8 lakh mails are transacted in a day. Once a mail is accepted in the network, based on its address, it is routed to the recipient server.    \\tMessaging services constitute one of the primary applications deployed across the network. Each network connected to the Internet has a Domain Name associated with it, to ensure email and other traffic getting directed to the right recipient.    \\tIn the case of NICNET, this domain is known as “nic.in”. All emails to the home user are directed to “home.user[at]nic[dot]in” which results in the mail being stored on the NIC mail server, ready to be collected by the home user email client. “Gov.in” domain accounts are also maintained by NIC for use by Government departments.  \\tUnder the Digital India initiative, NIC has established a robust Messaging framework that includes core eMial application Gateway services, Short Messaging Service (SMS), OBD (Outbound Dialing) and an IT Platform for citizen engagement (Sampark). These services collectively create a value chain over the existing NIC web portals that host Digital Services and are used extensively by Central &amp; State Governments for citizen engagement &amp; disseminating information.       Page Last Updated Date  :April 28th, 2023                                                             Footer           About this website Terms of use Website policies Sitemap Help Contact Us Feedback Web Information Manager CISO Recruitment           \\t\\t\\t\\t\\t \\t\\t\\t\\t\\t Content Owned and Maintained by National Informatics Centre, Ministry of Electronics &amp; IT (MeitY) | Government of India    Website is Designed, Developed and Hosted by National Informatics Centre,  Ministry of Electronics &amp; IT (MeitY) | Government of India\\t\\t\\t\\t\\t \\t\\t\\t\\t\\t Last Updated: May 27, 2024                             error: Content is protected !!</td>\n",
              "    </tr>\n",
              "    <tr>\n",
              "      <th>1</th>\n",
              "      <td>0.271061</td>\n",
              "      <td>NICNET | National Informatics Centre                                                                                     Change Text Size     A + Increase font size\\t\\t\\t\\t\\t\\t     A Reset font size\\t\\t\\t\\t\\t\\t     A - Decrease font size\\t\\t\\t\\t\\t\\t     Change Color Contrast    High Contrast\\t\\t\\t\\t\\t\\t    Normal Contrast\\t\\t\\t\\t\\t\\t     Skip to main content    \\t\\t\\t\\t\\t\\tSkip to main content\\t\\t\\t\\t\\t                                              English  English हिन्दी मराठी ਪੰਜਾਬੀ ગુજરાતી অসমীয়া বাংলা తెలుగు தமிழ் മലയാളം oriya Kannada    Screen Reader Access      search  Search             About Us  Mandate Organization Chart Who’s who Directory Search Timeline Research &amp; Publications RTI Tenders Recruitment Alumni   NIC Offices  Headquarters Data Centres Focus Centres Centres of Excellence State Centres District Centres   Services Products &amp; Platforms  From Centre From State eBrochure   Emerging Technologies Media  eBook Blogs Awards Infographics Infographics SSO Testimonials Informatics Newsletter                     NICNET       Home  »     »  NICNET\\t\\t          NICNET    \\tNational Informatics Centre (NIC) through its Information and Communication Technology (ICT) Network – NICNET, has institutional linkages across all the Ministries /Departments of the Central Government, State Governments, Union Territories, and District administrations of the country.   \\tThrough NICNET, NIC has been instrumental in steering e-Governance applications in Government Ministries/ Departments at the Centre, States, Districts and Block level, facilitating improvement in Government services, wider transparency, promoting decentralized planning and management, resulting in better efficiency and accountability to the people of India.   \\tDirect peering of NICNET with BSNL, PGCIL and Railtel are completed at Delhi and Hyderabad for saving Internet Bandwidth and faster access of each other’s Network and Data Centre. Peering with Google, Microsoft and Akamai Content Delivery Network has facilitated faster access to Google services and other important International web sites.   \\tRe-structuring of Videoconferencing network has enabled to minimize delay and handle large scale important video conferencing such as PRAGATI of Hon’ble Prime Minister, GST Council Meetings by Hon’ble Finance Minister among others.       Page Last Updated Date  :July 17th, 2023                                                             Footer           About this website Terms of use Website policies Sitemap Help Contact Us Feedback Web Information Manager CISO Recruitment           \\t\\t\\t\\t\\t \\t\\t\\t\\t\\t Content Owned and Maintained by National Informatics Centre, Ministry of Electronics &amp; IT (MeitY) | Government of India    Website is Designed, Developed and Hosted by National Informatics Centre,  Ministry of Electronics &amp; IT (MeitY) | Government of India\\t\\t\\t\\t\\t \\t\\t\\t\\t\\t Last Updated: May 27, 2024                             error: Content is protected !!</td>\n",
              "    </tr>\n",
              "    <tr>\n",
              "      <th>2</th>\n",
              "      <td>0.115074</td>\n",
              "      <td>NKN has also established a High Capacity SCPC VSAT Connectivity at Kavarati, Lakshadweep and Port Blair, Andaman &amp; Nicobar Island. Data Centres  NIC provides Data Centers Services from National Data Centres at Delhi, Hyderabad, Pune and Bhubaneswar. National Data Centre (NDC) at Bhubaneswar is a Cloud-enabled data centre which has been offering cloud services to Govt. Departments since its inauguration during 2018. The cloud services are being offered on various flavors of cloud platforms backed by state-of-the-art infrastructure to support the DC operations. NDC Bhubaneswar is also offering co-location services by Govt. Organizations. National Data Centre at Delhi was upgraded with high speed Network backbone, 1.6 Petabyte Enterprise class storage, high throughput Network Load Balancers, and Intrusion Prevention Systems. Solution for Backup as a Service &amp; Storage as a Service has been implemented. ICT infrastructure of number of national level projects was hosted/enhanced; these include E-office, e-Courts and e-Transport. Data centres at Pune &amp; Hyderabad are also upgraded with high speed network backbone and storage capacity enhanced. National Data Centre at Hyderabad is being renovated with a capacity of106 Racks. National Cloud Infrastructure NIC launched National Cloud Services in year 2014 under MeghRaj Government of India Cloud Initiative. NIC Cloud Services are being provided from multiple locations of National Data Centres at Bhubaneswar, Delhi, Hyderabad, and Pune. Various new services are now offered on Cloud including Application Programme Monitoring (APM) Service, Data Analytics (DA) Service, Resource Monitoring (RM) Service and Container Service. In order to cater to the projects envisioned under Digital India Programme and growing requirements of existing Projects, over 18,000 Virtual Servers were provisioned and allocated to over 1100 Ministries/Departments for e-Governance Projects. Establishment of Mini-Clouds in States: NIC already had established Mini Clouds in four state units and are operational. During this year Mini Cloud setups have been made operational in ten state units of Assam, Bihar, Chandigarh, Chhattisgarh, Haryana, Karnataka, Kerala, Punjab, Rajasthan and Tripura. Command and Control Centre NIC has been offering services to the government through its 4 National Data Centres and 30 Mini Data Centres across the country. CCC has been set up keeping in view the requirement of a centralized facility to seamlessly monitor the availability of all these Centres and Cloud Services.Over 10,000 e-Governance applications are being hosted by these Centre’s. CCC is providing users with a customized dashboard of Network Management System (NMS) to enable them to monitor their respective applications. NIC is also providing Application Performance Management (APM) through CCC to improve the availability, performance and functioning of critical applications. Cyber Security Network Security The Network Security Division is in relentless pursuit of achieving CIA (Confidentiality, Integrity, and Availability) of ICT assets in NICNET through deployment of expert manpower, appropriate tools, and state-of-the-art technologies. The Network Security Division (NSD) of NIC is engaged in assessment, planning, deployment and management of security devices and solutions across the NICNET in general and the Data Centres in particular. The security span of NSD comprises of all National and State Data Centres, over 1000 LANs of Govt. offices and MPLS networks, more than 2 Lakh endpoints and a series of networking devices deployed across the country. A dedicated team actively monitors real time attacks on 24×7 basis. The Network Security Division (NSD) conducts Security Audit of Data Centres and Bhawan Networks on regular basis and on demand. Besides, review of the network audit performed by third party vendors in NICNET was also undertaken. Cyber Security Policies, Guidelines, Advisories and Standard Operating Procedure(s) are also being regularly prepared, updated and circulated to the NICNET users. Network Security Division is involved in vulnerability assessment of ICT assets in Physical, Virtual, and Cloud environments at regular intervals and on demand.The Network Security Division manages the 24×7 Security Monitoring Centre to ensure real time monitoring, detection, prevention, analysis and reporting of Cyber threats and attacks. Application Security NIC is formulating and updating the Security Policies for NICNET as and when required. Security Audit of Web Applications / Websites, Penetration Testing and Vulnerability Analysis,SSL compliance testing, Version Detection for application hosting environment with infrastructure compliance checks are also done as per user requirement.</td>\n",
              "    </tr>\n",
              "    <tr>\n",
              "      <th>3</th>\n",
              "      <td>0.001937</td>\n",
              "      <td>Page Last Updated Date  :March 19th, 2024                                                             Footer           About this website Terms of use Website policies Sitemap Help Contact Us Feedback Web Information Manager CISO Recruitment           \\t\\t\\t\\t\\t \\t\\t\\t\\t\\t Content Owned and Maintained by National Informatics Centre, Ministry of Electronics &amp; IT (MeitY) | Government of India    Website is Designed, Developed and Hosted by National Informatics Centre,  Ministry of Electronics &amp; IT (MeitY) | Government of India\\t\\t\\t\\t\\t \\t\\t\\t\\t\\t Last Updated: May 27, 2024                             error: Content is protected !!</td>\n",
              "    </tr>\n",
              "    <tr>\n",
              "      <th>4</th>\n",
              "      <td>0.001858</td>\n",
              "      <td>Page Last Updated Date  :March 22nd, 2024                                                             Footer           About this website Terms of use Website policies Sitemap Help Contact Us Feedback Web Information Manager CISO Recruitment           \\t\\t\\t\\t\\t \\t\\t\\t\\t\\t Content Owned and Maintained by National Informatics Centre, Ministry of Electronics &amp; IT (MeitY) | Government of India    Website is Designed, Developed and Hosted by National Informatics Centre,  Ministry of Electronics &amp; IT (MeitY) | Government of India\\t\\t\\t\\t\\t \\t\\t\\t\\t\\t Last Updated: May 27, 2024                             error: Content is protected !!</td>\n",
              "    </tr>\n",
              "  </tbody>\n",
              "</table>"
            ],
            "text/plain": [
              "<IPython.core.display.HTML object>"
            ]
          },
          "metadata": {},
          "output_type": "display_data"
        }
      ],
      "source": [
        "query_str = \"what are the works done by NIC?\"\n",
        "\n",
        "# Loop over rerankers\n",
        "for rerank_name, reranker in RERANKERS.items():\n",
        "    print(f\"Running Evaluation for Reranker: {rerank_name}\")\n",
        "\n",
        "    query_bundle = QueryBundle(query_str)\n",
        "\n",
        "    retrieved_nodes = retriever.retrieve(query_bundle)\n",
        "\n",
        "    if reranker != \"None\":\n",
        "      retrieved_nodes = reranker.postprocess_nodes(retrieved_nodes, query_bundle)\n",
        "    else:\n",
        "        retrieved_nodes\n",
        "\n",
        "    print(f\"Visualize Retrieved Nodes for Reranker: {rerank_name}\")\n",
        "    visualize_retrieved_nodes(retrieved_nodes)"
      ]
    },
    {
      "cell_type": "markdown",
      "metadata": {
        "id": "bWeeOMrloYJN"
      },
      "source": [
        "# Testing Query_engine with Rerank"
      ]
    },
    {
      "cell_type": "code",
      "execution_count": 51,
      "metadata": {
        "id": "j1CvXpY1_sn-"
      },
      "outputs": [],
      "source": [
        "file_to_url_mapping = {'news_updates.docx': 'https://maharashtra.nic.in/news-update/',\n",
        "'Nic.docx': 'https://maharashtra.nic.in/',\n",
        "'districts.docx': 'https://maharashtra.nic.in/district-centres/',\n",
        "'events.docx': 'https://maharashtra.nic.in/events/',\n",
        "'services.docx': 'https://maharashtra.nic.in/services/',\n",
        "'photo_gallery.docx': 'https://maharashtra.nic.in/photo-gallery/',\n",
        "'Screen Reader Information.csv': 'https://maharashtra.nic.in/help/',\n",
        " 'Plug-in for alternate document types.csv': 'https://maharashtra.nic.in/help/',\n",
        "'SIO (State Informatics Officer).csv': 'https://maharashtra.nic.in/directory/',\n",
        " 'Maharashtra State Centre, Mumbai.csv': 'https://maharashtra.nic.in/directory/',\n",
        " 'Ahmadnagar.csv': 'https://maharashtra.nic.in/directory/',\n",
        " 'Akola.csv': 'https://maharashtra.nic.in/directory/',\n",
        " 'Amravati.csv': 'https://maharashtra.nic.in/directory/',\n",
        " 'Aurangabad.csv': 'https://maharashtra.nic.in/directory/',\n",
        " 'Beed.csv': 'https://maharashtra.nic.in/directory/',\n",
        " 'Bhandara.csv': 'https://maharashtra.nic.in/directory/',\n",
        " 'Buldana.csv': 'https://maharashtra.nic.in/directory/',\n",
        " 'Chandrapur.csv': 'https://maharashtra.nic.in/directory/',\n",
        " 'Dhule.csv': 'https://maharashtra.nic.in/directory/',\n",
        "'District Centres (final test).csv': 'https://maharashtra.nic.in/district-centres/',\n",
        " 'Gadchiroli.csv': 'https://maharashtra.nic.in/directory/',\n",
        " 'Gondia.csv': 'https://maharashtra.nic.in/directory/',\n",
        " 'Hingoli.csv': 'https://maharashtra.nic.in/directory/',\n",
        " 'Jalgaon.csv': 'https://maharashtra.nic.in/directory/',\n",
        " 'Jalna.csv': 'https://maharashtra.nic.in/directory/',\n",
        " 'Kolhapur.csv': 'https://maharashtra.nic.in/directory/',\n",
        " 'Mumbai.csv': 'https://maharashtra.nic.in/directory/',\n",
        " 'Mumbai Suburban (Bandra).csv': 'https://maharashtra.nic.in/directory/',\n",
        " 'Nagpur.csv': 'https://maharashtra.nic.in/directory/',\n",
        " 'Nanded.csv': 'https://maharashtra.nic.in/directory/',\n",
        " 'Nandurbar.csv': 'https://maharashtra.nic.in/directory/',\n",
        " 'Nasik.csv': 'https://maharashtra.nic.in/directory/',\n",
        " 'Osmanabad.csv': 'https://maharashtra.nic.in/directory/',\n",
        " 'Palghar.csv': 'https://maharashtra.nic.in/directory/',\n",
        " 'Parbhani.csv': 'https://maharashtra.nic.in/directory/',\n",
        " 'Pune District.csv': 'https://maharashtra.nic.in/directory/',\n",
        "'Reporting_officer.csv': 'https://maharashtra.nic.in/organization-structure/',\n",
        " 'Raigad.csv': 'https://maharashtra.nic.in/directory/',\n",
        " 'Ratnagiri.csv': 'https://maharashtra.nic.in/directory/',\n",
        " 'Sangli.csv': 'https://maharashtra.nic.in/directory/',\n",
        " 'Satara.csv': 'https://maharashtra.nic.in/directory/',\n",
        " 'Sindhu Durg.csv': 'https://maharashtra.nic.in/directory/',\n",
        " 'Solapur.csv': 'https://maharashtra.nic.in/directory/',\n",
        " 'Thane.csv': 'https://maharashtra.nic.in/directory/',\n",
        " 'Wardha.csv': 'https://maharashtra.nic.in/directory/',\n",
        " 'Washim.csv': 'https://maharashtra.nic.in/directory/',\n",
        " 'Yavatmal.csv': 'https://maharashtra.nic.in/directory/',\n",
        " 'APPELLATE AUTHORITY.csv': 'https://maharashtra.nic.in/rti/',\n",
        " 'PUBLIC INFORMATION OFFICERS ( PIO ).csv': 'https://maharashtra.nic.in/rti/'}"
      ]
    },
    {
      "cell_type": "markdown",
      "source": [
        "# Post Processors\n"
      ],
      "metadata": {
        "id": "-59eeW-HbpJR"
      }
    },
    {
      "cell_type": "code",
      "source": [
        "from llama_index.core.postprocessor import LongContextReorder, SentenceEmbeddingOptimizer\n",
        "from llama_index.core.postprocessor import (\n",
        "    FixedRecencyPostprocessor,\n",
        "    EmbeddingRecencyPostprocessor,\n",
        ")\n",
        "\n",
        "persist_dir = \"/content/webpages_doc_index\"\n",
        "storage_context = StorageContext.from_defaults(persist_dir=persist_dir)\n",
        "index = load_index_from_storage(storage_context)\n",
        "\n",
        "print(index)\n",
        "\n",
        "reorder = LongContextReorder()\n",
        "# node_postprocessor_emb = EmbeddingRecencyPostprocessor()\n",
        "\n",
        "reorder_engine = index.as_chat_engine(\n",
        "    node_postprocessors=[reorder], similarity_top_k=10\n",
        ")\n",
        "\n",
        "# reorder_engine = index.as_chat_engine(\n",
        "#     node_postprocessors=[SentenceEmbeddingOptimizer(percentile_cutoff=0.7)]\n",
        "# )\n",
        "\n",
        "base_engine = index.as_chat_engine(similarity_top_k=10)"
      ],
      "metadata": {
        "colab": {
          "base_uri": "https://localhost:8080/"
        },
        "id": "X8Jd-067btSt",
        "outputId": "06cb247d-cf46-4552-c9ce-b60e1b0ed20f"
      },
      "execution_count": 28,
      "outputs": [
        {
          "output_type": "stream",
          "name": "stdout",
          "text": [
            "<llama_index.core.indices.vector_store.base.VectorStoreIndex object at 0x7d4268907970>\n"
          ]
        }
      ]
    },
    {
      "cell_type": "code",
      "source": [
        "from llama_index.core.response.notebook_utils import display_response\n",
        "\n",
        "base_response = base_engine.chat(\"What is published date of the Training Program of IVFRT-MMP at FRRO?\")\n",
        "display_response(base_response)"
      ],
      "metadata": {
        "colab": {
          "base_uri": "https://localhost:8080/",
          "height": 46
        },
        "id": "G8BT1qZ1b_Bt",
        "outputId": "048efe06-f33d-4207-ace2-e00d8aa045a2"
      },
      "execution_count": null,
      "outputs": [
        {
          "output_type": "display_data",
          "data": {
            "text/plain": [
              "<IPython.core.display.Markdown object>"
            ],
            "text/markdown": "**`Final Response:`** The published date of the Training Program of IVFRT-MMP at FRRO is August 20, 2013."
          },
          "metadata": {}
        }
      ]
    },
    {
      "cell_type": "code",
      "source": [
        "base_response"
      ],
      "metadata": {
        "colab": {
          "base_uri": "https://localhost:8080/"
        },
        "collapsed": true,
        "id": "sF-hLPA1hcVR",
        "outputId": "310cdfde-30bc-4604-a1e3-62b790aff543"
      },
      "execution_count": null,
      "outputs": [
        {
          "output_type": "execute_result",
          "data": {
            "text/plain": [
              "AgentChatResponse(response='The published date of the Training Program of IVFRT-MMP at FRRO is August 20, 2013.', sources=[ToolOutput(content='According to the provided context information, the published date of the \"Training Program of IVFRT-MMP at FRRO\" is August 20, 2013.', tool_name='query_engine_tool', raw_input={'input': 'published date of the Training Program of IVFRT-MMP at FRRO'}, raw_output=Response(response='According to the provided context information, the published date of the \"Training Program of IVFRT-MMP at FRRO\" is August 20, 2013.', source_nodes=[NodeWithScore(node=TextNode(id_='90290cbd-19a7-4594-9076-f07b68779323', embedding=None, metadata={'file_name': 'news_updates.docx', 'file_path': '/content/docs/news_updates.docx', 'file_type': 'application/vnd.openxmlformats-officedocument.wordprocessingml.document', 'file_size': 15496, 'creation_date': '2024-06-06', 'last_modified_date': '2024-06-06'}, excluded_embed_metadata_keys=['file_name', 'file_type', 'file_size', 'creation_date', 'last_modified_date', 'last_accessed_date'], excluded_llm_metadata_keys=['file_name', 'file_type', 'file_size', 'creation_date', 'last_modified_date', 'last_accessed_date'], relationships={<NodeRelationship.SOURCE: '1'>: RelatedNodeInfo(node_id='d4fd914c-0f3a-470e-bdbd-483cfc308bb5', node_type=<ObjectType.DOCUMENT: '4'>, metadata={'file_name': 'news_updates.docx', 'file_path': '/content/docs/news_updates.docx', 'file_type': 'application/vnd.openxmlformats-officedocument.wordprocessingml.document', 'file_size': 15496, 'creation_date': '2024-06-06', 'last_modified_date': '2024-06-06'}, hash='043991eb42046ec03b86cca6c418f35dd1cdc8152576b5b62140ce50af01df7c')}, text='Following are the news updates available in the official website of NIC Maharashtra https://maharashtra.nic.in/news-update/ : \\n\\n\\n\\nSIMNIC – NIC eGov Mobile App, Publish Date : August 2, 2021, “SIMNIC : Status Information Management system of NIC is a tool for Participating Government of India Departments to prepare formats on the fly and get the MIS data from line offices in required periodicity.\\n\\n\\n\\nSAMPARK – NIC eGov Mobile App, Publish Date : July 31, 2021, The main aim of the SAMPARK Application(android & iOS) and a totally progressive and responsive website is to provide information of Government officials (in service) about their present posting details and keep it updated.\\n\\nNIC Maharashtra – ICT support during COVID-19, Publish Date : June 25, 2020.\\n\\n\\n\\nGIS for SRA Mumbai, Publish Date : January 8, 2020, URL : http://umd.nic.in/sra, Andriod App : AASARA (Andriod), Apple App : AASARA (Apple)\\n\\n01/01/2020 : Total hits for GIS data 1.05 Crore, Total downloads of Mobile : 10,000+\\n\\n15/12/2018 : Soft launch of iOS app AASRA for Apple device users.\\n\\n12/9/2018 : Inauguration of AASRA mobile app by Hon’ble CM of Maharashtra for Android users.\\n\\n21/11/2017 : GIS based application for SRA : Inauguration of website by Hon. CM of Maharashtra http://umd.nic.in/sra\\n\\n2016-2020 : GIS Portal is a part of these initiatives where GIS data for slums spread over entire Mumbai Municipal Corporation area has been created, which can be useful for citizens and other relevant stakeholders of Slum Rehabilitation Schemes. This encompasses more than ten layers containing administrative ward boundaries, village boundaries, Slum Cluster boundaries, SR Schemes boundaries etc., including terrain map services. Further to provide citizen centric information of slum rehabilitation (SR) schemes on mobile, based on user-location where GIS data for slums spread over entire Mumbai Municipal Corporation area has been created. This GIS Mobile App is developed with the technical support of Utility Mapping Division of NIC, New Delhi.\\n\\nImplementation of Aadhar Enabled Biometric Attendance System (AEBAS) in NIC Maharashtra, Publish Date : November 21, 2014.\\n\\nHon’ble Central Minister, GoI & Chief Secretary, GoM Meetings at Wardha – 12th / 14th September 2013, Publish Date : September 14, 2013.\\n\\nTraining Program of IVFRT-MMP at FRRO, Mumbai on 20th August 2013, Publish Date : August 20, 2013.\\n\\nGlimpses of eGov Maharashtra held at Mumbai on 9th-10th May 2013, Publish Date : May 9, 2013.\\n\\nInauguration of Direct Benefit Transfer (AADHAAR) in pilot District Wardha (Maharashtra) – 1st January, 2013, Publish Date : January 1, 2013.\\n\\nInauguration of e-Office in Sindhudurg Collectorate by Hon’ble Chief Minister of Maharashtra – 24th December 2012, Publish Date : December 24, 2012.\\n\\neFile implementation at NRHM-Mumbai – 13th March 2012, Publish Date : March 13, 2012.\\n\\nAGMARKNET Workshops in Maharashtra by NIC Mumbai, Publish Date : December 29, 2004.', start_char_idx=0, end_char_idx=2948, text_template='{metadata_str}\\n\\n{content}', metadata_template='{key}: {value}', metadata_seperator='\\n'), score=0.4379604420790352), NodeWithScore(node=TextNode(id_='1f49a56e-9966-4bb0-a2c7-e5b1c387e46a', embedding=None, metadata={'file_name': 'photo_gallery.docx', 'file_path': '/content/docs/photo_gallery.docx', 'file_type': 'application/vnd.openxmlformats-officedocument.wordprocessingml.document', 'file_size': 14816, 'creation_date': '2024-06-06', 'last_modified_date': '2024-06-06'}, excluded_embed_metadata_keys=['file_name', 'file_type', 'file_size', 'creation_date', 'last_modified_date', 'last_accessed_date'], excluded_llm_metadata_keys=['file_name', 'file_type', 'file_size', 'creation_date', 'last_modified_date', 'last_accessed_date'], relationships={<NodeRelationship.SOURCE: '1'>: RelatedNodeInfo(node_id='23c27293-e8e6-4b44-953a-6a7af127dc32', node_type=<ObjectType.DOCUMENT: '4'>, metadata={'file_name': 'photo_gallery.docx', 'file_path': '/content/docs/photo_gallery.docx', 'file_type': 'application/vnd.openxmlformats-officedocument.wordprocessingml.document', 'file_size': 14816, 'creation_date': '2024-06-06', 'last_modified_date': '2024-06-06'}, hash='9cfde45aa67bf80c443a31685f00f5caa19254530ebfa11ec945648be4b7e215')}, text='The following are the list of photo titles which are available in the photo gallery section of the webpage:\\n\\n https://maharashtra.nic.in/\\n\\nSIO & ASIO NIC Maharashtra Visit to Districts of Aurangabad division of Maharashtra\\n\\nDigital India Week Programme 2022 Held at Gandhinagar\\n\\nSIO, MH Gallery\\n\\nStudy tour of Maharashtra team led by SIO NIC to Chhatisgarh for Paddy Procurement system on 15th and 16th Jan 2020.\\n\\nVisit of Hon’ble DG to NIC Maharashtra State Centre.\\n\\nWorkshop and Training of PDS with District and Taluka Officials\\n\\nConstitution Day : 26 November 2019\\n\\nNational Informatics Centre, District Akola received eLets Smart Governance 2015 Award\\n\\neDISNIC (electronic District Information System of National Informatics Centre) received Skoch Order of Merit award 2015\\n\\nCommon Application Software for Public Distribution System (ePDS) developed by National Informatics Centre is implemented in Maharashtra\\n\\nAdditional Secretary, Government of India and Director General, National Informatics Centre in Video Conference with District Centres alongwith State Informatics Officer, Maharashtra\\n\\nVideo conferencing via NICNET of Hon’ble Governor, Maharashtra with all Divisional Commissioners and District Collectors on Swaccha Bharat Abhiyan on 21st October 2014\\n\\nSwacchata Abhiyan pledge administration by S.I.O., Maharashtra to Officers and Staff of NIC Maharashtra\\n\\nOrganization of Hindi Pakhawada at NIC, Maharashtra State, Centre Mumbai -2014\\n\\nReview Meeting of Maharashtra Land Record Computerisation at Yashada on 3/4/06 – 4/4/2006\\n\\nPanchayat Portal Workshop at Yashada on 3/4/06 – 4/4/2006\\n\\nRelease of Activity Report by DG at Delhi on 23/3/2006\\n\\nRelease of Project Brouchure by DG at Delhi on 23/1/2005', start_char_idx=0, end_char_idx=1718, text_template='{metadata_str}\\n\\n{content}', metadata_template='{key}: {value}', metadata_seperator='\\n'), score=0.4366670501950552), NodeWithScore(node=TextNode(id_='dce2aafa-31bf-494f-98e3-454961649537', embedding=None, metadata={'file_name': 'events.docx', 'file_path': '/content/docs/events.docx', 'file_type': 'application/vnd.openxmlformats-officedocument.wordprocessingml.document', 'file_size': 14392, 'creation_date': '2024-06-06', 'last_modified_date': '2024-06-06'}, excluded_embed_metadata_keys=['file_name', 'file_type', 'file_size', 'creation_date', 'last_modified_date', 'last_accessed_date'], excluded_llm_metadata_keys=['file_name', 'file_type', 'file_size', 'creation_date', 'last_modified_date', 'last_accessed_date'], relationships={<NodeRelationship.SOURCE: '1'>: RelatedNodeInfo(node_id='cb9007c7-1e38-460c-8b52-a18851968a55', node_type=<ObjectType.DOCUMENT: '4'>, metadata={'file_name': 'events.docx', 'file_path': '/content/docs/events.docx', 'file_type': 'application/vnd.openxmlformats-officedocument.wordprocessingml.document', 'file_size': 14392, 'creation_date': '2024-06-06', 'last_modified_date': '2024-06-06'}, hash='6f0b8653b12406b9bd7388e824844b68f358b0e7c81aa20a6235988912aa36fd')}, text='Below is the list of all the 5 events that took place in NIC as mentioned in the official website of NIC maharashtra:\\n\\nCyber Crime and Cyber Laws (Start Date: 28/09/2022, End Date: 28/09/2022, Venue: NIC Maharashtra State Centre, Mumbai) Webinar on “Cyber Crime and Cyber Laws ” at NIC Maharashtra State Centre, Mumbai September 28th, 2022.\\n\\nSuperannuation of Sh. Dhanjay Kulkarni, DIO Pune and Ms. Sneha Shula, ADIO Nashik in the Month of April 2022, (Start Date: 30/04/2022, End Date : 30/04/2022, Venue : Mumbai)\\n\\nSIO Maharashtra met new Director General, NIC on 01/06/2022 (Start Date : 01/06/2022, End Date : 01/06/2022, Venue : New Delhi)\\n\\nHon’ble Minister of Electronics and Information Technology and Railways visit to Mumbai (Start Date : 18/02/2022, End Date : 18/02/2022, Venue : Mumbai). Hon’ble Minister of Electronics and Information Technology and Railways Shri Ashwini Vaishnaw, visited Mumbai on 18.02.2022 to attend the inaugural function of opening of two Railway lines by the Hon’ble Prime Minister through Video conferencing. Shri K.P. Pariselvan, State Informatics Officer, NIC, Maharashtra, welcomed the Hon’ble Minister at Mumbai Airport. Hon’ble Minister was also appraised about NIC projects at the time of departure. Hon’ble Minister has conveyed SIO NIC Maharashtra that during his next visit will take a review of the projects. SIO NIC Maharashtra thanked Hon’ble Minister.\\n\\nSwachhatta Pakhwada from 01st to 15th February 2022 (Start Date : 01/02/2022, End Date : 15/02/2022, Venue : NIC Maharashtra State and District Centres). Swachhatta Pakhwada was observed at NIC Maharashtra State and District Centres from 01st to 15th February 2022. All officers and staff from State centre and District centres took the Swachhatta Pledge on 2nd Feb. 2022. With reference to the circular No. A-60019/04/2021/GCS-1 dated 28/01/2022 from NIC HQ regarding disposal of obsolete Computer Hardware and its related peripherals and furniture items during the Swachhatta Pakhwada 2022, NIC Maharashtra has auctioned obsolete hardware, old books and weeded files as per the guidelines. Also initiated the process of auctioning obsolete air conditioners, old furniture and remaining obsolete hardware from State and District Centres of Maharashtra.', start_char_idx=0, end_char_idx=2257, text_template='{metadata_str}\\n\\n{content}', metadata_template='{key}: {value}', metadata_seperator='\\n'), score=0.40157442883601335), NodeWithScore(node=TextNode(id_='2f4b8ee2-5eb0-449c-8204-9746ac19217d', embedding=None, metadata={'file_name': 'Nic.docx', 'file_path': '/content/docs/Nic.docx', 'file_type': 'application/vnd.openxmlformats-officedocument.wordprocessingml.document', 'file_size': 14752, 'creation_date': '2024-06-06', 'last_modified_date': '2024-06-06'}, excluded_embed_metadata_keys=['file_name', 'file_type', 'file_size', 'creation_date', 'last_modified_date', 'last_accessed_date'], excluded_llm_metadata_keys=['file_name', 'file_type', 'file_size', 'creation_date', 'last_modified_date', 'last_accessed_date'], relationships={<NodeRelationship.SOURCE: '1'>: RelatedNodeInfo(node_id='1569869b-044f-4e12-bfcc-a62bfb045783', node_type=<ObjectType.DOCUMENT: '4'>, metadata={'file_name': 'Nic.docx', 'file_path': '/content/docs/Nic.docx', 'file_type': 'application/vnd.openxmlformats-officedocument.wordprocessingml.document', 'file_size': 14752, 'creation_date': '2024-06-06', 'last_modified_date': '2024-06-06'}, hash='87b0a1d2c3ec03c4ef470caa262664fe8373f2d3bd472c5a5bc933c82fb8344e')}, text='1. What is NIC? or Introduction of NIC or Profile of NIC\\n\\nAnswer:\\n\\nNational Informatics Centre (NIC) is a premiere S&T institution of the Government of India, established in 1976, for providing e-Government/e-Governance Solutions adopting best practices, integrated services and global solutions in Government Sector. In 1975, the Government of India strategically decided to take effective steps for the development of information systems and utilization of information resources and also for introducing computer based decision support system (informatics-led development) in government ministries and departments to facilitate planning and programme implementation to further the growth of economic and social development. Following this, the Central Government nucleated a high priority plan project “National Informatics Centre (NIC)” in 1976. NIC has played an important role of an active catalyst and facilitator in informatics development programme in Governments at the national, state and district levels, which made them take policy decisions to create knowledge societies – societies that can exploit knowledge to derive competitive advantage using the opportunities provided by digital technology. NIC has been instrumental in adopting Information and Communication Technology to reach out across India i.e. by implementing IT applications in Social and Public Administrations. NIC has spearheaded the e-Governance drive in the country for the last three decades building a strong foundation for better and more transparent governance and assisting the governments endeavour to reach the unreached. NIC Maharashtra State Centre, Mumbai is located at New Administrative Building, Mantralaya. NIC Maharashtra State Centre provides software development, internet, communication services and Video conferencing via NICNET to State and Central Govt. departments in the state of Maharashtra. Besides the State Centre, NIC offices are also located in the High Court & its Benches, Central Government offices and 36 district centres located at respective Collectorate offices. These centres provide informatics support to Collectorate offices, Zilla Parishad, District courts and all allied offices of State and Central Government.\\n\\n\\n\\n\\n\\n\\n\\n2. What are all the work done by NIC? or Provide the summary of the work done by NIC.\\n\\nAnswer:\\n\\nThe National Informatics Centre (NIC) Maharashtra State Centre provides various e-Government and e-Governance solutions. Key activities include:\\n\\nDigital Services: Cloud services, domain registration, email, security, hosting, video-conferencing.\\n\\nInfrastructure: Data centers, networking, office-automation solutions.\\n\\nICT Support: Projects like biometric attendance, e-Office, messaging, cyber security, and webcasting.\\n\\nDevelopment Projects: Digital agriculture platforms, fintech, health-tech, and edu-tech solutions.\\n\\nFor more detailed information, you can visit the NIC Maharashtra website: https://maharashtra.nic.in/', start_char_idx=0, end_char_idx=2964, text_template='{metadata_str}\\n\\n{content}', metadata_template='{key}: {value}', metadata_seperator='\\n'), score=0.3723106191178464), NodeWithScore(node=TextNode(id_='a659c0ac-15b7-4cee-b8b5-9fc68d21dd65', embedding=None, metadata={'file_name': 'services.docx', 'file_path': '/content/docs/services.docx', 'file_type': 'application/vnd.openxmlformats-officedocument.wordprocessingml.document', 'file_size': 12434, 'creation_date': '2024-06-06', 'last_modified_date': '2024-06-06'}, excluded_embed_metadata_keys=['file_name', 'file_type', 'file_size', 'creation_date', 'last_modified_date', 'last_accessed_date'], excluded_llm_metadata_keys=['file_name', 'file_type', 'file_size', 'creation_date', 'last_modified_date', 'last_accessed_date'], relationships={<NodeRelationship.SOURCE: '1'>: RelatedNodeInfo(node_id='47d245e2-aeb6-4da1-a043-e1c775302b78', node_type=<ObjectType.DOCUMENT: '4'>, metadata={'file_name': 'services.docx', 'file_path': '/content/docs/services.docx', 'file_type': 'application/vnd.openxmlformats-officedocument.wordprocessingml.document', 'file_size': 12434, 'creation_date': '2024-06-06', 'last_modified_date': '2024-06-06'}, hash='c16e9226d14e5344d639d2acf6caacdbf994a4abaa209126f36393a21dc3f70e')}, text='Overview of Services offered by NIC:\\n\\nNIC is closely associated with the government in different aspects of governance by establishing a nationwide state-of-the-art ICT infrastructure and services for Central Government, State Governments, UT Administrations, Districts and other Government bodies. It offers a wide range of services which includes multi gigabit nationwide networks NICNET, NKN, National Data Centres, National Cloud, pan India VC infrastructure, Command and Control Centre, multi-layered GIS based platform, Domain Registration and Webcast. This plays a significant role in delivering citizen centric e-services.', start_char_idx=0, end_char_idx=630, text_template='{metadata_str}\\n\\n{content}', metadata_template='{key}: {value}', metadata_seperator='\\n'), score=0.340224877859093), NodeWithScore(node=TextNode(id_='f897f45e-34aa-475f-a8f2-3310a9b51765', embedding=None, metadata={'file_name': 'districts.docx', 'file_path': '/content/docs/districts.docx', 'file_type': 'application/vnd.openxmlformats-officedocument.wordprocessingml.document', 'file_size': 12853, 'creation_date': '2024-06-06', 'last_modified_date': '2024-06-06'}, excluded_embed_metadata_keys=['file_name', 'file_type', 'file_size', 'creation_date', 'last_modified_date', 'last_accessed_date'], excluded_llm_metadata_keys=['file_name', 'file_type', 'file_size', 'creation_date', 'last_modified_date', 'last_accessed_date'], relationships={<NodeRelationship.SOURCE: '1'>: RelatedNodeInfo(node_id='39a7300d-a1ec-44eb-ab22-9d4cf1c31234', node_type=<ObjectType.DOCUMENT: '4'>, metadata={'file_name': 'districts.docx', 'file_path': '/content/docs/districts.docx', 'file_type': 'application/vnd.openxmlformats-officedocument.wordprocessingml.document', 'file_size': 12853, 'creation_date': '2024-06-06', 'last_modified_date': '2024-06-06'}, hash='8845e8972970fccb028c1636d438d2d1f4216d6d8da3d2e95989f431ca7f8184')}, text='Here is the list of 35 districts/district centres where National Informatics Centre (NIC) has its presence:\\n\\n\\n\\n1. Ahmadnagar\\n\\n2. Akola\\n\\n3. Amravati\\n\\n4. Aurangabad\\n\\n5. Beed\\n\\n6. Bhandara\\n\\n7. Buldana\\n\\n8. Chandrapur\\n\\n9. Dhule\\n\\n10. Gadchiroli\\n\\n11. Gondia\\n\\n12. Hingoli\\n\\n13. Jalgaon\\n\\n14. Jalna\\n\\n15. Kolhapur\\n\\n16. Mumbai\\n\\n17. Mumbai Suburban (Bandra)\\n\\n18. Nagpur\\n\\n19. Nanded\\n\\n20. Nandurbar\\n\\n21. Nasik\\n\\n22. Osmanabad\\n\\n23. Palghar\\n\\n24. Parbhani\\n\\n25. Pune District\\n\\n26. Raigad\\n\\n27. Ratnagiri\\n\\n28. Sangli\\n\\n29. Satara\\n\\n30. Sindhu Durg\\n\\n31. Solapur\\n\\n32. Thane\\n\\n33. Wardha\\n\\n34. Washim\\n\\n35. Yavatmal', start_char_idx=0, end_char_idx=583, text_template='{metadata_str}\\n\\n{content}', metadata_template='{key}: {value}', metadata_seperator='\\n'), score=0.32961147200945007)], metadata={'90290cbd-19a7-4594-9076-f07b68779323': {'file_name': 'news_updates.docx', 'file_path': '/content/docs/news_updates.docx', 'file_type': 'application/vnd.openxmlformats-officedocument.wordprocessingml.document', 'file_size': 15496, 'creation_date': '2024-06-06', 'last_modified_date': '2024-06-06'}, '1f49a56e-9966-4bb0-a2c7-e5b1c387e46a': {'file_name': 'photo_gallery.docx', 'file_path': '/content/docs/photo_gallery.docx', 'file_type': 'application/vnd.openxmlformats-officedocument.wordprocessingml.document', 'file_size': 14816, 'creation_date': '2024-06-06', 'last_modified_date': '2024-06-06'}, 'dce2aafa-31bf-494f-98e3-454961649537': {'file_name': 'events.docx', 'file_path': '/content/docs/events.docx', 'file_type': 'application/vnd.openxmlformats-officedocument.wordprocessingml.document', 'file_size': 14392, 'creation_date': '2024-06-06', 'last_modified_date': '2024-06-06'}, '2f4b8ee2-5eb0-449c-8204-9746ac19217d': {'file_name': 'Nic.docx', 'file_path': '/content/docs/Nic.docx', 'file_type': 'application/vnd.openxmlformats-officedocument.wordprocessingml.document', 'file_size': 14752, 'creation_date': '2024-06-06', 'last_modified_date': '2024-06-06'}, 'a659c0ac-15b7-4cee-b8b5-9fc68d21dd65': {'file_name': 'services.docx', 'file_path': '/content/docs/services.docx', 'file_type': 'application/vnd.openxmlformats-officedocument.wordprocessingml.document', 'file_size': 12434, 'creation_date': '2024-06-06', 'last_modified_date': '2024-06-06'}, 'f897f45e-34aa-475f-a8f2-3310a9b51765': {'file_name': 'districts.docx', 'file_path': '/content/docs/districts.docx', 'file_type': 'application/vnd.openxmlformats-officedocument.wordprocessingml.document', 'file_size': 12853, 'creation_date': '2024-06-06', 'last_modified_date': '2024-06-06'}}), is_error=False)], source_nodes=[NodeWithScore(node=TextNode(id_='90290cbd-19a7-4594-9076-f07b68779323', embedding=None, metadata={'file_name': 'news_updates.docx', 'file_path': '/content/docs/news_updates.docx', 'file_type': 'application/vnd.openxmlformats-officedocument.wordprocessingml.document', 'file_size': 15496, 'creation_date': '2024-06-06', 'last_modified_date': '2024-06-06'}, excluded_embed_metadata_keys=['file_name', 'file_type', 'file_size', 'creation_date', 'last_modified_date', 'last_accessed_date'], excluded_llm_metadata_keys=['file_name', 'file_type', 'file_size', 'creation_date', 'last_modified_date', 'last_accessed_date'], relationships={<NodeRelationship.SOURCE: '1'>: RelatedNodeInfo(node_id='d4fd914c-0f3a-470e-bdbd-483cfc308bb5', node_type=<ObjectType.DOCUMENT: '4'>, metadata={'file_name': 'news_updates.docx', 'file_path': '/content/docs/news_updates.docx', 'file_type': 'application/vnd.openxmlformats-officedocument.wordprocessingml.document', 'file_size': 15496, 'creation_date': '2024-06-06', 'last_modified_date': '2024-06-06'}, hash='043991eb42046ec03b86cca6c418f35dd1cdc8152576b5b62140ce50af01df7c')}, text='Following are the news updates available in the official website of NIC Maharashtra https://maharashtra.nic.in/news-update/ : \\n\\n\\n\\nSIMNIC – NIC eGov Mobile App, Publish Date : August 2, 2021, “SIMNIC : Status Information Management system of NIC is a tool for Participating Government of India Departments to prepare formats on the fly and get the MIS data from line offices in required periodicity.\\n\\n\\n\\nSAMPARK – NIC eGov Mobile App, Publish Date : July 31, 2021, The main aim of the SAMPARK Application(android & iOS) and a totally progressive and responsive website is to provide information of Government officials (in service) about their present posting details and keep it updated.\\n\\nNIC Maharashtra – ICT support during COVID-19, Publish Date : June 25, 2020.\\n\\n\\n\\nGIS for SRA Mumbai, Publish Date : January 8, 2020, URL : http://umd.nic.in/sra, Andriod App : AASARA (Andriod), Apple App : AASARA (Apple)\\n\\n01/01/2020 : Total hits for GIS data 1.05 Crore, Total downloads of Mobile : 10,000+\\n\\n15/12/2018 : Soft launch of iOS app AASRA for Apple device users.\\n\\n12/9/2018 : Inauguration of AASRA mobile app by Hon’ble CM of Maharashtra for Android users.\\n\\n21/11/2017 : GIS based application for SRA : Inauguration of website by Hon. CM of Maharashtra http://umd.nic.in/sra\\n\\n2016-2020 : GIS Portal is a part of these initiatives where GIS data for slums spread over entire Mumbai Municipal Corporation area has been created, which can be useful for citizens and other relevant stakeholders of Slum Rehabilitation Schemes. This encompasses more than ten layers containing administrative ward boundaries, village boundaries, Slum Cluster boundaries, SR Schemes boundaries etc., including terrain map services. Further to provide citizen centric information of slum rehabilitation (SR) schemes on mobile, based on user-location where GIS data for slums spread over entire Mumbai Municipal Corporation area has been created. This GIS Mobile App is developed with the technical support of Utility Mapping Division of NIC, New Delhi.\\n\\nImplementation of Aadhar Enabled Biometric Attendance System (AEBAS) in NIC Maharashtra, Publish Date : November 21, 2014.\\n\\nHon’ble Central Minister, GoI & Chief Secretary, GoM Meetings at Wardha – 12th / 14th September 2013, Publish Date : September 14, 2013.\\n\\nTraining Program of IVFRT-MMP at FRRO, Mumbai on 20th August 2013, Publish Date : August 20, 2013.\\n\\nGlimpses of eGov Maharashtra held at Mumbai on 9th-10th May 2013, Publish Date : May 9, 2013.\\n\\nInauguration of Direct Benefit Transfer (AADHAAR) in pilot District Wardha (Maharashtra) – 1st January, 2013, Publish Date : January 1, 2013.\\n\\nInauguration of e-Office in Sindhudurg Collectorate by Hon’ble Chief Minister of Maharashtra – 24th December 2012, Publish Date : December 24, 2012.\\n\\neFile implementation at NRHM-Mumbai – 13th March 2012, Publish Date : March 13, 2012.\\n\\nAGMARKNET Workshops in Maharashtra by NIC Mumbai, Publish Date : December 29, 2004.', start_char_idx=0, end_char_idx=2948, text_template='{metadata_str}\\n\\n{content}', metadata_template='{key}: {value}', metadata_seperator='\\n'), score=0.4379604420790352), NodeWithScore(node=TextNode(id_='1f49a56e-9966-4bb0-a2c7-e5b1c387e46a', embedding=None, metadata={'file_name': 'photo_gallery.docx', 'file_path': '/content/docs/photo_gallery.docx', 'file_type': 'application/vnd.openxmlformats-officedocument.wordprocessingml.document', 'file_size': 14816, 'creation_date': '2024-06-06', 'last_modified_date': '2024-06-06'}, excluded_embed_metadata_keys=['file_name', 'file_type', 'file_size', 'creation_date', 'last_modified_date', 'last_accessed_date'], excluded_llm_metadata_keys=['file_name', 'file_type', 'file_size', 'creation_date', 'last_modified_date', 'last_accessed_date'], relationships={<NodeRelationship.SOURCE: '1'>: RelatedNodeInfo(node_id='23c27293-e8e6-4b44-953a-6a7af127dc32', node_type=<ObjectType.DOCUMENT: '4'>, metadata={'file_name': 'photo_gallery.docx', 'file_path': '/content/docs/photo_gallery.docx', 'file_type': 'application/vnd.openxmlformats-officedocument.wordprocessingml.document', 'file_size': 14816, 'creation_date': '2024-06-06', 'last_modified_date': '2024-06-06'}, hash='9cfde45aa67bf80c443a31685f00f5caa19254530ebfa11ec945648be4b7e215')}, text='The following are the list of photo titles which are available in the photo gallery section of the webpage:\\n\\n https://maharashtra.nic.in/\\n\\nSIO & ASIO NIC Maharashtra Visit to Districts of Aurangabad division of Maharashtra\\n\\nDigital India Week Programme 2022 Held at Gandhinagar\\n\\nSIO, MH Gallery\\n\\nStudy tour of Maharashtra team led by SIO NIC to Chhatisgarh for Paddy Procurement system on 15th and 16th Jan 2020.\\n\\nVisit of Hon’ble DG to NIC Maharashtra State Centre.\\n\\nWorkshop and Training of PDS with District and Taluka Officials\\n\\nConstitution Day : 26 November 2019\\n\\nNational Informatics Centre, District Akola received eLets Smart Governance 2015 Award\\n\\neDISNIC (electronic District Information System of National Informatics Centre) received Skoch Order of Merit award 2015\\n\\nCommon Application Software for Public Distribution System (ePDS) developed by National Informatics Centre is implemented in Maharashtra\\n\\nAdditional Secretary, Government of India and Director General, National Informatics Centre in Video Conference with District Centres alongwith State Informatics Officer, Maharashtra\\n\\nVideo conferencing via NICNET of Hon’ble Governor, Maharashtra with all Divisional Commissioners and District Collectors on Swaccha Bharat Abhiyan on 21st October 2014\\n\\nSwacchata Abhiyan pledge administration by S.I.O., Maharashtra to Officers and Staff of NIC Maharashtra\\n\\nOrganization of Hindi Pakhawada at NIC, Maharashtra State, Centre Mumbai -2014\\n\\nReview Meeting of Maharashtra Land Record Computerisation at Yashada on 3/4/06 – 4/4/2006\\n\\nPanchayat Portal Workshop at Yashada on 3/4/06 – 4/4/2006\\n\\nRelease of Activity Report by DG at Delhi on 23/3/2006\\n\\nRelease of Project Brouchure by DG at Delhi on 23/1/2005', start_char_idx=0, end_char_idx=1718, text_template='{metadata_str}\\n\\n{content}', metadata_template='{key}: {value}', metadata_seperator='\\n'), score=0.4366670501950552), NodeWithScore(node=TextNode(id_='dce2aafa-31bf-494f-98e3-454961649537', embedding=None, metadata={'file_name': 'events.docx', 'file_path': '/content/docs/events.docx', 'file_type': 'application/vnd.openxmlformats-officedocument.wordprocessingml.document', 'file_size': 14392, 'creation_date': '2024-06-06', 'last_modified_date': '2024-06-06'}, excluded_embed_metadata_keys=['file_name', 'file_type', 'file_size', 'creation_date', 'last_modified_date', 'last_accessed_date'], excluded_llm_metadata_keys=['file_name', 'file_type', 'file_size', 'creation_date', 'last_modified_date', 'last_accessed_date'], relationships={<NodeRelationship.SOURCE: '1'>: RelatedNodeInfo(node_id='cb9007c7-1e38-460c-8b52-a18851968a55', node_type=<ObjectType.DOCUMENT: '4'>, metadata={'file_name': 'events.docx', 'file_path': '/content/docs/events.docx', 'file_type': 'application/vnd.openxmlformats-officedocument.wordprocessingml.document', 'file_size': 14392, 'creation_date': '2024-06-06', 'last_modified_date': '2024-06-06'}, hash='6f0b8653b12406b9bd7388e824844b68f358b0e7c81aa20a6235988912aa36fd')}, text='Below is the list of all the 5 events that took place in NIC as mentioned in the official website of NIC maharashtra:\\n\\nCyber Crime and Cyber Laws (Start Date: 28/09/2022, End Date: 28/09/2022, Venue: NIC Maharashtra State Centre, Mumbai) Webinar on “Cyber Crime and Cyber Laws ” at NIC Maharashtra State Centre, Mumbai September 28th, 2022.\\n\\nSuperannuation of Sh. Dhanjay Kulkarni, DIO Pune and Ms. Sneha Shula, ADIO Nashik in the Month of April 2022, (Start Date: 30/04/2022, End Date : 30/04/2022, Venue : Mumbai)\\n\\nSIO Maharashtra met new Director General, NIC on 01/06/2022 (Start Date : 01/06/2022, End Date : 01/06/2022, Venue : New Delhi)\\n\\nHon’ble Minister of Electronics and Information Technology and Railways visit to Mumbai (Start Date : 18/02/2022, End Date : 18/02/2022, Venue : Mumbai). Hon’ble Minister of Electronics and Information Technology and Railways Shri Ashwini Vaishnaw, visited Mumbai on 18.02.2022 to attend the inaugural function of opening of two Railway lines by the Hon’ble Prime Minister through Video conferencing. Shri K.P. Pariselvan, State Informatics Officer, NIC, Maharashtra, welcomed the Hon’ble Minister at Mumbai Airport. Hon’ble Minister was also appraised about NIC projects at the time of departure. Hon’ble Minister has conveyed SIO NIC Maharashtra that during his next visit will take a review of the projects. SIO NIC Maharashtra thanked Hon’ble Minister.\\n\\nSwachhatta Pakhwada from 01st to 15th February 2022 (Start Date : 01/02/2022, End Date : 15/02/2022, Venue : NIC Maharashtra State and District Centres). Swachhatta Pakhwada was observed at NIC Maharashtra State and District Centres from 01st to 15th February 2022. All officers and staff from State centre and District centres took the Swachhatta Pledge on 2nd Feb. 2022. With reference to the circular No. A-60019/04/2021/GCS-1 dated 28/01/2022 from NIC HQ regarding disposal of obsolete Computer Hardware and its related peripherals and furniture items during the Swachhatta Pakhwada 2022, NIC Maharashtra has auctioned obsolete hardware, old books and weeded files as per the guidelines. Also initiated the process of auctioning obsolete air conditioners, old furniture and remaining obsolete hardware from State and District Centres of Maharashtra.', start_char_idx=0, end_char_idx=2257, text_template='{metadata_str}\\n\\n{content}', metadata_template='{key}: {value}', metadata_seperator='\\n'), score=0.40157442883601335), NodeWithScore(node=TextNode(id_='2f4b8ee2-5eb0-449c-8204-9746ac19217d', embedding=None, metadata={'file_name': 'Nic.docx', 'file_path': '/content/docs/Nic.docx', 'file_type': 'application/vnd.openxmlformats-officedocument.wordprocessingml.document', 'file_size': 14752, 'creation_date': '2024-06-06', 'last_modified_date': '2024-06-06'}, excluded_embed_metadata_keys=['file_name', 'file_type', 'file_size', 'creation_date', 'last_modified_date', 'last_accessed_date'], excluded_llm_metadata_keys=['file_name', 'file_type', 'file_size', 'creation_date', 'last_modified_date', 'last_accessed_date'], relationships={<NodeRelationship.SOURCE: '1'>: RelatedNodeInfo(node_id='1569869b-044f-4e12-bfcc-a62bfb045783', node_type=<ObjectType.DOCUMENT: '4'>, metadata={'file_name': 'Nic.docx', 'file_path': '/content/docs/Nic.docx', 'file_type': 'application/vnd.openxmlformats-officedocument.wordprocessingml.document', 'file_size': 14752, 'creation_date': '2024-06-06', 'last_modified_date': '2024-06-06'}, hash='87b0a1d2c3ec03c4ef470caa262664fe8373f2d3bd472c5a5bc933c82fb8344e')}, text='1. What is NIC? or Introduction of NIC or Profile of NIC\\n\\nAnswer:\\n\\nNational Informatics Centre (NIC) is a premiere S&T institution of the Government of India, established in 1976, for providing e-Government/e-Governance Solutions adopting best practices, integrated services and global solutions in Government Sector. In 1975, the Government of India strategically decided to take effective steps for the development of information systems and utilization of information resources and also for introducing computer based decision support system (informatics-led development) in government ministries and departments to facilitate planning and programme implementation to further the growth of economic and social development. Following this, the Central Government nucleated a high priority plan project “National Informatics Centre (NIC)” in 1976. NIC has played an important role of an active catalyst and facilitator in informatics development programme in Governments at the national, state and district levels, which made them take policy decisions to create knowledge societies – societies that can exploit knowledge to derive competitive advantage using the opportunities provided by digital technology. NIC has been instrumental in adopting Information and Communication Technology to reach out across India i.e. by implementing IT applications in Social and Public Administrations. NIC has spearheaded the e-Governance drive in the country for the last three decades building a strong foundation for better and more transparent governance and assisting the governments endeavour to reach the unreached. NIC Maharashtra State Centre, Mumbai is located at New Administrative Building, Mantralaya. NIC Maharashtra State Centre provides software development, internet, communication services and Video conferencing via NICNET to State and Central Govt. departments in the state of Maharashtra. Besides the State Centre, NIC offices are also located in the High Court & its Benches, Central Government offices and 36 district centres located at respective Collectorate offices. These centres provide informatics support to Collectorate offices, Zilla Parishad, District courts and all allied offices of State and Central Government.\\n\\n\\n\\n\\n\\n\\n\\n2. What are all the work done by NIC? or Provide the summary of the work done by NIC.\\n\\nAnswer:\\n\\nThe National Informatics Centre (NIC) Maharashtra State Centre provides various e-Government and e-Governance solutions. Key activities include:\\n\\nDigital Services: Cloud services, domain registration, email, security, hosting, video-conferencing.\\n\\nInfrastructure: Data centers, networking, office-automation solutions.\\n\\nICT Support: Projects like biometric attendance, e-Office, messaging, cyber security, and webcasting.\\n\\nDevelopment Projects: Digital agriculture platforms, fintech, health-tech, and edu-tech solutions.\\n\\nFor more detailed information, you can visit the NIC Maharashtra website: https://maharashtra.nic.in/', start_char_idx=0, end_char_idx=2964, text_template='{metadata_str}\\n\\n{content}', metadata_template='{key}: {value}', metadata_seperator='\\n'), score=0.3723106191178464), NodeWithScore(node=TextNode(id_='a659c0ac-15b7-4cee-b8b5-9fc68d21dd65', embedding=None, metadata={'file_name': 'services.docx', 'file_path': '/content/docs/services.docx', 'file_type': 'application/vnd.openxmlformats-officedocument.wordprocessingml.document', 'file_size': 12434, 'creation_date': '2024-06-06', 'last_modified_date': '2024-06-06'}, excluded_embed_metadata_keys=['file_name', 'file_type', 'file_size', 'creation_date', 'last_modified_date', 'last_accessed_date'], excluded_llm_metadata_keys=['file_name', 'file_type', 'file_size', 'creation_date', 'last_modified_date', 'last_accessed_date'], relationships={<NodeRelationship.SOURCE: '1'>: RelatedNodeInfo(node_id='47d245e2-aeb6-4da1-a043-e1c775302b78', node_type=<ObjectType.DOCUMENT: '4'>, metadata={'file_name': 'services.docx', 'file_path': '/content/docs/services.docx', 'file_type': 'application/vnd.openxmlformats-officedocument.wordprocessingml.document', 'file_size': 12434, 'creation_date': '2024-06-06', 'last_modified_date': '2024-06-06'}, hash='c16e9226d14e5344d639d2acf6caacdbf994a4abaa209126f36393a21dc3f70e')}, text='Overview of Services offered by NIC:\\n\\nNIC is closely associated with the government in different aspects of governance by establishing a nationwide state-of-the-art ICT infrastructure and services for Central Government, State Governments, UT Administrations, Districts and other Government bodies. It offers a wide range of services which includes multi gigabit nationwide networks NICNET, NKN, National Data Centres, National Cloud, pan India VC infrastructure, Command and Control Centre, multi-layered GIS based platform, Domain Registration and Webcast. This plays a significant role in delivering citizen centric e-services.', start_char_idx=0, end_char_idx=630, text_template='{metadata_str}\\n\\n{content}', metadata_template='{key}: {value}', metadata_seperator='\\n'), score=0.340224877859093), NodeWithScore(node=TextNode(id_='f897f45e-34aa-475f-a8f2-3310a9b51765', embedding=None, metadata={'file_name': 'districts.docx', 'file_path': '/content/docs/districts.docx', 'file_type': 'application/vnd.openxmlformats-officedocument.wordprocessingml.document', 'file_size': 12853, 'creation_date': '2024-06-06', 'last_modified_date': '2024-06-06'}, excluded_embed_metadata_keys=['file_name', 'file_type', 'file_size', 'creation_date', 'last_modified_date', 'last_accessed_date'], excluded_llm_metadata_keys=['file_name', 'file_type', 'file_size', 'creation_date', 'last_modified_date', 'last_accessed_date'], relationships={<NodeRelationship.SOURCE: '1'>: RelatedNodeInfo(node_id='39a7300d-a1ec-44eb-ab22-9d4cf1c31234', node_type=<ObjectType.DOCUMENT: '4'>, metadata={'file_name': 'districts.docx', 'file_path': '/content/docs/districts.docx', 'file_type': 'application/vnd.openxmlformats-officedocument.wordprocessingml.document', 'file_size': 12853, 'creation_date': '2024-06-06', 'last_modified_date': '2024-06-06'}, hash='8845e8972970fccb028c1636d438d2d1f4216d6d8da3d2e95989f431ca7f8184')}, text='Here is the list of 35 districts/district centres where National Informatics Centre (NIC) has its presence:\\n\\n\\n\\n1. Ahmadnagar\\n\\n2. Akola\\n\\n3. Amravati\\n\\n4. Aurangabad\\n\\n5. Beed\\n\\n6. Bhandara\\n\\n7. Buldana\\n\\n8. Chandrapur\\n\\n9. Dhule\\n\\n10. Gadchiroli\\n\\n11. Gondia\\n\\n12. Hingoli\\n\\n13. Jalgaon\\n\\n14. Jalna\\n\\n15. Kolhapur\\n\\n16. Mumbai\\n\\n17. Mumbai Suburban (Bandra)\\n\\n18. Nagpur\\n\\n19. Nanded\\n\\n20. Nandurbar\\n\\n21. Nasik\\n\\n22. Osmanabad\\n\\n23. Palghar\\n\\n24. Parbhani\\n\\n25. Pune District\\n\\n26. Raigad\\n\\n27. Ratnagiri\\n\\n28. Sangli\\n\\n29. Satara\\n\\n30. Sindhu Durg\\n\\n31. Solapur\\n\\n32. Thane\\n\\n33. Wardha\\n\\n34. Washim\\n\\n35. Yavatmal', start_char_idx=0, end_char_idx=583, text_template='{metadata_str}\\n\\n{content}', metadata_template='{key}: {value}', metadata_seperator='\\n'), score=0.32961147200945007)], is_dummy_stream=False)"
            ]
          },
          "metadata": {},
          "execution_count": 75
        }
      ]
    },
    {
      "cell_type": "code",
      "source": [
        "node = base_response.source_nodes[0]\n",
        "response_json = {}\n",
        "response_json['response'] = base_response.response\n",
        "response_json['Search_Score'] = node.score\n",
        "\n",
        "try:\n",
        "  response_json['url'] = str(node.metadata['URL'])\n",
        "except  KeyError as e:\n",
        "  response_json['url'] =  str(file_to_url_mapping[node.metadata['file_name']])\n",
        "\n",
        "print(response_json)"
      ],
      "metadata": {
        "colab": {
          "base_uri": "https://localhost:8080/"
        },
        "id": "4GsYCzMOek1K",
        "outputId": "8f6a88ab-ef3e-48b4-9f97-c7aa957b9878"
      },
      "execution_count": null,
      "outputs": [
        {
          "output_type": "stream",
          "name": "stdout",
          "text": [
            "{'response': 'The published date of the Training Program of IVFRT-MMP at FRRO is August 20, 2013.', 'Search_Score': 0.4379604420790352, 'url': 'https://maharashtra.nic.in/news-update/'}\n"
          ]
        }
      ]
    },
    {
      "cell_type": "code",
      "source": [
        "print(base_response.get_formatted_sources())"
      ],
      "metadata": {
        "colab": {
          "base_uri": "https://localhost:8080/"
        },
        "collapsed": true,
        "id": "dMnCOAHrdqU2",
        "outputId": "b38e2ef1-96a1-4ddc-9ab0-1b6b1dd55fd3"
      },
      "execution_count": null,
      "outputs": [
        {
          "output_type": "stream",
          "name": "stdout",
          "text": [
            "> Source (Doc id: 1f49a56e-9966-4bb0-a2c7-e5b1c387e46a): The following are the list of photo titles which are available in the photo gallery section of th...\n",
            "\n",
            "> Source (Doc id: 90290cbd-19a7-4594-9076-f07b68779323): Following are the news updates available in the official website of NIC Maharashtra https://mahar...\n",
            "\n",
            "> Source (Doc id: dce2aafa-31bf-494f-98e3-454961649537): Below is the list of all the 5 events that took place in NIC as mentioned in the official website...\n",
            "\n",
            "> Source (Doc id: 2f4b8ee2-5eb0-449c-8204-9746ac19217d): 1. What is NIC? or Introduction of NIC or Profile of NIC\n",
            "\n",
            "Answer:\n",
            "\n",
            "National Informatics Centre (N...\n",
            "\n",
            "> Source (Doc id: f897f45e-34aa-475f-a8f2-3310a9b51765): Here is the list of 35 districts/district centres where National Informatics Centre (NIC) has its...\n",
            "\n",
            "> Source (Doc id: a659c0ac-15b7-4cee-b8b5-9fc68d21dd65): Overview of Services offered by NIC:\n",
            "\n",
            "NIC is closely associated with the government in different ...\n"
          ]
        }
      ]
    },
    {
      "cell_type": "code",
      "source": [
        "reorder_response = reorder_engine.chat(\"What is published date of the eFile implementation at NRHM-Mumbai?\")\n",
        "display_response(reorder_response)"
      ],
      "metadata": {
        "id": "oSfwd971cMjF",
        "colab": {
          "base_uri": "https://localhost:8080/",
          "height": 304
        },
        "outputId": "e8e1e7ea-3050-42ec-c386-7ce689754fdb"
      },
      "execution_count": 29,
      "outputs": [
        {
          "output_type": "error",
          "ename": "ValueError",
          "evalue": "Reached max iterations.",
          "traceback": [
            "\u001b[0;31m---------------------------------------------------------------------------\u001b[0m",
            "\u001b[0;31mValueError\u001b[0m                                Traceback (most recent call last)",
            "\u001b[0;32m<ipython-input-29-4153d1dde1ce>\u001b[0m in \u001b[0;36m<cell line: 1>\u001b[0;34m()\u001b[0m\n\u001b[0;32m----> 1\u001b[0;31m \u001b[0mreorder_response\u001b[0m \u001b[0;34m=\u001b[0m \u001b[0mreorder_engine\u001b[0m\u001b[0;34m.\u001b[0m\u001b[0mchat\u001b[0m\u001b[0;34m(\u001b[0m\u001b[0;34m\"What is published date of the eFile implementation at NRHM-Mumbai?\"\u001b[0m\u001b[0;34m)\u001b[0m\u001b[0;34m\u001b[0m\u001b[0;34m\u001b[0m\u001b[0m\n\u001b[0m\u001b[1;32m      2\u001b[0m \u001b[0mdisplay_response\u001b[0m\u001b[0;34m(\u001b[0m\u001b[0mreorder_response\u001b[0m\u001b[0;34m)\u001b[0m\u001b[0;34m\u001b[0m\u001b[0;34m\u001b[0m\u001b[0m\n",
            "\u001b[0;32m/usr/local/lib/python3.10/dist-packages/llama_index/core/instrumentation/dispatcher.py\u001b[0m in \u001b[0;36mwrapper\u001b[0;34m(func, instance, args, kwargs)\u001b[0m\n\u001b[1;32m    221\u001b[0m             )\n\u001b[1;32m    222\u001b[0m             \u001b[0;32mtry\u001b[0m\u001b[0;34m:\u001b[0m\u001b[0;34m\u001b[0m\u001b[0;34m\u001b[0m\u001b[0m\n\u001b[0;32m--> 223\u001b[0;31m                 \u001b[0mresult\u001b[0m \u001b[0;34m=\u001b[0m \u001b[0mfunc\u001b[0m\u001b[0;34m(\u001b[0m\u001b[0;34m*\u001b[0m\u001b[0margs\u001b[0m\u001b[0;34m,\u001b[0m \u001b[0;34m**\u001b[0m\u001b[0mkwargs\u001b[0m\u001b[0;34m)\u001b[0m\u001b[0;34m\u001b[0m\u001b[0;34m\u001b[0m\u001b[0m\n\u001b[0m\u001b[1;32m    224\u001b[0m             \u001b[0;32mexcept\u001b[0m \u001b[0mBaseException\u001b[0m \u001b[0;32mas\u001b[0m \u001b[0me\u001b[0m\u001b[0;34m:\u001b[0m\u001b[0;34m\u001b[0m\u001b[0;34m\u001b[0m\u001b[0m\n\u001b[1;32m    225\u001b[0m                 \u001b[0mself\u001b[0m\u001b[0;34m.\u001b[0m\u001b[0mevent\u001b[0m\u001b[0;34m(\u001b[0m\u001b[0mSpanDropEvent\u001b[0m\u001b[0;34m(\u001b[0m\u001b[0mspan_id\u001b[0m\u001b[0;34m=\u001b[0m\u001b[0mid_\u001b[0m\u001b[0;34m,\u001b[0m \u001b[0merr_str\u001b[0m\u001b[0;34m=\u001b[0m\u001b[0mstr\u001b[0m\u001b[0;34m(\u001b[0m\u001b[0me\u001b[0m\u001b[0;34m)\u001b[0m\u001b[0;34m)\u001b[0m\u001b[0;34m)\u001b[0m\u001b[0;34m\u001b[0m\u001b[0;34m\u001b[0m\u001b[0m\n",
            "\u001b[0;32m/usr/local/lib/python3.10/dist-packages/llama_index/core/callbacks/utils.py\u001b[0m in \u001b[0;36mwrapper\u001b[0;34m(self, *args, **kwargs)\u001b[0m\n\u001b[1;32m     39\u001b[0m             \u001b[0mcallback_manager\u001b[0m \u001b[0;34m=\u001b[0m \u001b[0mcast\u001b[0m\u001b[0;34m(\u001b[0m\u001b[0mCallbackManager\u001b[0m\u001b[0;34m,\u001b[0m \u001b[0mcallback_manager\u001b[0m\u001b[0;34m)\u001b[0m\u001b[0;34m\u001b[0m\u001b[0;34m\u001b[0m\u001b[0m\n\u001b[1;32m     40\u001b[0m             \u001b[0;32mwith\u001b[0m \u001b[0mcallback_manager\u001b[0m\u001b[0;34m.\u001b[0m\u001b[0mas_trace\u001b[0m\u001b[0;34m(\u001b[0m\u001b[0mtrace_id\u001b[0m\u001b[0;34m)\u001b[0m\u001b[0;34m:\u001b[0m\u001b[0;34m\u001b[0m\u001b[0;34m\u001b[0m\u001b[0m\n\u001b[0;32m---> 41\u001b[0;31m                 \u001b[0;32mreturn\u001b[0m \u001b[0mfunc\u001b[0m\u001b[0;34m(\u001b[0m\u001b[0mself\u001b[0m\u001b[0;34m,\u001b[0m \u001b[0;34m*\u001b[0m\u001b[0margs\u001b[0m\u001b[0;34m,\u001b[0m \u001b[0;34m**\u001b[0m\u001b[0mkwargs\u001b[0m\u001b[0;34m)\u001b[0m\u001b[0;34m\u001b[0m\u001b[0;34m\u001b[0m\u001b[0m\n\u001b[0m\u001b[1;32m     42\u001b[0m \u001b[0;34m\u001b[0m\u001b[0m\n\u001b[1;32m     43\u001b[0m         \u001b[0;34m@\u001b[0m\u001b[0mfunctools\u001b[0m\u001b[0;34m.\u001b[0m\u001b[0mwraps\u001b[0m\u001b[0;34m(\u001b[0m\u001b[0mfunc\u001b[0m\u001b[0;34m)\u001b[0m  \u001b[0;31m# preserve signature, name, etc. of func\u001b[0m\u001b[0;34m\u001b[0m\u001b[0;34m\u001b[0m\u001b[0m\n",
            "\u001b[0;32m/usr/local/lib/python3.10/dist-packages/llama_index/core/agent/runner/base.py\u001b[0m in \u001b[0;36mchat\u001b[0;34m(self, message, chat_history, tool_choice)\u001b[0m\n\u001b[1;32m    638\u001b[0m             \u001b[0mpayload\u001b[0m\u001b[0;34m=\u001b[0m\u001b[0;34m{\u001b[0m\u001b[0mEventPayload\u001b[0m\u001b[0;34m.\u001b[0m\u001b[0mMESSAGES\u001b[0m\u001b[0;34m:\u001b[0m \u001b[0;34m[\u001b[0m\u001b[0mmessage\u001b[0m\u001b[0;34m]\u001b[0m\u001b[0;34m}\u001b[0m\u001b[0;34m,\u001b[0m\u001b[0;34m\u001b[0m\u001b[0;34m\u001b[0m\u001b[0m\n\u001b[1;32m    639\u001b[0m         ) as e:\n\u001b[0;32m--> 640\u001b[0;31m             chat_response = self._chat(\n\u001b[0m\u001b[1;32m    641\u001b[0m                 \u001b[0mmessage\u001b[0m\u001b[0;34m=\u001b[0m\u001b[0mmessage\u001b[0m\u001b[0;34m,\u001b[0m\u001b[0;34m\u001b[0m\u001b[0;34m\u001b[0m\u001b[0m\n\u001b[1;32m    642\u001b[0m                 \u001b[0mchat_history\u001b[0m\u001b[0;34m=\u001b[0m\u001b[0mchat_history\u001b[0m\u001b[0;34m,\u001b[0m\u001b[0;34m\u001b[0m\u001b[0;34m\u001b[0m\u001b[0m\n",
            "\u001b[0;32m/usr/local/lib/python3.10/dist-packages/llama_index/core/instrumentation/dispatcher.py\u001b[0m in \u001b[0;36mwrapper\u001b[0;34m(func, instance, args, kwargs)\u001b[0m\n\u001b[1;32m    221\u001b[0m             )\n\u001b[1;32m    222\u001b[0m             \u001b[0;32mtry\u001b[0m\u001b[0;34m:\u001b[0m\u001b[0;34m\u001b[0m\u001b[0;34m\u001b[0m\u001b[0m\n\u001b[0;32m--> 223\u001b[0;31m                 \u001b[0mresult\u001b[0m \u001b[0;34m=\u001b[0m \u001b[0mfunc\u001b[0m\u001b[0;34m(\u001b[0m\u001b[0;34m*\u001b[0m\u001b[0margs\u001b[0m\u001b[0;34m,\u001b[0m \u001b[0;34m**\u001b[0m\u001b[0mkwargs\u001b[0m\u001b[0;34m)\u001b[0m\u001b[0;34m\u001b[0m\u001b[0;34m\u001b[0m\u001b[0m\n\u001b[0m\u001b[1;32m    224\u001b[0m             \u001b[0;32mexcept\u001b[0m \u001b[0mBaseException\u001b[0m \u001b[0;32mas\u001b[0m \u001b[0me\u001b[0m\u001b[0;34m:\u001b[0m\u001b[0;34m\u001b[0m\u001b[0;34m\u001b[0m\u001b[0m\n\u001b[1;32m    225\u001b[0m                 \u001b[0mself\u001b[0m\u001b[0;34m.\u001b[0m\u001b[0mevent\u001b[0m\u001b[0;34m(\u001b[0m\u001b[0mSpanDropEvent\u001b[0m\u001b[0;34m(\u001b[0m\u001b[0mspan_id\u001b[0m\u001b[0;34m=\u001b[0m\u001b[0mid_\u001b[0m\u001b[0;34m,\u001b[0m \u001b[0merr_str\u001b[0m\u001b[0;34m=\u001b[0m\u001b[0mstr\u001b[0m\u001b[0;34m(\u001b[0m\u001b[0me\u001b[0m\u001b[0;34m)\u001b[0m\u001b[0;34m)\u001b[0m\u001b[0;34m)\u001b[0m\u001b[0;34m\u001b[0m\u001b[0;34m\u001b[0m\u001b[0m\n",
            "\u001b[0;32m/usr/local/lib/python3.10/dist-packages/llama_index/core/agent/runner/base.py\u001b[0m in \u001b[0;36m_chat\u001b[0;34m(self, message, chat_history, tool_choice, mode)\u001b[0m\n\u001b[1;32m    570\u001b[0m         \u001b[0;32mwhile\u001b[0m \u001b[0;32mTrue\u001b[0m\u001b[0;34m:\u001b[0m\u001b[0;34m\u001b[0m\u001b[0;34m\u001b[0m\u001b[0m\n\u001b[1;32m    571\u001b[0m             \u001b[0;31m# pass step queue in as argument, assume step executor is stateless\u001b[0m\u001b[0;34m\u001b[0m\u001b[0;34m\u001b[0m\u001b[0m\n\u001b[0;32m--> 572\u001b[0;31m             cur_step_output = self._run_step(\n\u001b[0m\u001b[1;32m    573\u001b[0m                 \u001b[0mtask\u001b[0m\u001b[0;34m.\u001b[0m\u001b[0mtask_id\u001b[0m\u001b[0;34m,\u001b[0m \u001b[0mmode\u001b[0m\u001b[0;34m=\u001b[0m\u001b[0mmode\u001b[0m\u001b[0;34m,\u001b[0m \u001b[0mtool_choice\u001b[0m\u001b[0;34m=\u001b[0m\u001b[0mtool_choice\u001b[0m\u001b[0;34m\u001b[0m\u001b[0;34m\u001b[0m\u001b[0m\n\u001b[1;32m    574\u001b[0m             )\n",
            "\u001b[0;32m/usr/local/lib/python3.10/dist-packages/llama_index/core/instrumentation/dispatcher.py\u001b[0m in \u001b[0;36mwrapper\u001b[0;34m(func, instance, args, kwargs)\u001b[0m\n\u001b[1;32m    221\u001b[0m             )\n\u001b[1;32m    222\u001b[0m             \u001b[0;32mtry\u001b[0m\u001b[0;34m:\u001b[0m\u001b[0;34m\u001b[0m\u001b[0;34m\u001b[0m\u001b[0m\n\u001b[0;32m--> 223\u001b[0;31m                 \u001b[0mresult\u001b[0m \u001b[0;34m=\u001b[0m \u001b[0mfunc\u001b[0m\u001b[0;34m(\u001b[0m\u001b[0;34m*\u001b[0m\u001b[0margs\u001b[0m\u001b[0;34m,\u001b[0m \u001b[0;34m**\u001b[0m\u001b[0mkwargs\u001b[0m\u001b[0;34m)\u001b[0m\u001b[0;34m\u001b[0m\u001b[0;34m\u001b[0m\u001b[0m\n\u001b[0m\u001b[1;32m    224\u001b[0m             \u001b[0;32mexcept\u001b[0m \u001b[0mBaseException\u001b[0m \u001b[0;32mas\u001b[0m \u001b[0me\u001b[0m\u001b[0;34m:\u001b[0m\u001b[0;34m\u001b[0m\u001b[0;34m\u001b[0m\u001b[0m\n\u001b[1;32m    225\u001b[0m                 \u001b[0mself\u001b[0m\u001b[0;34m.\u001b[0m\u001b[0mevent\u001b[0m\u001b[0;34m(\u001b[0m\u001b[0mSpanDropEvent\u001b[0m\u001b[0;34m(\u001b[0m\u001b[0mspan_id\u001b[0m\u001b[0;34m=\u001b[0m\u001b[0mid_\u001b[0m\u001b[0;34m,\u001b[0m \u001b[0merr_str\u001b[0m\u001b[0;34m=\u001b[0m\u001b[0mstr\u001b[0m\u001b[0;34m(\u001b[0m\u001b[0me\u001b[0m\u001b[0;34m)\u001b[0m\u001b[0;34m)\u001b[0m\u001b[0;34m)\u001b[0m\u001b[0;34m\u001b[0m\u001b[0;34m\u001b[0m\u001b[0m\n",
            "\u001b[0;32m/usr/local/lib/python3.10/dist-packages/llama_index/core/agent/runner/base.py\u001b[0m in \u001b[0;36m_run_step\u001b[0;34m(self, task_id, step, input, mode, **kwargs)\u001b[0m\n\u001b[1;32m    409\u001b[0m \u001b[0;34m\u001b[0m\u001b[0m\n\u001b[1;32m    410\u001b[0m         \u001b[0;32mif\u001b[0m \u001b[0mmode\u001b[0m \u001b[0;34m==\u001b[0m \u001b[0mChatResponseMode\u001b[0m\u001b[0;34m.\u001b[0m\u001b[0mWAIT\u001b[0m\u001b[0;34m:\u001b[0m\u001b[0;34m\u001b[0m\u001b[0;34m\u001b[0m\u001b[0m\n\u001b[0;32m--> 411\u001b[0;31m             \u001b[0mcur_step_output\u001b[0m \u001b[0;34m=\u001b[0m \u001b[0mself\u001b[0m\u001b[0;34m.\u001b[0m\u001b[0magent_worker\u001b[0m\u001b[0;34m.\u001b[0m\u001b[0mrun_step\u001b[0m\u001b[0;34m(\u001b[0m\u001b[0mstep\u001b[0m\u001b[0;34m,\u001b[0m \u001b[0mtask\u001b[0m\u001b[0;34m,\u001b[0m \u001b[0;34m**\u001b[0m\u001b[0mkwargs\u001b[0m\u001b[0;34m)\u001b[0m\u001b[0;34m\u001b[0m\u001b[0;34m\u001b[0m\u001b[0m\n\u001b[0m\u001b[1;32m    412\u001b[0m         \u001b[0;32melif\u001b[0m \u001b[0mmode\u001b[0m \u001b[0;34m==\u001b[0m \u001b[0mChatResponseMode\u001b[0m\u001b[0;34m.\u001b[0m\u001b[0mSTREAM\u001b[0m\u001b[0;34m:\u001b[0m\u001b[0;34m\u001b[0m\u001b[0;34m\u001b[0m\u001b[0m\n\u001b[1;32m    413\u001b[0m             \u001b[0mcur_step_output\u001b[0m \u001b[0;34m=\u001b[0m \u001b[0mself\u001b[0m\u001b[0;34m.\u001b[0m\u001b[0magent_worker\u001b[0m\u001b[0;34m.\u001b[0m\u001b[0mstream_step\u001b[0m\u001b[0;34m(\u001b[0m\u001b[0mstep\u001b[0m\u001b[0;34m,\u001b[0m \u001b[0mtask\u001b[0m\u001b[0;34m,\u001b[0m \u001b[0;34m**\u001b[0m\u001b[0mkwargs\u001b[0m\u001b[0;34m)\u001b[0m\u001b[0;34m\u001b[0m\u001b[0;34m\u001b[0m\u001b[0m\n",
            "\u001b[0;32m/usr/local/lib/python3.10/dist-packages/llama_index/core/callbacks/utils.py\u001b[0m in \u001b[0;36mwrapper\u001b[0;34m(self, *args, **kwargs)\u001b[0m\n\u001b[1;32m     39\u001b[0m             \u001b[0mcallback_manager\u001b[0m \u001b[0;34m=\u001b[0m \u001b[0mcast\u001b[0m\u001b[0;34m(\u001b[0m\u001b[0mCallbackManager\u001b[0m\u001b[0;34m,\u001b[0m \u001b[0mcallback_manager\u001b[0m\u001b[0;34m)\u001b[0m\u001b[0;34m\u001b[0m\u001b[0;34m\u001b[0m\u001b[0m\n\u001b[1;32m     40\u001b[0m             \u001b[0;32mwith\u001b[0m \u001b[0mcallback_manager\u001b[0m\u001b[0;34m.\u001b[0m\u001b[0mas_trace\u001b[0m\u001b[0;34m(\u001b[0m\u001b[0mtrace_id\u001b[0m\u001b[0;34m)\u001b[0m\u001b[0;34m:\u001b[0m\u001b[0;34m\u001b[0m\u001b[0;34m\u001b[0m\u001b[0m\n\u001b[0;32m---> 41\u001b[0;31m                 \u001b[0;32mreturn\u001b[0m \u001b[0mfunc\u001b[0m\u001b[0;34m(\u001b[0m\u001b[0mself\u001b[0m\u001b[0;34m,\u001b[0m \u001b[0;34m*\u001b[0m\u001b[0margs\u001b[0m\u001b[0;34m,\u001b[0m \u001b[0;34m**\u001b[0m\u001b[0mkwargs\u001b[0m\u001b[0;34m)\u001b[0m\u001b[0;34m\u001b[0m\u001b[0;34m\u001b[0m\u001b[0m\n\u001b[0m\u001b[1;32m     42\u001b[0m \u001b[0;34m\u001b[0m\u001b[0m\n\u001b[1;32m     43\u001b[0m         \u001b[0;34m@\u001b[0m\u001b[0mfunctools\u001b[0m\u001b[0;34m.\u001b[0m\u001b[0mwraps\u001b[0m\u001b[0;34m(\u001b[0m\u001b[0mfunc\u001b[0m\u001b[0;34m)\u001b[0m  \u001b[0;31m# preserve signature, name, etc. of func\u001b[0m\u001b[0;34m\u001b[0m\u001b[0;34m\u001b[0m\u001b[0m\n",
            "\u001b[0;32m/usr/local/lib/python3.10/dist-packages/llama_index/core/agent/react/step.py\u001b[0m in \u001b[0;36mrun_step\u001b[0;34m(self, step, task, **kwargs)\u001b[0m\n\u001b[1;32m    744\u001b[0m     \u001b[0;32mdef\u001b[0m \u001b[0mrun_step\u001b[0m\u001b[0;34m(\u001b[0m\u001b[0mself\u001b[0m\u001b[0;34m,\u001b[0m \u001b[0mstep\u001b[0m\u001b[0;34m:\u001b[0m \u001b[0mTaskStep\u001b[0m\u001b[0;34m,\u001b[0m \u001b[0mtask\u001b[0m\u001b[0;34m:\u001b[0m \u001b[0mTask\u001b[0m\u001b[0;34m,\u001b[0m \u001b[0;34m**\u001b[0m\u001b[0mkwargs\u001b[0m\u001b[0;34m:\u001b[0m \u001b[0mAny\u001b[0m\u001b[0;34m)\u001b[0m \u001b[0;34m->\u001b[0m \u001b[0mTaskStepOutput\u001b[0m\u001b[0;34m:\u001b[0m\u001b[0;34m\u001b[0m\u001b[0;34m\u001b[0m\u001b[0m\n\u001b[1;32m    745\u001b[0m         \u001b[0;34m\"\"\"Run step.\"\"\"\u001b[0m\u001b[0;34m\u001b[0m\u001b[0;34m\u001b[0m\u001b[0m\n\u001b[0;32m--> 746\u001b[0;31m         \u001b[0;32mreturn\u001b[0m \u001b[0mself\u001b[0m\u001b[0;34m.\u001b[0m\u001b[0m_run_step\u001b[0m\u001b[0;34m(\u001b[0m\u001b[0mstep\u001b[0m\u001b[0;34m,\u001b[0m \u001b[0mtask\u001b[0m\u001b[0;34m)\u001b[0m\u001b[0;34m\u001b[0m\u001b[0;34m\u001b[0m\u001b[0m\n\u001b[0m\u001b[1;32m    747\u001b[0m \u001b[0;34m\u001b[0m\u001b[0m\n\u001b[1;32m    748\u001b[0m     \u001b[0;34m@\u001b[0m\u001b[0mtrace_method\u001b[0m\u001b[0;34m(\u001b[0m\u001b[0;34m\"run_step\"\u001b[0m\u001b[0;34m)\u001b[0m\u001b[0;34m\u001b[0m\u001b[0;34m\u001b[0m\u001b[0m\n",
            "\u001b[0;32m/usr/local/lib/python3.10/dist-packages/llama_index/core/agent/react/step.py\u001b[0m in \u001b[0;36m_run_step\u001b[0;34m(self, step, task)\u001b[0m\n\u001b[1;32m    542\u001b[0m         )\n\u001b[1;32m    543\u001b[0m         \u001b[0mtask\u001b[0m\u001b[0;34m.\u001b[0m\u001b[0mextra_state\u001b[0m\u001b[0;34m[\u001b[0m\u001b[0;34m\"current_reasoning\"\u001b[0m\u001b[0;34m]\u001b[0m\u001b[0;34m.\u001b[0m\u001b[0mextend\u001b[0m\u001b[0;34m(\u001b[0m\u001b[0mreasoning_steps\u001b[0m\u001b[0;34m)\u001b[0m\u001b[0;34m\u001b[0m\u001b[0;34m\u001b[0m\u001b[0m\n\u001b[0;32m--> 544\u001b[0;31m         agent_response = self._get_response(\n\u001b[0m\u001b[1;32m    545\u001b[0m             \u001b[0mtask\u001b[0m\u001b[0;34m.\u001b[0m\u001b[0mextra_state\u001b[0m\u001b[0;34m[\u001b[0m\u001b[0;34m\"current_reasoning\"\u001b[0m\u001b[0;34m]\u001b[0m\u001b[0;34m,\u001b[0m \u001b[0mtask\u001b[0m\u001b[0;34m.\u001b[0m\u001b[0mextra_state\u001b[0m\u001b[0;34m[\u001b[0m\u001b[0;34m\"sources\"\u001b[0m\u001b[0;34m]\u001b[0m\u001b[0;34m\u001b[0m\u001b[0;34m\u001b[0m\u001b[0m\n\u001b[1;32m    546\u001b[0m         )\n",
            "\u001b[0;32m/usr/local/lib/python3.10/dist-packages/llama_index/core/agent/react/step.py\u001b[0m in \u001b[0;36m_get_response\u001b[0;34m(self, current_reasoning, sources)\u001b[0m\n\u001b[1;32m    414\u001b[0m             \u001b[0;32mraise\u001b[0m \u001b[0mValueError\u001b[0m\u001b[0;34m(\u001b[0m\u001b[0;34m\"No reasoning steps were taken.\"\u001b[0m\u001b[0;34m)\u001b[0m\u001b[0;34m\u001b[0m\u001b[0;34m\u001b[0m\u001b[0m\n\u001b[1;32m    415\u001b[0m         \u001b[0;32melif\u001b[0m \u001b[0mlen\u001b[0m\u001b[0;34m(\u001b[0m\u001b[0mcurrent_reasoning\u001b[0m\u001b[0;34m)\u001b[0m \u001b[0;34m==\u001b[0m \u001b[0mself\u001b[0m\u001b[0;34m.\u001b[0m\u001b[0m_max_iterations\u001b[0m\u001b[0;34m:\u001b[0m\u001b[0;34m\u001b[0m\u001b[0;34m\u001b[0m\u001b[0m\n\u001b[0;32m--> 416\u001b[0;31m             \u001b[0;32mraise\u001b[0m \u001b[0mValueError\u001b[0m\u001b[0;34m(\u001b[0m\u001b[0;34m\"Reached max iterations.\"\u001b[0m\u001b[0;34m)\u001b[0m\u001b[0;34m\u001b[0m\u001b[0;34m\u001b[0m\u001b[0m\n\u001b[0m\u001b[1;32m    417\u001b[0m \u001b[0;34m\u001b[0m\u001b[0m\n\u001b[1;32m    418\u001b[0m         \u001b[0;32mif\u001b[0m \u001b[0misinstance\u001b[0m\u001b[0;34m(\u001b[0m\u001b[0mcurrent_reasoning\u001b[0m\u001b[0;34m[\u001b[0m\u001b[0;34m-\u001b[0m\u001b[0;36m1\u001b[0m\u001b[0;34m]\u001b[0m\u001b[0;34m,\u001b[0m \u001b[0mResponseReasoningStep\u001b[0m\u001b[0;34m)\u001b[0m\u001b[0;34m:\u001b[0m\u001b[0;34m\u001b[0m\u001b[0;34m\u001b[0m\u001b[0m\n",
            "\u001b[0;31mValueError\u001b[0m: Reached max iterations."
          ]
        }
      ]
    },
    {
      "cell_type": "code",
      "source": [
        "node = reorder_response.source_nodes[0]\n",
        "response_json = {}\n",
        "response_json['response'] = reorder_response.response\n",
        "response_json['Search_Score'] = node.score\n",
        "\n",
        "try:\n",
        "  response_json['url'] = str(node.metadata['URL'])\n",
        "except  KeyError as e:\n",
        "  response_json['url'] =  str(file_to_url_mapping[node.metadata['file_name']])\n",
        "\n",
        "print(response_json)"
      ],
      "metadata": {
        "colab": {
          "base_uri": "https://localhost:8080/"
        },
        "id": "lLIpj1oTfLgi",
        "outputId": "8a180c90-0858-48d5-da81-3a99f7238060"
      },
      "execution_count": null,
      "outputs": [
        {
          "output_type": "stream",
          "name": "stdout",
          "text": [
            "{'response': 'The published date of the eFile implementation at NRHM-Mumbai is March 13, 2012.', 'Search_Score': 0.7125760023009837, 'url': 'https://maharashtra.nic.in/events/'}\n"
          ]
        }
      ]
    },
    {
      "cell_type": "code",
      "source": [
        "print(reorder_response.get_formatted_sources())"
      ],
      "metadata": {
        "colab": {
          "base_uri": "https://localhost:8080/"
        },
        "id": "rWMaaUgfd4n6",
        "outputId": "96ad8e8e-69f3-4205-9e21-77d6ec6b5431"
      },
      "execution_count": null,
      "outputs": [
        {
          "output_type": "stream",
          "name": "stdout",
          "text": [
            "> Source (Doc id: 90290cbd-19a7-4594-9076-f07b68779323): Following are the news updates available in the official website of NIC Maharashtra https://mahar...\n",
            "\n",
            "> Source (Doc id: 2f4b8ee2-5eb0-449c-8204-9746ac19217d): 1. What is NIC? or Introduction of NIC or Profile of NIC\n",
            "\n",
            "Answer:\n",
            "\n",
            "National Informatics Centre (N...\n",
            "\n",
            "> Source (Doc id: a659c0ac-15b7-4cee-b8b5-9fc68d21dd65): Overview of Services offered by NIC:\n",
            "\n",
            "NIC is closely associated with the government in different ...\n",
            "\n",
            "> Source (Doc id: f897f45e-34aa-475f-a8f2-3310a9b51765): Here is the list of 35 districts/district centres where National Informatics Centre (NIC) has its...\n",
            "\n",
            "> Source (Doc id: dce2aafa-31bf-494f-98e3-454961649537): Below is the list of all the 5 events that took place in NIC as mentioned in the official website...\n",
            "\n",
            "> Source (Doc id: 1f49a56e-9966-4bb0-a2c7-e5b1c387e46a): The following are the list of photo titles which are available in the photo gallery section of th...\n"
          ]
        }
      ]
    },
    {
      "cell_type": "code",
      "source": [
        "reorder_response"
      ],
      "metadata": {
        "colab": {
          "base_uri": "https://localhost:8080/"
        },
        "collapsed": true,
        "id": "EFNzdDPOhoPp",
        "outputId": "21947570-628c-4347-f548-fa54e253f8a3"
      },
      "execution_count": null,
      "outputs": [
        {
          "output_type": "execute_result",
          "data": {
            "text/plain": [
              "AgentChatResponse(response='The published date of the Training Program of IVFRT-MMP at FRRO is August 20, 2013.', sources=[ToolOutput(content='According to the provided context information, the published date of the Training Program of IVFRT-MMP at FRRO is August 20, 2013.', tool_name='query_engine_tool', raw_input={'input': 'published date of the Training Program of IVFRT-MMP at FRRO'}, raw_output=Response(response='According to the provided context information, the published date of the Training Program of IVFRT-MMP at FRRO is August 20, 2013.', source_nodes=[NodeWithScore(node=TextNode(id_='1f49a56e-9966-4bb0-a2c7-e5b1c387e46a', embedding=None, metadata={'file_name': 'photo_gallery.docx', 'file_path': '/content/docs/photo_gallery.docx', 'file_type': 'application/vnd.openxmlformats-officedocument.wordprocessingml.document', 'file_size': 14816, 'creation_date': '2024-06-06', 'last_modified_date': '2024-06-06'}, excluded_embed_metadata_keys=['file_name', 'file_type', 'file_size', 'creation_date', 'last_modified_date', 'last_accessed_date'], excluded_llm_metadata_keys=['file_name', 'file_type', 'file_size', 'creation_date', 'last_modified_date', 'last_accessed_date'], relationships={<NodeRelationship.SOURCE: '1'>: RelatedNodeInfo(node_id='23c27293-e8e6-4b44-953a-6a7af127dc32', node_type=<ObjectType.DOCUMENT: '4'>, metadata={'file_name': 'photo_gallery.docx', 'file_path': '/content/docs/photo_gallery.docx', 'file_type': 'application/vnd.openxmlformats-officedocument.wordprocessingml.document', 'file_size': 14816, 'creation_date': '2024-06-06', 'last_modified_date': '2024-06-06'}, hash='9cfde45aa67bf80c443a31685f00f5caa19254530ebfa11ec945648be4b7e215')}, text='The following are the list of photo titles which are available in the photo gallery section of the webpage:\\n\\n https://maharashtra.nic.in/\\n\\nSIO & ASIO NIC Maharashtra Visit to Districts of Aurangabad division of Maharashtra\\n\\nDigital India Week Programme 2022 Held at Gandhinagar\\n\\nSIO, MH Gallery\\n\\nStudy tour of Maharashtra team led by SIO NIC to Chhatisgarh for Paddy Procurement system on 15th and 16th Jan 2020.\\n\\nVisit of Hon’ble DG to NIC Maharashtra State Centre.\\n\\nWorkshop and Training of PDS with District and Taluka Officials\\n\\nConstitution Day : 26 November 2019\\n\\nNational Informatics Centre, District Akola received eLets Smart Governance 2015 Award\\n\\neDISNIC (electronic District Information System of National Informatics Centre) received Skoch Order of Merit award 2015\\n\\nCommon Application Software for Public Distribution System (ePDS) developed by National Informatics Centre is implemented in Maharashtra\\n\\nAdditional Secretary, Government of India and Director General, National Informatics Centre in Video Conference with District Centres alongwith State Informatics Officer, Maharashtra\\n\\nVideo conferencing via NICNET of Hon’ble Governor, Maharashtra with all Divisional Commissioners and District Collectors on Swaccha Bharat Abhiyan on 21st October 2014\\n\\nSwacchata Abhiyan pledge administration by S.I.O., Maharashtra to Officers and Staff of NIC Maharashtra\\n\\nOrganization of Hindi Pakhawada at NIC, Maharashtra State, Centre Mumbai -2014\\n\\nReview Meeting of Maharashtra Land Record Computerisation at Yashada on 3/4/06 – 4/4/2006\\n\\nPanchayat Portal Workshop at Yashada on 3/4/06 – 4/4/2006\\n\\nRelease of Activity Report by DG at Delhi on 23/3/2006\\n\\nRelease of Project Brouchure by DG at Delhi on 23/1/2005', start_char_idx=0, end_char_idx=1718, text_template='{metadata_str}\\n\\n{content}', metadata_template='{key}: {value}', metadata_seperator='\\n'), score=0.4366670501950552), NodeWithScore(node=TextNode(id_='2f4b8ee2-5eb0-449c-8204-9746ac19217d', embedding=None, metadata={'file_name': 'Nic.docx', 'file_path': '/content/docs/Nic.docx', 'file_type': 'application/vnd.openxmlformats-officedocument.wordprocessingml.document', 'file_size': 14752, 'creation_date': '2024-06-06', 'last_modified_date': '2024-06-06'}, excluded_embed_metadata_keys=['file_name', 'file_type', 'file_size', 'creation_date', 'last_modified_date', 'last_accessed_date'], excluded_llm_metadata_keys=['file_name', 'file_type', 'file_size', 'creation_date', 'last_modified_date', 'last_accessed_date'], relationships={<NodeRelationship.SOURCE: '1'>: RelatedNodeInfo(node_id='1569869b-044f-4e12-bfcc-a62bfb045783', node_type=<ObjectType.DOCUMENT: '4'>, metadata={'file_name': 'Nic.docx', 'file_path': '/content/docs/Nic.docx', 'file_type': 'application/vnd.openxmlformats-officedocument.wordprocessingml.document', 'file_size': 14752, 'creation_date': '2024-06-06', 'last_modified_date': '2024-06-06'}, hash='87b0a1d2c3ec03c4ef470caa262664fe8373f2d3bd472c5a5bc933c82fb8344e')}, text='1. What is NIC? or Introduction of NIC or Profile of NIC\\n\\nAnswer:\\n\\nNational Informatics Centre (NIC) is a premiere S&T institution of the Government of India, established in 1976, for providing e-Government/e-Governance Solutions adopting best practices, integrated services and global solutions in Government Sector. In 1975, the Government of India strategically decided to take effective steps for the development of information systems and utilization of information resources and also for introducing computer based decision support system (informatics-led development) in government ministries and departments to facilitate planning and programme implementation to further the growth of economic and social development. Following this, the Central Government nucleated a high priority plan project “National Informatics Centre (NIC)” in 1976. NIC has played an important role of an active catalyst and facilitator in informatics development programme in Governments at the national, state and district levels, which made them take policy decisions to create knowledge societies – societies that can exploit knowledge to derive competitive advantage using the opportunities provided by digital technology. NIC has been instrumental in adopting Information and Communication Technology to reach out across India i.e. by implementing IT applications in Social and Public Administrations. NIC has spearheaded the e-Governance drive in the country for the last three decades building a strong foundation for better and more transparent governance and assisting the governments endeavour to reach the unreached. NIC Maharashtra State Centre, Mumbai is located at New Administrative Building, Mantralaya. NIC Maharashtra State Centre provides software development, internet, communication services and Video conferencing via NICNET to State and Central Govt. departments in the state of Maharashtra. Besides the State Centre, NIC offices are also located in the High Court & its Benches, Central Government offices and 36 district centres located at respective Collectorate offices. These centres provide informatics support to Collectorate offices, Zilla Parishad, District courts and all allied offices of State and Central Government.\\n\\n\\n\\n\\n\\n\\n\\n2. What are all the work done by NIC? or Provide the summary of the work done by NIC.\\n\\nAnswer:\\n\\nThe National Informatics Centre (NIC) Maharashtra State Centre provides various e-Government and e-Governance solutions. Key activities include:\\n\\nDigital Services: Cloud services, domain registration, email, security, hosting, video-conferencing.\\n\\nInfrastructure: Data centers, networking, office-automation solutions.\\n\\nICT Support: Projects like biometric attendance, e-Office, messaging, cyber security, and webcasting.\\n\\nDevelopment Projects: Digital agriculture platforms, fintech, health-tech, and edu-tech solutions.\\n\\nFor more detailed information, you can visit the NIC Maharashtra website: https://maharashtra.nic.in/', start_char_idx=0, end_char_idx=2964, text_template='{metadata_str}\\n\\n{content}', metadata_template='{key}: {value}', metadata_seperator='\\n'), score=0.3723106191178464), NodeWithScore(node=TextNode(id_='f897f45e-34aa-475f-a8f2-3310a9b51765', embedding=None, metadata={'file_name': 'districts.docx', 'file_path': '/content/docs/districts.docx', 'file_type': 'application/vnd.openxmlformats-officedocument.wordprocessingml.document', 'file_size': 12853, 'creation_date': '2024-06-06', 'last_modified_date': '2024-06-06'}, excluded_embed_metadata_keys=['file_name', 'file_type', 'file_size', 'creation_date', 'last_modified_date', 'last_accessed_date'], excluded_llm_metadata_keys=['file_name', 'file_type', 'file_size', 'creation_date', 'last_modified_date', 'last_accessed_date'], relationships={<NodeRelationship.SOURCE: '1'>: RelatedNodeInfo(node_id='39a7300d-a1ec-44eb-ab22-9d4cf1c31234', node_type=<ObjectType.DOCUMENT: '4'>, metadata={'file_name': 'districts.docx', 'file_path': '/content/docs/districts.docx', 'file_type': 'application/vnd.openxmlformats-officedocument.wordprocessingml.document', 'file_size': 12853, 'creation_date': '2024-06-06', 'last_modified_date': '2024-06-06'}, hash='8845e8972970fccb028c1636d438d2d1f4216d6d8da3d2e95989f431ca7f8184')}, text='Here is the list of 35 districts/district centres where National Informatics Centre (NIC) has its presence:\\n\\n\\n\\n1. Ahmadnagar\\n\\n2. Akola\\n\\n3. Amravati\\n\\n4. Aurangabad\\n\\n5. Beed\\n\\n6. Bhandara\\n\\n7. Buldana\\n\\n8. Chandrapur\\n\\n9. Dhule\\n\\n10. Gadchiroli\\n\\n11. Gondia\\n\\n12. Hingoli\\n\\n13. Jalgaon\\n\\n14. Jalna\\n\\n15. Kolhapur\\n\\n16. Mumbai\\n\\n17. Mumbai Suburban (Bandra)\\n\\n18. Nagpur\\n\\n19. Nanded\\n\\n20. Nandurbar\\n\\n21. Nasik\\n\\n22. Osmanabad\\n\\n23. Palghar\\n\\n24. Parbhani\\n\\n25. Pune District\\n\\n26. Raigad\\n\\n27. Ratnagiri\\n\\n28. Sangli\\n\\n29. Satara\\n\\n30. Sindhu Durg\\n\\n31. Solapur\\n\\n32. Thane\\n\\n33. Wardha\\n\\n34. Washim\\n\\n35. Yavatmal', start_char_idx=0, end_char_idx=583, text_template='{metadata_str}\\n\\n{content}', metadata_template='{key}: {value}', metadata_seperator='\\n'), score=0.32961147200945007), NodeWithScore(node=TextNode(id_='a659c0ac-15b7-4cee-b8b5-9fc68d21dd65', embedding=None, metadata={'file_name': 'services.docx', 'file_path': '/content/docs/services.docx', 'file_type': 'application/vnd.openxmlformats-officedocument.wordprocessingml.document', 'file_size': 12434, 'creation_date': '2024-06-06', 'last_modified_date': '2024-06-06'}, excluded_embed_metadata_keys=['file_name', 'file_type', 'file_size', 'creation_date', 'last_modified_date', 'last_accessed_date'], excluded_llm_metadata_keys=['file_name', 'file_type', 'file_size', 'creation_date', 'last_modified_date', 'last_accessed_date'], relationships={<NodeRelationship.SOURCE: '1'>: RelatedNodeInfo(node_id='47d245e2-aeb6-4da1-a043-e1c775302b78', node_type=<ObjectType.DOCUMENT: '4'>, metadata={'file_name': 'services.docx', 'file_path': '/content/docs/services.docx', 'file_type': 'application/vnd.openxmlformats-officedocument.wordprocessingml.document', 'file_size': 12434, 'creation_date': '2024-06-06', 'last_modified_date': '2024-06-06'}, hash='c16e9226d14e5344d639d2acf6caacdbf994a4abaa209126f36393a21dc3f70e')}, text='Overview of Services offered by NIC:\\n\\nNIC is closely associated with the government in different aspects of governance by establishing a nationwide state-of-the-art ICT infrastructure and services for Central Government, State Governments, UT Administrations, Districts and other Government bodies. It offers a wide range of services which includes multi gigabit nationwide networks NICNET, NKN, National Data Centres, National Cloud, pan India VC infrastructure, Command and Control Centre, multi-layered GIS based platform, Domain Registration and Webcast. This plays a significant role in delivering citizen centric e-services.', start_char_idx=0, end_char_idx=630, text_template='{metadata_str}\\n\\n{content}', metadata_template='{key}: {value}', metadata_seperator='\\n'), score=0.340224877859093), NodeWithScore(node=TextNode(id_='dce2aafa-31bf-494f-98e3-454961649537', embedding=None, metadata={'file_name': 'events.docx', 'file_path': '/content/docs/events.docx', 'file_type': 'application/vnd.openxmlformats-officedocument.wordprocessingml.document', 'file_size': 14392, 'creation_date': '2024-06-06', 'last_modified_date': '2024-06-06'}, excluded_embed_metadata_keys=['file_name', 'file_type', 'file_size', 'creation_date', 'last_modified_date', 'last_accessed_date'], excluded_llm_metadata_keys=['file_name', 'file_type', 'file_size', 'creation_date', 'last_modified_date', 'last_accessed_date'], relationships={<NodeRelationship.SOURCE: '1'>: RelatedNodeInfo(node_id='cb9007c7-1e38-460c-8b52-a18851968a55', node_type=<ObjectType.DOCUMENT: '4'>, metadata={'file_name': 'events.docx', 'file_path': '/content/docs/events.docx', 'file_type': 'application/vnd.openxmlformats-officedocument.wordprocessingml.document', 'file_size': 14392, 'creation_date': '2024-06-06', 'last_modified_date': '2024-06-06'}, hash='6f0b8653b12406b9bd7388e824844b68f358b0e7c81aa20a6235988912aa36fd')}, text='Below is the list of all the 5 events that took place in NIC as mentioned in the official website of NIC maharashtra:\\n\\nCyber Crime and Cyber Laws (Start Date: 28/09/2022, End Date: 28/09/2022, Venue: NIC Maharashtra State Centre, Mumbai) Webinar on “Cyber Crime and Cyber Laws ” at NIC Maharashtra State Centre, Mumbai September 28th, 2022.\\n\\nSuperannuation of Sh. Dhanjay Kulkarni, DIO Pune and Ms. Sneha Shula, ADIO Nashik in the Month of April 2022, (Start Date: 30/04/2022, End Date : 30/04/2022, Venue : Mumbai)\\n\\nSIO Maharashtra met new Director General, NIC on 01/06/2022 (Start Date : 01/06/2022, End Date : 01/06/2022, Venue : New Delhi)\\n\\nHon’ble Minister of Electronics and Information Technology and Railways visit to Mumbai (Start Date : 18/02/2022, End Date : 18/02/2022, Venue : Mumbai). Hon’ble Minister of Electronics and Information Technology and Railways Shri Ashwini Vaishnaw, visited Mumbai on 18.02.2022 to attend the inaugural function of opening of two Railway lines by the Hon’ble Prime Minister through Video conferencing. Shri K.P. Pariselvan, State Informatics Officer, NIC, Maharashtra, welcomed the Hon’ble Minister at Mumbai Airport. Hon’ble Minister was also appraised about NIC projects at the time of departure. Hon’ble Minister has conveyed SIO NIC Maharashtra that during his next visit will take a review of the projects. SIO NIC Maharashtra thanked Hon’ble Minister.\\n\\nSwachhatta Pakhwada from 01st to 15th February 2022 (Start Date : 01/02/2022, End Date : 15/02/2022, Venue : NIC Maharashtra State and District Centres). Swachhatta Pakhwada was observed at NIC Maharashtra State and District Centres from 01st to 15th February 2022. All officers and staff from State centre and District centres took the Swachhatta Pledge on 2nd Feb. 2022. With reference to the circular No. A-60019/04/2021/GCS-1 dated 28/01/2022 from NIC HQ regarding disposal of obsolete Computer Hardware and its related peripherals and furniture items during the Swachhatta Pakhwada 2022, NIC Maharashtra has auctioned obsolete hardware, old books and weeded files as per the guidelines. Also initiated the process of auctioning obsolete air conditioners, old furniture and remaining obsolete hardware from State and District Centres of Maharashtra.', start_char_idx=0, end_char_idx=2257, text_template='{metadata_str}\\n\\n{content}', metadata_template='{key}: {value}', metadata_seperator='\\n'), score=0.40157442883601335), NodeWithScore(node=TextNode(id_='90290cbd-19a7-4594-9076-f07b68779323', embedding=None, metadata={'file_name': 'news_updates.docx', 'file_path': '/content/docs/news_updates.docx', 'file_type': 'application/vnd.openxmlformats-officedocument.wordprocessingml.document', 'file_size': 15496, 'creation_date': '2024-06-06', 'last_modified_date': '2024-06-06'}, excluded_embed_metadata_keys=['file_name', 'file_type', 'file_size', 'creation_date', 'last_modified_date', 'last_accessed_date'], excluded_llm_metadata_keys=['file_name', 'file_type', 'file_size', 'creation_date', 'last_modified_date', 'last_accessed_date'], relationships={<NodeRelationship.SOURCE: '1'>: RelatedNodeInfo(node_id='d4fd914c-0f3a-470e-bdbd-483cfc308bb5', node_type=<ObjectType.DOCUMENT: '4'>, metadata={'file_name': 'news_updates.docx', 'file_path': '/content/docs/news_updates.docx', 'file_type': 'application/vnd.openxmlformats-officedocument.wordprocessingml.document', 'file_size': 15496, 'creation_date': '2024-06-06', 'last_modified_date': '2024-06-06'}, hash='043991eb42046ec03b86cca6c418f35dd1cdc8152576b5b62140ce50af01df7c')}, text='Following are the news updates available in the official website of NIC Maharashtra https://maharashtra.nic.in/news-update/ : \\n\\n\\n\\nSIMNIC – NIC eGov Mobile App, Publish Date : August 2, 2021, “SIMNIC : Status Information Management system of NIC is a tool for Participating Government of India Departments to prepare formats on the fly and get the MIS data from line offices in required periodicity.\\n\\n\\n\\nSAMPARK – NIC eGov Mobile App, Publish Date : July 31, 2021, The main aim of the SAMPARK Application(android & iOS) and a totally progressive and responsive website is to provide information of Government officials (in service) about their present posting details and keep it updated.\\n\\nNIC Maharashtra – ICT support during COVID-19, Publish Date : June 25, 2020.\\n\\n\\n\\nGIS for SRA Mumbai, Publish Date : January 8, 2020, URL : http://umd.nic.in/sra, Andriod App : AASARA (Andriod), Apple App : AASARA (Apple)\\n\\n01/01/2020 : Total hits for GIS data 1.05 Crore, Total downloads of Mobile : 10,000+\\n\\n15/12/2018 : Soft launch of iOS app AASRA for Apple device users.\\n\\n12/9/2018 : Inauguration of AASRA mobile app by Hon’ble CM of Maharashtra for Android users.\\n\\n21/11/2017 : GIS based application for SRA : Inauguration of website by Hon. CM of Maharashtra http://umd.nic.in/sra\\n\\n2016-2020 : GIS Portal is a part of these initiatives where GIS data for slums spread over entire Mumbai Municipal Corporation area has been created, which can be useful for citizens and other relevant stakeholders of Slum Rehabilitation Schemes. This encompasses more than ten layers containing administrative ward boundaries, village boundaries, Slum Cluster boundaries, SR Schemes boundaries etc., including terrain map services. Further to provide citizen centric information of slum rehabilitation (SR) schemes on mobile, based on user-location where GIS data for slums spread over entire Mumbai Municipal Corporation area has been created. This GIS Mobile App is developed with the technical support of Utility Mapping Division of NIC, New Delhi.\\n\\nImplementation of Aadhar Enabled Biometric Attendance System (AEBAS) in NIC Maharashtra, Publish Date : November 21, 2014.\\n\\nHon’ble Central Minister, GoI & Chief Secretary, GoM Meetings at Wardha – 12th / 14th September 2013, Publish Date : September 14, 2013.\\n\\nTraining Program of IVFRT-MMP at FRRO, Mumbai on 20th August 2013, Publish Date : August 20, 2013.\\n\\nGlimpses of eGov Maharashtra held at Mumbai on 9th-10th May 2013, Publish Date : May 9, 2013.\\n\\nInauguration of Direct Benefit Transfer (AADHAAR) in pilot District Wardha (Maharashtra) – 1st January, 2013, Publish Date : January 1, 2013.\\n\\nInauguration of e-Office in Sindhudurg Collectorate by Hon’ble Chief Minister of Maharashtra – 24th December 2012, Publish Date : December 24, 2012.\\n\\neFile implementation at NRHM-Mumbai – 13th March 2012, Publish Date : March 13, 2012.\\n\\nAGMARKNET Workshops in Maharashtra by NIC Mumbai, Publish Date : December 29, 2004.', start_char_idx=0, end_char_idx=2948, text_template='{metadata_str}\\n\\n{content}', metadata_template='{key}: {value}', metadata_seperator='\\n'), score=0.4379604420790352)], metadata={'1f49a56e-9966-4bb0-a2c7-e5b1c387e46a': {'file_name': 'photo_gallery.docx', 'file_path': '/content/docs/photo_gallery.docx', 'file_type': 'application/vnd.openxmlformats-officedocument.wordprocessingml.document', 'file_size': 14816, 'creation_date': '2024-06-06', 'last_modified_date': '2024-06-06'}, '2f4b8ee2-5eb0-449c-8204-9746ac19217d': {'file_name': 'Nic.docx', 'file_path': '/content/docs/Nic.docx', 'file_type': 'application/vnd.openxmlformats-officedocument.wordprocessingml.document', 'file_size': 14752, 'creation_date': '2024-06-06', 'last_modified_date': '2024-06-06'}, 'f897f45e-34aa-475f-a8f2-3310a9b51765': {'file_name': 'districts.docx', 'file_path': '/content/docs/districts.docx', 'file_type': 'application/vnd.openxmlformats-officedocument.wordprocessingml.document', 'file_size': 12853, 'creation_date': '2024-06-06', 'last_modified_date': '2024-06-06'}, 'a659c0ac-15b7-4cee-b8b5-9fc68d21dd65': {'file_name': 'services.docx', 'file_path': '/content/docs/services.docx', 'file_type': 'application/vnd.openxmlformats-officedocument.wordprocessingml.document', 'file_size': 12434, 'creation_date': '2024-06-06', 'last_modified_date': '2024-06-06'}, 'dce2aafa-31bf-494f-98e3-454961649537': {'file_name': 'events.docx', 'file_path': '/content/docs/events.docx', 'file_type': 'application/vnd.openxmlformats-officedocument.wordprocessingml.document', 'file_size': 14392, 'creation_date': '2024-06-06', 'last_modified_date': '2024-06-06'}, '90290cbd-19a7-4594-9076-f07b68779323': {'file_name': 'news_updates.docx', 'file_path': '/content/docs/news_updates.docx', 'file_type': 'application/vnd.openxmlformats-officedocument.wordprocessingml.document', 'file_size': 15496, 'creation_date': '2024-06-06', 'last_modified_date': '2024-06-06'}}), is_error=False)], source_nodes=[NodeWithScore(node=TextNode(id_='1f49a56e-9966-4bb0-a2c7-e5b1c387e46a', embedding=None, metadata={'file_name': 'photo_gallery.docx', 'file_path': '/content/docs/photo_gallery.docx', 'file_type': 'application/vnd.openxmlformats-officedocument.wordprocessingml.document', 'file_size': 14816, 'creation_date': '2024-06-06', 'last_modified_date': '2024-06-06'}, excluded_embed_metadata_keys=['file_name', 'file_type', 'file_size', 'creation_date', 'last_modified_date', 'last_accessed_date'], excluded_llm_metadata_keys=['file_name', 'file_type', 'file_size', 'creation_date', 'last_modified_date', 'last_accessed_date'], relationships={<NodeRelationship.SOURCE: '1'>: RelatedNodeInfo(node_id='23c27293-e8e6-4b44-953a-6a7af127dc32', node_type=<ObjectType.DOCUMENT: '4'>, metadata={'file_name': 'photo_gallery.docx', 'file_path': '/content/docs/photo_gallery.docx', 'file_type': 'application/vnd.openxmlformats-officedocument.wordprocessingml.document', 'file_size': 14816, 'creation_date': '2024-06-06', 'last_modified_date': '2024-06-06'}, hash='9cfde45aa67bf80c443a31685f00f5caa19254530ebfa11ec945648be4b7e215')}, text='The following are the list of photo titles which are available in the photo gallery section of the webpage:\\n\\n https://maharashtra.nic.in/\\n\\nSIO & ASIO NIC Maharashtra Visit to Districts of Aurangabad division of Maharashtra\\n\\nDigital India Week Programme 2022 Held at Gandhinagar\\n\\nSIO, MH Gallery\\n\\nStudy tour of Maharashtra team led by SIO NIC to Chhatisgarh for Paddy Procurement system on 15th and 16th Jan 2020.\\n\\nVisit of Hon’ble DG to NIC Maharashtra State Centre.\\n\\nWorkshop and Training of PDS with District and Taluka Officials\\n\\nConstitution Day : 26 November 2019\\n\\nNational Informatics Centre, District Akola received eLets Smart Governance 2015 Award\\n\\neDISNIC (electronic District Information System of National Informatics Centre) received Skoch Order of Merit award 2015\\n\\nCommon Application Software for Public Distribution System (ePDS) developed by National Informatics Centre is implemented in Maharashtra\\n\\nAdditional Secretary, Government of India and Director General, National Informatics Centre in Video Conference with District Centres alongwith State Informatics Officer, Maharashtra\\n\\nVideo conferencing via NICNET of Hon’ble Governor, Maharashtra with all Divisional Commissioners and District Collectors on Swaccha Bharat Abhiyan on 21st October 2014\\n\\nSwacchata Abhiyan pledge administration by S.I.O., Maharashtra to Officers and Staff of NIC Maharashtra\\n\\nOrganization of Hindi Pakhawada at NIC, Maharashtra State, Centre Mumbai -2014\\n\\nReview Meeting of Maharashtra Land Record Computerisation at Yashada on 3/4/06 – 4/4/2006\\n\\nPanchayat Portal Workshop at Yashada on 3/4/06 – 4/4/2006\\n\\nRelease of Activity Report by DG at Delhi on 23/3/2006\\n\\nRelease of Project Brouchure by DG at Delhi on 23/1/2005', start_char_idx=0, end_char_idx=1718, text_template='{metadata_str}\\n\\n{content}', metadata_template='{key}: {value}', metadata_seperator='\\n'), score=0.4366670501950552), NodeWithScore(node=TextNode(id_='2f4b8ee2-5eb0-449c-8204-9746ac19217d', embedding=None, metadata={'file_name': 'Nic.docx', 'file_path': '/content/docs/Nic.docx', 'file_type': 'application/vnd.openxmlformats-officedocument.wordprocessingml.document', 'file_size': 14752, 'creation_date': '2024-06-06', 'last_modified_date': '2024-06-06'}, excluded_embed_metadata_keys=['file_name', 'file_type', 'file_size', 'creation_date', 'last_modified_date', 'last_accessed_date'], excluded_llm_metadata_keys=['file_name', 'file_type', 'file_size', 'creation_date', 'last_modified_date', 'last_accessed_date'], relationships={<NodeRelationship.SOURCE: '1'>: RelatedNodeInfo(node_id='1569869b-044f-4e12-bfcc-a62bfb045783', node_type=<ObjectType.DOCUMENT: '4'>, metadata={'file_name': 'Nic.docx', 'file_path': '/content/docs/Nic.docx', 'file_type': 'application/vnd.openxmlformats-officedocument.wordprocessingml.document', 'file_size': 14752, 'creation_date': '2024-06-06', 'last_modified_date': '2024-06-06'}, hash='87b0a1d2c3ec03c4ef470caa262664fe8373f2d3bd472c5a5bc933c82fb8344e')}, text='1. What is NIC? or Introduction of NIC or Profile of NIC\\n\\nAnswer:\\n\\nNational Informatics Centre (NIC) is a premiere S&T institution of the Government of India, established in 1976, for providing e-Government/e-Governance Solutions adopting best practices, integrated services and global solutions in Government Sector. In 1975, the Government of India strategically decided to take effective steps for the development of information systems and utilization of information resources and also for introducing computer based decision support system (informatics-led development) in government ministries and departments to facilitate planning and programme implementation to further the growth of economic and social development. Following this, the Central Government nucleated a high priority plan project “National Informatics Centre (NIC)” in 1976. NIC has played an important role of an active catalyst and facilitator in informatics development programme in Governments at the national, state and district levels, which made them take policy decisions to create knowledge societies – societies that can exploit knowledge to derive competitive advantage using the opportunities provided by digital technology. NIC has been instrumental in adopting Information and Communication Technology to reach out across India i.e. by implementing IT applications in Social and Public Administrations. NIC has spearheaded the e-Governance drive in the country for the last three decades building a strong foundation for better and more transparent governance and assisting the governments endeavour to reach the unreached. NIC Maharashtra State Centre, Mumbai is located at New Administrative Building, Mantralaya. NIC Maharashtra State Centre provides software development, internet, communication services and Video conferencing via NICNET to State and Central Govt. departments in the state of Maharashtra. Besides the State Centre, NIC offices are also located in the High Court & its Benches, Central Government offices and 36 district centres located at respective Collectorate offices. These centres provide informatics support to Collectorate offices, Zilla Parishad, District courts and all allied offices of State and Central Government.\\n\\n\\n\\n\\n\\n\\n\\n2. What are all the work done by NIC? or Provide the summary of the work done by NIC.\\n\\nAnswer:\\n\\nThe National Informatics Centre (NIC) Maharashtra State Centre provides various e-Government and e-Governance solutions. Key activities include:\\n\\nDigital Services: Cloud services, domain registration, email, security, hosting, video-conferencing.\\n\\nInfrastructure: Data centers, networking, office-automation solutions.\\n\\nICT Support: Projects like biometric attendance, e-Office, messaging, cyber security, and webcasting.\\n\\nDevelopment Projects: Digital agriculture platforms, fintech, health-tech, and edu-tech solutions.\\n\\nFor more detailed information, you can visit the NIC Maharashtra website: https://maharashtra.nic.in/', start_char_idx=0, end_char_idx=2964, text_template='{metadata_str}\\n\\n{content}', metadata_template='{key}: {value}', metadata_seperator='\\n'), score=0.3723106191178464), NodeWithScore(node=TextNode(id_='f897f45e-34aa-475f-a8f2-3310a9b51765', embedding=None, metadata={'file_name': 'districts.docx', 'file_path': '/content/docs/districts.docx', 'file_type': 'application/vnd.openxmlformats-officedocument.wordprocessingml.document', 'file_size': 12853, 'creation_date': '2024-06-06', 'last_modified_date': '2024-06-06'}, excluded_embed_metadata_keys=['file_name', 'file_type', 'file_size', 'creation_date', 'last_modified_date', 'last_accessed_date'], excluded_llm_metadata_keys=['file_name', 'file_type', 'file_size', 'creation_date', 'last_modified_date', 'last_accessed_date'], relationships={<NodeRelationship.SOURCE: '1'>: RelatedNodeInfo(node_id='39a7300d-a1ec-44eb-ab22-9d4cf1c31234', node_type=<ObjectType.DOCUMENT: '4'>, metadata={'file_name': 'districts.docx', 'file_path': '/content/docs/districts.docx', 'file_type': 'application/vnd.openxmlformats-officedocument.wordprocessingml.document', 'file_size': 12853, 'creation_date': '2024-06-06', 'last_modified_date': '2024-06-06'}, hash='8845e8972970fccb028c1636d438d2d1f4216d6d8da3d2e95989f431ca7f8184')}, text='Here is the list of 35 districts/district centres where National Informatics Centre (NIC) has its presence:\\n\\n\\n\\n1. Ahmadnagar\\n\\n2. Akola\\n\\n3. Amravati\\n\\n4. Aurangabad\\n\\n5. Beed\\n\\n6. Bhandara\\n\\n7. Buldana\\n\\n8. Chandrapur\\n\\n9. Dhule\\n\\n10. Gadchiroli\\n\\n11. Gondia\\n\\n12. Hingoli\\n\\n13. Jalgaon\\n\\n14. Jalna\\n\\n15. Kolhapur\\n\\n16. Mumbai\\n\\n17. Mumbai Suburban (Bandra)\\n\\n18. Nagpur\\n\\n19. Nanded\\n\\n20. Nandurbar\\n\\n21. Nasik\\n\\n22. Osmanabad\\n\\n23. Palghar\\n\\n24. Parbhani\\n\\n25. Pune District\\n\\n26. Raigad\\n\\n27. Ratnagiri\\n\\n28. Sangli\\n\\n29. Satara\\n\\n30. Sindhu Durg\\n\\n31. Solapur\\n\\n32. Thane\\n\\n33. Wardha\\n\\n34. Washim\\n\\n35. Yavatmal', start_char_idx=0, end_char_idx=583, text_template='{metadata_str}\\n\\n{content}', metadata_template='{key}: {value}', metadata_seperator='\\n'), score=0.32961147200945007), NodeWithScore(node=TextNode(id_='a659c0ac-15b7-4cee-b8b5-9fc68d21dd65', embedding=None, metadata={'file_name': 'services.docx', 'file_path': '/content/docs/services.docx', 'file_type': 'application/vnd.openxmlformats-officedocument.wordprocessingml.document', 'file_size': 12434, 'creation_date': '2024-06-06', 'last_modified_date': '2024-06-06'}, excluded_embed_metadata_keys=['file_name', 'file_type', 'file_size', 'creation_date', 'last_modified_date', 'last_accessed_date'], excluded_llm_metadata_keys=['file_name', 'file_type', 'file_size', 'creation_date', 'last_modified_date', 'last_accessed_date'], relationships={<NodeRelationship.SOURCE: '1'>: RelatedNodeInfo(node_id='47d245e2-aeb6-4da1-a043-e1c775302b78', node_type=<ObjectType.DOCUMENT: '4'>, metadata={'file_name': 'services.docx', 'file_path': '/content/docs/services.docx', 'file_type': 'application/vnd.openxmlformats-officedocument.wordprocessingml.document', 'file_size': 12434, 'creation_date': '2024-06-06', 'last_modified_date': '2024-06-06'}, hash='c16e9226d14e5344d639d2acf6caacdbf994a4abaa209126f36393a21dc3f70e')}, text='Overview of Services offered by NIC:\\n\\nNIC is closely associated with the government in different aspects of governance by establishing a nationwide state-of-the-art ICT infrastructure and services for Central Government, State Governments, UT Administrations, Districts and other Government bodies. It offers a wide range of services which includes multi gigabit nationwide networks NICNET, NKN, National Data Centres, National Cloud, pan India VC infrastructure, Command and Control Centre, multi-layered GIS based platform, Domain Registration and Webcast. This plays a significant role in delivering citizen centric e-services.', start_char_idx=0, end_char_idx=630, text_template='{metadata_str}\\n\\n{content}', metadata_template='{key}: {value}', metadata_seperator='\\n'), score=0.340224877859093), NodeWithScore(node=TextNode(id_='dce2aafa-31bf-494f-98e3-454961649537', embedding=None, metadata={'file_name': 'events.docx', 'file_path': '/content/docs/events.docx', 'file_type': 'application/vnd.openxmlformats-officedocument.wordprocessingml.document', 'file_size': 14392, 'creation_date': '2024-06-06', 'last_modified_date': '2024-06-06'}, excluded_embed_metadata_keys=['file_name', 'file_type', 'file_size', 'creation_date', 'last_modified_date', 'last_accessed_date'], excluded_llm_metadata_keys=['file_name', 'file_type', 'file_size', 'creation_date', 'last_modified_date', 'last_accessed_date'], relationships={<NodeRelationship.SOURCE: '1'>: RelatedNodeInfo(node_id='cb9007c7-1e38-460c-8b52-a18851968a55', node_type=<ObjectType.DOCUMENT: '4'>, metadata={'file_name': 'events.docx', 'file_path': '/content/docs/events.docx', 'file_type': 'application/vnd.openxmlformats-officedocument.wordprocessingml.document', 'file_size': 14392, 'creation_date': '2024-06-06', 'last_modified_date': '2024-06-06'}, hash='6f0b8653b12406b9bd7388e824844b68f358b0e7c81aa20a6235988912aa36fd')}, text='Below is the list of all the 5 events that took place in NIC as mentioned in the official website of NIC maharashtra:\\n\\nCyber Crime and Cyber Laws (Start Date: 28/09/2022, End Date: 28/09/2022, Venue: NIC Maharashtra State Centre, Mumbai) Webinar on “Cyber Crime and Cyber Laws ” at NIC Maharashtra State Centre, Mumbai September 28th, 2022.\\n\\nSuperannuation of Sh. Dhanjay Kulkarni, DIO Pune and Ms. Sneha Shula, ADIO Nashik in the Month of April 2022, (Start Date: 30/04/2022, End Date : 30/04/2022, Venue : Mumbai)\\n\\nSIO Maharashtra met new Director General, NIC on 01/06/2022 (Start Date : 01/06/2022, End Date : 01/06/2022, Venue : New Delhi)\\n\\nHon’ble Minister of Electronics and Information Technology and Railways visit to Mumbai (Start Date : 18/02/2022, End Date : 18/02/2022, Venue : Mumbai). Hon’ble Minister of Electronics and Information Technology and Railways Shri Ashwini Vaishnaw, visited Mumbai on 18.02.2022 to attend the inaugural function of opening of two Railway lines by the Hon’ble Prime Minister through Video conferencing. Shri K.P. Pariselvan, State Informatics Officer, NIC, Maharashtra, welcomed the Hon’ble Minister at Mumbai Airport. Hon’ble Minister was also appraised about NIC projects at the time of departure. Hon’ble Minister has conveyed SIO NIC Maharashtra that during his next visit will take a review of the projects. SIO NIC Maharashtra thanked Hon’ble Minister.\\n\\nSwachhatta Pakhwada from 01st to 15th February 2022 (Start Date : 01/02/2022, End Date : 15/02/2022, Venue : NIC Maharashtra State and District Centres). Swachhatta Pakhwada was observed at NIC Maharashtra State and District Centres from 01st to 15th February 2022. All officers and staff from State centre and District centres took the Swachhatta Pledge on 2nd Feb. 2022. With reference to the circular No. A-60019/04/2021/GCS-1 dated 28/01/2022 from NIC HQ regarding disposal of obsolete Computer Hardware and its related peripherals and furniture items during the Swachhatta Pakhwada 2022, NIC Maharashtra has auctioned obsolete hardware, old books and weeded files as per the guidelines. Also initiated the process of auctioning obsolete air conditioners, old furniture and remaining obsolete hardware from State and District Centres of Maharashtra.', start_char_idx=0, end_char_idx=2257, text_template='{metadata_str}\\n\\n{content}', metadata_template='{key}: {value}', metadata_seperator='\\n'), score=0.40157442883601335), NodeWithScore(node=TextNode(id_='90290cbd-19a7-4594-9076-f07b68779323', embedding=None, metadata={'file_name': 'news_updates.docx', 'file_path': '/content/docs/news_updates.docx', 'file_type': 'application/vnd.openxmlformats-officedocument.wordprocessingml.document', 'file_size': 15496, 'creation_date': '2024-06-06', 'last_modified_date': '2024-06-06'}, excluded_embed_metadata_keys=['file_name', 'file_type', 'file_size', 'creation_date', 'last_modified_date', 'last_accessed_date'], excluded_llm_metadata_keys=['file_name', 'file_type', 'file_size', 'creation_date', 'last_modified_date', 'last_accessed_date'], relationships={<NodeRelationship.SOURCE: '1'>: RelatedNodeInfo(node_id='d4fd914c-0f3a-470e-bdbd-483cfc308bb5', node_type=<ObjectType.DOCUMENT: '4'>, metadata={'file_name': 'news_updates.docx', 'file_path': '/content/docs/news_updates.docx', 'file_type': 'application/vnd.openxmlformats-officedocument.wordprocessingml.document', 'file_size': 15496, 'creation_date': '2024-06-06', 'last_modified_date': '2024-06-06'}, hash='043991eb42046ec03b86cca6c418f35dd1cdc8152576b5b62140ce50af01df7c')}, text='Following are the news updates available in the official website of NIC Maharashtra https://maharashtra.nic.in/news-update/ : \\n\\n\\n\\nSIMNIC – NIC eGov Mobile App, Publish Date : August 2, 2021, “SIMNIC : Status Information Management system of NIC is a tool for Participating Government of India Departments to prepare formats on the fly and get the MIS data from line offices in required periodicity.\\n\\n\\n\\nSAMPARK – NIC eGov Mobile App, Publish Date : July 31, 2021, The main aim of the SAMPARK Application(android & iOS) and a totally progressive and responsive website is to provide information of Government officials (in service) about their present posting details and keep it updated.\\n\\nNIC Maharashtra – ICT support during COVID-19, Publish Date : June 25, 2020.\\n\\n\\n\\nGIS for SRA Mumbai, Publish Date : January 8, 2020, URL : http://umd.nic.in/sra, Andriod App : AASARA (Andriod), Apple App : AASARA (Apple)\\n\\n01/01/2020 : Total hits for GIS data 1.05 Crore, Total downloads of Mobile : 10,000+\\n\\n15/12/2018 : Soft launch of iOS app AASRA for Apple device users.\\n\\n12/9/2018 : Inauguration of AASRA mobile app by Hon’ble CM of Maharashtra for Android users.\\n\\n21/11/2017 : GIS based application for SRA : Inauguration of website by Hon. CM of Maharashtra http://umd.nic.in/sra\\n\\n2016-2020 : GIS Portal is a part of these initiatives where GIS data for slums spread over entire Mumbai Municipal Corporation area has been created, which can be useful for citizens and other relevant stakeholders of Slum Rehabilitation Schemes. This encompasses more than ten layers containing administrative ward boundaries, village boundaries, Slum Cluster boundaries, SR Schemes boundaries etc., including terrain map services. Further to provide citizen centric information of slum rehabilitation (SR) schemes on mobile, based on user-location where GIS data for slums spread over entire Mumbai Municipal Corporation area has been created. This GIS Mobile App is developed with the technical support of Utility Mapping Division of NIC, New Delhi.\\n\\nImplementation of Aadhar Enabled Biometric Attendance System (AEBAS) in NIC Maharashtra, Publish Date : November 21, 2014.\\n\\nHon’ble Central Minister, GoI & Chief Secretary, GoM Meetings at Wardha – 12th / 14th September 2013, Publish Date : September 14, 2013.\\n\\nTraining Program of IVFRT-MMP at FRRO, Mumbai on 20th August 2013, Publish Date : August 20, 2013.\\n\\nGlimpses of eGov Maharashtra held at Mumbai on 9th-10th May 2013, Publish Date : May 9, 2013.\\n\\nInauguration of Direct Benefit Transfer (AADHAAR) in pilot District Wardha (Maharashtra) – 1st January, 2013, Publish Date : January 1, 2013.\\n\\nInauguration of e-Office in Sindhudurg Collectorate by Hon’ble Chief Minister of Maharashtra – 24th December 2012, Publish Date : December 24, 2012.\\n\\neFile implementation at NRHM-Mumbai – 13th March 2012, Publish Date : March 13, 2012.\\n\\nAGMARKNET Workshops in Maharashtra by NIC Mumbai, Publish Date : December 29, 2004.', start_char_idx=0, end_char_idx=2948, text_template='{metadata_str}\\n\\n{content}', metadata_template='{key}: {value}', metadata_seperator='\\n'), score=0.4379604420790352)], is_dummy_stream=False)"
            ]
          },
          "metadata": {},
          "execution_count": 80
        }
      ]
    },
    {
      "cell_type": "markdown",
      "metadata": {
        "id": "z1oZw7uie1E_"
      },
      "source": [
        "# Print the response"
      ]
    },
    {
      "cell_type": "code",
      "source": [
        "from llama_index.core.storage.chat_store import SimpleChatStore\n",
        "from llama_index.core.memory import ChatMemoryBuffer\n",
        "from llama_index.core import VectorStoreIndex, get_response_synthesizer\n",
        "from llama_index.core.retrievers import VectorIndexRetriever\n",
        "from llama_index.core.postprocessor import LongContextReorder\n",
        "from llama_index.core.postprocessor import SentenceTransformerRerank\n",
        "\n",
        "\n",
        "persist_dir = \"/content/combined_data_index\"\n",
        "storage_context = StorageContext.from_defaults(persist_dir=persist_dir)\n",
        "index = load_index_from_storage(storage_context)\n",
        "\n",
        "print(index)\n",
        "\n",
        "# reorder = LongContextReorder()\n",
        "rerank = SentenceTransformerRerank(model=\"BAAI/bge-reranker-large\", top_n=7)\n",
        "\n",
        "\n",
        "chat_store = SimpleChatStore()\n",
        "\n",
        "chat_memory = ChatMemoryBuffer.from_defaults(\n",
        "    token_limit=30000000,\n",
        "    chat_store=chat_store,\n",
        "    chat_store_key=\"user1\",\n",
        "\n",
        ")\n",
        "\n",
        "chat_engine = index.as_chat_engine(\n",
        "    chat_mode=\"context\",\n",
        "    system_prompt=\"You are a helpful AI assistant. You are expert in retrieving the answer for the user input based on the provided context. Important note: You must not mention any file name or file path in your response.\",\n",
        "    memory=chat_memory,\n",
        "    similarity_top_k=10,\n",
        "    node_postprocessors=[rerank],\n",
        "    verbose = True\n",
        ")\n",
        "\n"
      ],
      "metadata": {
        "id": "Au8y_CsQHN_U",
        "colab": {
          "base_uri": "https://localhost:8080/"
        },
        "outputId": "0dcd75ad-6eef-4227-866d-b2f62d70c552"
      },
      "execution_count": 52,
      "outputs": [
        {
          "output_type": "stream",
          "name": "stdout",
          "text": [
            "<llama_index.core.indices.vector_store.base.VectorStoreIndex object at 0x7f15b03fff10>\n"
          ]
        },
        {
          "output_type": "stream",
          "name": "stderr",
          "text": [
            "/usr/local/lib/python3.10/dist-packages/huggingface_hub/file_download.py:1132: FutureWarning: `resume_download` is deprecated and will be removed in version 1.0.0. Downloads always resume when possible. If you want to force a new download, use `force_download=True`.\n",
            "  warnings.warn(\n"
          ]
        }
      ]
    },
    {
      "cell_type": "code",
      "source": [
        "response = query_engine.query(\"What is published date of AGMARKNET Workshops in Maharashtra by NIC Mumbai?\")\n",
        "\n",
        "node = response.source_nodes[0]\n",
        "response_json = {}\n",
        "response_json['response'] = response.response\n",
        "response_json['Search_Score'] = node.score\n",
        "\n",
        "try:\n",
        "  response_json['url'] = str(node.metadata['URL'])\n",
        "except  KeyError as e:\n",
        "  response_json['url'] =  str(file_to_url_mapping[node.metadata['file_name']])\n",
        "\n",
        "print(response_json)"
      ],
      "metadata": {
        "colab": {
          "base_uri": "https://localhost:8080/"
        },
        "id": "rYM7-H6E-8-q",
        "outputId": "53784830-1e2e-415f-d2ab-6881e3ae49f0"
      },
      "execution_count": null,
      "outputs": [
        {
          "output_type": "stream",
          "name": "stdout",
          "text": [
            "{'response': 'I\\'m unable to find any information about a \"Training Program of IVFRT-MMP at FRRO\" in the provided context. The files and data mentioned appear to be related to personnel information, district centers, and screen readers, but there is no mention of a training program or its published date.', 'Search_Score': 0.4713932929016982, 'url': 'https://maharashtra.nic.in/rti/'}\n"
          ]
        }
      ]
    },
    {
      "cell_type": "code",
      "source": [
        "response = chat_engine.chat(\"to whom did Ms. Meera Joshi reports?\")\n",
        "\n",
        "node = response.source_nodes[0]\n",
        "response_json = {}\n",
        "response_json['response'] = response.response\n",
        "response_json['Search_Score'] = node.score\n",
        "\n",
        "try:\n",
        "  response_json['url'] = str(node.metadata['URL'])\n",
        "except  KeyError as e:\n",
        "  response_json['url'] =  str(file_to_url_mapping[node.metadata['file_name']])\n",
        "\n",
        "print(response_json)"
      ],
      "metadata": {
        "id": "9KnpBlXVay4-",
        "colab": {
          "base_uri": "https://localhost:8080/"
        },
        "outputId": "f34b2821-4195-4b06-d146-d6c6b9948a43"
      },
      "execution_count": 56,
      "outputs": [
        {
          "output_type": "stream",
          "name": "stdout",
          "text": [
            "{'response': 'According to the provided context, Ms. Meera Joshi reports to Shri Manoj Kumar Mishra.', 'Search_Score': 0.91262907, 'url': 'https://maharashtra.nic.in/organization-structure/'}\n"
          ]
        }
      ]
    },
    {
      "cell_type": "code",
      "source": [
        "response_json"
      ],
      "metadata": {
        "colab": {
          "base_uri": "https://localhost:8080/"
        },
        "id": "NhxootwxTH57",
        "outputId": "721fc283-f0f1-4f15-d2ff-fcef0df79e64"
      },
      "execution_count": null,
      "outputs": [
        {
          "output_type": "execute_result",
          "data": {
            "text/plain": [
              "{'response': 'The published date of the \"Training Program of IVFRT-MMP at FRRO\" is August 20, 2013.',\n",
              " 'Search_Score': 0.00040770933,\n",
              " 'url': 'https://maharashtra.nic.in/news-update/'}"
            ]
          },
          "metadata": {},
          "execution_count": 19
        }
      ]
    },
    {
      "cell_type": "code",
      "source": [
        "response_json"
      ],
      "metadata": {
        "colab": {
          "base_uri": "https://localhost:8080/"
        },
        "id": "SbsLonVu0mtJ",
        "outputId": "f05adf9f-fe8d-4529-e2e4-178e01cd2e0c",
        "collapsed": true
      },
      "execution_count": null,
      "outputs": [
        {
          "output_type": "execute_result",
          "data": {
            "text/plain": [
              "{'response': 'The published date of AGMARKNET Workshops in Maharashtra by NIC Mumbai is December 29, 2004.',\n",
              " 'Search_Score': 9.792949e-05,\n",
              " 'url': 'https://maharashtra.nic.in/events/'}"
            ]
          },
          "metadata": {},
          "execution_count": 46
        }
      ]
    },
    {
      "cell_type": "code",
      "source": [
        "response"
      ],
      "metadata": {
        "colab": {
          "base_uri": "https://localhost:8080/"
        },
        "id": "ZWy4343YUFz6",
        "outputId": "5b605ad6-2fe7-472e-c4c3-49218e550ae7",
        "collapsed": true
      },
      "execution_count": null,
      "outputs": [
        {
          "output_type": "execute_result",
          "data": {
            "text/plain": [
              "AgentChatResponse(response='The published date of AGMARKNET Workshops in Maharashtra by NIC Mumbai is December 29, 2004.', sources=[ToolOutput(content='system: You are a helpful AI assistant. You are expert in retrieving the answer for the user input based on the provided context. Important note: You must not mention any file name or file path in your response.\\nContext information is below.\\n--------------------\\nfile_path: /content/docs/events.docx\\n\\nBelow is the list of all the 5 events that took place in NIC as mentioned in the official website of NIC maharashtra:\\n\\nCyber Crime and Cyber Laws (Start Date: 28/09/2022, End Date: 28/09/2022, Venue: NIC Maharashtra State Centre, Mumbai) Webinar on “Cyber Crime and Cyber Laws ” at NIC Maharashtra State Centre, Mumbai September 28th, 2022.\\n\\nSuperannuation of Sh. Dhanjay Kulkarni, DIO Pune and Ms. Sneha Shula, ADIO Nashik in the Month of April 2022, (Start Date: 30/04/2022, End Date : 30/04/2022, Venue : Mumbai)\\n\\nSIO Maharashtra met new Director General, NIC on 01/06/2022 (Start Date : 01/06/2022, End Date : 01/06/2022, Venue : New Delhi)\\n\\nHon’ble Minister of Electronics and Information Technology and Railways visit to Mumbai (Start Date : 18/02/2022, End Date : 18/02/2022, Venue : Mumbai). Hon’ble Minister of Electronics and Information Technology and Railways Shri Ashwini Vaishnaw, visited Mumbai on 18.02.2022 to attend the inaugural function of opening of two Railway lines by the Hon’ble Prime Minister through Video conferencing. Shri K.P. Pariselvan, State Informatics Officer, NIC, Maharashtra, welcomed the Hon’ble Minister at Mumbai Airport. Hon’ble Minister was also appraised about NIC projects at the time of departure. Hon’ble Minister has conveyed SIO NIC Maharashtra that during his next visit will take a review of the projects. SIO NIC Maharashtra thanked Hon’ble Minister.\\n\\nSwachhatta Pakhwada from 01st to 15th February 2022 (Start Date : 01/02/2022, End Date : 15/02/2022, Venue : NIC Maharashtra State and District Centres). Swachhatta Pakhwada was observed at NIC Maharashtra State and District Centres from 01st to 15th February 2022. All officers and staff from State centre and District centres took the Swachhatta Pledge on 2nd Feb. 2022. With reference to the circular No. A-60019/04/2021/GCS-1 dated 28/01/2022 from NIC HQ regarding disposal of obsolete Computer Hardware and its related peripherals and furniture items during the Swachhatta Pakhwada 2022, NIC Maharashtra has auctioned obsolete hardware, old books and weeded files as per the guidelines. Also initiated the process of auctioning obsolete air conditioners, old furniture and remaining obsolete hardware from State and District Centres of Maharashtra.\\n\\nfile_path: /content/docs/news_updates.docx\\n\\nFollowing are the news updates available in the official website of NIC Maharashtra https://maharashtra.nic.in/news-update/ : \\n\\n\\n\\nSIMNIC – NIC eGov Mobile App, Publish Date : August 2, 2021, “SIMNIC : Status Information Management system of NIC is a tool for Participating Government of India Departments to prepare formats on the fly and get the MIS data from line offices in required periodicity.\\n\\n\\n\\nSAMPARK – NIC eGov Mobile App, Publish Date : July 31, 2021, The main aim of the SAMPARK Application(android & iOS) and a totally progressive and responsive website is to provide information of Government officials (in service) about their present posting details and keep it updated.\\n\\nNIC Maharashtra – ICT support during COVID-19, Publish Date : June 25, 2020.\\n\\n\\n\\nGIS for SRA Mumbai, Publish Date : January 8, 2020, URL : http://umd.nic.in/sra, Andriod App : AASARA (Andriod), Apple App : AASARA (Apple)\\n\\n01/01/2020 : Total hits for GIS data 1.05 Crore, Total downloads of Mobile : 10,000+\\n\\n15/12/2018 : Soft launch of iOS app AASRA for Apple device users.\\n\\n12/9/2018 : Inauguration of AASRA mobile app by Hon’ble CM of Maharashtra for Android users.\\n\\n21/11/2017 : GIS based application for SRA : Inauguration of website by Hon. CM of Maharashtra http://umd.nic.in/sra\\n\\n2016-2020 : GIS Portal is a part of these initiatives where GIS data for slums spread over entire Mumbai Municipal Corporation area has been created, which can be useful for citizens and other relevant stakeholders of Slum Rehabilitation Schemes. This encompasses more than ten layers containing administrative ward boundaries, village boundaries, Slum Cluster boundaries, SR Schemes boundaries etc., including terrain map services. Further to provide citizen centric information of slum rehabilitation (SR) schemes on mobile, based on user-location where GIS data for slums spread over entire Mumbai Municipal Corporation area has been created. This GIS Mobile App is developed with the technical support of Utility Mapping Division of NIC, New Delhi.\\n\\nImplementation of Aadhar Enabled Biometric Attendance System (AEBAS) in NIC Maharashtra, Publish Date : November 21, 2014.\\n\\nHon’ble Central Minister, GoI & Chief Secretary, GoM Meetings at Wardha – 12th / 14th September 2013, Publish Date : September 14, 2013.\\n\\nTraining Program of IVFRT-MMP at FRRO, Mumbai on 20th August 2013, Publish Date : August 20, 2013.\\n\\nGlimpses of eGov Maharashtra held at Mumbai on 9th-10th May 2013, Publish Date : May 9, 2013.\\n\\nInauguration of Direct Benefit Transfer (AADHAAR) in pilot District Wardha (Maharashtra) – 1st January, 2013, Publish Date : January 1, 2013.\\n\\nInauguration of e-Office in Sindhudurg Collectorate by Hon’ble Chief Minister of Maharashtra – 24th December 2012, Publish Date : December 24, 2012.\\n\\neFile implementation at NRHM-Mumbai – 13th March 2012, Publish Date : March 13, 2012.\\n\\nAGMARKNET Workshops in Maharashtra by NIC Mumbai, Publish Date : December 29, 2004.\\n\\nfile_path: /content/docs/photo_gallery.docx\\n\\nThe following are the list of photo titles which are available in the photo gallery section of the webpage:\\n\\n https://maharashtra.nic.in/\\n\\nSIO & ASIO NIC Maharashtra Visit to Districts of Aurangabad division of Maharashtra\\n\\nDigital India Week Programme 2022 Held at Gandhinagar\\n\\nSIO, MH Gallery\\n\\nStudy tour of Maharashtra team led by SIO NIC to Chhatisgarh for Paddy Procurement system on 15th and 16th Jan 2020.\\n\\nVisit of Hon’ble DG to NIC Maharashtra State Centre.\\n\\nWorkshop and Training of PDS with District and Taluka Officials\\n\\nConstitution Day : 26 November 2019\\n\\nNational Informatics Centre, District Akola received eLets Smart Governance 2015 Award\\n\\neDISNIC (electronic District Information System of National Informatics Centre) received Skoch Order of Merit award 2015\\n\\nCommon Application Software for Public Distribution System (ePDS) developed by National Informatics Centre is implemented in Maharashtra\\n\\nAdditional Secretary, Government of India and Director General, National Informatics Centre in Video Conference with District Centres alongwith State Informatics Officer, Maharashtra\\n\\nVideo conferencing via NICNET of Hon’ble Governor, Maharashtra with all Divisional Commissioners and District Collectors on Swaccha Bharat Abhiyan on 21st October 2014\\n\\nSwacchata Abhiyan pledge administration by S.I.O., Maharashtra to Officers and Staff of NIC Maharashtra\\n\\nOrganization of Hindi Pakhawada at NIC, Maharashtra State, Centre Mumbai -2014\\n\\nReview Meeting of Maharashtra Land Record Computerisation at Yashada on 3/4/06 – 4/4/2006\\n\\nPanchayat Portal Workshop at Yashada on 3/4/06 – 4/4/2006\\n\\nRelease of Activity Report by DG at Delhi on 23/3/2006\\n\\nRelease of Project Brouchure by DG at Delhi on 23/1/2005\\n--------------------\\n', tool_name='retriever', raw_input={'message': 'What is the published date of AGMARKNET?'}, raw_output=ChatMessage(role=<MessageRole.SYSTEM: 'system'>, content='You are a helpful AI assistant. You are expert in retrieving the answer for the user input based on the provided context. Important note: You must not mention any file name or file path in your response.\\nContext information is below.\\n--------------------\\nfile_path: /content/docs/events.docx\\n\\nBelow is the list of all the 5 events that took place in NIC as mentioned in the official website of NIC maharashtra:\\n\\nCyber Crime and Cyber Laws (Start Date: 28/09/2022, End Date: 28/09/2022, Venue: NIC Maharashtra State Centre, Mumbai) Webinar on “Cyber Crime and Cyber Laws ” at NIC Maharashtra State Centre, Mumbai September 28th, 2022.\\n\\nSuperannuation of Sh. Dhanjay Kulkarni, DIO Pune and Ms. Sneha Shula, ADIO Nashik in the Month of April 2022, (Start Date: 30/04/2022, End Date : 30/04/2022, Venue : Mumbai)\\n\\nSIO Maharashtra met new Director General, NIC on 01/06/2022 (Start Date : 01/06/2022, End Date : 01/06/2022, Venue : New Delhi)\\n\\nHon’ble Minister of Electronics and Information Technology and Railways visit to Mumbai (Start Date : 18/02/2022, End Date : 18/02/2022, Venue : Mumbai). Hon’ble Minister of Electronics and Information Technology and Railways Shri Ashwini Vaishnaw, visited Mumbai on 18.02.2022 to attend the inaugural function of opening of two Railway lines by the Hon’ble Prime Minister through Video conferencing. Shri K.P. Pariselvan, State Informatics Officer, NIC, Maharashtra, welcomed the Hon’ble Minister at Mumbai Airport. Hon’ble Minister was also appraised about NIC projects at the time of departure. Hon’ble Minister has conveyed SIO NIC Maharashtra that during his next visit will take a review of the projects. SIO NIC Maharashtra thanked Hon’ble Minister.\\n\\nSwachhatta Pakhwada from 01st to 15th February 2022 (Start Date : 01/02/2022, End Date : 15/02/2022, Venue : NIC Maharashtra State and District Centres). Swachhatta Pakhwada was observed at NIC Maharashtra State and District Centres from 01st to 15th February 2022. All officers and staff from State centre and District centres took the Swachhatta Pledge on 2nd Feb. 2022. With reference to the circular No. A-60019/04/2021/GCS-1 dated 28/01/2022 from NIC HQ regarding disposal of obsolete Computer Hardware and its related peripherals and furniture items during the Swachhatta Pakhwada 2022, NIC Maharashtra has auctioned obsolete hardware, old books and weeded files as per the guidelines. Also initiated the process of auctioning obsolete air conditioners, old furniture and remaining obsolete hardware from State and District Centres of Maharashtra.\\n\\nfile_path: /content/docs/news_updates.docx\\n\\nFollowing are the news updates available in the official website of NIC Maharashtra https://maharashtra.nic.in/news-update/ : \\n\\n\\n\\nSIMNIC – NIC eGov Mobile App, Publish Date : August 2, 2021, “SIMNIC : Status Information Management system of NIC is a tool for Participating Government of India Departments to prepare formats on the fly and get the MIS data from line offices in required periodicity.\\n\\n\\n\\nSAMPARK – NIC eGov Mobile App, Publish Date : July 31, 2021, The main aim of the SAMPARK Application(android & iOS) and a totally progressive and responsive website is to provide information of Government officials (in service) about their present posting details and keep it updated.\\n\\nNIC Maharashtra – ICT support during COVID-19, Publish Date : June 25, 2020.\\n\\n\\n\\nGIS for SRA Mumbai, Publish Date : January 8, 2020, URL : http://umd.nic.in/sra, Andriod App : AASARA (Andriod), Apple App : AASARA (Apple)\\n\\n01/01/2020 : Total hits for GIS data 1.05 Crore, Total downloads of Mobile : 10,000+\\n\\n15/12/2018 : Soft launch of iOS app AASRA for Apple device users.\\n\\n12/9/2018 : Inauguration of AASRA mobile app by Hon’ble CM of Maharashtra for Android users.\\n\\n21/11/2017 : GIS based application for SRA : Inauguration of website by Hon. CM of Maharashtra http://umd.nic.in/sra\\n\\n2016-2020 : GIS Portal is a part of these initiatives where GIS data for slums spread over entire Mumbai Municipal Corporation area has been created, which can be useful for citizens and other relevant stakeholders of Slum Rehabilitation Schemes. This encompasses more than ten layers containing administrative ward boundaries, village boundaries, Slum Cluster boundaries, SR Schemes boundaries etc., including terrain map services. Further to provide citizen centric information of slum rehabilitation (SR) schemes on mobile, based on user-location where GIS data for slums spread over entire Mumbai Municipal Corporation area has been created. This GIS Mobile App is developed with the technical support of Utility Mapping Division of NIC, New Delhi.\\n\\nImplementation of Aadhar Enabled Biometric Attendance System (AEBAS) in NIC Maharashtra, Publish Date : November 21, 2014.\\n\\nHon’ble Central Minister, GoI & Chief Secretary, GoM Meetings at Wardha – 12th / 14th September 2013, Publish Date : September 14, 2013.\\n\\nTraining Program of IVFRT-MMP at FRRO, Mumbai on 20th August 2013, Publish Date : August 20, 2013.\\n\\nGlimpses of eGov Maharashtra held at Mumbai on 9th-10th May 2013, Publish Date : May 9, 2013.\\n\\nInauguration of Direct Benefit Transfer (AADHAAR) in pilot District Wardha (Maharashtra) – 1st January, 2013, Publish Date : January 1, 2013.\\n\\nInauguration of e-Office in Sindhudurg Collectorate by Hon’ble Chief Minister of Maharashtra – 24th December 2012, Publish Date : December 24, 2012.\\n\\neFile implementation at NRHM-Mumbai – 13th March 2012, Publish Date : March 13, 2012.\\n\\nAGMARKNET Workshops in Maharashtra by NIC Mumbai, Publish Date : December 29, 2004.\\n\\nfile_path: /content/docs/photo_gallery.docx\\n\\nThe following are the list of photo titles which are available in the photo gallery section of the webpage:\\n\\n https://maharashtra.nic.in/\\n\\nSIO & ASIO NIC Maharashtra Visit to Districts of Aurangabad division of Maharashtra\\n\\nDigital India Week Programme 2022 Held at Gandhinagar\\n\\nSIO, MH Gallery\\n\\nStudy tour of Maharashtra team led by SIO NIC to Chhatisgarh for Paddy Procurement system on 15th and 16th Jan 2020.\\n\\nVisit of Hon’ble DG to NIC Maharashtra State Centre.\\n\\nWorkshop and Training of PDS with District and Taluka Officials\\n\\nConstitution Day : 26 November 2019\\n\\nNational Informatics Centre, District Akola received eLets Smart Governance 2015 Award\\n\\neDISNIC (electronic District Information System of National Informatics Centre) received Skoch Order of Merit award 2015\\n\\nCommon Application Software for Public Distribution System (ePDS) developed by National Informatics Centre is implemented in Maharashtra\\n\\nAdditional Secretary, Government of India and Director General, National Informatics Centre in Video Conference with District Centres alongwith State Informatics Officer, Maharashtra\\n\\nVideo conferencing via NICNET of Hon’ble Governor, Maharashtra with all Divisional Commissioners and District Collectors on Swaccha Bharat Abhiyan on 21st October 2014\\n\\nSwacchata Abhiyan pledge administration by S.I.O., Maharashtra to Officers and Staff of NIC Maharashtra\\n\\nOrganization of Hindi Pakhawada at NIC, Maharashtra State, Centre Mumbai -2014\\n\\nReview Meeting of Maharashtra Land Record Computerisation at Yashada on 3/4/06 – 4/4/2006\\n\\nPanchayat Portal Workshop at Yashada on 3/4/06 – 4/4/2006\\n\\nRelease of Activity Report by DG at Delhi on 23/3/2006\\n\\nRelease of Project Brouchure by DG at Delhi on 23/1/2005\\n--------------------\\n', additional_kwargs={}), is_error=False)], source_nodes=[NodeWithScore(node=TextNode(id_='dce2aafa-31bf-494f-98e3-454961649537', embedding=None, metadata={'file_name': 'events.docx', 'file_path': '/content/docs/events.docx', 'file_type': 'application/vnd.openxmlformats-officedocument.wordprocessingml.document', 'file_size': 14392, 'creation_date': '2024-06-06', 'last_modified_date': '2024-06-06'}, excluded_embed_metadata_keys=['file_name', 'file_type', 'file_size', 'creation_date', 'last_modified_date', 'last_accessed_date'], excluded_llm_metadata_keys=['file_name', 'file_type', 'file_size', 'creation_date', 'last_modified_date', 'last_accessed_date'], relationships={<NodeRelationship.SOURCE: '1'>: RelatedNodeInfo(node_id='cb9007c7-1e38-460c-8b52-a18851968a55', node_type=<ObjectType.DOCUMENT: '4'>, metadata={'file_name': 'events.docx', 'file_path': '/content/docs/events.docx', 'file_type': 'application/vnd.openxmlformats-officedocument.wordprocessingml.document', 'file_size': 14392, 'creation_date': '2024-06-06', 'last_modified_date': '2024-06-06'}, hash='6f0b8653b12406b9bd7388e824844b68f358b0e7c81aa20a6235988912aa36fd')}, text='Below is the list of all the 5 events that took place in NIC as mentioned in the official website of NIC maharashtra:\\n\\nCyber Crime and Cyber Laws (Start Date: 28/09/2022, End Date: 28/09/2022, Venue: NIC Maharashtra State Centre, Mumbai) Webinar on “Cyber Crime and Cyber Laws ” at NIC Maharashtra State Centre, Mumbai September 28th, 2022.\\n\\nSuperannuation of Sh. Dhanjay Kulkarni, DIO Pune and Ms. Sneha Shula, ADIO Nashik in the Month of April 2022, (Start Date: 30/04/2022, End Date : 30/04/2022, Venue : Mumbai)\\n\\nSIO Maharashtra met new Director General, NIC on 01/06/2022 (Start Date : 01/06/2022, End Date : 01/06/2022, Venue : New Delhi)\\n\\nHon’ble Minister of Electronics and Information Technology and Railways visit to Mumbai (Start Date : 18/02/2022, End Date : 18/02/2022, Venue : Mumbai). Hon’ble Minister of Electronics and Information Technology and Railways Shri Ashwini Vaishnaw, visited Mumbai on 18.02.2022 to attend the inaugural function of opening of two Railway lines by the Hon’ble Prime Minister through Video conferencing. Shri K.P. Pariselvan, State Informatics Officer, NIC, Maharashtra, welcomed the Hon’ble Minister at Mumbai Airport. Hon’ble Minister was also appraised about NIC projects at the time of departure. Hon’ble Minister has conveyed SIO NIC Maharashtra that during his next visit will take a review of the projects. SIO NIC Maharashtra thanked Hon’ble Minister.\\n\\nSwachhatta Pakhwada from 01st to 15th February 2022 (Start Date : 01/02/2022, End Date : 15/02/2022, Venue : NIC Maharashtra State and District Centres). Swachhatta Pakhwada was observed at NIC Maharashtra State and District Centres from 01st to 15th February 2022. All officers and staff from State centre and District centres took the Swachhatta Pledge on 2nd Feb. 2022. With reference to the circular No. A-60019/04/2021/GCS-1 dated 28/01/2022 from NIC HQ regarding disposal of obsolete Computer Hardware and its related peripherals and furniture items during the Swachhatta Pakhwada 2022, NIC Maharashtra has auctioned obsolete hardware, old books and weeded files as per the guidelines. Also initiated the process of auctioning obsolete air conditioners, old furniture and remaining obsolete hardware from State and District Centres of Maharashtra.', start_char_idx=0, end_char_idx=2257, text_template='{metadata_str}\\n\\n{content}', metadata_template='{key}: {value}', metadata_seperator='\\n'), score=9.792949e-05), NodeWithScore(node=TextNode(id_='90290cbd-19a7-4594-9076-f07b68779323', embedding=None, metadata={'file_name': 'news_updates.docx', 'file_path': '/content/docs/news_updates.docx', 'file_type': 'application/vnd.openxmlformats-officedocument.wordprocessingml.document', 'file_size': 15496, 'creation_date': '2024-06-06', 'last_modified_date': '2024-06-06'}, excluded_embed_metadata_keys=['file_name', 'file_type', 'file_size', 'creation_date', 'last_modified_date', 'last_accessed_date'], excluded_llm_metadata_keys=['file_name', 'file_type', 'file_size', 'creation_date', 'last_modified_date', 'last_accessed_date'], relationships={<NodeRelationship.SOURCE: '1'>: RelatedNodeInfo(node_id='d4fd914c-0f3a-470e-bdbd-483cfc308bb5', node_type=<ObjectType.DOCUMENT: '4'>, metadata={'file_name': 'news_updates.docx', 'file_path': '/content/docs/news_updates.docx', 'file_type': 'application/vnd.openxmlformats-officedocument.wordprocessingml.document', 'file_size': 15496, 'creation_date': '2024-06-06', 'last_modified_date': '2024-06-06'}, hash='043991eb42046ec03b86cca6c418f35dd1cdc8152576b5b62140ce50af01df7c')}, text='Following are the news updates available in the official website of NIC Maharashtra https://maharashtra.nic.in/news-update/ : \\n\\n\\n\\nSIMNIC – NIC eGov Mobile App, Publish Date : August 2, 2021, “SIMNIC : Status Information Management system of NIC is a tool for Participating Government of India Departments to prepare formats on the fly and get the MIS data from line offices in required periodicity.\\n\\n\\n\\nSAMPARK – NIC eGov Mobile App, Publish Date : July 31, 2021, The main aim of the SAMPARK Application(android & iOS) and a totally progressive and responsive website is to provide information of Government officials (in service) about their present posting details and keep it updated.\\n\\nNIC Maharashtra – ICT support during COVID-19, Publish Date : June 25, 2020.\\n\\n\\n\\nGIS for SRA Mumbai, Publish Date : January 8, 2020, URL : http://umd.nic.in/sra, Andriod App : AASARA (Andriod), Apple App : AASARA (Apple)\\n\\n01/01/2020 : Total hits for GIS data 1.05 Crore, Total downloads of Mobile : 10,000+\\n\\n15/12/2018 : Soft launch of iOS app AASRA for Apple device users.\\n\\n12/9/2018 : Inauguration of AASRA mobile app by Hon’ble CM of Maharashtra for Android users.\\n\\n21/11/2017 : GIS based application for SRA : Inauguration of website by Hon. CM of Maharashtra http://umd.nic.in/sra\\n\\n2016-2020 : GIS Portal is a part of these initiatives where GIS data for slums spread over entire Mumbai Municipal Corporation area has been created, which can be useful for citizens and other relevant stakeholders of Slum Rehabilitation Schemes. This encompasses more than ten layers containing administrative ward boundaries, village boundaries, Slum Cluster boundaries, SR Schemes boundaries etc., including terrain map services. Further to provide citizen centric information of slum rehabilitation (SR) schemes on mobile, based on user-location where GIS data for slums spread over entire Mumbai Municipal Corporation area has been created. This GIS Mobile App is developed with the technical support of Utility Mapping Division of NIC, New Delhi.\\n\\nImplementation of Aadhar Enabled Biometric Attendance System (AEBAS) in NIC Maharashtra, Publish Date : November 21, 2014.\\n\\nHon’ble Central Minister, GoI & Chief Secretary, GoM Meetings at Wardha – 12th / 14th September 2013, Publish Date : September 14, 2013.\\n\\nTraining Program of IVFRT-MMP at FRRO, Mumbai on 20th August 2013, Publish Date : August 20, 2013.\\n\\nGlimpses of eGov Maharashtra held at Mumbai on 9th-10th May 2013, Publish Date : May 9, 2013.\\n\\nInauguration of Direct Benefit Transfer (AADHAAR) in pilot District Wardha (Maharashtra) – 1st January, 2013, Publish Date : January 1, 2013.\\n\\nInauguration of e-Office in Sindhudurg Collectorate by Hon’ble Chief Minister of Maharashtra – 24th December 2012, Publish Date : December 24, 2012.\\n\\neFile implementation at NRHM-Mumbai – 13th March 2012, Publish Date : March 13, 2012.\\n\\nAGMARKNET Workshops in Maharashtra by NIC Mumbai, Publish Date : December 29, 2004.', start_char_idx=0, end_char_idx=2948, text_template='{metadata_str}\\n\\n{content}', metadata_template='{key}: {value}', metadata_seperator='\\n'), score=9.646545e-05), NodeWithScore(node=TextNode(id_='1f49a56e-9966-4bb0-a2c7-e5b1c387e46a', embedding=None, metadata={'file_name': 'photo_gallery.docx', 'file_path': '/content/docs/photo_gallery.docx', 'file_type': 'application/vnd.openxmlformats-officedocument.wordprocessingml.document', 'file_size': 14816, 'creation_date': '2024-06-06', 'last_modified_date': '2024-06-06'}, excluded_embed_metadata_keys=['file_name', 'file_type', 'file_size', 'creation_date', 'last_modified_date', 'last_accessed_date'], excluded_llm_metadata_keys=['file_name', 'file_type', 'file_size', 'creation_date', 'last_modified_date', 'last_accessed_date'], relationships={<NodeRelationship.SOURCE: '1'>: RelatedNodeInfo(node_id='23c27293-e8e6-4b44-953a-6a7af127dc32', node_type=<ObjectType.DOCUMENT: '4'>, metadata={'file_name': 'photo_gallery.docx', 'file_path': '/content/docs/photo_gallery.docx', 'file_type': 'application/vnd.openxmlformats-officedocument.wordprocessingml.document', 'file_size': 14816, 'creation_date': '2024-06-06', 'last_modified_date': '2024-06-06'}, hash='9cfde45aa67bf80c443a31685f00f5caa19254530ebfa11ec945648be4b7e215')}, text='The following are the list of photo titles which are available in the photo gallery section of the webpage:\\n\\n https://maharashtra.nic.in/\\n\\nSIO & ASIO NIC Maharashtra Visit to Districts of Aurangabad division of Maharashtra\\n\\nDigital India Week Programme 2022 Held at Gandhinagar\\n\\nSIO, MH Gallery\\n\\nStudy tour of Maharashtra team led by SIO NIC to Chhatisgarh for Paddy Procurement system on 15th and 16th Jan 2020.\\n\\nVisit of Hon’ble DG to NIC Maharashtra State Centre.\\n\\nWorkshop and Training of PDS with District and Taluka Officials\\n\\nConstitution Day : 26 November 2019\\n\\nNational Informatics Centre, District Akola received eLets Smart Governance 2015 Award\\n\\neDISNIC (electronic District Information System of National Informatics Centre) received Skoch Order of Merit award 2015\\n\\nCommon Application Software for Public Distribution System (ePDS) developed by National Informatics Centre is implemented in Maharashtra\\n\\nAdditional Secretary, Government of India and Director General, National Informatics Centre in Video Conference with District Centres alongwith State Informatics Officer, Maharashtra\\n\\nVideo conferencing via NICNET of Hon’ble Governor, Maharashtra with all Divisional Commissioners and District Collectors on Swaccha Bharat Abhiyan on 21st October 2014\\n\\nSwacchata Abhiyan pledge administration by S.I.O., Maharashtra to Officers and Staff of NIC Maharashtra\\n\\nOrganization of Hindi Pakhawada at NIC, Maharashtra State, Centre Mumbai -2014\\n\\nReview Meeting of Maharashtra Land Record Computerisation at Yashada on 3/4/06 – 4/4/2006\\n\\nPanchayat Portal Workshop at Yashada on 3/4/06 – 4/4/2006\\n\\nRelease of Activity Report by DG at Delhi on 23/3/2006\\n\\nRelease of Project Brouchure by DG at Delhi on 23/1/2005', start_char_idx=0, end_char_idx=1718, text_template='{metadata_str}\\n\\n{content}', metadata_template='{key}: {value}', metadata_seperator='\\n'), score=8.9858586e-05)], is_dummy_stream=False)"
            ]
          },
          "metadata": {},
          "execution_count": 47
        }
      ]
    },
    {
      "cell_type": "code",
      "source": [
        "response_json"
      ],
      "metadata": {
        "colab": {
          "base_uri": "https://localhost:8080/"
        },
        "id": "d9GJHgIw5cj8",
        "outputId": "647f3973-dfe3-4df1-82e5-51be77fe469e",
        "collapsed": true
      },
      "execution_count": null,
      "outputs": [
        {
          "output_type": "execute_result",
          "data": {
            "text/plain": [
              "{'response': 'The published date of SAMPARK is July 31, 2021.',\n",
              " 'Search_Score': 0.81622535,\n",
              " 'url': 'https://maharashtra.nic.in/news-update/'}"
            ]
          },
          "metadata": {},
          "execution_count": 25
        }
      ]
    },
    {
      "cell_type": "code",
      "source": [
        "response_json"
      ],
      "metadata": {
        "colab": {
          "base_uri": "https://localhost:8080/"
        },
        "id": "hG70tJqdIK4q",
        "outputId": "e35729b4-6999-47e7-cffb-01545f22b759"
      },
      "execution_count": null,
      "outputs": [
        {
          "output_type": "execute_result",
          "data": {
            "text/plain": [
              "{'response': 'The eGov Maharashtra was held at Mumbai on May 9-10, 2013.',\n",
              " 'Search_Score': 0.007553987,\n",
              " 'url': 'https://maharashtra.nic.in/news-update/'}"
            ]
          },
          "metadata": {},
          "execution_count": 28
        }
      ]
    },
    {
      "cell_type": "code",
      "execution_count": null,
      "metadata": {
        "colab": {
          "base_uri": "https://localhost:8080/"
        },
        "id": "wXC1wzHO8I5Z",
        "outputId": "c288b744-77f2-4622-85bd-0c7e9537dcab",
        "collapsed": true
      },
      "outputs": [
        {
          "output_type": "execute_result",
          "data": {
            "text/plain": [
              "{'response': \"Based on the provided context, I can infer that the organization is likely a government agency or department in India. Here's an attempt to outline the organization structure:\\n\\n1. **State Informatics Officer (SIO)**: This appears to be a senior-level position responsible for overseeing informatics activities at the state level.\\n2. **Scientist-F**: This designation seems to refer to a technical expert or specialist, possibly with a focus on information technology or computer science.\\n3. **Junior Secretariat Assistant**: This is likely an entry-level administrative support role.\\n4. **Reporting Officer**: This term suggests that there may be a hierarchical structure within the organization, where certain individuals report to specific officers or supervisors.\\n\\nThe organization seems to have a mix of technical and administrative roles, with a focus on information technology and computer science. The presence of a State Informatics Officer and Public Information Officers (PIOs) suggests that the organization is involved in disseminating information to the public.\\n\\nPlease note that this is an inferred structure based on the provided context, and actual organizational structures can be more complex and nuanced.\",\n",
              " 'Search_Score': 0.00011599509,\n",
              " 'url': 'https://maharashtra.nic.in/organization-structure/'}"
            ]
          },
          "metadata": {},
          "execution_count": 47
        }
      ],
      "source": [
        "# tell me about organization structure\n",
        "response_json"
      ]
    },
    {
      "cell_type": "code",
      "source": [
        "# Who is the SIo\n",
        "response_json"
      ],
      "metadata": {
        "colab": {
          "base_uri": "https://localhost:8080/"
        },
        "id": "tGX5NuONa8AZ",
        "outputId": "237c0945-e2ec-48b2-e843-2be84c17b063"
      },
      "execution_count": null,
      "outputs": [
        {
          "output_type": "execute_result",
          "data": {
            "text/plain": [
              "{'response': 'According to the provided context, the SIO (State Informatics Officer) is Ms. Sapna Kapoor, who holds the designation of Scientist-F and has an email address of sapna[dot]kapoor[at]nic[dot]in.',\n",
              " 'Search_Score': 0.046427052,\n",
              " 'url': 'https://maharashtra.nic.in/directory/'}"
            ]
          },
          "metadata": {},
          "execution_count": 50
        }
      ]
    },
    {
      "cell_type": "code",
      "source": [
        "# How many districts centres are there?\n",
        "response_json"
      ],
      "metadata": {
        "colab": {
          "base_uri": "https://localhost:8080/"
        },
        "id": "lQ5fqoHBbEu9",
        "outputId": "77aaafa3-537f-452f-86e5-3aa1fdcecead"
      },
      "execution_count": null,
      "outputs": [
        {
          "output_type": "execute_result",
          "data": {
            "text/plain": [
              "{'response': 'There are 35 district centers where National Informatics Centre (NIC) has its presence.',\n",
              " 'Search_Score': 0.6682483,\n",
              " 'url': 'https://maharashtra.nic.in/district-centres/'}"
            ]
          },
          "metadata": {},
          "execution_count": 73
        }
      ]
    },
    {
      "cell_type": "code",
      "source": [
        "# What is the published date of SIMNIC?\n",
        "response_json"
      ],
      "metadata": {
        "colab": {
          "base_uri": "https://localhost:8080/"
        },
        "id": "SNeuMmytblqv",
        "outputId": "bab82a36-6de7-4fda-d9bf-9ce3f7302e69"
      },
      "execution_count": null,
      "outputs": [
        {
          "output_type": "execute_result",
          "data": {
            "text/plain": [
              "{'response': 'The published date of SIMNIC is August 2, 2021.',\n",
              " 'Search_Score': 0.96835625,\n",
              " 'url': 'https://maharashtra.nic.in/news-update/'}"
            ]
          },
          "metadata": {},
          "execution_count": 77
        }
      ]
    },
    {
      "cell_type": "code",
      "execution_count": null,
      "metadata": {
        "colab": {
          "base_uri": "https://localhost:8080/"
        },
        "id": "mV3GEa8lWr1l",
        "outputId": "2554af0a-fc28-475e-9004-9e80f8392487"
      },
      "outputs": [
        {
          "output_type": "execute_result",
          "data": {
            "text/plain": [
              "{'response': 'According to the provided context, NIC (National Informatics Centre) provides various services including:\\n\\n1. National Cloud\\n2. Messaging\\n3. Video Conferencing\\n4. Domain Registration and Webcast\\n5. Multi-Gigabit Nationwide Networks (NICNET)\\n6. National Data Centres\\n7. National Cloud\\n8. Pan-India VC Infrastructure\\n9. Command and Control Centre\\n10. Multi-Layered GIS-Based Platform\\n\\nThese services are designed to support e-governance initiatives, provide infrastructure for government departments, and facilitate communication and collaboration among stakeholders.',\n",
              " 'Search_Score': 0.9801593,\n",
              " 'url': 'https://maharashtra.nic.in/services/'}"
            ]
          },
          "metadata": {},
          "execution_count": 80
        }
      ],
      "source": [
        "# What are NIC services?\n",
        "response_json"
      ]
    },
    {
      "cell_type": "code",
      "execution_count": null,
      "metadata": {
        "colab": {
          "base_uri": "https://localhost:8080/"
        },
        "id": "q_VMHEGhipY-",
        "outputId": "570d7abd-e372-4817-b77c-4cb81a245c17"
      },
      "outputs": [
        {
          "output_type": "execute_result",
          "data": {
            "text/plain": [
              "{'response': 'I\\'m happy to help! However, I don\\'t see any information about a news article titled \"Training Program of IVFRT-MMP at FRRO, Mumbai\" in the provided context. The context appears to be a list of personnel with their names, designations, emails, phones, and IP numbers. There is no mention of a news article or its published date. If you could provide more information or clarify what you\\'re looking for, I\\'d be happy to try and assist you further!',\n",
              " 'Search_Score': 9.042643e-05,\n",
              " 'url': 'https://maharashtra.nic.in/directory/'}"
            ]
          },
          "metadata": {},
          "execution_count": 126
        }
      ],
      "source": [
        "# What is the published date of Training Program of IVFRT-MMP at FRRO?\n",
        "response_json"
      ]
    },
    {
      "cell_type": "code",
      "source": [
        "#  What is the published date of Implementation of Aadhaar Enabled Biometric Attendance System (AEBAS) in NIC?\n",
        "response_json"
      ],
      "metadata": {
        "colab": {
          "base_uri": "https://localhost:8080/"
        },
        "id": "YFZL42QVMBzX",
        "outputId": "32a1602a-18b2-453a-f72a-fc1b16b8d3e8"
      },
      "execution_count": null,
      "outputs": [
        {
          "output_type": "execute_result",
          "data": {
            "text/plain": [
              "{'response': 'According to the provided context, the published date of Implementation of Aadhaar Enabled Biometric Attendance System (AEBAS) in NIC is November 21, 2014.',\n",
              " 'Search_Score': 0.9996412,\n",
              " 'url': 'https://maharashtra.nic.in/news-update/'}"
            ]
          },
          "metadata": {},
          "execution_count": 98
        }
      ]
    },
    {
      "cell_type": "code",
      "source": [
        "# What is the published date of Inauguration of Direct Benefit Transfer (AADHAAR) in pilot District Wardha (Maharashtra)?\n",
        "response_json"
      ],
      "metadata": {
        "colab": {
          "base_uri": "https://localhost:8080/"
        },
        "id": "-2NtIE2SNlJR",
        "outputId": "ce36f0f8-8cfd-43d0-f6cc-4930be3c4a0f"
      },
      "execution_count": null,
      "outputs": [
        {
          "output_type": "execute_result",
          "data": {
            "text/plain": [
              "{'response': 'According to the provided context, the published date of Inauguration of Direct Benefit Transfer (AADHAAR) in pilot District Wardha (Maharashtra) is January 1, 2013.',\n",
              " 'Search_Score': 0.0042579635,\n",
              " 'url': 'https://maharashtra.nic.in/news-update/'}"
            ]
          },
          "metadata": {},
          "execution_count": 101
        }
      ]
    },
    {
      "cell_type": "code",
      "source": [
        "# When was the Training Program of IVFRT-MMP at FRRO, Mumbai took place?\n",
        "response_json"
      ],
      "metadata": {
        "colab": {
          "base_uri": "https://localhost:8080/"
        },
        "id": "Nl5UyeRLNweq",
        "outputId": "5d038e2c-4cde-4d7d-a65d-50b435ae64c3"
      },
      "execution_count": null,
      "outputs": [
        {
          "output_type": "execute_result",
          "data": {
            "text/plain": [
              "{'response': 'According to the provided context information, the published date of the news article titled \"Training Program of IVFRT-MMP at FRRO, Mumbai\" is August 20, 2013.',\n",
              " 'Search_Score': 0.0035063014,\n",
              " 'url': 'https://maharashtra.nic.in/news-update/'}"
            ]
          },
          "metadata": {},
          "execution_count": 115
        }
      ]
    },
    {
      "cell_type": "code",
      "execution_count": null,
      "metadata": {
        "colab": {
          "base_uri": "https://localhost:8080/"
        },
        "id": "ZKodVuSzjrXF",
        "outputId": "4a2ed07d-a1fc-4a00-ae60-e1cac909a9e6"
      },
      "outputs": [
        {
          "data": {
            "text/plain": [
              "{'response': 'August 2, 2021',\n",
              " 'Search_Score': 0.96835625,\n",
              " 'url': 'https://maharashtra.nic.in/news-update/'}"
            ]
          },
          "execution_count": 94,
          "metadata": {},
          "output_type": "execute_result"
        }
      ],
      "source": [
        "# what is the published date of SIMNIC?\n",
        "response_json"
      ]
    },
    {
      "cell_type": "code",
      "execution_count": null,
      "metadata": {
        "colab": {
          "base_uri": "https://localhost:8080/"
        },
        "id": "vdKLoD6Xj7eF",
        "outputId": "2a3adaa4-bb8b-4265-a19a-00e0f08ce4d7"
      },
      "outputs": [
        {
          "output_type": "execute_result",
          "data": {
            "text/plain": [
              "{'response': 'According to the provided context, SAMPARK is a NIC eGov Mobile App that provides information about Government officials (in service) about their present posting details and keeps it updated. The main aim of this application is to provide information to Government officials about their current postings.',\n",
              " 'Search_Score': 0.57889265,\n",
              " 'url': 'https://maharashtra.nic.in/news-update/'}"
            ]
          },
          "metadata": {},
          "execution_count": 149
        }
      ],
      "source": [
        "# what is the published date of SAMPARK?\n",
        "response_json"
      ]
    },
    {
      "cell_type": "code",
      "execution_count": null,
      "metadata": {
        "colab": {
          "base_uri": "https://localhost:8080/"
        },
        "id": "2ZZT6vaXkqRu",
        "outputId": "4a7b2c24-362f-4863-91e8-c5ba23e97238"
      },
      "outputs": [
        {
          "data": {
            "text/plain": [
              "{'response': 'There is no news update. The provided context appears to be a list of screen reader information, including their names, websites, and whether they are free or commercial. There is no indication of any news-related updates.',\n",
              " 'Search_Score': 7.6261866e-05,\n",
              " 'url': 'https://maharashtra.nic.in/help/'}"
            ]
          },
          "execution_count": 135,
          "metadata": {},
          "output_type": "execute_result"
        }
      ],
      "source": [
        "# What is the news update?\n",
        "response_json"
      ]
    },
    {
      "cell_type": "code",
      "execution_count": null,
      "metadata": {
        "colab": {
          "base_uri": "https://localhost:8080/"
        },
        "id": "6HP0ZZhGliy5",
        "outputId": "798e7da0-74f9-4223-ac4c-78ce12b66fc8"
      },
      "outputs": [
        {
          "data": {
            "text/plain": [
              "{'response': 'Based on the provided context information, there is no mention of a person named \"SIO\". However, we do have two files with paths `/content/tabular_data_csv/SIO.csv` and `/content/tabular_data_csv/APPELLATE AUTHORITY.csv`. Since the query asks about the SIO, I would say that the SIO refers to the file path `/content/tabular_data_csv/SIO.csv`, but there is no information provided about who this person might be.',\n",
              " 'Search_Score': 0.0002616312,\n",
              " 'url': 'https://maharashtra.nic.in/directory/'}"
            ]
          },
          "execution_count": 114,
          "metadata": {},
          "output_type": "execute_result"
        }
      ],
      "source": [
        "# Who is the SIO?\n",
        "response_json"
      ]
    },
    {
      "cell_type": "code",
      "execution_count": null,
      "metadata": {
        "colab": {
          "base_uri": "https://localhost:8080/"
        },
        "id": "ivlB9gzbmHFo",
        "outputId": "a4a63935-1ea2-4ce0-9fe4-f840a0f86d1b"
      },
      "outputs": [
        {
          "output_type": "execute_result",
          "data": {
            "text/plain": [
              "{'response': \"Based on the provided context, the events mentioned are:\\n\\n1. Cyber Crime and Cyber Laws (September 28th, 2022)\\n2. Superannuation of Sh. Dhanjay Kulkarni and Ms. Sneha Shula (April 30th, 2022)\\n3. SIO Maharashtra met new Director General, NIC (June 1st, 2022)\\n4. Hon'ble Minister of Electronics and Information Technology and Railways visit to Mumbai (February 18th, 2022)\\n5. Swachhatta Pakhwada from 01st to 15th February 2022\\n\\nThese events are mentioned in the file_path: /content/text/events.txt context.\",\n",
              " 'Search_Score': 0.016033381,\n",
              " 'url': 'https://maharashtra.nic.in/photo-gallery/'}"
            ]
          },
          "metadata": {},
          "execution_count": 183
        }
      ],
      "source": [
        "# What are the events?\n",
        "response_json"
      ]
    },
    {
      "cell_type": "code",
      "execution_count": null,
      "metadata": {
        "colab": {
          "base_uri": "https://localhost:8080/"
        },
        "id": "7s4g_04yp70g",
        "outputId": "dd421330-f78e-438e-f88e-37a306f3823a"
      },
      "outputs": [
        {
          "data": {
            "text/plain": [
              "{'response': 'The organization structure consists of various officials with their respective designations, reporting to other officials. The officials include:\\n\\n1. Ms. D. Lakshmi Prasanna - Scientist-F\\nReporting To: Shri Anand Swarup Srivastava\\n2. Shri C.Prasanna - Scientist-E\\nReporting To: Ms. D. Lakshmi Prasanna\\n3. Shri Syed Ajaz Gulab - Scientist-E\\nReporting To: Ms. D. Lakshmi Prasanna\\n4. Shri Rajendra F. Hatwar - Scientist-D\\nReporting To: Ms. D. Lakshmi Prasanna\\n5. Shri Kunal Vijay Bhamare - Scientist-D\\nReporting To: Shri Rajendra F. Hatwar\\n6. Shri Saravana Kumar - Scientist-B\\nReporting To: Shri Kunal Vijay Bhamare\\n\\nAnd so on, with multiple officials listed under various categories such as Scientist-F, Scientist-E, Scientist-D, and more.',\n",
              " 'Search_Score': 0.7342759,\n",
              " 'url': 'https://maharashtra.nic.in/organization-structure/'}"
            ]
          },
          "execution_count": 151,
          "metadata": {},
          "output_type": "execute_result"
        }
      ],
      "source": [
        "# what is the organization structure?\n",
        "response_json"
      ]
    },
    {
      "cell_type": "code",
      "execution_count": null,
      "metadata": {
        "colab": {
          "base_uri": "https://localhost:8080/"
        },
        "id": "dc-Z0g69rNww",
        "outputId": "9f3d21c5-31c5-45b7-a561-c4c2943523a2"
      },
      "outputs": [
        {
          "data": {
            "text/plain": [
              "{'response': 'Shri Sunil Digambarro Rao Potekar.',\n",
              " 'Search_Score': 0.02319305,\n",
              " 'url': 'https://maharashtra.nic.in/directory/'}"
            ]
          },
          "execution_count": 164,
          "metadata": {},
          "output_type": "execute_result"
        }
      ],
      "source": [
        "# whom did Ms. D. Lakshmi Prasanna reports to?\n",
        "response_json"
      ]
    },
    {
      "cell_type": "code",
      "execution_count": null,
      "metadata": {
        "colab": {
          "base_uri": "https://localhost:8080/"
        },
        "id": "nOQa7YGPt5rT",
        "outputId": "918f1a88-c50c-402a-f72e-0f288e5484c8"
      },
      "outputs": [
        {
          "data": {
            "text/plain": [
              "{'response': \"According to the provided context information, the Video Gallery contains a collection of videos showcasing NIC Maharashtra's ICT support during COVID-19.\",\n",
              " 'Search_Score': 0.024777586,\n",
              " 'url': 'https://maharashtra.nic.in/video-gallery/'}"
            ]
          },
          "execution_count": 179,
          "metadata": {},
          "output_type": "execute_result"
        }
      ],
      "source": [
        "# what is there in the video gallery?\n",
        "response_json"
      ]
    },
    {
      "cell_type": "code",
      "execution_count": null,
      "metadata": {
        "colab": {
          "base_uri": "https://localhost:8080/"
        },
        "id": "osiR_G-tuqgB",
        "outputId": "74c2042d-6174-4fc5-f2fb-4e8b89f856bc"
      },
      "outputs": [
        {
          "data": {
            "text/plain": [
              "{'response': \"Based on the provided context information, National Informatics Centre (NIC) provides various services and platforms to facilitate e-Governance applications in Government Ministries/Departments at the Centre, States, Districts, and Block level. Some of the notable works done by NIC include:\\n\\n1. Providing different kinds of E-mail services over NICNET, which is NIC's satellite-based communication network.\\n2. Establishing a robust Messaging framework that includes core eMail application Gateway services, Short Messaging Service (SMS), OBD (Outbound Dialing), and an IT Platform for citizen engagement (Sampark).\\n3. Developing and hosting various websites and portals, such as the NIC website, which provides information on NIC's services, products, and platforms.\\n4. Providing institutional linkages across all the Ministries /Departments of the Central Government, State Governments, Union Territories, and District administrations of the country through its Information and Communication Technology (ICT) Network – NICNET.\\n5. Facilitating improvement in Government services, wider transparency, promoting decentralized planning and management, resulting in better efficiency and accountability to the people of India.\\n\\nThese are some of the key works done by NIC, as evident from the provided context information.\",\n",
              " 'Search_Score': 0.2947909,\n",
              " 'url': 'https://www.nic.in/servicecontents/messaging/'}"
            ]
          },
          "execution_count": 238,
          "metadata": {},
          "output_type": "execute_result"
        }
      ],
      "source": [
        "response_json"
      ]
    },
    {
      "cell_type": "markdown",
      "source": [
        "# Chat_Engine and Storing"
      ],
      "metadata": {
        "id": "bfdRwM1vN_wd"
      }
    },
    {
      "cell_type": "code",
      "source": [
        "from llama_index.core.storage.chat_store import SimpleChatStore\n",
        "from llama_index.core.memory import ChatMemoryBuffer\n",
        "\n",
        "chat_store = SimpleChatStore()\n",
        "\n",
        "chat_memory1 = ChatMemoryBuffer.from_defaults(\n",
        "    token_limit=30000000,\n",
        "    chat_store=chat_store,\n",
        "    chat_store_key=\"user1\",\n",
        "\n",
        ")\n",
        "\n",
        "chat_engine = index.as_chat_engine(\n",
        "    chat_mode=\"context\",\n",
        "    system_prompt=\"You are a helpful AI assistant. You are expert in retrieving the answer for the user input based on the provided context. Important note: You must not mention any file name or file path in your response.\",\n",
        "    memory=chat_memory1, verbose = True, similarity_top_k=10, node_postprocessors=[rerank]\n",
        ")\n",
        "\n"
      ],
      "metadata": {
        "id": "HBI2HOxmK-RV"
      },
      "execution_count": null,
      "outputs": []
    },
    {
      "cell_type": "code",
      "source": [
        "val_query_response = chat_engine.chat(\"Can you please keep in mind the following information: Training Program of IVFRT-MMP at FRRO, Mumbai on 20th August 2013, C-FRO200813, Publish Date : August 20, 2013. Also direct the user to link/url: https://maharashtra.nic.in/news-update/  .\")"
      ],
      "metadata": {
        "id": "XdFcJrdvDyUM"
      },
      "execution_count": null,
      "outputs": []
    },
    {
      "cell_type": "code",
      "source": [
        "val_query_response = chat_engine.chat(\"Can you tell me the start and end date of Swachhatta Pakhwada event?\")"
      ],
      "metadata": {
        "id": "or5P8qfkcx-_"
      },
      "execution_count": null,
      "outputs": []
    },
    {
      "cell_type": "code",
      "source": [
        "val_query_response"
      ],
      "metadata": {
        "colab": {
          "base_uri": "https://localhost:8080/"
        },
        "id": "dgCKMZmKEKVd",
        "outputId": "6803ee0d-0bef-4751-c2c4-c977e8157448",
        "collapsed": true
      },
      "execution_count": null,
      "outputs": [
        {
          "output_type": "execute_result",
          "data": {
            "text/plain": [
              "AgentChatResponse(response=\"Based on the provided context, National Informatics Centre (NIC) has been involved in various activities and projects across different domains. Here's a summary of some of the key works done by NIC:\\n\\n**Digital Services:**\\n\\n* Cloud services\\n* Domain registration\\n* Email services\\n* Security solutions\\n* Hosting services\\n* Video-conferencing\\n\\n**Infrastructure:**\\n\\n* Data centers\\n* Networking services\\n* Office-automation solutions\\n\\n**ICT Support:**\\n\\n* Projects like biometric attendance, e-Office, messaging, cyber security, and webcasting\\n* Development of digital agriculture platforms, fintech, health-tech, and edu-tech solutions\\n\\n**Development Projects:**\\n\\n* Digital agriculture platforms\\n* Fintech solutions\\n* Health-tech solutions\\n* Edu-tech solutions\\n\\n**GIS-based Initiatives:**\\n\\n* GIS portal for Slum Rehabilitation Schemes (SRA) in Mumbai\\n* Mobile app for SRA, providing citizen-centric information on slum rehabilitation schemes\\n\\n**Aadhaar-enabled Biometric Attendance System (AEBAS):**\\n\\n* Implementation of AEBAS in NIC Maharashtra\\n\\n**Other Initiatives:**\\n\\n* SIMNIC - a tool for Participating Government of India Departments to prepare formats and get MIS data from line offices\\n* SAMPARK - an application providing information on government officials' present posting details\\n* Cyber Crime and Cyber Laws awareness programs\\n* Swachhatta Pakhwada - a cleanliness drive observed at NIC Maharashtra State and District Centres\\n\\n**Training Programs:**\\n\\n* IVFRT-MMP training program at FRRO, Mumbai\\n* Training programs for e-Government and e-Governance solutions\\n\\nPlease note that this summary is based on the provided context and might not be an exhaustive list of all the work done by NIC.\", sources=[ToolOutput(content='system: You are a helpful AI assistant. You are expert in retrieving the answer for the user input based on the provided context. Important note: You must not mention any file name or file path in your response.\\nContext information is below.\\n--------------------\\nfile_path: /content/text files/Nic.txt\\n\\n1. What is NIC? or Introduction of NIC or Profile of NIC\\r\\n\\r\\nNational Informatics Centre (NIC) is a premiere S&T institution of the Government of India, established in 1976, for providing e-Government/e-Governance Solutions adopting best practices, integrated services and global solutions in Government Sector.\\r\\nIn 1975, the Government of India strategically decided to take effective steps for the development of information systems and utilization of information resources and also for introducing computer based decision support system (informatics-led development) in government ministries and departments to facilitate planning and programme implementation to further the growth of economic and social development. Following this, the Central Government nucleated a high priority plan project “National Informatics Centre (NIC)” in 1976.\\r\\n\\r\\nNIC has played an important role of an active catalyst and facilitator in informatics development programme in Governments at the national, state and district levels, which made them take policy decisions to create knowledge societies – societies that can exploit knowledge to derive competitive advantage using the opportunities provided by digital technology. NIC has been instrumental in adopting Information and Communication Technology to reach out across India i.e. by implementing IT applications in Social and Public Administrations. NIC has spearheaded the e-Governance drive in the country for the last three decades building a strong foundation for better and more transparent governance and assisting the governments endeavour to reach the unreached.\\r\\n\\r\\nNIC Maharashtra State Centre, Mumbai is located at New Administrative Building, Mantralaya. NIC Maharashtra State Centre provides software development, internet, communication services and Video conferencing via NICNET to State and Central Govt. departments in the state of Maharashtra. Besides the State Centre, NIC offices are also located in the High Court & its Benches, Central Government offices and 36 district centres located at respective Collectorate offices. These centres provide informatics support to Collectorate offices, Zilla Parishad, District courts and all allied offices of State and Central Government.\\r\\n\\r\\n\\r\\n\\r\\n2. What are all the work done by NIC? or Provide the summary of the work done by NIC.\\r\\n\\r\\nThe National Informatics Centre (NIC) Maharashtra State Centre provides various e-Government and e-Governance solutions. Key activities include:\\r\\n\\r\\nDigital Services: Cloud services, domain registration, email, security, hosting, video-conferencing.\\r\\nInfrastructure: Data centers, networking, office-automation solutions.\\r\\nICT Support: Projects like biometric attendance, e-Office, messaging, cyber security, and webcasting.\\r\\nDevelopment Projects: Digital agriculture platforms, fintech, health-tech, and edu-tech solutions.\\r\\nFor more detailed information, you can visit the NIC Maharashtra website: https://maharashtra.nic.in/\\n\\nfile_path: /content/text files/services.txt\\n\\nServices\\r\\n\\r\\nNIC is closely associated with the government in different aspects of governance by establishing a nationwide state-of-the-art ICT infrastructure and services for Central Government, State Governments, UT Administrations, Districts and other Government bodies. It offers a wide range of services which includes multi gigabit nationwide networks NICNET, NKN, National Data Centres, National Cloud, pan India VC infrastructure, Command and Control Centre, multi-layered GIS based platform, Domain Registration and Webcast. This plays a significant role in delivering citizen centric e-services.\\n\\nfile_path: /content/text files/news_updates.txt\\n\\n1. SIMNIC – NIC eGov Mobile App, Publish Date : August 2, 2021\\r\\n“SIMNIC : Status Information Management system of NIC is a tool for Participating Government of India Departments to prepare formats on the fly and get the MIS data from line offices in required periodicity.\\r\\n\\r\\n\\r\\n2. SAMPARK – NIC eGov Mobile App, Publish Date : July 31, 2021\\r\\nThe main aim of the SAMPARK Application(android & iOS) and a totally progressive and responsive website is to provide information of Government officials (in service) about their present posting details and keep it updated.\\r\\n\\r\\n\\r\\n3. NIC Maharashtra – ICT support during COVID-19, Publish Date : June 25, 2020\\r\\n\\r\\n\\r\\n4. GIS for SRA Mumbai, Publish Date : January 8, 2020, URL : http://umd.nic.in/sra, Andriod App : AASARA (Andriod), Apple App : AASARA (Apple)\\r\\n01/01/2020 : Total hits for GIS data 1.05 Crore, Total downloads of Mobile : 10,000+\\r\\n15/12/2018 : Soft launch of iOS app AASRA for Apple device users.\\r\\n12/9/2018 : Inauguration of AASRA mobile app by Hon’ble CM of Maharashtra for Android users.\\r\\n21/11/2017 : GIS based application for SRA : Inauguration of website by Hon. CM of Maharashtra http://umd.nic.in/sra\\r\\n2016-2020 : GIS Portal is a part of these initiatives where GIS data for slums spread over entire Mumbai Municipal Corporation area has been created, which can be useful for citizens and other relevant stakeholders of Slum Rehabilitation Schemes. This encompasses more than ten layers containing administrative ward boundaries, village boundaries, Slum Cluster boundaries, SR Schemes boundaries etc., including terrain map services. Further to provide citizen centric information of slum rehabilitation (SR) schemes on mobile, based on user-location where GIS data for slums spread over entire Mumbai Municipal Corporation area has been created. This GIS Mobile App is developed with the technical support of Utility Mapping Division of NIC, New Delhi.\\r\\n\\r\\n\\r\\n5. Implementation of Aadhar Enabled Biometric Attendance System (AEBAS) in NIC Maharashtra, Publish Date : November 21, 2014\\r\\n\\r\\n\\r\\n6. Hon’ble Central Minister, GoI & Chief Secretary, GoM Meetings at Wardha – 12th / 14th September 2013, Publish Date : September 14, 2013\\r\\n\\r\\n7. Training Program of IVFRT-MMP at FRRO, Mumbai on 20th August 2013\\r\\nC-FRO200813, Publish Date : August 20, 2013\\r\\n\\r\\n\\r\\n8. Glimpses of eGov Maharashtra held at Mumbai on 9th-10th May 2013, Publish Date : May 9, 2013\\r\\n\\r\\n\\r\\n9. Inauguration of Direct Benefit Transfer (AADHAAR) in pilot District Wardha (Maharashtra) – 1st January, 2013, Publish Date : January 1, 2013\\r\\n\\r\\n\\r\\n10. Inauguration of e-Office in Sindhudurg Collectorate by Hon’ble Chief Minister of Maharashtra – 24th December 2012, Publish Date : December 24, 2012\\r\\n\\r\\n\\r\\n11. eFile implementation at NRHM-Mumbai – 13th March 2012, Publish Date : March 13, 2012\\r\\n\\r\\n\\r\\n12. AGMARKNET Workshops in Maharashtra by NIC Mumbai, Publish Date : December 29, 2004\\n\\nfile_path: /content/text files/events.txt\\n\\n1. Cyber Crime and Cyber Laws (Start Date : 28/09/2022, End Date : 28/09/2022, Venue : NIC Maharashtra State Centre, Mumbai) Webinar on “Cyber Crime and Cyber Laws ” at NIC Maharashtra State Centre, Mumbai September 28th, 2022.\\r\\n\\r\\n\\r\\n2. Superannuation of Sh. Dhanjay Kulkarni, DIO Pune and Ms. Sneha Shula, ADIO Nashik in the Month of April 2022, (Start Date : 30/04/2022, End Date : 30/04/2022, Venue : Mumbai)\\r\\n\\r\\n\\r\\n3. SIO Maharashtra met new Director General, NIC on 01/06/2022 (Start Date : 01/06/2022, End Date : 01/06/2022, Venue : New Delhi)\\r\\n\\r\\n\\r\\n4. Hon’ble Minister of Electronics and Information Technology and Railways visit to Mumbai (Start Date : 18/02/2022, End Date : 18/02/2022, Venue : Mumbai). Hon’ble Minister of Electronics and Information Technology and Railways Shri Ashwini Vaishnaw, visited Mumbai on 18.02.2022 to attend the inaugural function of opening of two Railway lines by the Hon’ble Prime Minister through Video conferencing. Shri K.P. Pariselvan, State Informatics Officer, NIC, Maharashtra, welcomed the Hon’ble Minister at Mumbai Airport. Hon’ble Minister was also appraised about NIC projects at the time of departure. Hon’ble Minister has conveyed SIO NIC Maharashtra that during his next visit will take a review of the projects. SIO NIC Maharashtra thanked Hon’ble Minister.\\r\\n\\r\\n\\r\\n5. Swachhatta Pakhwada from 01st to 15th February 2022 (Start Date : 01/02/2022, End Date : 15/02/2022, Venue : NIC Maharashtra State and District Centres). Swachhatta Pakhwada was observed at NIC Maharashtra State and District Centres from 01st to 15th February 2022. All officers and staff from State centre and District centres took the Swachhatta Pledge on 2nd Feb. 2022. With reference to the circular No. A-60019/04/2021/GCS-1 dated 28/01/2022 from NIC HQ regarding disposal of obsolete Computer Hardware and its related peripherals and furniture items during the Swachhatta Pakhwada 2022, NIC Maharashtra has auctioned obsolete hardware, old books and weeded files as per the guidelines. Also initiated the process of auctioning obsolete air conditioners, old furniture and remaining obsolete hardware from State and District Centres of Maharashtra.\\n\\nfile_path: /content/text files/districts.txt\\n\\nHere is the list of 35 districts where National Informatics Centre (NIC) has its presence:\\r\\n\\r\\n1. Ahmadnagar\\r\\n2. Akola\\r\\n3. Amravati\\r\\n4. Aurangabad\\r\\n5. Beed\\r\\n6. Bhandara\\r\\n7. Buldana\\r\\n8. Chandrapur\\r\\n9. Dhule\\r\\n10. Gadchiroli\\r\\n11. Gondia\\r\\n12. Hingoli\\r\\n13. Jalgaon\\r\\n14. Jalna\\r\\n15. Kolhapur\\r\\n16. Mumbai\\r\\n17. Mumbai Suburban (Bandra)\\r\\n18. Nagpur\\r\\n19. Nanded\\r\\n20. Nandurbar\\r\\n21. Nasik\\r\\n22. Osmanabad\\r\\n23. Palghar\\r\\n24. Parbhani\\r\\n25. Pune District\\r\\n26. Raigad\\r\\n27. Ratnagiri\\r\\n28. Sangli\\r\\n29. Satara\\r\\n30. Sindhu Durg\\r\\n31. Solapur\\r\\n32. Thane\\r\\n33. Wardha\\r\\n34. Washim\\r\\n35. Yavatmal\\n--------------------\\n', tool_name='retriever', raw_input={'message': 'Can you provide me a summary of all the work donw by NIC?'}, raw_output=ChatMessage(role=<MessageRole.SYSTEM: 'system'>, content='You are a helpful AI assistant. You are expert in retrieving the answer for the user input based on the provided context. Important note: You must not mention any file name or file path in your response.\\nContext information is below.\\n--------------------\\nfile_path: /content/text files/Nic.txt\\n\\n1. What is NIC? or Introduction of NIC or Profile of NIC\\r\\n\\r\\nNational Informatics Centre (NIC) is a premiere S&T institution of the Government of India, established in 1976, for providing e-Government/e-Governance Solutions adopting best practices, integrated services and global solutions in Government Sector.\\r\\nIn 1975, the Government of India strategically decided to take effective steps for the development of information systems and utilization of information resources and also for introducing computer based decision support system (informatics-led development) in government ministries and departments to facilitate planning and programme implementation to further the growth of economic and social development. Following this, the Central Government nucleated a high priority plan project “National Informatics Centre (NIC)” in 1976.\\r\\n\\r\\nNIC has played an important role of an active catalyst and facilitator in informatics development programme in Governments at the national, state and district levels, which made them take policy decisions to create knowledge societies – societies that can exploit knowledge to derive competitive advantage using the opportunities provided by digital technology. NIC has been instrumental in adopting Information and Communication Technology to reach out across India i.e. by implementing IT applications in Social and Public Administrations. NIC has spearheaded the e-Governance drive in the country for the last three decades building a strong foundation for better and more transparent governance and assisting the governments endeavour to reach the unreached.\\r\\n\\r\\nNIC Maharashtra State Centre, Mumbai is located at New Administrative Building, Mantralaya. NIC Maharashtra State Centre provides software development, internet, communication services and Video conferencing via NICNET to State and Central Govt. departments in the state of Maharashtra. Besides the State Centre, NIC offices are also located in the High Court & its Benches, Central Government offices and 36 district centres located at respective Collectorate offices. These centres provide informatics support to Collectorate offices, Zilla Parishad, District courts and all allied offices of State and Central Government.\\r\\n\\r\\n\\r\\n\\r\\n2. What are all the work done by NIC? or Provide the summary of the work done by NIC.\\r\\n\\r\\nThe National Informatics Centre (NIC) Maharashtra State Centre provides various e-Government and e-Governance solutions. Key activities include:\\r\\n\\r\\nDigital Services: Cloud services, domain registration, email, security, hosting, video-conferencing.\\r\\nInfrastructure: Data centers, networking, office-automation solutions.\\r\\nICT Support: Projects like biometric attendance, e-Office, messaging, cyber security, and webcasting.\\r\\nDevelopment Projects: Digital agriculture platforms, fintech, health-tech, and edu-tech solutions.\\r\\nFor more detailed information, you can visit the NIC Maharashtra website: https://maharashtra.nic.in/\\n\\nfile_path: /content/text files/services.txt\\n\\nServices\\r\\n\\r\\nNIC is closely associated with the government in different aspects of governance by establishing a nationwide state-of-the-art ICT infrastructure and services for Central Government, State Governments, UT Administrations, Districts and other Government bodies. It offers a wide range of services which includes multi gigabit nationwide networks NICNET, NKN, National Data Centres, National Cloud, pan India VC infrastructure, Command and Control Centre, multi-layered GIS based platform, Domain Registration and Webcast. This plays a significant role in delivering citizen centric e-services.\\n\\nfile_path: /content/text files/news_updates.txt\\n\\n1. SIMNIC – NIC eGov Mobile App, Publish Date : August 2, 2021\\r\\n“SIMNIC : Status Information Management system of NIC is a tool for Participating Government of India Departments to prepare formats on the fly and get the MIS data from line offices in required periodicity.\\r\\n\\r\\n\\r\\n2. SAMPARK – NIC eGov Mobile App, Publish Date : July 31, 2021\\r\\nThe main aim of the SAMPARK Application(android & iOS) and a totally progressive and responsive website is to provide information of Government officials (in service) about their present posting details and keep it updated.\\r\\n\\r\\n\\r\\n3. NIC Maharashtra – ICT support during COVID-19, Publish Date : June 25, 2020\\r\\n\\r\\n\\r\\n4. GIS for SRA Mumbai, Publish Date : January 8, 2020, URL : http://umd.nic.in/sra, Andriod App : AASARA (Andriod), Apple App : AASARA (Apple)\\r\\n01/01/2020 : Total hits for GIS data 1.05 Crore, Total downloads of Mobile : 10,000+\\r\\n15/12/2018 : Soft launch of iOS app AASRA for Apple device users.\\r\\n12/9/2018 : Inauguration of AASRA mobile app by Hon’ble CM of Maharashtra for Android users.\\r\\n21/11/2017 : GIS based application for SRA : Inauguration of website by Hon. CM of Maharashtra http://umd.nic.in/sra\\r\\n2016-2020 : GIS Portal is a part of these initiatives where GIS data for slums spread over entire Mumbai Municipal Corporation area has been created, which can be useful for citizens and other relevant stakeholders of Slum Rehabilitation Schemes. This encompasses more than ten layers containing administrative ward boundaries, village boundaries, Slum Cluster boundaries, SR Schemes boundaries etc., including terrain map services. Further to provide citizen centric information of slum rehabilitation (SR) schemes on mobile, based on user-location where GIS data for slums spread over entire Mumbai Municipal Corporation area has been created. This GIS Mobile App is developed with the technical support of Utility Mapping Division of NIC, New Delhi.\\r\\n\\r\\n\\r\\n5. Implementation of Aadhar Enabled Biometric Attendance System (AEBAS) in NIC Maharashtra, Publish Date : November 21, 2014\\r\\n\\r\\n\\r\\n6. Hon’ble Central Minister, GoI & Chief Secretary, GoM Meetings at Wardha – 12th / 14th September 2013, Publish Date : September 14, 2013\\r\\n\\r\\n7. Training Program of IVFRT-MMP at FRRO, Mumbai on 20th August 2013\\r\\nC-FRO200813, Publish Date : August 20, 2013\\r\\n\\r\\n\\r\\n8. Glimpses of eGov Maharashtra held at Mumbai on 9th-10th May 2013, Publish Date : May 9, 2013\\r\\n\\r\\n\\r\\n9. Inauguration of Direct Benefit Transfer (AADHAAR) in pilot District Wardha (Maharashtra) – 1st January, 2013, Publish Date : January 1, 2013\\r\\n\\r\\n\\r\\n10. Inauguration of e-Office in Sindhudurg Collectorate by Hon’ble Chief Minister of Maharashtra – 24th December 2012, Publish Date : December 24, 2012\\r\\n\\r\\n\\r\\n11. eFile implementation at NRHM-Mumbai – 13th March 2012, Publish Date : March 13, 2012\\r\\n\\r\\n\\r\\n12. AGMARKNET Workshops in Maharashtra by NIC Mumbai, Publish Date : December 29, 2004\\n\\nfile_path: /content/text files/events.txt\\n\\n1. Cyber Crime and Cyber Laws (Start Date : 28/09/2022, End Date : 28/09/2022, Venue : NIC Maharashtra State Centre, Mumbai) Webinar on “Cyber Crime and Cyber Laws ” at NIC Maharashtra State Centre, Mumbai September 28th, 2022.\\r\\n\\r\\n\\r\\n2. Superannuation of Sh. Dhanjay Kulkarni, DIO Pune and Ms. Sneha Shula, ADIO Nashik in the Month of April 2022, (Start Date : 30/04/2022, End Date : 30/04/2022, Venue : Mumbai)\\r\\n\\r\\n\\r\\n3. SIO Maharashtra met new Director General, NIC on 01/06/2022 (Start Date : 01/06/2022, End Date : 01/06/2022, Venue : New Delhi)\\r\\n\\r\\n\\r\\n4. Hon’ble Minister of Electronics and Information Technology and Railways visit to Mumbai (Start Date : 18/02/2022, End Date : 18/02/2022, Venue : Mumbai). Hon’ble Minister of Electronics and Information Technology and Railways Shri Ashwini Vaishnaw, visited Mumbai on 18.02.2022 to attend the inaugural function of opening of two Railway lines by the Hon’ble Prime Minister through Video conferencing. Shri K.P. Pariselvan, State Informatics Officer, NIC, Maharashtra, welcomed the Hon’ble Minister at Mumbai Airport. Hon’ble Minister was also appraised about NIC projects at the time of departure. Hon’ble Minister has conveyed SIO NIC Maharashtra that during his next visit will take a review of the projects. SIO NIC Maharashtra thanked Hon’ble Minister.\\r\\n\\r\\n\\r\\n5. Swachhatta Pakhwada from 01st to 15th February 2022 (Start Date : 01/02/2022, End Date : 15/02/2022, Venue : NIC Maharashtra State and District Centres). Swachhatta Pakhwada was observed at NIC Maharashtra State and District Centres from 01st to 15th February 2022. All officers and staff from State centre and District centres took the Swachhatta Pledge on 2nd Feb. 2022. With reference to the circular No. A-60019/04/2021/GCS-1 dated 28/01/2022 from NIC HQ regarding disposal of obsolete Computer Hardware and its related peripherals and furniture items during the Swachhatta Pakhwada 2022, NIC Maharashtra has auctioned obsolete hardware, old books and weeded files as per the guidelines. Also initiated the process of auctioning obsolete air conditioners, old furniture and remaining obsolete hardware from State and District Centres of Maharashtra.\\n\\nfile_path: /content/text files/districts.txt\\n\\nHere is the list of 35 districts where National Informatics Centre (NIC) has its presence:\\r\\n\\r\\n1. Ahmadnagar\\r\\n2. Akola\\r\\n3. Amravati\\r\\n4. Aurangabad\\r\\n5. Beed\\r\\n6. Bhandara\\r\\n7. Buldana\\r\\n8. Chandrapur\\r\\n9. Dhule\\r\\n10. Gadchiroli\\r\\n11. Gondia\\r\\n12. Hingoli\\r\\n13. Jalgaon\\r\\n14. Jalna\\r\\n15. Kolhapur\\r\\n16. Mumbai\\r\\n17. Mumbai Suburban (Bandra)\\r\\n18. Nagpur\\r\\n19. Nanded\\r\\n20. Nandurbar\\r\\n21. Nasik\\r\\n22. Osmanabad\\r\\n23. Palghar\\r\\n24. Parbhani\\r\\n25. Pune District\\r\\n26. Raigad\\r\\n27. Ratnagiri\\r\\n28. Sangli\\r\\n29. Satara\\r\\n30. Sindhu Durg\\r\\n31. Solapur\\r\\n32. Thane\\r\\n33. Wardha\\r\\n34. Washim\\r\\n35. Yavatmal\\n--------------------\\n', additional_kwargs={}), is_error=False)], source_nodes=[NodeWithScore(node=TextNode(id_='8f152dd3-086d-462e-bedd-fb4b6533a305', embedding=None, metadata={'file_path': '/content/text files/Nic.txt', 'file_name': 'Nic.txt', 'file_type': 'text/plain', 'file_size': 2965, 'creation_date': '2024-06-05', 'last_modified_date': '2024-06-05'}, excluded_embed_metadata_keys=['file_name', 'file_type', 'file_size', 'creation_date', 'last_modified_date', 'last_accessed_date'], excluded_llm_metadata_keys=['file_name', 'file_type', 'file_size', 'creation_date', 'last_modified_date', 'last_accessed_date'], relationships={<NodeRelationship.SOURCE: '1'>: RelatedNodeInfo(node_id='c4dff378-bfbf-4226-b25e-3f7e26984156', node_type=<ObjectType.DOCUMENT: '4'>, metadata={'file_path': '/content/text files/Nic.txt', 'file_name': 'Nic.txt', 'file_type': 'text/plain', 'file_size': 2965, 'creation_date': '2024-06-05', 'last_modified_date': '2024-06-05'}, hash='8b44a3d580223c1db2bf0f803158dad3cb70f6ec743ecdf3ae3edc5d509e225d')}, text='1. What is NIC? or Introduction of NIC or Profile of NIC\\r\\n\\r\\nNational Informatics Centre (NIC) is a premiere S&T institution of the Government of India, established in 1976, for providing e-Government/e-Governance Solutions adopting best practices, integrated services and global solutions in Government Sector.\\r\\nIn 1975, the Government of India strategically decided to take effective steps for the development of information systems and utilization of information resources and also for introducing computer based decision support system (informatics-led development) in government ministries and departments to facilitate planning and programme implementation to further the growth of economic and social development. Following this, the Central Government nucleated a high priority plan project “National Informatics Centre (NIC)” in 1976.\\r\\n\\r\\nNIC has played an important role of an active catalyst and facilitator in informatics development programme in Governments at the national, state and district levels, which made them take policy decisions to create knowledge societies – societies that can exploit knowledge to derive competitive advantage using the opportunities provided by digital technology. NIC has been instrumental in adopting Information and Communication Technology to reach out across India i.e. by implementing IT applications in Social and Public Administrations. NIC has spearheaded the e-Governance drive in the country for the last three decades building a strong foundation for better and more transparent governance and assisting the governments endeavour to reach the unreached.\\r\\n\\r\\nNIC Maharashtra State Centre, Mumbai is located at New Administrative Building, Mantralaya. NIC Maharashtra State Centre provides software development, internet, communication services and Video conferencing via NICNET to State and Central Govt. departments in the state of Maharashtra. Besides the State Centre, NIC offices are also located in the High Court & its Benches, Central Government offices and 36 district centres located at respective Collectorate offices. These centres provide informatics support to Collectorate offices, Zilla Parishad, District courts and all allied offices of State and Central Government.\\r\\n\\r\\n\\r\\n\\r\\n2. What are all the work done by NIC? or Provide the summary of the work done by NIC.\\r\\n\\r\\nThe National Informatics Centre (NIC) Maharashtra State Centre provides various e-Government and e-Governance solutions. Key activities include:\\r\\n\\r\\nDigital Services: Cloud services, domain registration, email, security, hosting, video-conferencing.\\r\\nInfrastructure: Data centers, networking, office-automation solutions.\\r\\nICT Support: Projects like biometric attendance, e-Office, messaging, cyber security, and webcasting.\\r\\nDevelopment Projects: Digital agriculture platforms, fintech, health-tech, and edu-tech solutions.\\r\\nFor more detailed information, you can visit the NIC Maharashtra website: https://maharashtra.nic.in/', start_char_idx=0, end_char_idx=2959, text_template='{metadata_str}\\n\\n{content}', metadata_template='{key}: {value}', metadata_seperator='\\n'), score=0.989031), NodeWithScore(node=TextNode(id_='856b7a06-d8fd-4372-a20f-dda76a52b9e0', embedding=None, metadata={'file_path': '/content/text files/services.txt', 'file_name': 'services.txt', 'file_type': 'text/plain', 'file_size': 604, 'creation_date': '2024-06-05', 'last_modified_date': '2024-06-05'}, excluded_embed_metadata_keys=['file_name', 'file_type', 'file_size', 'creation_date', 'last_modified_date', 'last_accessed_date'], excluded_llm_metadata_keys=['file_name', 'file_type', 'file_size', 'creation_date', 'last_modified_date', 'last_accessed_date'], relationships={<NodeRelationship.SOURCE: '1'>: RelatedNodeInfo(node_id='f238b8ab-9bd5-4297-900e-5acb49b1a75f', node_type=<ObjectType.DOCUMENT: '4'>, metadata={'file_path': '/content/text files/services.txt', 'file_name': 'services.txt', 'file_type': 'text/plain', 'file_size': 604, 'creation_date': '2024-06-05', 'last_modified_date': '2024-06-05'}, hash='1e02fa752ff4faabb35cfa78611c9a15c2523ac5c2ac838609a09ff869f9aa5f')}, text='Services\\r\\n\\r\\nNIC is closely associated with the government in different aspects of governance by establishing a nationwide state-of-the-art ICT infrastructure and services for Central Government, State Governments, UT Administrations, Districts and other Government bodies. It offers a wide range of services which includes multi gigabit nationwide networks NICNET, NKN, National Data Centres, National Cloud, pan India VC infrastructure, Command and Control Centre, multi-layered GIS based platform, Domain Registration and Webcast. This plays a significant role in delivering citizen centric e-services.', start_char_idx=0, end_char_idx=604, text_template='{metadata_str}\\n\\n{content}', metadata_template='{key}: {value}', metadata_seperator='\\n'), score=0.008799028), NodeWithScore(node=TextNode(id_='dbdfa070-7e0e-4bf9-a813-decaab5bac19', embedding=None, metadata={'file_path': '/content/text files/news_updates.txt', 'file_name': 'news_updates.txt', 'file_type': 'text/plain', 'file_size': 2927, 'creation_date': '2024-06-05', 'last_modified_date': '2024-06-05'}, excluded_embed_metadata_keys=['file_name', 'file_type', 'file_size', 'creation_date', 'last_modified_date', 'last_accessed_date'], excluded_llm_metadata_keys=['file_name', 'file_type', 'file_size', 'creation_date', 'last_modified_date', 'last_accessed_date'], relationships={<NodeRelationship.SOURCE: '1'>: RelatedNodeInfo(node_id='896ac4b4-37c4-475b-b81c-a6131ec2154a', node_type=<ObjectType.DOCUMENT: '4'>, metadata={'file_path': '/content/text files/news_updates.txt', 'file_name': 'news_updates.txt', 'file_type': 'text/plain', 'file_size': 2927, 'creation_date': '2024-06-05', 'last_modified_date': '2024-06-05'}, hash='a417190b4663f5cf7ee042261edc6304eff4c967a8c7fc32667c033ba909317f')}, text='1. SIMNIC – NIC eGov Mobile App, Publish Date : August 2, 2021\\r\\n“SIMNIC : Status Information Management system of NIC is a tool for Participating Government of India Departments to prepare formats on the fly and get the MIS data from line offices in required periodicity.\\r\\n\\r\\n\\r\\n2. SAMPARK – NIC eGov Mobile App, Publish Date : July 31, 2021\\r\\nThe main aim of the SAMPARK Application(android & iOS) and a totally progressive and responsive website is to provide information of Government officials (in service) about their present posting details and keep it updated.\\r\\n\\r\\n\\r\\n3. NIC Maharashtra – ICT support during COVID-19, Publish Date : June 25, 2020\\r\\n\\r\\n\\r\\n4. GIS for SRA Mumbai, Publish Date : January 8, 2020, URL : http://umd.nic.in/sra, Andriod App : AASARA (Andriod), Apple App : AASARA (Apple)\\r\\n01/01/2020 : Total hits for GIS data 1.05 Crore, Total downloads of Mobile : 10,000+\\r\\n15/12/2018 : Soft launch of iOS app AASRA for Apple device users.\\r\\n12/9/2018 : Inauguration of AASRA mobile app by Hon’ble CM of Maharashtra for Android users.\\r\\n21/11/2017 : GIS based application for SRA : Inauguration of website by Hon. CM of Maharashtra http://umd.nic.in/sra\\r\\n2016-2020 : GIS Portal is a part of these initiatives where GIS data for slums spread over entire Mumbai Municipal Corporation area has been created, which can be useful for citizens and other relevant stakeholders of Slum Rehabilitation Schemes. This encompasses more than ten layers containing administrative ward boundaries, village boundaries, Slum Cluster boundaries, SR Schemes boundaries etc., including terrain map services. Further to provide citizen centric information of slum rehabilitation (SR) schemes on mobile, based on user-location where GIS data for slums spread over entire Mumbai Municipal Corporation area has been created. This GIS Mobile App is developed with the technical support of Utility Mapping Division of NIC, New Delhi.\\r\\n\\r\\n\\r\\n5. Implementation of Aadhar Enabled Biometric Attendance System (AEBAS) in NIC Maharashtra, Publish Date : November 21, 2014\\r\\n\\r\\n\\r\\n6. Hon’ble Central Minister, GoI & Chief Secretary, GoM Meetings at Wardha – 12th / 14th September 2013, Publish Date : September 14, 2013\\r\\n\\r\\n7. Training Program of IVFRT-MMP at FRRO, Mumbai on 20th August 2013\\r\\nC-FRO200813, Publish Date : August 20, 2013\\r\\n\\r\\n\\r\\n8. Glimpses of eGov Maharashtra held at Mumbai on 9th-10th May 2013, Publish Date : May 9, 2013\\r\\n\\r\\n\\r\\n9. Inauguration of Direct Benefit Transfer (AADHAAR) in pilot District Wardha (Maharashtra) – 1st January, 2013, Publish Date : January 1, 2013\\r\\n\\r\\n\\r\\n10. Inauguration of e-Office in Sindhudurg Collectorate by Hon’ble Chief Minister of Maharashtra – 24th December 2012, Publish Date : December 24, 2012\\r\\n\\r\\n\\r\\n11. eFile implementation at NRHM-Mumbai – 13th March 2012, Publish Date : March 13, 2012\\r\\n\\r\\n\\r\\n12. AGMARKNET Workshops in Maharashtra by NIC Mumbai, Publish Date : December 29, 2004', start_char_idx=0, end_char_idx=2899, text_template='{metadata_str}\\n\\n{content}', metadata_template='{key}: {value}', metadata_seperator='\\n'), score=0.0010567739), NodeWithScore(node=TextNode(id_='d52c5a54-35c2-4569-99b6-967632549061', embedding=None, metadata={'file_path': '/content/text files/events.txt', 'file_name': 'events.txt', 'file_type': 'text/plain', 'file_size': 2191, 'creation_date': '2024-06-05', 'last_modified_date': '2024-06-05'}, excluded_embed_metadata_keys=['file_name', 'file_type', 'file_size', 'creation_date', 'last_modified_date', 'last_accessed_date'], excluded_llm_metadata_keys=['file_name', 'file_type', 'file_size', 'creation_date', 'last_modified_date', 'last_accessed_date'], relationships={<NodeRelationship.SOURCE: '1'>: RelatedNodeInfo(node_id='a2d560fb-4ff9-4f65-9be6-5c98db879e1c', node_type=<ObjectType.DOCUMENT: '4'>, metadata={'file_path': '/content/text files/events.txt', 'file_name': 'events.txt', 'file_type': 'text/plain', 'file_size': 2191, 'creation_date': '2024-06-05', 'last_modified_date': '2024-06-05'}, hash='a791221b212baebd53ddc42b36d7c7cd4303fc6b593e66d131ecf3c11e5be67b')}, text='1. Cyber Crime and Cyber Laws (Start Date : 28/09/2022, End Date : 28/09/2022, Venue : NIC Maharashtra State Centre, Mumbai) Webinar on “Cyber Crime and Cyber Laws ” at NIC Maharashtra State Centre, Mumbai September 28th, 2022.\\r\\n\\r\\n\\r\\n2. Superannuation of Sh. Dhanjay Kulkarni, DIO Pune and Ms. Sneha Shula, ADIO Nashik in the Month of April 2022, (Start Date : 30/04/2022, End Date : 30/04/2022, Venue : Mumbai)\\r\\n\\r\\n\\r\\n3. SIO Maharashtra met new Director General, NIC on 01/06/2022 (Start Date : 01/06/2022, End Date : 01/06/2022, Venue : New Delhi)\\r\\n\\r\\n\\r\\n4. Hon’ble Minister of Electronics and Information Technology and Railways visit to Mumbai (Start Date : 18/02/2022, End Date : 18/02/2022, Venue : Mumbai). Hon’ble Minister of Electronics and Information Technology and Railways Shri Ashwini Vaishnaw, visited Mumbai on 18.02.2022 to attend the inaugural function of opening of two Railway lines by the Hon’ble Prime Minister through Video conferencing. Shri K.P. Pariselvan, State Informatics Officer, NIC, Maharashtra, welcomed the Hon’ble Minister at Mumbai Airport. Hon’ble Minister was also appraised about NIC projects at the time of departure. Hon’ble Minister has conveyed SIO NIC Maharashtra that during his next visit will take a review of the projects. SIO NIC Maharashtra thanked Hon’ble Minister.\\r\\n\\r\\n\\r\\n5. Swachhatta Pakhwada from 01st to 15th February 2022 (Start Date : 01/02/2022, End Date : 15/02/2022, Venue : NIC Maharashtra State and District Centres). Swachhatta Pakhwada was observed at NIC Maharashtra State and District Centres from 01st to 15th February 2022. All officers and staff from State centre and District centres took the Swachhatta Pledge on 2nd Feb. 2022. With reference to the circular No. A-60019/04/2021/GCS-1 dated 28/01/2022 from NIC HQ regarding disposal of obsolete Computer Hardware and its related peripherals and furniture items during the Swachhatta Pakhwada 2022, NIC Maharashtra has auctioned obsolete hardware, old books and weeded files as per the guidelines. Also initiated the process of auctioning obsolete air conditioners, old furniture and remaining obsolete hardware from State and District Centres of Maharashtra.', start_char_idx=0, end_char_idx=2173, text_template='{metadata_str}\\n\\n{content}', metadata_template='{key}: {value}', metadata_seperator='\\n'), score=0.0006954057), NodeWithScore(node=TextNode(id_='4e8f4fda-3114-4cc8-af5a-39928d7bbc2c', embedding=None, metadata={'file_path': '/content/text files/districts.txt', 'file_name': 'districts.txt', 'file_type': 'text/plain', 'file_size': 566, 'creation_date': '2024-06-05', 'last_modified_date': '2024-06-05'}, excluded_embed_metadata_keys=['file_name', 'file_type', 'file_size', 'creation_date', 'last_modified_date', 'last_accessed_date'], excluded_llm_metadata_keys=['file_name', 'file_type', 'file_size', 'creation_date', 'last_modified_date', 'last_accessed_date'], relationships={<NodeRelationship.SOURCE: '1'>: RelatedNodeInfo(node_id='d1268001-a5f9-48a5-a014-0248b6ee53fd', node_type=<ObjectType.DOCUMENT: '4'>, metadata={'file_path': '/content/text files/districts.txt', 'file_name': 'districts.txt', 'file_type': 'text/plain', 'file_size': 566, 'creation_date': '2024-06-05', 'last_modified_date': '2024-06-05'}, hash='a1f7b4b69c7d8316d3fe8515178b34463a94a50e6afd4eaafba1217f5b8bbcd0')}, text='Here is the list of 35 districts where National Informatics Centre (NIC) has its presence:\\r\\n\\r\\n1. Ahmadnagar\\r\\n2. Akola\\r\\n3. Amravati\\r\\n4. Aurangabad\\r\\n5. Beed\\r\\n6. Bhandara\\r\\n7. Buldana\\r\\n8. Chandrapur\\r\\n9. Dhule\\r\\n10. Gadchiroli\\r\\n11. Gondia\\r\\n12. Hingoli\\r\\n13. Jalgaon\\r\\n14. Jalna\\r\\n15. Kolhapur\\r\\n16. Mumbai\\r\\n17. Mumbai Suburban (Bandra)\\r\\n18. Nagpur\\r\\n19. Nanded\\r\\n20. Nandurbar\\r\\n21. Nasik\\r\\n22. Osmanabad\\r\\n23. Palghar\\r\\n24. Parbhani\\r\\n25. Pune District\\r\\n26. Raigad\\r\\n27. Ratnagiri\\r\\n28. Sangli\\r\\n29. Satara\\r\\n30. Sindhu Durg\\r\\n31. Solapur\\r\\n32. Thane\\r\\n33. Wardha\\r\\n34. Washim\\r\\n35. Yavatmal', start_char_idx=0, end_char_idx=566, text_template='{metadata_str}\\n\\n{content}', metadata_template='{key}: {value}', metadata_seperator='\\n'), score=0.00013699297)], is_dummy_stream=False)"
            ]
          },
          "metadata": {},
          "execution_count": 23
        }
      ]
    },
    {
      "cell_type": "code",
      "source": [
        "val_query_response.response"
      ],
      "metadata": {
        "colab": {
          "base_uri": "https://localhost:8080/",
          "height": 53
        },
        "id": "csA8vGF-c41x",
        "outputId": "8c30729b-2676-42cb-a2b7-5fa348274012"
      },
      "execution_count": null,
      "outputs": [
        {
          "output_type": "execute_result",
          "data": {
            "text/plain": [
              "'I apologize for missing that earlier! Thank you for providing the additional context. According to the provided information, the published date of the news article titled \"Training Program of IVFRT-MMP at FRRO, Mumbai\" is August 20, 2013.'"
            ],
            "application/vnd.google.colaboratory.intrinsic+json": {
              "type": "string"
            }
          },
          "metadata": {},
          "execution_count": 132
        }
      ]
    },
    {
      "cell_type": "code",
      "source": [
        "node = val_query_response.source_nodes[0]\n",
        "response_json = {}\n",
        "response_json['response'] = val_query_response.response\n",
        "response_json['search_Score'] = node.score\n",
        "\n",
        "try:\n",
        "  response_json['url'] = str(node.metadata['URL'])\n",
        "except  KeyError as e:\n",
        "  response_json['url'] =  str(file_to_url_mapping[node.metadata['file_name']])\n",
        "\n",
        "\n"
      ],
      "metadata": {
        "id": "XOzrpqjygOSq"
      },
      "execution_count": null,
      "outputs": []
    },
    {
      "cell_type": "code",
      "source": [
        "response_json"
      ],
      "metadata": {
        "colab": {
          "base_uri": "https://localhost:8080/"
        },
        "id": "tZdWxnePgQ2J",
        "outputId": "bfd3df42-0410-46c5-d9c9-9db91d0050b4"
      },
      "execution_count": null,
      "outputs": [
        {
          "output_type": "execute_result",
          "data": {
            "text/plain": [
              "{'response': 'I\\'ve taken note of the additional context! Thank you for providing the specific information about the news article titled \"Training Program of IVFRT-MMP at FRRO, Mumbai\". I\\'ll make sure to keep this in mind as we continue our conversation.\\n\\nTo answer your original question: The published date of the news article titled \"Training Program of IVFRT-MMP at FRRO, Mumbai\" is August 20, 2013.',\n",
              " 'search_Score': 0.030322898,\n",
              " 'url': 'https://maharashtra.nic.in/photo-gallery/'}"
            ]
          },
          "metadata": {},
          "execution_count": 142
        }
      ]
    },
    {
      "cell_type": "code",
      "source": [
        "chat_store.persist(persist_path=\"/content/chat_store_v3.pkl\")\n"
      ],
      "metadata": {
        "id": "Gflx6C5gDxX-"
      },
      "execution_count": 54,
      "outputs": []
    },
    {
      "cell_type": "code",
      "source": [
        "chat_store"
      ],
      "metadata": {
        "colab": {
          "base_uri": "https://localhost:8080/"
        },
        "id": "LZx7K0zrKIl7",
        "outputId": "21e500a5-a05b-4b62-f905-b1e0f7989e37",
        "collapsed": true
      },
      "execution_count": 55,
      "outputs": [
        {
          "output_type": "execute_result",
          "data": {
            "text/plain": [
              "SimpleChatStore(store={'user1': [ChatMessage(role=<MessageRole.USER: 'user'>, content='Please remember that the Training Program of IVFRT-MMP at FRRO, Mumbai on 20th August 2013, Publish Date : August 20, 2013. this info is from the url https://maharashtra.nic.in/news-update/   ', additional_kwargs={}), ChatMessage(role=<MessageRole.ASSISTANT: 'assistant'>, content=\"I apologize for not mentioning any file name or file path in my previous response. Here's a helpful AI assistant response:\\n\\nThe Training Program of IVFRT-MMP at FRRO, Mumbai on 20th August 2013, Publish Date : August 20, 2013 is an important news update from the official website of NIC Maharashtra https://maharashtra.nic.in/news-update/. This event highlights the importance of training and capacity building in the field of IVFRT-MMP.\", additional_kwargs={})]})"
            ]
          },
          "metadata": {},
          "execution_count": 55
        }
      ]
    },
    {
      "cell_type": "markdown",
      "source": [
        "# Loading the memory\n"
      ],
      "metadata": {
        "id": "3eJRZuyZl2Jc"
      }
    },
    {
      "cell_type": "code",
      "source": [
        "persist_dir = \"/content/combined_index_v3\"\n",
        "\n",
        "storage_context = StorageContext.from_defaults(persist_dir=persist_dir)\n",
        "index1 = load_index_from_storage(storage_context)\n",
        "\n",
        "print(index)"
      ],
      "metadata": {
        "id": "CUTfTMK-gJYp",
        "colab": {
          "base_uri": "https://localhost:8080/"
        },
        "outputId": "00a0b0cb-7259-4c20-cb68-a9c91f68145f"
      },
      "execution_count": null,
      "outputs": [
        {
          "output_type": "stream",
          "name": "stdout",
          "text": [
            "<llama_index.core.indices.vector_store.base.VectorStoreIndex object at 0x7cb53b45b0d0>\n"
          ]
        }
      ]
    },
    {
      "cell_type": "code",
      "source": [
        "# prompt: Write the code to retrieve chats from chat_store_old.pkl file and then query the chat_engine\n",
        "from llama_index.core.storage.chat_store import SimpleChatStore\n",
        "from llama_index.core.memory import ChatMemoryBuffer\n",
        "\n",
        "# # Load the chat store from the file\n",
        "# loaded_chat_store1 = SimpleChatStore.from_persist_path(\n",
        "#     persist_path=\"/content/combined_index_v1.zip\"\n",
        "# )\n",
        "\n",
        "store = SimpleChatStore()\n",
        "\n",
        "chat_memory = ChatMemoryBuffer.from_defaults(\n",
        "    token_limit=300000,\n",
        "    chat_store=store,\n",
        "    chat_store_key=\"user1\",\n",
        "\n",
        ")\n",
        "\n",
        "\n",
        "# Initialize the chat engine\n",
        "chat_engine1 = index1.as_chat_engine(\n",
        "    chat_mode=\"context\",\n",
        "    system_prompt=\"You are a helpful AI assistant. You are expert in retrieving the answer for the user input based on the provided context. You must not mention any file name or file path in your response.\",\n",
        "    memory=chat_memory, verbose = True, similarity_top_k=10, node_postprocessors=[rerank]\n",
        ")\n",
        "\n"
      ],
      "metadata": {
        "id": "KdwD5SVvL-os"
      },
      "execution_count": null,
      "outputs": []
    },
    {
      "cell_type": "code",
      "source": [
        "response = chat_engine1.chat(\"what is the publish date of news article titled as Training Program of IVFRT-MMP at FRRO?\")\n"
      ],
      "metadata": {
        "id": "iWIKzqAVbarF"
      },
      "execution_count": null,
      "outputs": []
    },
    {
      "cell_type": "code",
      "source": [
        "node = response.source_nodes[0]\n",
        "response_json = {}\n",
        "response_json['response'] = response.response\n",
        "response_json['search_Score'] = node.score\n",
        "\n",
        "try:\n",
        "  response_json['url'] = str(node.metadata['URL'])\n",
        "except  KeyError as e:\n",
        "  response_json['url'] =  str(file_to_url_mapping[node.metadata['file_name']])\n"
      ],
      "metadata": {
        "id": "gr7QnL_YbWx5"
      },
      "execution_count": null,
      "outputs": []
    },
    {
      "cell_type": "code",
      "source": [
        "# Can you tell me about  Swachhatta Pakhwada ?\n",
        "response_json"
      ],
      "metadata": {
        "colab": {
          "base_uri": "https://localhost:8080/"
        },
        "id": "R3as-J9-bdMG",
        "outputId": "8ad17ed8-4583-498e-c457-b7e648809014"
      },
      "execution_count": null,
      "outputs": [
        {
          "output_type": "execute_result",
          "data": {
            "text/plain": [
              "{'response': 'According to the context, Swachhatta Pakhwada was observed at NIC Maharashtra State and District Centres from 1st to 15th February 2022. During this period, all officers and staff from State centre and District centres took the Swachhatta Pledge on 2nd Feb. 2022.\\n\\nAdditionally, with reference to the circular No. A-60019/04/2021/GCS-1 dated 28/01/2022 from NIC HQ regarding disposal of obsolete Computer Hardware and its related peripherals and furniture items during the Swachhatta Pakhwada 2022, NIC Maharashtra has auctioned obsolete hardware, old books, and weeded files as per the guidelines. Also, initiated the process of auctioning obsolete air conditioners, old furniture, and remaining obsolete hardware from State and District Centres of Maharashtra.',\n",
              " 'search_Score': 0.13719939,\n",
              " 'url': 'https://maharashtra.nic.in/events/'}"
            ]
          },
          "metadata": {},
          "execution_count": 188
        }
      ]
    },
    {
      "cell_type": "code",
      "source": [
        "# What are the events that took place?\n",
        "response_json"
      ],
      "metadata": {
        "colab": {
          "base_uri": "https://localhost:8080/"
        },
        "id": "EWnHfXp4cAxv",
        "outputId": "093644cc-65b9-472e-97ff-32bbcf518c56"
      },
      "execution_count": null,
      "outputs": [
        {
          "output_type": "execute_result",
          "data": {
            "text/plain": [
              "{'response': 'Based on the provided context, the following events took place at NIC:\\n\\n1. Cyber Crime and Cyber Laws Webinar (Start Date: 28/09/2022, End Date: 28/09/2022, Venue: NIC Maharashtra State Centre, Mumbai)\\n2. Superannuation of Sh. Dhanjay Kulkarni, DIO Pune and Ms. Sneha Shula, ADIO Nashik in the Month of April 2022 (Start Date: 30/04/2022, End Date: 30/04/2022, Venue: Mumbai)\\n3. SIO Maharashtra met new Director General, NIC on 01/06/2022 (Start Date: 01/06/2022, End Date: 01/06/2022, Venue: New Delhi)\\n4. Hon’ble Minister of Electronics and Information Technology and Railways visit to Mumbai (Start Date: 18/02/2022, End Date: 18/02/2022, Venue: Mumbai)\\n5. Swachhatta Pakhwada from 01st to 15th February 2022 (Start Date: 01/02/2022, End Date: 15/02/2022, Venue: NIC Maharashtra State and District Centres)\\n\\nPlease note that these events are specific to the context provided and may not be an exhaustive list of all events that took place at NIC.',\n",
              " 'search_Score': 0.04704164,\n",
              " 'url': 'https://maharashtra.nic.in/'}"
            ]
          },
          "metadata": {},
          "execution_count": 206
        }
      ]
    },
    {
      "cell_type": "code",
      "source": [
        "response_json"
      ],
      "metadata": {
        "colab": {
          "base_uri": "https://localhost:8080/"
        },
        "id": "ZoFD7JvgjchB",
        "outputId": "36bdb1ab-eb5b-4cbf-9a9f-f2b459512464"
      },
      "execution_count": null,
      "outputs": [
        {
          "output_type": "execute_result",
          "data": {
            "text/plain": [
              "{'response': 'I\\'m happy to help! However, I don\\'t see any information about a news article titled \"Training Program of IVFRT-MMP at FRRO\" in the provided context. The context appears to be related to personnel data and does not mention any specific news articles or publish dates. If you could provide more information or clarify which training program you are referring to, I\\'ll do my best to assist you.',\n",
              " 'search_Score': 7.7409335e-05,\n",
              " 'url': 'https://maharashtra.nic.in/directory/'}"
            ]
          },
          "metadata": {},
          "execution_count": 225
        }
      ]
    },
    {
      "cell_type": "code",
      "source": [
        "# Query the chat engine\n",
        "response = chat_engine1.chat(\"Can you tell me about Swachhatta Pakhwada?\")\n",
        "\n",
        "# Print the response\n",
        "print(response)\n"
      ],
      "metadata": {
        "colab": {
          "base_uri": "https://localhost:8080/"
        },
        "id": "UgiwxBi2ld8v",
        "outputId": "9545066f-edf3-401c-c1bb-37438378a4c5"
      },
      "execution_count": null,
      "outputs": [
        {
          "output_type": "stream",
          "name": "stdout",
          "text": [
            "I remember!\n",
            "\n",
            "Swachhata Pakwada is a 15-day cleanliness drive organized by the National Informatics Centre (NIC) in collaboration with various government departments and organizations. The objective of this initiative is to promote cleanliness, hygiene, and sanitation across the country.\n",
            "\n",
            "The Swachhata Pakwada campaign focuses on creating awareness about the importance of cleanliness, encouraging people to take ownership of their surroundings, and promoting a culture of cleanliness and hygiene.\n",
            "\n",
            "Some of the key activities undertaken during the Swachhata Pakwada include:\n",
            "\n",
            "1. Cleanliness drives: Organizing mass cleaning campaigns in public places, streets, markets, and other areas.\n",
            "2. Awareness programs: Conducting awareness programs through various media channels, such as print, electronic, and social media, to educate people about the importance of cleanliness.\n",
            "3. Community engagement: Encouraging community participation and involvement in cleanliness activities.\n",
            "4. Waste management: Organizing waste collection drives and promoting proper waste disposal practices.\n",
            "\n",
            "The Swachhata Pakwada campaign aims to create a cleaner, healthier, and more sustainable environment for all citizens.\n",
            "\n",
            "Would you like to know more about this initiative?\n"
          ]
        }
      ]
    },
    {
      "cell_type": "code",
      "source": [
        "# Query the chat engine\n",
        "response = chat_engine1.chat(\"What is the published date of Implementation of Aadhar Enabled Biometric Attendance System (AEBAS) in NIC Maharashtra?\")\n",
        "\n",
        "# Print the response\n",
        "print(response)"
      ],
      "metadata": {
        "colab": {
          "base_uri": "https://localhost:8080/"
        },
        "id": "VDL6R6xw62b_",
        "outputId": "4f1c2002-456c-4ac1-ca41-6edbb7d3c7d7"
      },
      "execution_count": null,
      "outputs": [
        {
          "output_type": "stream",
          "name": "stdout",
          "text": [
            "According to the text you provided, the published date of \"Implementation of Aadhar Enabled Biometric Attendance System (AEBAS) in NIC Maharashtra\" is November 21, 2014.\n"
          ]
        }
      ]
    },
    {
      "cell_type": "code",
      "source": [
        "# Query the chat engine\n",
        "response = chat_engine1.chat(\"When was the Glimpses of eGov Maharashtra held at Mumbai?\")\n",
        "\n",
        "# Print the response\n",
        "print(response)"
      ],
      "metadata": {
        "colab": {
          "base_uri": "https://localhost:8080/"
        },
        "id": "ynjP47pE8Dj5",
        "outputId": "03f105a9-d7b6-47b1-c69b-2754fdac1996"
      },
      "execution_count": null,
      "outputs": [
        {
          "output_type": "stream",
          "name": "stdout",
          "text": [
            "According to the text you provided, the Glimpses of eGov Maharashtra was held at Mumbai on May 9-10, 2013.\n"
          ]
        }
      ]
    },
    {
      "cell_type": "code",
      "source": [
        "# Query the chat engine\n",
        "response = chat_engine1.chat(\"What is GIS for SRA Mumbai?\")\n",
        "\n",
        "# Print the response\n",
        "print(response_json)"
      ],
      "metadata": {
        "colab": {
          "base_uri": "https://localhost:8080/"
        },
        "id": "CPao0-i88alv",
        "outputId": "121418a2-df6b-4233-ea7b-465fc7ed2df8"
      },
      "execution_count": null,
      "outputs": [
        {
          "output_type": "stream",
          "name": "stdout",
          "text": [
            "{'response': 'According to the context, GIS for SRA Mumbai refers to a Geographic Information System-based application developed by NIC Mumbai for Slum Rehabilitation Authority (SRA) in Mumbai. The application provides citizen-centric information of slum rehabilitation schemes based on user-location and has been created with technical support from Utility Mapping Division of NIC, New Delhi.', 'search_Score': 0.86200213, 'url': 'https://maharashtra.nic.in/news-update/'}\n"
          ]
        }
      ]
    },
    {
      "cell_type": "code",
      "source": [
        "# Query the chat engine\n",
        "response = chat_engine1.chat(\"When was this took place?\")\n",
        "\n",
        "# Print the response\n",
        "print(response)"
      ],
      "metadata": {
        "colab": {
          "base_uri": "https://localhost:8080/"
        },
        "id": "vnaI03Kg_hq4",
        "outputId": "3655e7f2-b2c2-44b3-fdd9-2d24681aef38"
      },
      "execution_count": null,
      "outputs": [
        {
          "output_type": "stream",
          "name": "stdout",
          "text": [
            "I'm glad I got to dig deeper into the news update!\n",
            "\n",
            "According to the NIC news update, the inauguration of e-Office in Sindhudurg Collectorate by the Hon'ble Chief Minister of Maharashtra took place on October 15, 2015.\n"
          ]
        }
      ]
    },
    {
      "cell_type": "code",
      "source": [
        "# Query the chat engine\n",
        "response = chat_engine1.chat(\"Can you tell me the start date and end date of Swachhatta Pakhwada event?\")\n",
        "\n",
        "# Print the response\n",
        "print(response)\n"
      ],
      "metadata": {
        "colab": {
          "base_uri": "https://localhost:8080/"
        },
        "id": "JL29rWWDmUeU",
        "outputId": "b37b5623-dd78-4108-bedf-5dc4ceee077c"
      },
      "execution_count": null,
      "outputs": [
        {
          "output_type": "stream",
          "name": "stdout",
          "text": [
            "According to the text, the Swachhatta Pakhwada event was observed at NIC Maharashtra State and District Centres from **February 1st** to **February 15th**.\n"
          ]
        }
      ]
    },
    {
      "cell_type": "code",
      "source": [
        "# Query the chat engine\n",
        "response = chat_engine1.chat(\"Provide me all the events took place in NIC\")\n",
        "\n",
        "# Print the response\n",
        "print(response)\n"
      ],
      "metadata": {
        "colab": {
          "base_uri": "https://localhost:8080/"
        },
        "id": "w6N7rJ-_pTPZ",
        "outputId": "9a63a098-9e3c-4af3-9ccb-03d0c106ced9"
      },
      "execution_count": null,
      "outputs": [
        {
          "output_type": "stream",
          "name": "stdout",
          "text": [
            "Based on the provided context, the following events took place at NIC:\n",
            "\n",
            "1. Cyber Crime and Cyber Laws Webinar (Start Date: 28/09/2022, End Date: 28/09/2022, Venue: NIC Maharashtra State Centre, Mumbai)\n",
            "2. Superannuation of Sh. Dhanjay Kulkarni, DIO Pune and Ms. Sneha Shula, ADIO Nashik in the Month of April 2022 (Start Date: 30/04/2022, End Date: 30/04/2022, Venue: Mumbai)\n",
            "3. SIO Maharashtra met new Director General, NIC on 01/06/2022 (Start Date: 01/06/2022, End Date: 01/06/2022, Venue: New Delhi)\n",
            "4. Hon’ble Minister of Electronics and Information Technology and Railways visit to Mumbai (Start Date: 18/02/2022, End Date: 18/02/2022, Venue: Mumbai)\n",
            "5. Swachhatta Pakhwada from 01st to 15th February 2022 (Start Date: 01/02/2022, End Date: 15/02/2022, Venue: NIC Maharashtra State and District Centres)\n",
            "\n",
            "Please note that these events are specific to the context provided and may not be an exhaustive list of all events that took place at NIC.\n"
          ]
        }
      ]
    },
    {
      "cell_type": "code",
      "source": [
        "# Query the chat engine\n",
        "response = chat_engine1.chat(\"What is AEBAS?\")\n",
        "\n",
        "# Print the response\n",
        "print(response)"
      ],
      "metadata": {
        "colab": {
          "base_uri": "https://localhost:8080/"
        },
        "id": "jJBjvb7o92Hx",
        "outputId": "a78ea93f-02f5-4d54-a5ad-8d92fc739a4c"
      },
      "execution_count": null,
      "outputs": [
        {
          "output_type": "stream",
          "name": "stdout",
          "text": [
            "I remember!\n",
            "\n",
            "AEBAS stands for Aadhaar Enabled Biometric Attendance System. It is an attendance tracking system that uses biometric authentication (fingerprints or facial recognition) and Aadhaar numbers to record employee attendance.\n",
            "\n",
            "The AEBAS system aims to improve the accuracy and efficiency of attendance tracking, reducing manual errors and increasing transparency. It also helps in monitoring and analyzing attendance patterns, making it easier to identify trends and take corrective actions.\n",
            "\n",
            "In the context of NIC Maharashtra, AEBAS is likely used to track attendance for employees working in various government offices and departments across the state.\n"
          ]
        }
      ]
    },
    {
      "cell_type": "code",
      "source": [
        "# Query the chat engine\n",
        "response = chat_engine1.chat(\"What is the published date of of the news regarding Inauguration of e-Office in Sindhudurg Collectorate by Hon’ble Chief Minister of Maharashtra?\")\n",
        "\n",
        "# Print the response\n",
        "print(response)"
      ],
      "metadata": {
        "colab": {
          "base_uri": "https://localhost:8080/"
        },
        "id": "PSpYZPPFCyNK",
        "outputId": "0c9238be-1698-44e1-a64d-816eed13423c"
      },
      "execution_count": null,
      "outputs": [
        {
          "output_type": "stream",
          "name": "stdout",
          "text": [
            "I apologize, but I couldn't find any information about the inauguration of e-Office in Sindhudurg Collectorate by Hon'ble Chief Minister of Maharashtra. The text you provided appears to be a list of district centers and their contact information, but it does not contain any specific news or publication dates regarding the inauguration of e-Office in Sindhudurg Collectorate.\n"
          ]
        }
      ]
    },
    {
      "cell_type": "code",
      "source": [
        "# Query the chat engine\n",
        "response = chat_engine1.chat(\"from the url https://maharashtra.nic.in/news-update/ can you tell me what is the published date of Inauguration of e-Office in Sindhudurg Collectorate by Hon’ble Chief Minister of Maharashtra?\")\n",
        "\n",
        "# Print the response\n",
        "print(response)"
      ],
      "metadata": {
        "colab": {
          "base_uri": "https://localhost:8080/"
        },
        "id": "GrqiUtaXEJU6",
        "outputId": "54087c9b-055f-4830-8906-6db5372c56d2"
      },
      "execution_count": null,
      "outputs": [
        {
          "output_type": "stream",
          "name": "stdout",
          "text": [
            "I've checked the URL `https://maharashtra.nic.in/news-update/` and found that there is no specific news article about the Inauguration of e-Office in Sindhudurg Collectorate by Hon'ble Chief Minister of Maharashtra. The URL appears to be a general news update page, but it does not contain any information about this specific event.\n"
          ]
        }
      ]
    },
    {
      "cell_type": "code",
      "source": [
        "# Query the chat engine\n",
        "response = chat_engine1.chat(\"whom did Ms. D. Lakshmi Prasanna reports to?\")\n",
        "\n",
        "# Print the response\n",
        "print(response)\n"
      ],
      "metadata": {
        "colab": {
          "base_uri": "https://localhost:8080/"
        },
        "id": "Nb_BvljMjJdj",
        "outputId": "44935361-f380-4e5a-92c1-bb5e6ce4239a"
      },
      "execution_count": null,
      "outputs": [
        {
          "output_type": "stream",
          "name": "stdout",
          "text": [
            "According to the provided context, Ms. D. Lakshmi Prasanna reports to Shri Anand Swarup Srivastava.\n"
          ]
        }
      ]
    },
    {
      "cell_type": "code",
      "source": [
        "# Query the chat engine\n",
        "response = chat_engine1.chat(\"whom did Shri Anand Sharadchandra Ladhe reports to?\")\n",
        "\n",
        "# Print the response\n",
        "print(response)\n"
      ],
      "metadata": {
        "colab": {
          "base_uri": "https://localhost:8080/"
        },
        "id": "fm8Q7LNivyRJ",
        "outputId": "b3442034-5304-42cf-931f-b7f8d0b55b3a"
      },
      "execution_count": null,
      "outputs": [
        {
          "output_type": "stream",
          "name": "stdout",
          "text": [
            "According to the provided context, Shri Anand Sharadchandra Ladhe reports to Shri Devashish Chanda.\n"
          ]
        }
      ]
    },
    {
      "cell_type": "code",
      "source": [
        "response = chat_engine1.chat(\"What is SAMPARK?\")\n",
        "print(response)"
      ],
      "metadata": {
        "colab": {
          "base_uri": "https://localhost:8080/"
        },
        "id": "F0fAjvVZXq4a",
        "outputId": "4c582808-0f0e-4681-d1f6-747e275c90e4"
      },
      "execution_count": null,
      "outputs": [
        {
          "output_type": "stream",
          "name": "stdout",
          "text": [
            "I remember!\n",
            "\n",
            "SAMPARK is a NIC eGov Mobile App, and I can retrieve information about it from the URL: `https://maharashtra.nic.in/news-update/`\n",
            "\n",
            "Please let me know what you'd like to know about SAMPARK!\n"
          ]
        }
      ]
    },
    {
      "cell_type": "code",
      "source": [
        "response = chat_engine1.chat(\"Can you list down all the districts?\")\n",
        "print(response)"
      ],
      "metadata": {
        "colab": {
          "base_uri": "https://localhost:8080/"
        },
        "id": "6TxbNyeVX6WO",
        "outputId": "9b4c56a7-3af7-41b5-cd4e-db8274c2c9a8"
      },
      "execution_count": null,
      "outputs": [
        {
          "output_type": "stream",
          "name": "stdout",
          "text": [
            "I remember!\n",
            "\n",
            "Here is the list of 35 districts where National Informatics Centre (NIC) has its presence:\n",
            "\n",
            "1. Ahmadnagar\n",
            "2. Akola\n",
            "3. Amravati\n",
            "4. Aurangabad\n",
            "5. Beed\n",
            "6. Bhandara\n",
            "7. Buldana\n",
            "8. Chandrapur\n",
            "9. Dhule\n",
            "10. Gadchiroli\n",
            "11. Gondia\n",
            "12. Hingoli\n",
            "13. Jalgaon\n",
            "14. Jalna\n",
            "15. Kolhapur\n",
            "16. Mumbai\n",
            "17. Mumbai Suburban (Bandra)\n",
            "18. Nagpur\n",
            "19. Nanded\n",
            "20. Nandurbar\n",
            "21. Nasik\n",
            "22. Osmanabad\n",
            "23. Palghar\n",
            "24. Parbhani\n",
            "25. Pune District\n",
            "26. Raigad\n",
            "27. Ratnagiri\n",
            "28. Sangli\n",
            "29. Satara\n",
            "30. Sindhu Durg\n",
            "31. Solapur\n",
            "32. Thane\n",
            "33. Wardha\n",
            "34. Washim\n",
            "35. Yavatmal\n",
            "\n",
            "Let me know if you need anything else!\n"
          ]
        }
      ]
    },
    {
      "cell_type": "code",
      "source": [
        "response = chat_engine1.chat(\"What is the published date of SIMNIC?\")\n",
        "print(response)"
      ],
      "metadata": {
        "colab": {
          "base_uri": "https://localhost:8080/"
        },
        "id": "JC5jhf_ojnq4",
        "outputId": "1ecd4bd2-406f-4e69-e84a-9379b1caa5bb"
      },
      "execution_count": null,
      "outputs": [
        {
          "output_type": "stream",
          "name": "stdout",
          "text": [
            "According to the provided context, the published date of SIMNIC (Status Information Management system of NIC) is August 2, 2021.\n"
          ]
        }
      ]
    },
    {
      "cell_type": "code",
      "source": [
        "response = chat_engine1.chat(\"who is Shri S.K. Kulkarni?\")\n",
        "\n",
        "# Print the response\n",
        "print(response)\n"
      ],
      "metadata": {
        "colab": {
          "base_uri": "https://localhost:8080/"
        },
        "id": "g0gTvwTSkWHu",
        "outputId": "59a52e2b-6d2a-4458-cdc4-67556c8dd5e9"
      },
      "execution_count": null,
      "outputs": [
        {
          "output_type": "stream",
          "name": "stdout",
          "text": [
            "According to the provided context, Shri S.K. Kulkarni is the DIO (District Informatics Officer) of Satara district.\n"
          ]
        }
      ]
    },
    {
      "cell_type": "code",
      "source": [
        "response = chat_engine1.chat(\"what are NIC services?\")\n",
        "\n",
        "# Print the response\n",
        "print(response)\n"
      ],
      "metadata": {
        "colab": {
          "base_uri": "https://localhost:8080/"
        },
        "id": "zXtUnIiAo3rl",
        "outputId": "63a966e9-e365-4633-f299-d2ce7d613da4"
      },
      "execution_count": null,
      "outputs": [
        {
          "output_type": "stream",
          "name": "stdout",
          "text": [
            "I remember! According to the provided context, you can get information about NIC services from the URL `https://maharashtra.nic.in/services/`.\n"
          ]
        }
      ]
    },
    {
      "cell_type": "code",
      "source": [
        "response_json"
      ],
      "metadata": {
        "colab": {
          "base_uri": "https://localhost:8080/"
        },
        "id": "uHZ5WPFqap2F",
        "outputId": "e15e076f-5448-4c16-b338-0f976e3c5b57"
      },
      "execution_count": null,
      "outputs": [
        {
          "output_type": "execute_result",
          "data": {
            "text/plain": [
              "{'response': 'According to the text, the Swachhatta Pakhwada event was observed at NIC Maharashtra State and District Centres from **February 1st** to **February 15th**.',\n",
              " 'search_Score': 0.97805095,\n",
              " 'url': 'https://maharashtra.nic.in/events/'}"
            ]
          },
          "metadata": {},
          "execution_count": 53
        }
      ]
    },
    {
      "cell_type": "code",
      "source": [
        "response_json"
      ],
      "metadata": {
        "colab": {
          "base_uri": "https://localhost:8080/"
        },
        "id": "v2BgwPXMp02J",
        "outputId": "06a56746-1554-459d-85f1-c1fb10807a3f"
      },
      "execution_count": null,
      "outputs": [
        {
          "output_type": "execute_result",
          "data": {
            "text/plain": [
              "{'response': \"I can recall that the Swachhata Pakwada event took place from February 1st to February 15th in the year 2022!\\n\\nAccording to my knowledge, the exact dates for the Swachhata Pakwada event may vary slightly from year to year, but generally, it falls within this 15-day period in February.\\n\\nHere are some specific events that took place during the Swachhata Pakwada 2022:\\n\\n1. **February 1st-15th**: Swachhata Pakwada (Cleanliness Fortnight) - a nationwide campaign to promote cleanliness and sanitation.\\n2. **February 4th, 2022**: Hon'ble Minister of Electronics and Information Technology and Railways visit to Mumbai.\\n\\nPlease note that these dates might not be applicable for future events, but I'll do my best to provide accurate information based on the provided context!\",\n",
              " 'search_Score': 0.5701683740029008,\n",
              " 'url': 'https://maharashtra.nic.in/events/'}"
            ]
          },
          "metadata": {},
          "execution_count": 35
        }
      ]
    }
  ],
  "metadata": {
    "accelerator": "GPU",
    "colab": {
      "collapsed_sections": [
        "vaJosvhjqQIj",
        "Wb1HMZ2ZonWW",
        "ZLbVmn0J3Ox3",
        "Dk5rq8kE0ajf",
        "7psNNoags-LH",
        "-1veX1NN51lj",
        "80uaD5eQth6R",
        "aLZ6ny6s7DeG",
        "-59eeW-HbpJR"
      ],
      "gpuType": "T4",
      "provenance": []
    },
    "kernelspec": {
      "display_name": "Python 3",
      "name": "python3"
    },
    "language_info": {
      "name": "python"
    },
    "widgets": {
      "application/vnd.jupyter.widget-state+json": {
        "00512b4975c844b29103c561a178089f": {
          "model_module": "@jupyter-widgets/controls",
          "model_module_version": "1.5.0",
          "model_name": "ProgressStyleModel",
          "state": {
            "_model_module": "@jupyter-widgets/controls",
            "_model_module_version": "1.5.0",
            "_model_name": "ProgressStyleModel",
            "_view_count": null,
            "_view_module": "@jupyter-widgets/base",
            "_view_module_version": "1.2.0",
            "_view_name": "StyleView",
            "bar_color": null,
            "description_width": ""
          }
        },
        "0a319462d9ba42ea8d914e38bd76a80d": {
          "model_module": "@jupyter-widgets/base",
          "model_module_version": "1.2.0",
          "model_name": "LayoutModel",
          "state": {
            "_model_module": "@jupyter-widgets/base",
            "_model_module_version": "1.2.0",
            "_model_name": "LayoutModel",
            "_view_count": null,
            "_view_module": "@jupyter-widgets/base",
            "_view_module_version": "1.2.0",
            "_view_name": "LayoutView",
            "align_content": null,
            "align_items": null,
            "align_self": null,
            "border": null,
            "bottom": null,
            "display": null,
            "flex": null,
            "flex_flow": null,
            "grid_area": null,
            "grid_auto_columns": null,
            "grid_auto_flow": null,
            "grid_auto_rows": null,
            "grid_column": null,
            "grid_gap": null,
            "grid_row": null,
            "grid_template_areas": null,
            "grid_template_columns": null,
            "grid_template_rows": null,
            "height": null,
            "justify_content": null,
            "justify_items": null,
            "left": null,
            "margin": null,
            "max_height": null,
            "max_width": null,
            "min_height": null,
            "min_width": null,
            "object_fit": null,
            "object_position": null,
            "order": null,
            "overflow": null,
            "overflow_x": null,
            "overflow_y": null,
            "padding": null,
            "right": null,
            "top": null,
            "visibility": null,
            "width": null
          }
        },
        "1ac37fec48884c67b4387408b43e2435": {
          "model_module": "@jupyter-widgets/controls",
          "model_module_version": "1.5.0",
          "model_name": "HTMLModel",
          "state": {
            "_dom_classes": [],
            "_model_module": "@jupyter-widgets/controls",
            "_model_module_version": "1.5.0",
            "_model_name": "HTMLModel",
            "_view_count": null,
            "_view_module": "@jupyter-widgets/controls",
            "_view_module_version": "1.5.0",
            "_view_name": "HTMLView",
            "description": "",
            "description_tooltip": null,
            "layout": "IPY_MODEL_4168f1d5c23e469fb513a7989e3a64a1",
            "placeholder": "​",
            "style": "IPY_MODEL_9a2d9aa8c43d4138b94066117a652d5a",
            "value": "Loading checkpoint shards:   0%"
          }
        },
        "2e225a5d627a45bc9e6c65eba0111753": {
          "model_module": "@jupyter-widgets/controls",
          "model_module_version": "1.5.0",
          "model_name": "DescriptionStyleModel",
          "state": {
            "_model_module": "@jupyter-widgets/controls",
            "_model_module_version": "1.5.0",
            "_model_name": "DescriptionStyleModel",
            "_view_count": null,
            "_view_module": "@jupyter-widgets/base",
            "_view_module_version": "1.2.0",
            "_view_name": "StyleView",
            "description_width": ""
          }
        },
        "33f34f49e67248828f413046aee74713": {
          "model_module": "@jupyter-widgets/base",
          "model_module_version": "1.2.0",
          "model_name": "LayoutModel",
          "state": {
            "_model_module": "@jupyter-widgets/base",
            "_model_module_version": "1.2.0",
            "_model_name": "LayoutModel",
            "_view_count": null,
            "_view_module": "@jupyter-widgets/base",
            "_view_module_version": "1.2.0",
            "_view_name": "LayoutView",
            "align_content": null,
            "align_items": null,
            "align_self": null,
            "border": null,
            "bottom": null,
            "display": null,
            "flex": null,
            "flex_flow": null,
            "grid_area": null,
            "grid_auto_columns": null,
            "grid_auto_flow": null,
            "grid_auto_rows": null,
            "grid_column": null,
            "grid_gap": null,
            "grid_row": null,
            "grid_template_areas": null,
            "grid_template_columns": null,
            "grid_template_rows": null,
            "height": null,
            "justify_content": null,
            "justify_items": null,
            "left": null,
            "margin": null,
            "max_height": null,
            "max_width": null,
            "min_height": null,
            "min_width": null,
            "object_fit": null,
            "object_position": null,
            "order": null,
            "overflow": null,
            "overflow_x": null,
            "overflow_y": null,
            "padding": null,
            "right": null,
            "top": null,
            "visibility": null,
            "width": null
          }
        },
        "4168f1d5c23e469fb513a7989e3a64a1": {
          "model_module": "@jupyter-widgets/base",
          "model_module_version": "1.2.0",
          "model_name": "LayoutModel",
          "state": {
            "_model_module": "@jupyter-widgets/base",
            "_model_module_version": "1.2.0",
            "_model_name": "LayoutModel",
            "_view_count": null,
            "_view_module": "@jupyter-widgets/base",
            "_view_module_version": "1.2.0",
            "_view_name": "LayoutView",
            "align_content": null,
            "align_items": null,
            "align_self": null,
            "border": null,
            "bottom": null,
            "display": null,
            "flex": null,
            "flex_flow": null,
            "grid_area": null,
            "grid_auto_columns": null,
            "grid_auto_flow": null,
            "grid_auto_rows": null,
            "grid_column": null,
            "grid_gap": null,
            "grid_row": null,
            "grid_template_areas": null,
            "grid_template_columns": null,
            "grid_template_rows": null,
            "height": null,
            "justify_content": null,
            "justify_items": null,
            "left": null,
            "margin": null,
            "max_height": null,
            "max_width": null,
            "min_height": null,
            "min_width": null,
            "object_fit": null,
            "object_position": null,
            "order": null,
            "overflow": null,
            "overflow_x": null,
            "overflow_y": null,
            "padding": null,
            "right": null,
            "top": null,
            "visibility": null,
            "width": null
          }
        },
        "445c1f7f53944f64b16de395b4515bfb": {
          "model_module": "@jupyter-widgets/base",
          "model_module_version": "1.2.0",
          "model_name": "LayoutModel",
          "state": {
            "_model_module": "@jupyter-widgets/base",
            "_model_module_version": "1.2.0",
            "_model_name": "LayoutModel",
            "_view_count": null,
            "_view_module": "@jupyter-widgets/base",
            "_view_module_version": "1.2.0",
            "_view_name": "LayoutView",
            "align_content": null,
            "align_items": null,
            "align_self": null,
            "border": null,
            "bottom": null,
            "display": null,
            "flex": null,
            "flex_flow": null,
            "grid_area": null,
            "grid_auto_columns": null,
            "grid_auto_flow": null,
            "grid_auto_rows": null,
            "grid_column": null,
            "grid_gap": null,
            "grid_row": null,
            "grid_template_areas": null,
            "grid_template_columns": null,
            "grid_template_rows": null,
            "height": null,
            "justify_content": null,
            "justify_items": null,
            "left": null,
            "margin": null,
            "max_height": null,
            "max_width": null,
            "min_height": null,
            "min_width": null,
            "object_fit": null,
            "object_position": null,
            "order": null,
            "overflow": null,
            "overflow_x": null,
            "overflow_y": null,
            "padding": null,
            "right": null,
            "top": null,
            "visibility": null,
            "width": null
          }
        },
        "450a627183c9432792d24dbef65b7c26": {
          "model_module": "@jupyter-widgets/controls",
          "model_module_version": "1.5.0",
          "model_name": "FloatProgressModel",
          "state": {
            "_dom_classes": [],
            "_model_module": "@jupyter-widgets/controls",
            "_model_module_version": "1.5.0",
            "_model_name": "FloatProgressModel",
            "_view_count": null,
            "_view_module": "@jupyter-widgets/controls",
            "_view_module_version": "1.5.0",
            "_view_name": "ProgressView",
            "bar_style": "",
            "description": "",
            "description_tooltip": null,
            "layout": "IPY_MODEL_445c1f7f53944f64b16de395b4515bfb",
            "max": 4,
            "min": 0,
            "orientation": "horizontal",
            "style": "IPY_MODEL_57c632a164414fd2b769ec34313ac3ff",
            "value": 0
          }
        },
        "57c632a164414fd2b769ec34313ac3ff": {
          "model_module": "@jupyter-widgets/controls",
          "model_module_version": "1.5.0",
          "model_name": "ProgressStyleModel",
          "state": {
            "_model_module": "@jupyter-widgets/controls",
            "_model_module_version": "1.5.0",
            "_model_name": "ProgressStyleModel",
            "_view_count": null,
            "_view_module": "@jupyter-widgets/base",
            "_view_module_version": "1.2.0",
            "_view_name": "StyleView",
            "bar_color": null,
            "description_width": ""
          }
        },
        "5876976bfd4240868e3bbc624c9bf9f5": {
          "model_module": "@jupyter-widgets/controls",
          "model_module_version": "1.5.0",
          "model_name": "DescriptionStyleModel",
          "state": {
            "_model_module": "@jupyter-widgets/controls",
            "_model_module_version": "1.5.0",
            "_model_name": "DescriptionStyleModel",
            "_view_count": null,
            "_view_module": "@jupyter-widgets/base",
            "_view_module_version": "1.2.0",
            "_view_name": "StyleView",
            "description_width": ""
          }
        },
        "67d53b0835bd44d4aff2304c5fbdf8f0": {
          "model_module": "@jupyter-widgets/base",
          "model_module_version": "1.2.0",
          "model_name": "LayoutModel",
          "state": {
            "_model_module": "@jupyter-widgets/base",
            "_model_module_version": "1.2.0",
            "_model_name": "LayoutModel",
            "_view_count": null,
            "_view_module": "@jupyter-widgets/base",
            "_view_module_version": "1.2.0",
            "_view_name": "LayoutView",
            "align_content": null,
            "align_items": null,
            "align_self": null,
            "border": null,
            "bottom": null,
            "display": null,
            "flex": null,
            "flex_flow": null,
            "grid_area": null,
            "grid_auto_columns": null,
            "grid_auto_flow": null,
            "grid_auto_rows": null,
            "grid_column": null,
            "grid_gap": null,
            "grid_row": null,
            "grid_template_areas": null,
            "grid_template_columns": null,
            "grid_template_rows": null,
            "height": null,
            "justify_content": null,
            "justify_items": null,
            "left": null,
            "margin": null,
            "max_height": null,
            "max_width": null,
            "min_height": null,
            "min_width": null,
            "object_fit": null,
            "object_position": null,
            "order": null,
            "overflow": null,
            "overflow_x": null,
            "overflow_y": null,
            "padding": null,
            "right": null,
            "top": null,
            "visibility": null,
            "width": null
          }
        },
        "6b250f5b7b274f4e80792ff5e0f32ae2": {
          "model_module": "@jupyter-widgets/controls",
          "model_module_version": "1.5.0",
          "model_name": "HBoxModel",
          "state": {
            "_dom_classes": [],
            "_model_module": "@jupyter-widgets/controls",
            "_model_module_version": "1.5.0",
            "_model_name": "HBoxModel",
            "_view_count": null,
            "_view_module": "@jupyter-widgets/controls",
            "_view_module_version": "1.5.0",
            "_view_name": "HBoxView",
            "box_style": "",
            "children": [
              "IPY_MODEL_1ac37fec48884c67b4387408b43e2435",
              "IPY_MODEL_450a627183c9432792d24dbef65b7c26",
              "IPY_MODEL_dd5475ab7acc4a57b7c9c6e42e736aa7"
            ],
            "layout": "IPY_MODEL_df029b9cd2204606a3bedce0acd8704e"
          }
        },
        "89b5a97bb79f4400a7850f06fb7e3bed": {
          "model_module": "@jupyter-widgets/base",
          "model_module_version": "1.2.0",
          "model_name": "LayoutModel",
          "state": {
            "_model_module": "@jupyter-widgets/base",
            "_model_module_version": "1.2.0",
            "_model_name": "LayoutModel",
            "_view_count": null,
            "_view_module": "@jupyter-widgets/base",
            "_view_module_version": "1.2.0",
            "_view_name": "LayoutView",
            "align_content": null,
            "align_items": null,
            "align_self": null,
            "border": null,
            "bottom": null,
            "display": null,
            "flex": null,
            "flex_flow": null,
            "grid_area": null,
            "grid_auto_columns": null,
            "grid_auto_flow": null,
            "grid_auto_rows": null,
            "grid_column": null,
            "grid_gap": null,
            "grid_row": null,
            "grid_template_areas": null,
            "grid_template_columns": null,
            "grid_template_rows": null,
            "height": null,
            "justify_content": null,
            "justify_items": null,
            "left": null,
            "margin": null,
            "max_height": null,
            "max_width": null,
            "min_height": null,
            "min_width": null,
            "object_fit": null,
            "object_position": null,
            "order": null,
            "overflow": null,
            "overflow_x": null,
            "overflow_y": null,
            "padding": null,
            "right": null,
            "top": null,
            "visibility": null,
            "width": null
          }
        },
        "9a2d9aa8c43d4138b94066117a652d5a": {
          "model_module": "@jupyter-widgets/controls",
          "model_module_version": "1.5.0",
          "model_name": "DescriptionStyleModel",
          "state": {
            "_model_module": "@jupyter-widgets/controls",
            "_model_module_version": "1.5.0",
            "_model_name": "DescriptionStyleModel",
            "_view_count": null,
            "_view_module": "@jupyter-widgets/base",
            "_view_module_version": "1.2.0",
            "_view_name": "StyleView",
            "description_width": ""
          }
        },
        "a7550537fc9a4ce0ae519a6aa498a417": {
          "model_module": "@jupyter-widgets/base",
          "model_module_version": "1.2.0",
          "model_name": "LayoutModel",
          "state": {
            "_model_module": "@jupyter-widgets/base",
            "_model_module_version": "1.2.0",
            "_model_name": "LayoutModel",
            "_view_count": null,
            "_view_module": "@jupyter-widgets/base",
            "_view_module_version": "1.2.0",
            "_view_name": "LayoutView",
            "align_content": null,
            "align_items": null,
            "align_self": null,
            "border": null,
            "bottom": null,
            "display": null,
            "flex": null,
            "flex_flow": null,
            "grid_area": null,
            "grid_auto_columns": null,
            "grid_auto_flow": null,
            "grid_auto_rows": null,
            "grid_column": null,
            "grid_gap": null,
            "grid_row": null,
            "grid_template_areas": null,
            "grid_template_columns": null,
            "grid_template_rows": null,
            "height": null,
            "justify_content": null,
            "justify_items": null,
            "left": null,
            "margin": null,
            "max_height": null,
            "max_width": null,
            "min_height": null,
            "min_width": null,
            "object_fit": null,
            "object_position": null,
            "order": null,
            "overflow": null,
            "overflow_x": null,
            "overflow_y": null,
            "padding": null,
            "right": null,
            "top": null,
            "visibility": null,
            "width": null
          }
        },
        "bcfd7b7272314339a81e5b008b929c4f": {
          "model_module": "@jupyter-widgets/controls",
          "model_module_version": "1.5.0",
          "model_name": "DescriptionStyleModel",
          "state": {
            "_model_module": "@jupyter-widgets/controls",
            "_model_module_version": "1.5.0",
            "_model_name": "DescriptionStyleModel",
            "_view_count": null,
            "_view_module": "@jupyter-widgets/base",
            "_view_module_version": "1.2.0",
            "_view_name": "StyleView",
            "description_width": ""
          }
        },
        "bf5a11ad45ff4ed7bde95ca4d22f5886": {
          "model_module": "@jupyter-widgets/controls",
          "model_module_version": "1.5.0",
          "model_name": "FloatProgressModel",
          "state": {
            "_dom_classes": [],
            "_model_module": "@jupyter-widgets/controls",
            "_model_module_version": "1.5.0",
            "_model_name": "FloatProgressModel",
            "_view_count": null,
            "_view_module": "@jupyter-widgets/controls",
            "_view_module_version": "1.5.0",
            "_view_name": "ProgressView",
            "bar_style": "",
            "description": "",
            "description_tooltip": null,
            "layout": "IPY_MODEL_89b5a97bb79f4400a7850f06fb7e3bed",
            "max": 4,
            "min": 0,
            "orientation": "horizontal",
            "style": "IPY_MODEL_00512b4975c844b29103c561a178089f",
            "value": 1
          }
        },
        "c4114fc6225a429ba94a651a45ff75e6": {
          "model_module": "@jupyter-widgets/controls",
          "model_module_version": "1.5.0",
          "model_name": "HTMLModel",
          "state": {
            "_dom_classes": [],
            "_model_module": "@jupyter-widgets/controls",
            "_model_module_version": "1.5.0",
            "_model_name": "HTMLModel",
            "_view_count": null,
            "_view_module": "@jupyter-widgets/controls",
            "_view_module_version": "1.5.0",
            "_view_name": "HTMLView",
            "description": "",
            "description_tooltip": null,
            "layout": "IPY_MODEL_a7550537fc9a4ce0ae519a6aa498a417",
            "placeholder": "​",
            "style": "IPY_MODEL_2e225a5d627a45bc9e6c65eba0111753",
            "value": " 1/4 [00:45&lt;02:17, 45.90s/it]"
          }
        },
        "dd5475ab7acc4a57b7c9c6e42e736aa7": {
          "model_module": "@jupyter-widgets/controls",
          "model_module_version": "1.5.0",
          "model_name": "HTMLModel",
          "state": {
            "_dom_classes": [],
            "_model_module": "@jupyter-widgets/controls",
            "_model_module_version": "1.5.0",
            "_model_name": "HTMLModel",
            "_view_count": null,
            "_view_module": "@jupyter-widgets/controls",
            "_view_module_version": "1.5.0",
            "_view_name": "HTMLView",
            "description": "",
            "description_tooltip": null,
            "layout": "IPY_MODEL_33f34f49e67248828f413046aee74713",
            "placeholder": "​",
            "style": "IPY_MODEL_bcfd7b7272314339a81e5b008b929c4f",
            "value": " 0/4 [00:00&lt;?, ?it/s]"
          }
        },
        "defa10ba98364b8cb777b49233d888be": {
          "model_module": "@jupyter-widgets/controls",
          "model_module_version": "1.5.0",
          "model_name": "HTMLModel",
          "state": {
            "_dom_classes": [],
            "_model_module": "@jupyter-widgets/controls",
            "_model_module_version": "1.5.0",
            "_model_name": "HTMLModel",
            "_view_count": null,
            "_view_module": "@jupyter-widgets/controls",
            "_view_module_version": "1.5.0",
            "_view_name": "HTMLView",
            "description": "",
            "description_tooltip": null,
            "layout": "IPY_MODEL_0a319462d9ba42ea8d914e38bd76a80d",
            "placeholder": "​",
            "style": "IPY_MODEL_5876976bfd4240868e3bbc624c9bf9f5",
            "value": "Loading checkpoint shards:  25%"
          }
        },
        "df029b9cd2204606a3bedce0acd8704e": {
          "model_module": "@jupyter-widgets/base",
          "model_module_version": "1.2.0",
          "model_name": "LayoutModel",
          "state": {
            "_model_module": "@jupyter-widgets/base",
            "_model_module_version": "1.2.0",
            "_model_name": "LayoutModel",
            "_view_count": null,
            "_view_module": "@jupyter-widgets/base",
            "_view_module_version": "1.2.0",
            "_view_name": "LayoutView",
            "align_content": null,
            "align_items": null,
            "align_self": null,
            "border": null,
            "bottom": null,
            "display": null,
            "flex": null,
            "flex_flow": null,
            "grid_area": null,
            "grid_auto_columns": null,
            "grid_auto_flow": null,
            "grid_auto_rows": null,
            "grid_column": null,
            "grid_gap": null,
            "grid_row": null,
            "grid_template_areas": null,
            "grid_template_columns": null,
            "grid_template_rows": null,
            "height": null,
            "justify_content": null,
            "justify_items": null,
            "left": null,
            "margin": null,
            "max_height": null,
            "max_width": null,
            "min_height": null,
            "min_width": null,
            "object_fit": null,
            "object_position": null,
            "order": null,
            "overflow": null,
            "overflow_x": null,
            "overflow_y": null,
            "padding": null,
            "right": null,
            "top": null,
            "visibility": null,
            "width": null
          }
        },
        "ebbcae28a8654b058c38578b93025930": {
          "model_module": "@jupyter-widgets/controls",
          "model_module_version": "1.5.0",
          "model_name": "HBoxModel",
          "state": {
            "_dom_classes": [],
            "_model_module": "@jupyter-widgets/controls",
            "_model_module_version": "1.5.0",
            "_model_name": "HBoxModel",
            "_view_count": null,
            "_view_module": "@jupyter-widgets/controls",
            "_view_module_version": "1.5.0",
            "_view_name": "HBoxView",
            "box_style": "",
            "children": [
              "IPY_MODEL_defa10ba98364b8cb777b49233d888be",
              "IPY_MODEL_bf5a11ad45ff4ed7bde95ca4d22f5886",
              "IPY_MODEL_c4114fc6225a429ba94a651a45ff75e6"
            ],
            "layout": "IPY_MODEL_67d53b0835bd44d4aff2304c5fbdf8f0"
          }
        }
      }
    }
  },
  "nbformat": 4,
  "nbformat_minor": 0
}