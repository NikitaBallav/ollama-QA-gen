{
 "cells": [
  {
   "cell_type": "code",
   "execution_count": null,
   "metadata": {},
   "outputs": [],
   "source": [
    "! pip install -U langchain-nomic langchain-community tiktoken langchainhub chromadb langchain langgraph gpt4all "
   ]
  },
  {
   "cell_type": "code",
   "execution_count": null,
   "metadata": {},
   "outputs": [],
   "source": [
    "local_llm='llama3'"
   ]
  },
  {
   "cell_type": "code",
   "execution_count": null,
   "metadata": {},
   "outputs": [],
   "source": [
    "from langchain.text_splitter import SpacyTextSplitter\n",
    "from langchain_community.vectorstores import Chroma\n",
    "from langchain_community.embeddings import GPT4AllEmbeddings\n",
    "from langchain.document_loaders import PyPDFLoader\n",
    "from langchain_community.vectorstores.utils import filter_complex_metadata\n",
    "from langchain.docstore.document import Document\n",
    "\n",
    "\n",
    "# Define the PDF file path\n",
    "pdf_path = \"/content/sample_data/E50.pdf\"\n",
    "\n",
    "# Load data from PDF\n",
    "loader = PyPDFLoader(pdf_path)\n",
    "data = loader.load()\n",
    "print(\"extracted doc is as follows:\", data)\n",
    "\n",
    "data_in_str = ''\n",
    "\n",
    "for page in data:\n",
    "  data_in_str += page.page_content\n",
    "\n",
    "\n",
    "text_splitter = SpacyTextSplitter.from_tiktoken_encoder(\n",
    "    chunk_size=100,\n",
    "    chunk_overlap=10\n",
    ")\n",
    "\n",
    "data_splits = text_splitter.split_text(data_in_str)\n",
    "print(\"data_splits:\", data_splits[1])\n",
    "\n",
    "doc_splits = [Document(page_content=t) for t in data_splits]\n",
    "\n",
    "filtered_docs= []\n",
    "for doc in doc_splits:\n",
    "    if isinstance(doc, Document) and hasattr(doc, 'metadata'):\n",
    "        clean_metadata = {k: v for k, v in doc.metadata.items() if isinstance(v, (str,int, float, bool))}\n",
    "        filtered_docs.append(Document(page_content=doc.page_content, metadata=clean_metadata))\n",
    "print(\"filtered_docs:\", filtered_docs)\n",
    "\n",
    "vectorstores = Chroma.from_documents(documents=filtered_docs, \n",
    "                                     collection_name=\"rag-chroma\",\n",
    "                                     embedding=GPT4AllEmbeddings(),\n",
    "                                     )\n",
    "\n",
    "retriever = vectorstores.as_retriever()"
   ]
  },
  {
   "cell_type": "markdown",
   "metadata": {},
   "source": [
    "# Retrieving Documents based on user query"
   ]
  },
  {
   "cell_type": "code",
   "execution_count": null,
   "metadata": {},
   "outputs": [],
   "source": [
    "from langchain.prompts import PromptTemplate\n",
    "from langchain_community.chat_models import ChatOllama\n",
    "from langchain_core.output_parsers import JsonOutputParser\n",
    "\n",
    "llm= ChatOllama(model=local_llm,format=\"json\",temperature=0)\n",
    "\n",
    "prompt= PromptTemplate(\n",
    "    templates=\"\"\"<|begin_of_text|><|start_header_id|>system<|end_header_id|> \n",
    "    You are a grader assessing relevance of a retrieved document to a user question. If the document contains keywords\n",
    "    related to the user question, grade it as relevant. It does not need to be a stringent test. The goal is to filter out\n",
    "    erroneous retrievals. \\n Give a binary score 'yes' or 'no' score to indicate whether the documents is relevant to the question.\\n\n",
    "    Provide the binary score as a JSON with a single key 'score' and no preamble or explaination.\n",
    "     <|eot_id|><|start_header_id|>user<|end_header_id|>\n",
    "    Here is the retrieved document: \\n\\n {documents} \\n\\n\n",
    "    Here is the user question: {question} \\n <|eot_id|><|start_header_id|>assistant<|end_header_id|>\n",
    "    \"\"\", \n",
    "    input_variables=[\"question\",\"documents\"],\n",
    ")\n",
    "\n",
    "retrieval_gender =prompt | llm | JsonOutputParser()\n",
    "question=\"what is section 51 about?\"\n",
    "docs= retriever.invoke(question)\n",
    "doc_txt = docs[1].page_content\n",
    "print(retrieval_gender.invoke({\"question\": question, \"documents\": doc_txt}))"
   ]
  },
  {
   "cell_type": "markdown",
   "metadata": {},
   "source": [
    "# Answer generation"
   ]
  },
  {
   "cell_type": "code",
   "execution_count": null,
   "metadata": {},
   "outputs": [],
   "source": [
    "from langchain.prompts import PromptTemplate\n",
    "from langchain import hub\n",
    "from langchain_core.output_parsers import StrOutputParser\n",
    "\n",
    "prompt= PromptTemplate(\n",
    "    template=\"\"\"<|begin_of_text|><|start_header_id|>system<|end_header_id|>\n",
    "    You are an assisstant for question-answering tasks. \n",
    "    Use the following pieces of retrieved context to answer the question. \n",
    "    If you don't know the answer, just say that you don't know. <|eot_id|><|start_header_id|>user<|end_header_id|>\n",
    "    Question: {question}\n",
    "    Context: {context}\n",
    "    Answer: <|eot_id|><|start_header_id|>assistant<|end_header_id|>\n",
    "    \"\"\", input_variables=[\"question\", \"documents\"],\n",
    ")\n",
    "\n",
    "llm= ChatOllama(model=local_llm, temperature=0)\n",
    "\n",
    "def format_docs(docs):\n",
    "    return \"\\n\\n\".join(doc.page_content for doc in docs)\n",
    "\n",
    "rag_chain = prompt | llm | StrOutputParser()\n",
    "\n",
    "question = \"what is section 51 about?\"\n",
    "\n",
    "docs = retriever.invoke(question)\n",
    "generation = rag_chain.invoke({\"context\": docs, \"questions\": question})\n",
    "print(generation)\n"
   ]
  },
  {
   "cell_type": "markdown",
   "metadata": {},
   "source": [
    "# Hallucination Grader"
   ]
  },
  {
   "cell_type": "code",
   "execution_count": null,
   "metadata": {},
   "outputs": [],
   "source": [
    "llm= ChatOllama(model=local_llm,format=\"json\",temperature=0)\n",
    "\n",
    "prompt= PromptTemplate(\n",
    "    template=\"\"\"<|begin_of_text|><|start_header_id|>system<|end_header_id|>\n",
    "    You are a grader assessing whether an answer is grounded in / supported by a set of facts. \n",
    "    Give a binary score \"yes\" or \"no\" score to indicate whether the answer is grounded in / supported be a set of facts.\n",
    "    Provide the binary score as a JSON with a single key 'score' and no preamble or explanation. \n",
    "    <|eot_id|><|start_header_id|>user<|end_header_id|>\n",
    "    Here are the facts:\n",
    "    \\n ------- \\n\n",
    "    {documents}\n",
    "    \\n ------- \\n\n",
    "    Here is the answer: {generation} <|eot_id|><|start_header_id|>assistant<|end_header_id|>\n",
    "    \"\"\", input_variables=[\"generation\", \"documents\"],\n",
    ")\n",
    "\n",
    "hallucination_grader = prompt | llm | JsonOutputParser()\n",
    "hallucination_grader.invoke({\"documents\": docs, \"generation\": generation})"
   ]
  },
  {
   "cell_type": "markdown",
   "metadata": {},
   "source": [
    "# Answer Grader"
   ]
  },
  {
   "cell_type": "code",
   "execution_count": null,
   "metadata": {},
   "outputs": [],
   "source": [
    "llm= ChatOllama(model=local_llm,format=\"json\",temperature=0)\n",
    "\n",
    "prompt= PromptTemplate(\n",
    "    template=\"\"\"<|begin_of_text|><|start_header_id|>system<|end_header_id|>\n",
    "    You are a grader assessing whether an answer is useful to resolve a question. \n",
    "    Give a binary score \"yes\" or \"no\" score to indicate whether the answer is useful to resolve a question.\n",
    "    Provide the binary score as a JSON with a single key 'score' and no preamble or explanation. \n",
    "    <|eot_id|><|start_header_id|>user<|end_header_id|>\n",
    "    Here are the facts:\n",
    "    \\n ------- \\n\n",
    "    {generation}\n",
    "    \\n ------- \\n\n",
    "    Here is the question: {question} <|eot_id|><|start_header_id|>assistant<|end_header_id|>\n",
    "    \"\"\", input_variables=[\"generation\", \"question\"],\n",
    ")\n",
    "\n",
    "answer_grader = prompt | llm | JsonOutputParser()\n",
    "answer_grader.invoke({\"question\": question, \"generation\": generation})\n"
   ]
  }
 ],
 "metadata": {
  "kernelspec": {
   "display_name": "environment2",
   "language": "python",
   "name": "python3"
  },
  "language_info": {
   "name": "python",
   "version": "3.10.11"
  }
 },
 "nbformat": 4,
 "nbformat_minor": 2
}
