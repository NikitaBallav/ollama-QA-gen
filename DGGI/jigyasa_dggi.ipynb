{
  "cells": [
    {
      "cell_type": "markdown",
      "metadata": {
        "id": "WQxnzMOdr3Mb"
      },
      "source": [
        "# Ollama server"
      ]
    },
    {
      "cell_type": "code",
      "execution_count": 3,
      "metadata": {
        "collapsed": true,
        "id": "P5CoDF76rww8",
        "colab": {
          "base_uri": "https://localhost:8080/"
        },
        "outputId": "f5257b10-9b52-45e0-c9be-cf74e301fea1"
      },
      "outputs": [
        {
          "output_type": "stream",
          "name": "stdout",
          "text": [
            "Requirement already satisfied: pyarrow in /usr/local/lib/python3.10/dist-packages (14.0.2)\n",
            "Collecting pyarrow\n",
            "  Downloading pyarrow-17.0.0-cp310-cp310-manylinux_2_28_x86_64.whl (39.9 MB)\n",
            "\u001b[2K     \u001b[90m━━━━━━━━━━━━━━━━━━━━━━━━━━━━━━━━━━━━━━━━\u001b[0m \u001b[32m39.9/39.9 MB\u001b[0m \u001b[31m24.9 MB/s\u001b[0m eta \u001b[36m0:00:00\u001b[0m\n",
            "\u001b[?25hCollecting python-magic\n",
            "  Downloading python_magic-0.4.27-py2.py3-none-any.whl (13 kB)\n",
            "Requirement already satisfied: tabulate in /usr/local/lib/python3.10/dist-packages (0.9.0)\n",
            "Collecting pdf2image\n",
            "  Downloading pdf2image-1.17.0-py3-none-any.whl (11 kB)\n",
            "Collecting pytesseract\n",
            "  Downloading pytesseract-0.3.10-py3-none-any.whl (14 kB)\n",
            "Collecting llama-index\n",
            "  Downloading llama_index-0.10.55-py3-none-any.whl (6.8 kB)\n",
            "Collecting llama-index-readers-web\n",
            "  Downloading llama_index_readers_web-0.1.23-py3-none-any.whl (72 kB)\n",
            "\u001b[2K     \u001b[90m━━━━━━━━━━━━━━━━━━━━━━━━━━━━━━━━━━━━━━━━\u001b[0m \u001b[32m72.9/72.9 kB\u001b[0m \u001b[31m11.6 MB/s\u001b[0m eta \u001b[36m0:00:00\u001b[0m\n",
            "\u001b[?25hCollecting llama-index-llms-ollama\n",
            "  Downloading llama_index_llms_ollama-0.1.5-py3-none-any.whl (3.6 kB)\n",
            "Collecting llama-index-embeddings-huggingface\n",
            "  Downloading llama_index_embeddings_huggingface-0.2.2-py3-none-any.whl (7.2 kB)\n",
            "Collecting llama-index-readers-file\n",
            "  Downloading llama_index_readers_file-0.1.30-py3-none-any.whl (38 kB)\n",
            "Collecting unstructured\n",
            "  Downloading unstructured-0.14.10-py3-none-any.whl (2.1 MB)\n",
            "\u001b[2K     \u001b[90m━━━━━━━━━━━━━━━━━━━━━━━━━━━━━━━━━━━━━━━━\u001b[0m \u001b[32m2.1/2.1 MB\u001b[0m \u001b[31m91.6 MB/s\u001b[0m eta \u001b[36m0:00:00\u001b[0m\n",
            "\u001b[?25hCollecting einops\n",
            "  Downloading einops-0.8.0-py3-none-any.whl (43 kB)\n",
            "\u001b[2K     \u001b[90m━━━━━━━━━━━━━━━━━━━━━━━━━━━━━━━━━━━━━━━━\u001b[0m \u001b[32m43.2/43.2 kB\u001b[0m \u001b[31m7.8 MB/s\u001b[0m eta \u001b[36m0:00:00\u001b[0m\n",
            "\u001b[?25hCollecting datasets\n",
            "  Downloading datasets-2.20.0-py3-none-any.whl (547 kB)\n",
            "\u001b[2K     \u001b[90m━━━━━━━━━━━━━━━━━━━━━━━━━━━━━━━━━━━━━━━━\u001b[0m \u001b[32m547.8/547.8 kB\u001b[0m \u001b[31m57.9 MB/s\u001b[0m eta \u001b[36m0:00:00\u001b[0m\n",
            "\u001b[?25hRequirement already satisfied: huggingface_hub in /usr/local/lib/python3.10/dist-packages (0.23.4)\n",
            "Collecting huggingface_hub\n",
            "  Downloading huggingface_hub-0.23.5-py3-none-any.whl (402 kB)\n",
            "\u001b[2K     \u001b[90m━━━━━━━━━━━━━━━━━━━━━━━━━━━━━━━━━━━━━━━━\u001b[0m \u001b[32m402.8/402.8 kB\u001b[0m \u001b[31m40.4 MB/s\u001b[0m eta \u001b[36m0:00:00\u001b[0m\n",
            "\u001b[?25hCollecting sentence-transformers\n",
            "  Downloading sentence_transformers-3.0.1-py3-none-any.whl (227 kB)\n",
            "\u001b[2K     \u001b[90m━━━━━━━━━━━━━━━━━━━━━━━━━━━━━━━━━━━━━━━━\u001b[0m \u001b[32m227.1/227.1 kB\u001b[0m \u001b[31m34.6 MB/s\u001b[0m eta \u001b[36m0:00:00\u001b[0m\n",
            "\u001b[?25hCollecting docx2txt\n",
            "  Downloading docx2txt-0.8.tar.gz (2.8 kB)\n",
            "  Preparing metadata (setup.py) ... \u001b[?25l\u001b[?25hdone\n",
            "Collecting python-docx\n",
            "  Downloading python_docx-1.1.2-py3-none-any.whl (244 kB)\n",
            "\u001b[2K     \u001b[90m━━━━━━━━━━━━━━━━━━━━━━━━━━━━━━━━━━━━━━━━\u001b[0m \u001b[32m244.3/244.3 kB\u001b[0m \u001b[31m38.6 MB/s\u001b[0m eta \u001b[36m0:00:00\u001b[0m\n",
            "\u001b[?25hRequirement already satisfied: numpy>=1.16.6 in /usr/local/lib/python3.10/dist-packages (from pyarrow) (1.25.2)\n",
            "Requirement already satisfied: pillow in /usr/local/lib/python3.10/dist-packages (from pdf2image) (9.4.0)\n",
            "Requirement already satisfied: packaging>=21.3 in /usr/local/lib/python3.10/dist-packages (from pytesseract) (24.1)\n",
            "Collecting llama-index-agent-openai<0.3.0,>=0.1.4 (from llama-index)\n",
            "  Downloading llama_index_agent_openai-0.2.8-py3-none-any.whl (13 kB)\n",
            "Collecting llama-index-cli<0.2.0,>=0.1.2 (from llama-index)\n",
            "  Downloading llama_index_cli-0.1.12-py3-none-any.whl (26 kB)\n",
            "Collecting llama-index-core==0.10.55 (from llama-index)\n",
            "  Downloading llama_index_core-0.10.55-py3-none-any.whl (15.5 MB)\n",
            "\u001b[2K     \u001b[90m━━━━━━━━━━━━━━━━━━━━━━━━━━━━━━━━━━━━━━━━\u001b[0m \u001b[32m15.5/15.5 MB\u001b[0m \u001b[31m79.3 MB/s\u001b[0m eta \u001b[36m0:00:00\u001b[0m\n",
            "\u001b[?25hCollecting llama-index-embeddings-openai<0.2.0,>=0.1.5 (from llama-index)\n",
            "  Downloading llama_index_embeddings_openai-0.1.10-py3-none-any.whl (6.2 kB)\n",
            "Collecting llama-index-indices-managed-llama-cloud>=0.2.0 (from llama-index)\n",
            "  Downloading llama_index_indices_managed_llama_cloud-0.2.5-py3-none-any.whl (9.3 kB)\n",
            "Collecting llama-index-legacy<0.10.0,>=0.9.48 (from llama-index)\n",
            "  Downloading llama_index_legacy-0.9.48-py3-none-any.whl (2.0 MB)\n",
            "\u001b[2K     \u001b[90m━━━━━━━━━━━━━━━━━━━━━━━━━━━━━━━━━━━━━━━━\u001b[0m \u001b[32m2.0/2.0 MB\u001b[0m \u001b[31m90.9 MB/s\u001b[0m eta \u001b[36m0:00:00\u001b[0m\n",
            "\u001b[?25hCollecting llama-index-llms-openai<0.2.0,>=0.1.13 (from llama-index)\n",
            "  Downloading llama_index_llms_openai-0.1.25-py3-none-any.whl (11 kB)\n",
            "Collecting llama-index-multi-modal-llms-openai<0.2.0,>=0.1.3 (from llama-index)\n",
            "  Downloading llama_index_multi_modal_llms_openai-0.1.7-py3-none-any.whl (5.9 kB)\n",
            "Collecting llama-index-program-openai<0.2.0,>=0.1.3 (from llama-index)\n",
            "  Downloading llama_index_program_openai-0.1.6-py3-none-any.whl (5.2 kB)\n",
            "Collecting llama-index-question-gen-openai<0.2.0,>=0.1.2 (from llama-index)\n",
            "  Downloading llama_index_question_gen_openai-0.1.3-py3-none-any.whl (2.9 kB)\n",
            "Collecting llama-index-readers-llama-parse>=0.1.2 (from llama-index)\n",
            "  Downloading llama_index_readers_llama_parse-0.1.6-py3-none-any.whl (2.5 kB)\n",
            "Requirement already satisfied: PyYAML>=6.0.1 in /usr/local/lib/python3.10/dist-packages (from llama-index-core==0.10.55->llama-index) (6.0.1)\n",
            "Requirement already satisfied: SQLAlchemy[asyncio]>=1.4.49 in /usr/local/lib/python3.10/dist-packages (from llama-index-core==0.10.55->llama-index) (2.0.31)\n",
            "Requirement already satisfied: aiohttp<4.0.0,>=3.8.6 in /usr/local/lib/python3.10/dist-packages (from llama-index-core==0.10.55->llama-index) (3.9.5)\n",
            "Collecting dataclasses-json (from llama-index-core==0.10.55->llama-index)\n",
            "  Downloading dataclasses_json-0.6.7-py3-none-any.whl (28 kB)\n",
            "Collecting deprecated>=1.2.9.3 (from llama-index-core==0.10.55->llama-index)\n",
            "  Downloading Deprecated-1.2.14-py2.py3-none-any.whl (9.6 kB)\n",
            "Collecting dirtyjson<2.0.0,>=1.0.8 (from llama-index-core==0.10.55->llama-index)\n",
            "  Downloading dirtyjson-1.0.8-py3-none-any.whl (25 kB)\n",
            "Requirement already satisfied: fsspec>=2023.5.0 in /usr/local/lib/python3.10/dist-packages (from llama-index-core==0.10.55->llama-index) (2023.6.0)\n",
            "Collecting httpx (from llama-index-core==0.10.55->llama-index)\n",
            "  Downloading httpx-0.27.0-py3-none-any.whl (75 kB)\n",
            "\u001b[2K     \u001b[90m━━━━━━━━━━━━━━━━━━━━━━━━━━━━━━━━━━━━━━━━\u001b[0m \u001b[32m75.6/75.6 kB\u001b[0m \u001b[31m12.9 MB/s\u001b[0m eta \u001b[36m0:00:00\u001b[0m\n",
            "\u001b[?25hRequirement already satisfied: nest-asyncio<2.0.0,>=1.5.8 in /usr/local/lib/python3.10/dist-packages (from llama-index-core==0.10.55->llama-index) (1.6.0)\n",
            "Requirement already satisfied: networkx>=3.0 in /usr/local/lib/python3.10/dist-packages (from llama-index-core==0.10.55->llama-index) (3.3)\n",
            "Requirement already satisfied: nltk<4.0.0,>=3.8.1 in /usr/local/lib/python3.10/dist-packages (from llama-index-core==0.10.55->llama-index) (3.8.1)\n",
            "Collecting openai>=1.1.0 (from llama-index-core==0.10.55->llama-index)\n",
            "  Downloading openai-1.35.14-py3-none-any.whl (328 kB)\n",
            "\u001b[2K     \u001b[90m━━━━━━━━━━━━━━━━━━━━━━━━━━━━━━━━━━━━━━━━\u001b[0m \u001b[32m328.5/328.5 kB\u001b[0m \u001b[31m43.8 MB/s\u001b[0m eta \u001b[36m0:00:00\u001b[0m\n",
            "\u001b[?25hRequirement already satisfied: pandas in /usr/local/lib/python3.10/dist-packages (from llama-index-core==0.10.55->llama-index) (2.0.3)\n",
            "Requirement already satisfied: requests>=2.31.0 in /usr/local/lib/python3.10/dist-packages (from llama-index-core==0.10.55->llama-index) (2.31.0)\n",
            "Requirement already satisfied: tenacity!=8.4.0,<9.0.0,>=8.2.0 in /usr/local/lib/python3.10/dist-packages (from llama-index-core==0.10.55->llama-index) (8.5.0)\n",
            "Collecting tiktoken>=0.3.3 (from llama-index-core==0.10.55->llama-index)\n",
            "  Downloading tiktoken-0.7.0-cp310-cp310-manylinux_2_17_x86_64.manylinux2014_x86_64.whl (1.1 MB)\n",
            "\u001b[2K     \u001b[90m━━━━━━━━━━━━━━━━━━━━━━━━━━━━━━━━━━━━━━━━\u001b[0m \u001b[32m1.1/1.1 MB\u001b[0m \u001b[31m79.0 MB/s\u001b[0m eta \u001b[36m0:00:00\u001b[0m\n",
            "\u001b[?25hRequirement already satisfied: tqdm<5.0.0,>=4.66.1 in /usr/local/lib/python3.10/dist-packages (from llama-index-core==0.10.55->llama-index) (4.66.4)\n",
            "Requirement already satisfied: typing-extensions>=4.5.0 in /usr/local/lib/python3.10/dist-packages (from llama-index-core==0.10.55->llama-index) (4.12.2)\n",
            "Collecting typing-inspect>=0.8.0 (from llama-index-core==0.10.55->llama-index)\n",
            "  Downloading typing_inspect-0.9.0-py3-none-any.whl (8.8 kB)\n",
            "Requirement already satisfied: wrapt in /usr/local/lib/python3.10/dist-packages (from llama-index-core==0.10.55->llama-index) (1.14.1)\n",
            "Requirement already satisfied: beautifulsoup4<5.0.0,>=4.12.3 in /usr/local/lib/python3.10/dist-packages (from llama-index-readers-web) (4.12.3)\n",
            "Collecting chromedriver-autoinstaller<0.7.0,>=0.6.3 (from llama-index-readers-web)\n",
            "  Downloading chromedriver_autoinstaller-0.6.4-py3-none-any.whl (7.6 kB)\n",
            "Collecting html2text<2025.0.0,>=2024.2.26 (from llama-index-readers-web)\n",
            "  Downloading html2text-2024.2.26.tar.gz (56 kB)\n",
            "\u001b[2K     \u001b[90m━━━━━━━━━━━━━━━━━━━━━━━━━━━━━━━━━━━━━━━━\u001b[0m \u001b[32m56.5/56.5 kB\u001b[0m \u001b[31m9.9 MB/s\u001b[0m eta \u001b[36m0:00:00\u001b[0m\n",
            "\u001b[?25h  Preparing metadata (setup.py) ... \u001b[?25l\u001b[?25hdone\n",
            "Collecting newspaper3k<0.3.0,>=0.2.8 (from llama-index-readers-web)\n",
            "  Downloading newspaper3k-0.2.8-py3-none-any.whl (211 kB)\n",
            "\u001b[2K     \u001b[90m━━━━━━━━━━━━━━━━━━━━━━━━━━━━━━━━━━━━━━━━\u001b[0m \u001b[32m211.1/211.1 kB\u001b[0m \u001b[31m34.0 MB/s\u001b[0m eta \u001b[36m0:00:00\u001b[0m\n",
            "\u001b[?25hCollecting playwright<2.0,>=1.30 (from llama-index-readers-web)\n",
            "  Downloading playwright-1.45.0-py3-none-manylinux1_x86_64.whl (37.9 MB)\n",
            "\u001b[2K     \u001b[90m━━━━━━━━━━━━━━━━━━━━━━━━━━━━━━━━━━━━━━━━\u001b[0m \u001b[32m37.9/37.9 MB\u001b[0m \u001b[31m20.8 MB/s\u001b[0m eta \u001b[36m0:00:00\u001b[0m\n",
            "\u001b[?25hCollecting selenium<5.0.0,>=4.17.2 (from llama-index-readers-web)\n",
            "  Downloading selenium-4.22.0-py3-none-any.whl (9.4 MB)\n",
            "\u001b[2K     \u001b[90m━━━━━━━━━━━━━━━━━━━━━━━━━━━━━━━━━━━━━━━━\u001b[0m \u001b[32m9.4/9.4 MB\u001b[0m \u001b[31m101.7 MB/s\u001b[0m eta \u001b[36m0:00:00\u001b[0m\n",
            "\u001b[?25hCollecting spider-client<0.0.28,>=0.0.27 (from llama-index-readers-web)\n",
            "  Downloading spider-client-0.0.27.tar.gz (5.8 kB)\n",
            "  Preparing metadata (setup.py) ... \u001b[?25l\u001b[?25hdone\n",
            "Requirement already satisfied: urllib3>=1.1.0 in /usr/local/lib/python3.10/dist-packages (from llama-index-readers-web) (2.0.7)\n",
            "Collecting pypdf<5.0.0,>=4.0.1 (from llama-index-readers-file)\n",
            "  Downloading pypdf-4.3.0-py3-none-any.whl (295 kB)\n",
            "\u001b[2K     \u001b[90m━━━━━━━━━━━━━━━━━━━━━━━━━━━━━━━━━━━━━━━━\u001b[0m \u001b[32m295.7/295.7 kB\u001b[0m \u001b[31m45.8 MB/s\u001b[0m eta \u001b[36m0:00:00\u001b[0m\n",
            "\u001b[?25hCollecting striprtf<0.0.27,>=0.0.26 (from llama-index-readers-file)\n",
            "  Downloading striprtf-0.0.26-py3-none-any.whl (6.9 kB)\n",
            "Requirement already satisfied: chardet in /usr/local/lib/python3.10/dist-packages (from unstructured) (5.2.0)\n",
            "Collecting filetype (from unstructured)\n",
            "  Downloading filetype-1.2.0-py2.py3-none-any.whl (19 kB)\n",
            "Requirement already satisfied: lxml in /usr/local/lib/python3.10/dist-packages (from unstructured) (4.9.4)\n",
            "Collecting emoji (from unstructured)\n",
            "  Downloading emoji-2.12.1-py3-none-any.whl (431 kB)\n",
            "\u001b[2K     \u001b[90m━━━━━━━━━━━━━━━━━━━━━━━━━━━━━━━━━━━━━━━━\u001b[0m \u001b[32m431.4/431.4 kB\u001b[0m \u001b[31m42.2 MB/s\u001b[0m eta \u001b[36m0:00:00\u001b[0m\n",
            "\u001b[?25hCollecting python-iso639 (from unstructured)\n",
            "  Downloading python_iso639-2024.4.27-py3-none-any.whl (274 kB)\n",
            "\u001b[2K     \u001b[90m━━━━━━━━━━━━━━━━━━━━━━━━━━━━━━━━━━━━━━━━\u001b[0m \u001b[32m274.7/274.7 kB\u001b[0m \u001b[31m33.6 MB/s\u001b[0m eta \u001b[36m0:00:00\u001b[0m\n",
            "\u001b[?25hCollecting langdetect (from unstructured)\n",
            "  Downloading langdetect-1.0.9.tar.gz (981 kB)\n",
            "\u001b[2K     \u001b[90m━━━━━━━━━━━━━━━━━━━━━━━━━━━━━━━━━━━━━━━━\u001b[0m \u001b[32m981.5/981.5 kB\u001b[0m \u001b[31m57.9 MB/s\u001b[0m eta \u001b[36m0:00:00\u001b[0m\n",
            "\u001b[?25h  Preparing metadata (setup.py) ... \u001b[?25l\u001b[?25hdone\n",
            "Collecting rapidfuzz (from unstructured)\n",
            "  Downloading rapidfuzz-3.9.4-cp310-cp310-manylinux_2_17_x86_64.manylinux2014_x86_64.whl (3.4 MB)\n",
            "\u001b[2K     \u001b[90m━━━━━━━━━━━━━━━━━━━━━━━━━━━━━━━━━━━━━━━━\u001b[0m \u001b[32m3.4/3.4 MB\u001b[0m \u001b[31m110.3 MB/s\u001b[0m eta \u001b[36m0:00:00\u001b[0m\n",
            "\u001b[?25hCollecting backoff (from unstructured)\n",
            "  Downloading backoff-2.2.1-py3-none-any.whl (15 kB)\n",
            "Collecting unstructured-client (from unstructured)\n",
            "  Downloading unstructured_client-0.24.1-py3-none-any.whl (41 kB)\n",
            "\u001b[2K     \u001b[90m━━━━━━━━━━━━━━━━━━━━━━━━━━━━━━━━━━━━━━━━\u001b[0m \u001b[32m41.9/41.9 kB\u001b[0m \u001b[31m6.6 MB/s\u001b[0m eta \u001b[36m0:00:00\u001b[0m\n",
            "\u001b[?25hRequirement already satisfied: psutil in /usr/local/lib/python3.10/dist-packages (from unstructured) (5.9.5)\n",
            "Requirement already satisfied: filelock in /usr/local/lib/python3.10/dist-packages (from datasets) (3.15.4)\n",
            "Requirement already satisfied: pyarrow-hotfix in /usr/local/lib/python3.10/dist-packages (from datasets) (0.6)\n",
            "Collecting dill<0.3.9,>=0.3.0 (from datasets)\n",
            "  Downloading dill-0.3.8-py3-none-any.whl (116 kB)\n",
            "\u001b[2K     \u001b[90m━━━━━━━━━━━━━━━━━━━━━━━━━━━━━━━━━━━━━━━━\u001b[0m \u001b[32m116.3/116.3 kB\u001b[0m \u001b[31m2.9 MB/s\u001b[0m eta \u001b[36m0:00:00\u001b[0m\n",
            "\u001b[?25hCollecting requests>=2.31.0 (from llama-index-core==0.10.55->llama-index)\n",
            "  Downloading requests-2.32.3-py3-none-any.whl (64 kB)\n",
            "\u001b[2K     \u001b[90m━━━━━━━━━━━━━━━━━━━━━━━━━━━━━━━━━━━━━━━━\u001b[0m \u001b[32m64.9/64.9 kB\u001b[0m \u001b[31m10.6 MB/s\u001b[0m eta \u001b[36m0:00:00\u001b[0m\n",
            "\u001b[?25hCollecting xxhash (from datasets)\n",
            "  Downloading xxhash-3.4.1-cp310-cp310-manylinux_2_17_x86_64.manylinux2014_x86_64.whl (194 kB)\n",
            "\u001b[2K     \u001b[90m━━━━━━━━━━━━━━━━━━━━━━━━━━━━━━━━━━━━━━━━\u001b[0m \u001b[32m194.1/194.1 kB\u001b[0m \u001b[31m23.2 MB/s\u001b[0m eta \u001b[36m0:00:00\u001b[0m\n",
            "\u001b[?25hCollecting multiprocess (from datasets)\n",
            "  Downloading multiprocess-0.70.16-py310-none-any.whl (134 kB)\n",
            "\u001b[2K     \u001b[90m━━━━━━━━━━━━━━━━━━━━━━━━━━━━━━━━━━━━━━━━\u001b[0m \u001b[32m134.8/134.8 kB\u001b[0m \u001b[31m18.9 MB/s\u001b[0m eta \u001b[36m0:00:00\u001b[0m\n",
            "\u001b[?25hRequirement already satisfied: transformers<5.0.0,>=4.34.0 in /usr/local/lib/python3.10/dist-packages (from sentence-transformers) (4.42.4)\n",
            "Requirement already satisfied: torch>=1.11.0 in /usr/local/lib/python3.10/dist-packages (from sentence-transformers) (2.3.1+cu121)\n",
            "Requirement already satisfied: scikit-learn in /usr/local/lib/python3.10/dist-packages (from sentence-transformers) (1.2.2)\n",
            "Requirement already satisfied: scipy in /usr/local/lib/python3.10/dist-packages (from sentence-transformers) (1.11.4)\n",
            "Requirement already satisfied: aiosignal>=1.1.2 in /usr/local/lib/python3.10/dist-packages (from aiohttp<4.0.0,>=3.8.6->llama-index-core==0.10.55->llama-index) (1.3.1)\n",
            "Requirement already satisfied: attrs>=17.3.0 in /usr/local/lib/python3.10/dist-packages (from aiohttp<4.0.0,>=3.8.6->llama-index-core==0.10.55->llama-index) (23.2.0)\n",
            "Requirement already satisfied: frozenlist>=1.1.1 in /usr/local/lib/python3.10/dist-packages (from aiohttp<4.0.0,>=3.8.6->llama-index-core==0.10.55->llama-index) (1.4.1)\n",
            "Requirement already satisfied: multidict<7.0,>=4.5 in /usr/local/lib/python3.10/dist-packages (from aiohttp<4.0.0,>=3.8.6->llama-index-core==0.10.55->llama-index) (6.0.5)\n",
            "Requirement already satisfied: yarl<2.0,>=1.0 in /usr/local/lib/python3.10/dist-packages (from aiohttp<4.0.0,>=3.8.6->llama-index-core==0.10.55->llama-index) (1.9.4)\n",
            "Requirement already satisfied: async-timeout<5.0,>=4.0 in /usr/local/lib/python3.10/dist-packages (from aiohttp<4.0.0,>=3.8.6->llama-index-core==0.10.55->llama-index) (4.0.3)\n",
            "Requirement already satisfied: soupsieve>1.2 in /usr/local/lib/python3.10/dist-packages (from beautifulsoup4<5.0.0,>=4.12.3->llama-index-readers-web) (2.5)\n",
            "Collecting minijinja>=1.0 (from huggingface_hub)\n",
            "  Downloading minijinja-2.0.1-cp38-abi3-manylinux_2_17_x86_64.manylinux2014_x86_64.whl (853 kB)\n",
            "\u001b[2K     \u001b[90m━━━━━━━━━━━━━━━━━━━━━━━━━━━━━━━━━━━━━━━━\u001b[0m \u001b[32m853.2/853.2 kB\u001b[0m \u001b[31m68.7 MB/s\u001b[0m eta \u001b[36m0:00:00\u001b[0m\n",
            "\u001b[?25hCollecting llama-cloud>=0.0.9 (from llama-index-indices-managed-llama-cloud>=0.2.0->llama-index)\n",
            "  Downloading llama_cloud-0.0.9-py3-none-any.whl (146 kB)\n",
            "\u001b[2K     \u001b[90m━━━━━━━━━━━━━━━━━━━━━━━━━━━━━━━━━━━━━━━━\u001b[0m \u001b[32m146.8/146.8 kB\u001b[0m \u001b[31m24.1 MB/s\u001b[0m eta \u001b[36m0:00:00\u001b[0m\n",
            "\u001b[?25hCollecting llama-parse>=0.4.0 (from llama-index-readers-llama-parse>=0.1.2->llama-index)\n",
            "  Downloading llama_parse-0.4.9-py3-none-any.whl (9.4 kB)\n",
            "Collecting cssselect>=0.9.2 (from newspaper3k<0.3.0,>=0.2.8->llama-index-readers-web)\n",
            "  Downloading cssselect-1.2.0-py2.py3-none-any.whl (18 kB)\n",
            "Collecting feedparser>=5.2.1 (from newspaper3k<0.3.0,>=0.2.8->llama-index-readers-web)\n",
            "  Downloading feedparser-6.0.11-py3-none-any.whl (81 kB)\n",
            "\u001b[2K     \u001b[90m━━━━━━━━━━━━━━━━━━━━━━━━━━━━━━━━━━━━━━━━\u001b[0m \u001b[32m81.3/81.3 kB\u001b[0m \u001b[31m13.0 MB/s\u001b[0m eta \u001b[36m0:00:00\u001b[0m\n",
            "\u001b[?25hCollecting tldextract>=2.0.1 (from newspaper3k<0.3.0,>=0.2.8->llama-index-readers-web)\n",
            "  Downloading tldextract-5.1.2-py3-none-any.whl (97 kB)\n",
            "\u001b[2K     \u001b[90m━━━━━━━━━━━━━━━━━━━━━━━━━━━━━━━━━━━━━━━━\u001b[0m \u001b[32m97.6/97.6 kB\u001b[0m \u001b[31m15.9 MB/s\u001b[0m eta \u001b[36m0:00:00\u001b[0m\n",
            "\u001b[?25hCollecting feedfinder2>=0.0.4 (from newspaper3k<0.3.0,>=0.2.8->llama-index-readers-web)\n",
            "  Downloading feedfinder2-0.0.4.tar.gz (3.3 kB)\n",
            "  Preparing metadata (setup.py) ... \u001b[?25l\u001b[?25hdone\n",
            "Collecting jieba3k>=0.35.1 (from newspaper3k<0.3.0,>=0.2.8->llama-index-readers-web)\n",
            "  Downloading jieba3k-0.35.1.zip (7.4 MB)\n",
            "\u001b[2K     \u001b[90m━━━━━━━━━━━━━━━━━━━━━━━━━━━━━━━━━━━━━━━━\u001b[0m \u001b[32m7.4/7.4 MB\u001b[0m \u001b[31m115.0 MB/s\u001b[0m eta \u001b[36m0:00:00\u001b[0m\n",
            "\u001b[?25h  Preparing metadata (setup.py) ... \u001b[?25l\u001b[?25hdone\n",
            "Requirement already satisfied: python-dateutil>=2.5.3 in /usr/local/lib/python3.10/dist-packages (from newspaper3k<0.3.0,>=0.2.8->llama-index-readers-web) (2.8.2)\n",
            "Collecting tinysegmenter==0.3 (from newspaper3k<0.3.0,>=0.2.8->llama-index-readers-web)\n",
            "  Downloading tinysegmenter-0.3.tar.gz (16 kB)\n",
            "  Preparing metadata (setup.py) ... \u001b[?25l\u001b[?25hdone\n",
            "Requirement already satisfied: click in /usr/local/lib/python3.10/dist-packages (from nltk<4.0.0,>=3.8.1->llama-index-core==0.10.55->llama-index) (8.1.7)\n",
            "Requirement already satisfied: joblib in /usr/local/lib/python3.10/dist-packages (from nltk<4.0.0,>=3.8.1->llama-index-core==0.10.55->llama-index) (1.4.2)\n",
            "Requirement already satisfied: regex>=2021.8.3 in /usr/local/lib/python3.10/dist-packages (from nltk<4.0.0,>=3.8.1->llama-index-core==0.10.55->llama-index) (2024.5.15)\n",
            "Requirement already satisfied: greenlet==3.0.3 in /usr/local/lib/python3.10/dist-packages (from playwright<2.0,>=1.30->llama-index-readers-web) (3.0.3)\n",
            "Collecting pyee==11.1.0 (from playwright<2.0,>=1.30->llama-index-readers-web)\n",
            "  Downloading pyee-11.1.0-py3-none-any.whl (15 kB)\n",
            "Requirement already satisfied: charset-normalizer<4,>=2 in /usr/local/lib/python3.10/dist-packages (from requests>=2.31.0->llama-index-core==0.10.55->llama-index) (3.3.2)\n",
            "Requirement already satisfied: idna<4,>=2.5 in /usr/local/lib/python3.10/dist-packages (from requests>=2.31.0->llama-index-core==0.10.55->llama-index) (3.7)\n",
            "Requirement already satisfied: certifi>=2017.4.17 in /usr/local/lib/python3.10/dist-packages (from requests>=2.31.0->llama-index-core==0.10.55->llama-index) (2024.7.4)\n",
            "Collecting trio~=0.17 (from selenium<5.0.0,>=4.17.2->llama-index-readers-web)\n",
            "  Downloading trio-0.26.0-py3-none-any.whl (475 kB)\n",
            "\u001b[2K     \u001b[90m━━━━━━━━━━━━━━━━━━━━━━━━━━━━━━━━━━━━━━━━\u001b[0m \u001b[32m475.7/475.7 kB\u001b[0m \u001b[31m57.2 MB/s\u001b[0m eta \u001b[36m0:00:00\u001b[0m\n",
            "\u001b[?25hCollecting trio-websocket~=0.9 (from selenium<5.0.0,>=4.17.2->llama-index-readers-web)\n",
            "  Downloading trio_websocket-0.11.1-py3-none-any.whl (17 kB)\n",
            "Requirement already satisfied: websocket-client>=1.8.0 in /usr/local/lib/python3.10/dist-packages (from selenium<5.0.0,>=4.17.2->llama-index-readers-web) (1.8.0)\n",
            "Requirement already satisfied: sympy in /usr/local/lib/python3.10/dist-packages (from torch>=1.11.0->sentence-transformers) (1.13.0)\n",
            "Requirement already satisfied: jinja2 in /usr/local/lib/python3.10/dist-packages (from torch>=1.11.0->sentence-transformers) (3.1.4)\n",
            "Collecting nvidia-cuda-nvrtc-cu12==12.1.105 (from torch>=1.11.0->sentence-transformers)\n",
            "  Using cached nvidia_cuda_nvrtc_cu12-12.1.105-py3-none-manylinux1_x86_64.whl (23.7 MB)\n",
            "Collecting nvidia-cuda-runtime-cu12==12.1.105 (from torch>=1.11.0->sentence-transformers)\n",
            "  Using cached nvidia_cuda_runtime_cu12-12.1.105-py3-none-manylinux1_x86_64.whl (823 kB)\n",
            "Collecting nvidia-cuda-cupti-cu12==12.1.105 (from torch>=1.11.0->sentence-transformers)\n",
            "  Using cached nvidia_cuda_cupti_cu12-12.1.105-py3-none-manylinux1_x86_64.whl (14.1 MB)\n",
            "Collecting nvidia-cudnn-cu12==8.9.2.26 (from torch>=1.11.0->sentence-transformers)\n",
            "  Using cached nvidia_cudnn_cu12-8.9.2.26-py3-none-manylinux1_x86_64.whl (731.7 MB)\n",
            "Collecting nvidia-cublas-cu12==12.1.3.1 (from torch>=1.11.0->sentence-transformers)\n",
            "  Using cached nvidia_cublas_cu12-12.1.3.1-py3-none-manylinux1_x86_64.whl (410.6 MB)\n",
            "Collecting nvidia-cufft-cu12==11.0.2.54 (from torch>=1.11.0->sentence-transformers)\n",
            "  Using cached nvidia_cufft_cu12-11.0.2.54-py3-none-manylinux1_x86_64.whl (121.6 MB)\n",
            "Collecting nvidia-curand-cu12==10.3.2.106 (from torch>=1.11.0->sentence-transformers)\n",
            "  Using cached nvidia_curand_cu12-10.3.2.106-py3-none-manylinux1_x86_64.whl (56.5 MB)\n",
            "Collecting nvidia-cusolver-cu12==11.4.5.107 (from torch>=1.11.0->sentence-transformers)\n",
            "  Using cached nvidia_cusolver_cu12-11.4.5.107-py3-none-manylinux1_x86_64.whl (124.2 MB)\n",
            "Collecting nvidia-cusparse-cu12==12.1.0.106 (from torch>=1.11.0->sentence-transformers)\n",
            "  Using cached nvidia_cusparse_cu12-12.1.0.106-py3-none-manylinux1_x86_64.whl (196.0 MB)\n",
            "Collecting nvidia-nccl-cu12==2.20.5 (from torch>=1.11.0->sentence-transformers)\n",
            "  Using cached nvidia_nccl_cu12-2.20.5-py3-none-manylinux2014_x86_64.whl (176.2 MB)\n",
            "Collecting nvidia-nvtx-cu12==12.1.105 (from torch>=1.11.0->sentence-transformers)\n",
            "  Using cached nvidia_nvtx_cu12-12.1.105-py3-none-manylinux1_x86_64.whl (99 kB)\n",
            "Requirement already satisfied: triton==2.3.1 in /usr/local/lib/python3.10/dist-packages (from torch>=1.11.0->sentence-transformers) (2.3.1)\n",
            "Collecting nvidia-nvjitlink-cu12 (from nvidia-cusolver-cu12==11.4.5.107->torch>=1.11.0->sentence-transformers)\n",
            "  Downloading nvidia_nvjitlink_cu12-12.5.82-py3-none-manylinux2014_x86_64.whl (21.3 MB)\n",
            "\u001b[2K     \u001b[90m━━━━━━━━━━━━━━━━━━━━━━━━━━━━━━━━━━━━━━━━\u001b[0m \u001b[32m21.3/21.3 MB\u001b[0m \u001b[31m60.6 MB/s\u001b[0m eta \u001b[36m0:00:00\u001b[0m\n",
            "\u001b[?25hRequirement already satisfied: safetensors>=0.4.1 in /usr/local/lib/python3.10/dist-packages (from transformers<5.0.0,>=4.34.0->sentence-transformers) (0.4.3)\n",
            "Requirement already satisfied: tokenizers<0.20,>=0.19 in /usr/local/lib/python3.10/dist-packages (from transformers<5.0.0,>=4.34.0->sentence-transformers) (0.19.1)\n",
            "Collecting marshmallow<4.0.0,>=3.18.0 (from dataclasses-json->llama-index-core==0.10.55->llama-index)\n",
            "  Downloading marshmallow-3.21.3-py3-none-any.whl (49 kB)\n",
            "\u001b[2K     \u001b[90m━━━━━━━━━━━━━━━━━━━━━━━━━━━━━━━━━━━━━━━━\u001b[0m \u001b[32m49.2/49.2 kB\u001b[0m \u001b[31m7.6 MB/s\u001b[0m eta \u001b[36m0:00:00\u001b[0m\n",
            "\u001b[?25hRequirement already satisfied: six in /usr/local/lib/python3.10/dist-packages (from langdetect->unstructured) (1.16.0)\n",
            "Requirement already satisfied: pytz>=2020.1 in /usr/local/lib/python3.10/dist-packages (from pandas->llama-index-core==0.10.55->llama-index) (2023.4)\n",
            "Requirement already satisfied: tzdata>=2022.1 in /usr/local/lib/python3.10/dist-packages (from pandas->llama-index-core==0.10.55->llama-index) (2024.1)\n",
            "Requirement already satisfied: threadpoolctl>=2.0.0 in /usr/local/lib/python3.10/dist-packages (from scikit-learn->sentence-transformers) (3.5.0)\n",
            "Collecting deepdiff>=6.0 (from unstructured-client->unstructured)\n",
            "  Downloading deepdiff-7.0.1-py3-none-any.whl (80 kB)\n",
            "\u001b[2K     \u001b[90m━━━━━━━━━━━━━━━━━━━━━━━━━━━━━━━━━━━━━━━━\u001b[0m \u001b[32m80.8/80.8 kB\u001b[0m \u001b[31m14.3 MB/s\u001b[0m eta \u001b[36m0:00:00\u001b[0m\n",
            "\u001b[?25hCollecting jsonpath-python>=1.0.6 (from unstructured-client->unstructured)\n",
            "  Downloading jsonpath_python-1.0.6-py3-none-any.whl (7.6 kB)\n",
            "Collecting mypy-extensions>=1.0.0 (from unstructured-client->unstructured)\n",
            "  Downloading mypy_extensions-1.0.0-py3-none-any.whl (4.7 kB)\n",
            "Collecting requests-toolbelt>=1.0.0 (from unstructured-client->unstructured)\n",
            "  Downloading requests_toolbelt-1.0.0-py2.py3-none-any.whl (54 kB)\n",
            "\u001b[2K     \u001b[90m━━━━━━━━━━━━━━━━━━━━━━━━━━━━━━━━━━━━━━━━\u001b[0m \u001b[32m54.5/54.5 kB\u001b[0m \u001b[31m9.8 MB/s\u001b[0m eta \u001b[36m0:00:00\u001b[0m\n",
            "\u001b[?25hCollecting ordered-set<4.2.0,>=4.1.0 (from deepdiff>=6.0->unstructured-client->unstructured)\n",
            "  Downloading ordered_set-4.1.0-py3-none-any.whl (7.6 kB)\n",
            "Collecting sgmllib3k (from feedparser>=5.2.1->newspaper3k<0.3.0,>=0.2.8->llama-index-readers-web)\n",
            "  Downloading sgmllib3k-1.0.0.tar.gz (5.8 kB)\n",
            "  Preparing metadata (setup.py) ... \u001b[?25l\u001b[?25hdone\n",
            "Requirement already satisfied: anyio in /usr/local/lib/python3.10/dist-packages (from httpx->llama-index-core==0.10.55->llama-index) (3.7.1)\n",
            "Collecting httpcore==1.* (from httpx->llama-index-core==0.10.55->llama-index)\n",
            "  Downloading httpcore-1.0.5-py3-none-any.whl (77 kB)\n",
            "\u001b[2K     \u001b[90m━━━━━━━━━━━━━━━━━━━━━━━━━━━━━━━━━━━━━━━━\u001b[0m \u001b[32m77.9/77.9 kB\u001b[0m \u001b[31m14.3 MB/s\u001b[0m eta \u001b[36m0:00:00\u001b[0m\n",
            "\u001b[?25hRequirement already satisfied: sniffio in /usr/local/lib/python3.10/dist-packages (from httpx->llama-index-core==0.10.55->llama-index) (1.3.1)\n",
            "Collecting h11<0.15,>=0.13 (from httpcore==1.*->httpx->llama-index-core==0.10.55->llama-index)\n",
            "  Downloading h11-0.14.0-py3-none-any.whl (58 kB)\n",
            "\u001b[2K     \u001b[90m━━━━━━━━━━━━━━━━━━━━━━━━━━━━━━━━━━━━━━━━\u001b[0m \u001b[32m58.3/58.3 kB\u001b[0m \u001b[31m10.1 MB/s\u001b[0m eta \u001b[36m0:00:00\u001b[0m\n",
            "\u001b[?25hRequirement already satisfied: pydantic>=1.10 in /usr/local/lib/python3.10/dist-packages (from llama-cloud>=0.0.9->llama-index-indices-managed-llama-cloud>=0.2.0->llama-index) (2.8.2)\n",
            "Requirement already satisfied: distro<2,>=1.7.0 in /usr/lib/python3/dist-packages (from openai>=1.1.0->llama-index-core==0.10.55->llama-index) (1.7.0)\n",
            "Collecting requests-file>=1.4 (from tldextract>=2.0.1->newspaper3k<0.3.0,>=0.2.8->llama-index-readers-web)\n",
            "  Downloading requests_file-2.1.0-py2.py3-none-any.whl (4.2 kB)\n",
            "Requirement already satisfied: sortedcontainers in /usr/local/lib/python3.10/dist-packages (from trio~=0.17->selenium<5.0.0,>=4.17.2->llama-index-readers-web) (2.4.0)\n",
            "Collecting outcome (from trio~=0.17->selenium<5.0.0,>=4.17.2->llama-index-readers-web)\n",
            "  Downloading outcome-1.3.0.post0-py2.py3-none-any.whl (10 kB)\n",
            "Requirement already satisfied: exceptiongroup in /usr/local/lib/python3.10/dist-packages (from trio~=0.17->selenium<5.0.0,>=4.17.2->llama-index-readers-web) (1.2.2)\n",
            "Collecting wsproto>=0.14 (from trio-websocket~=0.9->selenium<5.0.0,>=4.17.2->llama-index-readers-web)\n",
            "  Downloading wsproto-1.2.0-py3-none-any.whl (24 kB)\n",
            "Requirement already satisfied: pysocks!=1.5.7,<2.0,>=1.5.6 in /usr/local/lib/python3.10/dist-packages (from urllib3>=1.1.0->llama-index-readers-web) (1.7.1)\n",
            "Requirement already satisfied: MarkupSafe>=2.0 in /usr/local/lib/python3.10/dist-packages (from jinja2->torch>=1.11.0->sentence-transformers) (2.1.5)\n",
            "Requirement already satisfied: mpmath<1.4,>=1.1.0 in /usr/local/lib/python3.10/dist-packages (from sympy->torch>=1.11.0->sentence-transformers) (1.3.0)\n",
            "Requirement already satisfied: annotated-types>=0.4.0 in /usr/local/lib/python3.10/dist-packages (from pydantic>=1.10->llama-cloud>=0.0.9->llama-index-indices-managed-llama-cloud>=0.2.0->llama-index) (0.7.0)\n",
            "Requirement already satisfied: pydantic-core==2.20.1 in /usr/local/lib/python3.10/dist-packages (from pydantic>=1.10->llama-cloud>=0.0.9->llama-index-indices-managed-llama-cloud>=0.2.0->llama-index) (2.20.1)\n",
            "Building wheels for collected packages: docx2txt, html2text, tinysegmenter, spider-client, langdetect, feedfinder2, jieba3k, sgmllib3k\n",
            "  Building wheel for docx2txt (setup.py) ... \u001b[?25l\u001b[?25hdone\n",
            "  Created wheel for docx2txt: filename=docx2txt-0.8-py3-none-any.whl size=3960 sha256=d8a3154d5c5cbb20292717cf8214471b8dd28ca862fb76a1b9f885c5a14173be\n",
            "  Stored in directory: /root/.cache/pip/wheels/22/58/cf/093d0a6c3ecfdfc5f6ddd5524043b88e59a9a199cb02352966\n",
            "  Building wheel for html2text (setup.py) ... \u001b[?25l\u001b[?25hdone\n",
            "  Created wheel for html2text: filename=html2text-2024.2.26-py3-none-any.whl size=33111 sha256=40322b2ee88a86e911c9644a34e80ea2a924907b9bd32dab0a809f1a606441ab\n",
            "  Stored in directory: /root/.cache/pip/wheels/f3/96/6d/a7eba8f80d31cbd188a2787b81514d82fc5ae6943c44777659\n",
            "  Building wheel for tinysegmenter (setup.py) ... \u001b[?25l\u001b[?25hdone\n",
            "  Created wheel for tinysegmenter: filename=tinysegmenter-0.3-py3-none-any.whl size=13538 sha256=e18379813449cba5b930aef220bbf56ba086701ee05170faeb56a3593cead402\n",
            "  Stored in directory: /root/.cache/pip/wheels/c8/d6/6c/384f58df48c00b9a31d638005143b5b3ac62c3d25fb1447f23\n",
            "  Building wheel for spider-client (setup.py) ... \u001b[?25l\u001b[?25hdone\n",
            "  Created wheel for spider-client: filename=spider_client-0.0.27-py3-none-any.whl size=5973 sha256=18f5f77993e41378cb29de23321702b81ea364725a119bfe692f1dc3393b2609\n",
            "  Stored in directory: /root/.cache/pip/wheels/8f/e0/39/c07e639cb4ea75f06d4574ec3052b64d66ae8cd355a9d3a570\n",
            "  Building wheel for langdetect (setup.py) ... \u001b[?25l\u001b[?25hdone\n",
            "  Created wheel for langdetect: filename=langdetect-1.0.9-py3-none-any.whl size=993227 sha256=134bfb0e9a7ece7561bbd98ef6499408110a210d4bbe9646c4cc778f515219f9\n",
            "  Stored in directory: /root/.cache/pip/wheels/95/03/7d/59ea870c70ce4e5a370638b5462a7711ab78fba2f655d05106\n",
            "  Building wheel for feedfinder2 (setup.py) ... \u001b[?25l\u001b[?25hdone\n",
            "  Created wheel for feedfinder2: filename=feedfinder2-0.0.4-py3-none-any.whl size=3340 sha256=3326b9035a7b07efe397e33cc1c055582b2344d83ad2b33f6bde6d92e23199e5\n",
            "  Stored in directory: /root/.cache/pip/wheels/97/02/e7/a1ff1760e12bdbaab0ac824fae5c1bc933e41c4ccd6a8f8edb\n",
            "  Building wheel for jieba3k (setup.py) ... \u001b[?25l\u001b[?25hdone\n",
            "  Created wheel for jieba3k: filename=jieba3k-0.35.1-py3-none-any.whl size=7398382 sha256=3a431ff2ec6a180c1aca0cb634521495ab06ab5390402b10c18cde2670ecdd31\n",
            "  Stored in directory: /root/.cache/pip/wheels/7a/c4/0c/12a9a314ecac499456c4c3b2fcc2f635a3b45a39dfbd240299\n",
            "  Building wheel for sgmllib3k (setup.py) ... \u001b[?25l\u001b[?25hdone\n",
            "  Created wheel for sgmllib3k: filename=sgmllib3k-1.0.0-py3-none-any.whl size=6049 sha256=fa273f5d602e7422d80d3a29f095433ae93189263641809155fad76388d76bfb\n",
            "  Stored in directory: /root/.cache/pip/wheels/f0/69/93/a47e9d621be168e9e33c7ce60524393c0b92ae83cf6c6e89c5\n",
            "Successfully built docx2txt html2text tinysegmenter spider-client langdetect feedfinder2 jieba3k sgmllib3k\n",
            "Installing collected packages: tinysegmenter, striprtf, sgmllib3k, jieba3k, filetype, docx2txt, dirtyjson, xxhash, requests, rapidfuzz, python-magic, python-iso639, python-docx, pytesseract, pypdf, pyee, pyarrow, pdf2image, outcome, ordered-set, nvidia-nvtx-cu12, nvidia-nvjitlink-cu12, nvidia-nccl-cu12, nvidia-curand-cu12, nvidia-cufft-cu12, nvidia-cuda-runtime-cu12, nvidia-cuda-nvrtc-cu12, nvidia-cuda-cupti-cu12, nvidia-cublas-cu12, mypy-extensions, minijinja, marshmallow, langdetect, jsonpath-python, html2text, h11, feedparser, emoji, einops, dill, deprecated, cssselect, chromedriver-autoinstaller, backoff, wsproto, typing-inspect, trio, tiktoken, spider-client, requests-toolbelt, requests-file, playwright, nvidia-cusparse-cu12, nvidia-cudnn-cu12, multiprocess, huggingface_hub, httpcore, feedfinder2, deepdiff, trio-websocket, tldextract, nvidia-cusolver-cu12, httpx, dataclasses-json, unstructured-client, selenium, openai, newspaper3k, llama-cloud, datasets, unstructured, sentence-transformers, llama-index-legacy, llama-index-core, llama-parse, llama-index-readers-web, llama-index-readers-file, llama-index-llms-openai, llama-index-llms-ollama, llama-index-indices-managed-llama-cloud, llama-index-embeddings-openai, llama-index-embeddings-huggingface, llama-index-readers-llama-parse, llama-index-multi-modal-llms-openai, llama-index-cli, llama-index-agent-openai, llama-index-program-openai, llama-index-question-gen-openai, llama-index\n",
            "  Attempting uninstall: requests\n",
            "    Found existing installation: requests 2.31.0\n",
            "    Uninstalling requests-2.31.0:\n",
            "      Successfully uninstalled requests-2.31.0\n",
            "  Attempting uninstall: pyarrow\n",
            "    Found existing installation: pyarrow 14.0.2\n",
            "    Uninstalling pyarrow-14.0.2:\n",
            "      Successfully uninstalled pyarrow-14.0.2\n",
            "  Attempting uninstall: huggingface_hub\n",
            "    Found existing installation: huggingface-hub 0.23.4\n",
            "    Uninstalling huggingface-hub-0.23.4:\n",
            "      Successfully uninstalled huggingface-hub-0.23.4\n",
            "\u001b[31mERROR: pip's dependency resolver does not currently take into account all the packages that are installed. This behaviour is the source of the following dependency conflicts.\n",
            "cudf-cu12 24.4.1 requires pyarrow<15.0.0a0,>=14.0.1, but you have pyarrow 17.0.0 which is incompatible.\n",
            "google-colab 1.0.0 requires requests==2.31.0, but you have requests 2.32.3 which is incompatible.\n",
            "ibis-framework 8.0.0 requires pyarrow<16,>=2, but you have pyarrow 17.0.0 which is incompatible.\u001b[0m\u001b[31m\n",
            "\u001b[0mSuccessfully installed backoff-2.2.1 chromedriver-autoinstaller-0.6.4 cssselect-1.2.0 dataclasses-json-0.6.7 datasets-2.20.0 deepdiff-7.0.1 deprecated-1.2.14 dill-0.3.8 dirtyjson-1.0.8 docx2txt-0.8 einops-0.8.0 emoji-2.12.1 feedfinder2-0.0.4 feedparser-6.0.11 filetype-1.2.0 h11-0.14.0 html2text-2024.2.26 httpcore-1.0.5 httpx-0.27.0 huggingface_hub-0.23.5 jieba3k-0.35.1 jsonpath-python-1.0.6 langdetect-1.0.9 llama-cloud-0.0.9 llama-index-0.10.55 llama-index-agent-openai-0.2.8 llama-index-cli-0.1.12 llama-index-core-0.10.55 llama-index-embeddings-huggingface-0.2.2 llama-index-embeddings-openai-0.1.10 llama-index-indices-managed-llama-cloud-0.2.5 llama-index-legacy-0.9.48 llama-index-llms-ollama-0.1.5 llama-index-llms-openai-0.1.25 llama-index-multi-modal-llms-openai-0.1.7 llama-index-program-openai-0.1.6 llama-index-question-gen-openai-0.1.3 llama-index-readers-file-0.1.30 llama-index-readers-llama-parse-0.1.6 llama-index-readers-web-0.1.23 llama-parse-0.4.9 marshmallow-3.21.3 minijinja-2.0.1 multiprocess-0.70.16 mypy-extensions-1.0.0 newspaper3k-0.2.8 nvidia-cublas-cu12-12.1.3.1 nvidia-cuda-cupti-cu12-12.1.105 nvidia-cuda-nvrtc-cu12-12.1.105 nvidia-cuda-runtime-cu12-12.1.105 nvidia-cudnn-cu12-8.9.2.26 nvidia-cufft-cu12-11.0.2.54 nvidia-curand-cu12-10.3.2.106 nvidia-cusolver-cu12-11.4.5.107 nvidia-cusparse-cu12-12.1.0.106 nvidia-nccl-cu12-2.20.5 nvidia-nvjitlink-cu12-12.5.82 nvidia-nvtx-cu12-12.1.105 openai-1.35.14 ordered-set-4.1.0 outcome-1.3.0.post0 pdf2image-1.17.0 playwright-1.45.0 pyarrow-17.0.0 pyee-11.1.0 pypdf-4.3.0 pytesseract-0.3.10 python-docx-1.1.2 python-iso639-2024.4.27 python-magic-0.4.27 rapidfuzz-3.9.4 requests-2.32.3 requests-file-2.1.0 requests-toolbelt-1.0.0 selenium-4.22.0 sentence-transformers-3.0.1 sgmllib3k-1.0.0 spider-client-0.0.27 striprtf-0.0.26 tiktoken-0.7.0 tinysegmenter-0.3 tldextract-5.1.2 trio-0.26.0 trio-websocket-0.11.1 typing-inspect-0.9.0 unstructured-0.14.10 unstructured-client-0.24.1 wsproto-1.2.0 xxhash-3.4.1\n"
          ]
        }
      ],
      "source": [
        "%pip install --upgrade pyarrow python-magic tabulate pdf2image pytesseract llama-index llama-index-readers-web llama-index-llms-ollama llama-index-embeddings-huggingface llama-index-readers-file unstructured einops datasets huggingface_hub sentence-transformers docx2txt python-docx\n"
      ]
    },
    {
      "cell_type": "code",
      "execution_count": 25,
      "metadata": {
        "colab": {
          "base_uri": "https://localhost:8080/"
        },
        "collapsed": true,
        "id": "ExAliULksHYZ",
        "outputId": "4569bfee-293e-46f5-e308-637ee4c1dace"
      },
      "outputs": [
        {
          "output_type": "stream",
          "name": "stdout",
          "text": [
            "  % Total    % Received % Xferd  Average Speed   Time    Time     Time  Current\n",
            "                                 Dload  Upload   Total   Spent    Left  Speed\n",
            "  0     0    0     0    0     0      0      0 --:--:-- --:--:-- --:--:--     0>>> Downloading ollama...\n",
            "100 10975    0 10975    0     0  32612      0 --:--:-- --:--:-- --:--:-- 32663\n",
            "############################################################################################# 100.0%\n",
            ">>> Installing ollama to /usr/local/bin...\n",
            ">>> Adding ollama user to video group...\n",
            ">>> Adding current user to ollama group...\n",
            ">>> Creating ollama systemd service...\n",
            "WARNING: Unable to detect NVIDIA/AMD GPU. Install lspci or lshw to automatically detect and install GPU dependencies.\n",
            ">>> The Ollama API is now available at 127.0.0.1:11434.\n",
            ">>> Install complete. Run \"ollama\" from the command line.\n"
          ]
        }
      ],
      "source": [
        "! curl https://ollama.ai/install.sh | sh"
      ]
    },
    {
      "cell_type": "code",
      "execution_count": 26,
      "metadata": {
        "id": "ASai0nensMLq"
      },
      "outputs": [],
      "source": [
        "import os\n",
        "import threading\n",
        "import subprocess\n",
        "import requests\n",
        "import json\n",
        "\n",
        "def ollama():\n",
        "    os.environ['OLLAMA_HOST'] = '0.0.0.0:11434'\n",
        "    os.environ['OLLAMA_ORIGINS'] = '*'\n",
        "    subprocess.Popen([\"ollama\", \"serve\"])\n"
      ]
    },
    {
      "cell_type": "code",
      "execution_count": 27,
      "metadata": {
        "id": "XFZMBrASsPSu"
      },
      "outputs": [],
      "source": [
        "ollama_thread = threading.Thread(target=ollama)\n",
        "ollama_thread.start()"
      ]
    },
    {
      "cell_type": "code",
      "execution_count": 28,
      "metadata": {
        "colab": {
          "base_uri": "https://localhost:8080/"
        },
        "collapsed": true,
        "id": "HBRZksxXsRyg",
        "outputId": "017179e1-9ad5-458e-ef84-94a8d53ee23e"
      },
      "outputs": [
        {
          "output_type": "stream",
          "name": "stdout",
          "text": [
            "\u001b[?25lpulling manifest ⠋ \u001b[?25h\u001b[?25l\u001b[2K\u001b[1Gpulling manifest ⠙ \u001b[?25h\u001b[?25l\u001b[2K\u001b[1Gpulling manifest ⠹ \u001b[?25h\u001b[?25l\u001b[2K\u001b[1Gpulling manifest ⠸ \u001b[?25h\u001b[?25l\u001b[2K\u001b[1Gpulling manifest ⠼ \u001b[?25h\u001b[?25l\u001b[2K\u001b[1Gpulling manifest ⠴ \u001b[?25h\u001b[?25l\u001b[2K\u001b[1Gpulling manifest \n",
            "pulling 6a0746a1ec1a... 100% ▕▏ 4.7 GB                         \n",
            "pulling 4fa551d4f938... 100% ▕▏  12 KB                         \n",
            "pulling 8ab4849b038c... 100% ▕▏  254 B                         \n",
            "pulling 577073ffcc6c... 100% ▕▏  110 B                         \n",
            "pulling 3f8eb4da87fa... 100% ▕▏  485 B                         \n",
            "verifying sha256 digest \n",
            "writing manifest \n",
            "removing any unused layers \n",
            "success \u001b[?25h\n"
          ]
        }
      ],
      "source": [
        "!ollama pull llama3"
      ]
    },
    {
      "cell_type": "code",
      "execution_count": 29,
      "metadata": {
        "colab": {
          "base_uri": "https://localhost:8080/"
        },
        "id": "CD1htcsFsX8U",
        "outputId": "06fae3ae-b520-4c7d-e08b-b7efa286e82d"
      },
      "outputs": [
        {
          "output_type": "stream",
          "name": "stdout",
          "text": [
            "NAME         \tID          \tSIZE  \tMODIFIED      \n",
            "llama3:latest\t365c0bd3c000\t4.7 GB\t3 seconds ago\t\n"
          ]
        }
      ],
      "source": [
        "!ollama list"
      ]
    },
    {
      "cell_type": "markdown",
      "metadata": {
        "id": "1znBCON_sYw5"
      },
      "source": [
        "# Libraries"
      ]
    },
    {
      "cell_type": "code",
      "execution_count": 9,
      "metadata": {
        "colab": {
          "base_uri": "https://localhost:8080/"
        },
        "collapsed": true,
        "id": "9aqSioe8pNAm",
        "outputId": "9e787de3-a87b-4257-9580-49d9efe026e4"
      },
      "outputs": [
        {
          "output_type": "stream",
          "name": "stdout",
          "text": [
            "Requirement already satisfied: pyarrow in /usr/local/lib/python3.10/dist-packages (17.0.0)\n",
            "Requirement already satisfied: llama_index in /usr/local/lib/python3.10/dist-packages (0.10.55)\n",
            "Requirement already satisfied: transformers in /usr/local/lib/python3.10/dist-packages (4.42.4)\n",
            "Requirement already satisfied: numpy>=1.16.6 in /usr/local/lib/python3.10/dist-packages (from pyarrow) (1.25.2)\n",
            "Requirement already satisfied: llama-index-agent-openai<0.3.0,>=0.1.4 in /usr/local/lib/python3.10/dist-packages (from llama_index) (0.2.8)\n",
            "Requirement already satisfied: llama-index-cli<0.2.0,>=0.1.2 in /usr/local/lib/python3.10/dist-packages (from llama_index) (0.1.12)\n",
            "Requirement already satisfied: llama-index-core==0.10.55 in /usr/local/lib/python3.10/dist-packages (from llama_index) (0.10.55)\n",
            "Requirement already satisfied: llama-index-embeddings-openai<0.2.0,>=0.1.5 in /usr/local/lib/python3.10/dist-packages (from llama_index) (0.1.10)\n",
            "Requirement already satisfied: llama-index-indices-managed-llama-cloud>=0.2.0 in /usr/local/lib/python3.10/dist-packages (from llama_index) (0.2.5)\n",
            "Requirement already satisfied: llama-index-legacy<0.10.0,>=0.9.48 in /usr/local/lib/python3.10/dist-packages (from llama_index) (0.9.48)\n",
            "Requirement already satisfied: llama-index-llms-openai<0.2.0,>=0.1.13 in /usr/local/lib/python3.10/dist-packages (from llama_index) (0.1.25)\n",
            "Requirement already satisfied: llama-index-multi-modal-llms-openai<0.2.0,>=0.1.3 in /usr/local/lib/python3.10/dist-packages (from llama_index) (0.1.7)\n",
            "Requirement already satisfied: llama-index-program-openai<0.2.0,>=0.1.3 in /usr/local/lib/python3.10/dist-packages (from llama_index) (0.1.6)\n",
            "Requirement already satisfied: llama-index-question-gen-openai<0.2.0,>=0.1.2 in /usr/local/lib/python3.10/dist-packages (from llama_index) (0.1.3)\n",
            "Requirement already satisfied: llama-index-readers-file<0.2.0,>=0.1.4 in /usr/local/lib/python3.10/dist-packages (from llama_index) (0.1.30)\n",
            "Requirement already satisfied: llama-index-readers-llama-parse>=0.1.2 in /usr/local/lib/python3.10/dist-packages (from llama_index) (0.1.6)\n",
            "Requirement already satisfied: PyYAML>=6.0.1 in /usr/local/lib/python3.10/dist-packages (from llama-index-core==0.10.55->llama_index) (6.0.1)\n",
            "Requirement already satisfied: SQLAlchemy[asyncio]>=1.4.49 in /usr/local/lib/python3.10/dist-packages (from llama-index-core==0.10.55->llama_index) (2.0.31)\n",
            "Requirement already satisfied: aiohttp<4.0.0,>=3.8.6 in /usr/local/lib/python3.10/dist-packages (from llama-index-core==0.10.55->llama_index) (3.9.5)\n",
            "Requirement already satisfied: dataclasses-json in /usr/local/lib/python3.10/dist-packages (from llama-index-core==0.10.55->llama_index) (0.6.7)\n",
            "Requirement already satisfied: deprecated>=1.2.9.3 in /usr/local/lib/python3.10/dist-packages (from llama-index-core==0.10.55->llama_index) (1.2.14)\n",
            "Requirement already satisfied: dirtyjson<2.0.0,>=1.0.8 in /usr/local/lib/python3.10/dist-packages (from llama-index-core==0.10.55->llama_index) (1.0.8)\n",
            "Requirement already satisfied: fsspec>=2023.5.0 in /usr/local/lib/python3.10/dist-packages (from llama-index-core==0.10.55->llama_index) (2023.6.0)\n",
            "Requirement already satisfied: httpx in /usr/local/lib/python3.10/dist-packages (from llama-index-core==0.10.55->llama_index) (0.27.0)\n",
            "Requirement already satisfied: nest-asyncio<2.0.0,>=1.5.8 in /usr/local/lib/python3.10/dist-packages (from llama-index-core==0.10.55->llama_index) (1.6.0)\n",
            "Requirement already satisfied: networkx>=3.0 in /usr/local/lib/python3.10/dist-packages (from llama-index-core==0.10.55->llama_index) (3.3)\n",
            "Requirement already satisfied: nltk<4.0.0,>=3.8.1 in /usr/local/lib/python3.10/dist-packages (from llama-index-core==0.10.55->llama_index) (3.8.1)\n",
            "Requirement already satisfied: openai>=1.1.0 in /usr/local/lib/python3.10/dist-packages (from llama-index-core==0.10.55->llama_index) (1.35.14)\n",
            "Requirement already satisfied: pandas in /usr/local/lib/python3.10/dist-packages (from llama-index-core==0.10.55->llama_index) (2.0.3)\n",
            "Requirement already satisfied: pillow>=9.0.0 in /usr/local/lib/python3.10/dist-packages (from llama-index-core==0.10.55->llama_index) (9.4.0)\n",
            "Requirement already satisfied: requests>=2.31.0 in /usr/local/lib/python3.10/dist-packages (from llama-index-core==0.10.55->llama_index) (2.32.3)\n",
            "Requirement already satisfied: tenacity!=8.4.0,<9.0.0,>=8.2.0 in /usr/local/lib/python3.10/dist-packages (from llama-index-core==0.10.55->llama_index) (8.5.0)\n",
            "Requirement already satisfied: tiktoken>=0.3.3 in /usr/local/lib/python3.10/dist-packages (from llama-index-core==0.10.55->llama_index) (0.7.0)\n",
            "Requirement already satisfied: tqdm<5.0.0,>=4.66.1 in /usr/local/lib/python3.10/dist-packages (from llama-index-core==0.10.55->llama_index) (4.66.4)\n",
            "Requirement already satisfied: typing-extensions>=4.5.0 in /usr/local/lib/python3.10/dist-packages (from llama-index-core==0.10.55->llama_index) (4.12.2)\n",
            "Requirement already satisfied: typing-inspect>=0.8.0 in /usr/local/lib/python3.10/dist-packages (from llama-index-core==0.10.55->llama_index) (0.9.0)\n",
            "Requirement already satisfied: wrapt in /usr/local/lib/python3.10/dist-packages (from llama-index-core==0.10.55->llama_index) (1.14.1)\n",
            "Requirement already satisfied: filelock in /usr/local/lib/python3.10/dist-packages (from transformers) (3.15.4)\n",
            "Requirement already satisfied: huggingface-hub<1.0,>=0.23.2 in /usr/local/lib/python3.10/dist-packages (from transformers) (0.23.5)\n",
            "Requirement already satisfied: packaging>=20.0 in /usr/local/lib/python3.10/dist-packages (from transformers) (24.1)\n",
            "Requirement already satisfied: regex!=2019.12.17 in /usr/local/lib/python3.10/dist-packages (from transformers) (2024.5.15)\n",
            "Requirement already satisfied: safetensors>=0.4.1 in /usr/local/lib/python3.10/dist-packages (from transformers) (0.4.3)\n",
            "Requirement already satisfied: tokenizers<0.20,>=0.19 in /usr/local/lib/python3.10/dist-packages (from transformers) (0.19.1)\n",
            "Requirement already satisfied: llama-cloud>=0.0.9 in /usr/local/lib/python3.10/dist-packages (from llama-index-indices-managed-llama-cloud>=0.2.0->llama_index) (0.0.9)\n",
            "Requirement already satisfied: beautifulsoup4<5.0.0,>=4.12.3 in /usr/local/lib/python3.10/dist-packages (from llama-index-readers-file<0.2.0,>=0.1.4->llama_index) (4.12.3)\n",
            "Requirement already satisfied: pypdf<5.0.0,>=4.0.1 in /usr/local/lib/python3.10/dist-packages (from llama-index-readers-file<0.2.0,>=0.1.4->llama_index) (4.3.0)\n",
            "Requirement already satisfied: striprtf<0.0.27,>=0.0.26 in /usr/local/lib/python3.10/dist-packages (from llama-index-readers-file<0.2.0,>=0.1.4->llama_index) (0.0.26)\n",
            "Requirement already satisfied: llama-parse>=0.4.0 in /usr/local/lib/python3.10/dist-packages (from llama-index-readers-llama-parse>=0.1.2->llama_index) (0.4.9)\n",
            "Requirement already satisfied: charset-normalizer<4,>=2 in /usr/local/lib/python3.10/dist-packages (from requests>=2.31.0->llama-index-core==0.10.55->llama_index) (3.3.2)\n",
            "Requirement already satisfied: idna<4,>=2.5 in /usr/local/lib/python3.10/dist-packages (from requests>=2.31.0->llama-index-core==0.10.55->llama_index) (3.7)\n",
            "Requirement already satisfied: urllib3<3,>=1.21.1 in /usr/local/lib/python3.10/dist-packages (from requests>=2.31.0->llama-index-core==0.10.55->llama_index) (2.0.7)\n",
            "Requirement already satisfied: certifi>=2017.4.17 in /usr/local/lib/python3.10/dist-packages (from requests>=2.31.0->llama-index-core==0.10.55->llama_index) (2024.7.4)\n",
            "Requirement already satisfied: aiosignal>=1.1.2 in /usr/local/lib/python3.10/dist-packages (from aiohttp<4.0.0,>=3.8.6->llama-index-core==0.10.55->llama_index) (1.3.1)\n",
            "Requirement already satisfied: attrs>=17.3.0 in /usr/local/lib/python3.10/dist-packages (from aiohttp<4.0.0,>=3.8.6->llama-index-core==0.10.55->llama_index) (23.2.0)\n",
            "Requirement already satisfied: frozenlist>=1.1.1 in /usr/local/lib/python3.10/dist-packages (from aiohttp<4.0.0,>=3.8.6->llama-index-core==0.10.55->llama_index) (1.4.1)\n",
            "Requirement already satisfied: multidict<7.0,>=4.5 in /usr/local/lib/python3.10/dist-packages (from aiohttp<4.0.0,>=3.8.6->llama-index-core==0.10.55->llama_index) (6.0.5)\n",
            "Requirement already satisfied: yarl<2.0,>=1.0 in /usr/local/lib/python3.10/dist-packages (from aiohttp<4.0.0,>=3.8.6->llama-index-core==0.10.55->llama_index) (1.9.4)\n",
            "Requirement already satisfied: async-timeout<5.0,>=4.0 in /usr/local/lib/python3.10/dist-packages (from aiohttp<4.0.0,>=3.8.6->llama-index-core==0.10.55->llama_index) (4.0.3)\n",
            "Requirement already satisfied: soupsieve>1.2 in /usr/local/lib/python3.10/dist-packages (from beautifulsoup4<5.0.0,>=4.12.3->llama-index-readers-file<0.2.0,>=0.1.4->llama_index) (2.5)\n",
            "Requirement already satisfied: pydantic>=1.10 in /usr/local/lib/python3.10/dist-packages (from llama-cloud>=0.0.9->llama-index-indices-managed-llama-cloud>=0.2.0->llama_index) (2.8.2)\n",
            "Requirement already satisfied: anyio in /usr/local/lib/python3.10/dist-packages (from httpx->llama-index-core==0.10.55->llama_index) (3.7.1)\n",
            "Requirement already satisfied: httpcore==1.* in /usr/local/lib/python3.10/dist-packages (from httpx->llama-index-core==0.10.55->llama_index) (1.0.5)\n",
            "Requirement already satisfied: sniffio in /usr/local/lib/python3.10/dist-packages (from httpx->llama-index-core==0.10.55->llama_index) (1.3.1)\n",
            "Requirement already satisfied: h11<0.15,>=0.13 in /usr/local/lib/python3.10/dist-packages (from httpcore==1.*->httpx->llama-index-core==0.10.55->llama_index) (0.14.0)\n",
            "Requirement already satisfied: click in /usr/local/lib/python3.10/dist-packages (from nltk<4.0.0,>=3.8.1->llama-index-core==0.10.55->llama_index) (8.1.7)\n",
            "Requirement already satisfied: joblib in /usr/local/lib/python3.10/dist-packages (from nltk<4.0.0,>=3.8.1->llama-index-core==0.10.55->llama_index) (1.4.2)\n",
            "Requirement already satisfied: distro<2,>=1.7.0 in /usr/lib/python3/dist-packages (from openai>=1.1.0->llama-index-core==0.10.55->llama_index) (1.7.0)\n",
            "Requirement already satisfied: greenlet!=0.4.17 in /usr/local/lib/python3.10/dist-packages (from SQLAlchemy[asyncio]>=1.4.49->llama-index-core==0.10.55->llama_index) (3.0.3)\n",
            "Requirement already satisfied: mypy-extensions>=0.3.0 in /usr/local/lib/python3.10/dist-packages (from typing-inspect>=0.8.0->llama-index-core==0.10.55->llama_index) (1.0.0)\n",
            "Requirement already satisfied: marshmallow<4.0.0,>=3.18.0 in /usr/local/lib/python3.10/dist-packages (from dataclasses-json->llama-index-core==0.10.55->llama_index) (3.21.3)\n",
            "Requirement already satisfied: python-dateutil>=2.8.2 in /usr/local/lib/python3.10/dist-packages (from pandas->llama-index-core==0.10.55->llama_index) (2.8.2)\n",
            "Requirement already satisfied: pytz>=2020.1 in /usr/local/lib/python3.10/dist-packages (from pandas->llama-index-core==0.10.55->llama_index) (2023.4)\n",
            "Requirement already satisfied: tzdata>=2022.1 in /usr/local/lib/python3.10/dist-packages (from pandas->llama-index-core==0.10.55->llama_index) (2024.1)\n",
            "Requirement already satisfied: exceptiongroup in /usr/local/lib/python3.10/dist-packages (from anyio->httpx->llama-index-core==0.10.55->llama_index) (1.2.2)\n",
            "Requirement already satisfied: annotated-types>=0.4.0 in /usr/local/lib/python3.10/dist-packages (from pydantic>=1.10->llama-cloud>=0.0.9->llama-index-indices-managed-llama-cloud>=0.2.0->llama_index) (0.7.0)\n",
            "Requirement already satisfied: pydantic-core==2.20.1 in /usr/local/lib/python3.10/dist-packages (from pydantic>=1.10->llama-cloud>=0.0.9->llama-index-indices-managed-llama-cloud>=0.2.0->llama_index) (2.20.1)\n",
            "Requirement already satisfied: six>=1.5 in /usr/local/lib/python3.10/dist-packages (from python-dateutil>=2.8.2->pandas->llama-index-core==0.10.55->llama_index) (1.16.0)\n"
          ]
        }
      ],
      "source": [
        "!pip install --upgrade pyarrow llama_index transformers\n"
      ]
    },
    {
      "cell_type": "code",
      "execution_count": 10,
      "metadata": {
        "id": "vvNZMvC6sagg"
      },
      "outputs": [],
      "source": [
        "from llama_index.core import SimpleDirectoryReader\n",
        "from llama_index.core import VectorStoreIndex\n",
        "from llama_index.llms.ollama import Ollama\n",
        "from llama_index.embeddings.huggingface import HuggingFaceEmbedding\n",
        "from llama_index.core import Settings\n",
        "from llama_index.core import get_response_synthesizer\n",
        "from llama_index.core import DocumentSummaryIndex\n",
        "from llama_index.core.node_parser import SentenceSplitter\n",
        "from llama_index.readers.web import SimpleWebPageReader\n",
        "from llama_index.readers.file import (\n",
        "    DocxReader,\n",
        "    HWPReader,\n",
        "    PDFReader,\n",
        "    EpubReader,\n",
        "    FlatReader,\n",
        "    HTMLTagReader,\n",
        "    ImageCaptionReader,\n",
        "    ImageReader,\n",
        "    ImageVisionLLMReader,\n",
        "    IPYNBReader,\n",
        "    MarkdownReader,\n",
        "    MboxReader,\n",
        "    PptxReader,\n",
        "    PandasCSVReader,\n",
        "    VideoAudioReader,\n",
        "    UnstructuredReader,\n",
        "    PyMuPDFReader,\n",
        "    ImageTabularChartReader,\n",
        "    XMLReader,\n",
        "    PagedCSVReader,\n",
        "    CSVReader,\n",
        "    RTFReader,\n",
        ")\n",
        "from llama_index.core import (\n",
        "    load_index_from_storage,\n",
        "    StorageContext,\n",
        ")\n"
      ]
    },
    {
      "cell_type": "code",
      "source": [
        "import zipfile\n",
        "import os\n",
        "\n",
        "# Path to the zip file in your Google Drive\n",
        "zip_file_path = '/content/dggi (2).zip'\n",
        "\n",
        "# Directory where you want to extract the zip file\n",
        "extract_dir = '/content/dggi_folder'\n",
        "\n",
        "# Create the directory if it doesn't exist\n",
        "os.makedirs(extract_dir, exist_ok=True)\n",
        "\n",
        "# Extract the zip file\n",
        "with zipfile.ZipFile(zip_file_path, 'r') as zip_ref:\n",
        "    zip_ref.extractall(extract_dir)\n",
        "\n",
        "print(f'Files extracted to {extract_dir}')\n"
      ],
      "metadata": {
        "colab": {
          "base_uri": "https://localhost:8080/"
        },
        "id": "XWR_7AONWt5L",
        "outputId": "b9cef2cd-1f4a-4455-b894-b871e7353ea5"
      },
      "execution_count": 11,
      "outputs": [
        {
          "output_type": "stream",
          "name": "stdout",
          "text": [
            "Files extracted to /content/dggi_folder\n"
          ]
        }
      ]
    },
    {
      "cell_type": "markdown",
      "metadata": {
        "id": "Wb1HMZ2ZonWW"
      },
      "source": [
        "# If want to download the model locally"
      ]
    },
    {
      "cell_type": "code",
      "execution_count": null,
      "metadata": {
        "colab": {
          "base_uri": "https://localhost:8080/"
        },
        "collapsed": true,
        "id": "HoXZsMP-7zfJ",
        "outputId": "e545da0b-b644-4ee2-ebf2-53471c400602"
      },
      "outputs": [
        {
          "name": "stdout",
          "output_type": "stream",
          "text": [
            "Fetching 17 files:   0% 0/17 [00:00<?, ?it/s]Downloading 'README.md' to 'Meta-Llama-3-8B/.huggingface/download/README.md.53e7e6ec18e5d060bc5690314c0e04f2df3326bf.incomplete'\n",
            "Downloading 'model-00002-of-00004.safetensors' to 'Meta-Llama-3-8B/.huggingface/download/model-00002-of-00004.safetensors.d9eee5f23d94405d90b7e9ff88b9443fee42f8528a658f54214c2aba7530d80c.incomplete'\n",
            "Downloading 'model-00001-of-00004.safetensors' to 'Meta-Llama-3-8B/.huggingface/download/model-00001-of-00004.safetensors.f2c144103072514542e327fa8080bd375cb300f2d453fba9ca3aea81d0d4cf33.incomplete'\n",
            "Downloading 'USE_POLICY.md' to 'Meta-Llama-3-8B/.huggingface/download/USE_POLICY.md.6f8e5f6e3243c92046a133c92eb62b1ed7975a0b.incomplete'\n",
            "Downloading 'generation_config.json' to 'Meta-Llama-3-8B/.huggingface/download/generation_config.json.22550a806e8cfce3b346a520348e14b765287805.incomplete'\n",
            "Downloading 'LICENSE' to 'Meta-Llama-3-8B/.huggingface/download/LICENSE.4c763399690c7fec642231350756e4ee9184b5ce.incomplete'\n",
            "Downloading 'config.json' to 'Meta-Llama-3-8B/.huggingface/download/config.json.7784fbf6342de338b736f884a49b08f270c5e9c8.incomplete'\n",
            "\n",
            "README.md: 100% 36.5k/36.5k [00:00<00:00, 5.15MB/s]\n",
            "Download complete. Moving file to Meta-Llama-3-8B/README.md\n",
            "\n",
            "USE_POLICY.md: 100% 4.70k/4.70k [00:00<00:00, 18.1MB/s]\n",
            "Download complete. Moving file to Meta-Llama-3-8B/USE_POLICY.md\n",
            "\n",
            "LICENSE: 100% 7.80k/7.80k [00:00<00:00, 34.2MB/s]\n",
            "Download complete. Moving file to Meta-Llama-3-8B/LICENSE\n",
            "\n",
            "config.json: 100% 654/654 [00:00<00:00, 5.30MB/s]\n",
            "Download complete. Moving file to Meta-Llama-3-8B/config.json\n",
            "Downloading 'model-00003-of-00004.safetensors' to 'Meta-Llama-3-8B/.huggingface/download/model-00003-of-00004.safetensors.4b8fbc5e113f69768dd8de84661ea20af8a32b734a9976144b4236c447b40ccc.incomplete'\n",
            "\n",
            "model-00002-of-00004.safetensors:   0% 0.00/5.00G [00:00<?, ?B/s]\u001b[A\n",
            "\n",
            "model-00001-of-00004.safetensors:   0% 0.00/4.98G [00:00<?, ?B/s]\u001b[A\u001b[A\n",
            "\n",
            "\n",
            "generation_config.json: 100% 177/177 [00:00<00:00, 1.23MB/s]\n",
            "Download complete. Moving file to Meta-Llama-3-8B/generation_config.json\n",
            "Downloading 'model-00004-of-00004.safetensors' to 'Meta-Llama-3-8B/.huggingface/download/model-00004-of-00004.safetensors.5dc34e6bdf2da9e35f0d93b5c333c870f3677dc43dc3a91ea3a8ad28a1fe1acb.incomplete'\n",
            "Downloading 'model.safetensors.index.json' to 'Meta-Llama-3-8B/.huggingface/download/model.safetensors.index.json.0fd8120f1c6acddc268ebc2583058efaf699a771.incomplete'\n",
            "Downloading 'original/consolidated.00.pth' to 'Meta-Llama-3-8B/.huggingface/download/original/consolidated.00.pth.66c4ca005b0ad6215f23591aefff712c08e87235457063ad387865ff6cc18f79.incomplete'\n",
            "Downloading '.gitattributes' to 'Meta-Llama-3-8B/.huggingface/download/.gitattributes.a6344aac8c09253b3b630fb776ae94478aa0275b.incomplete'\n",
            "Downloading 'original/params.json' to 'Meta-Llama-3-8B/.huggingface/download/original/params.json.65f16bb074ab2ba456331a8ea3d50c3fdbf343bf.incomplete'\n",
            "\n",
            "\n",
            "\n",
            "model-00003-of-00004.safetensors:   0% 0.00/4.92G [00:00<?, ?B/s]\u001b[A\u001b[A\u001b[A\n",
            "\n",
            "\n",
            "\n",
            "model.safetensors.index.json: 100% 23.9k/23.9k [00:00<00:00, 60.7MB/s]\n",
            "Download complete. Moving file to Meta-Llama-3-8B/model.safetensors.index.json\n",
            "\n",
            "\n",
            "model-00001-of-00004.safetensors:   0% 10.5M/4.98G [00:00<01:02, 79.0MB/s]\u001b[A\u001b[A\n",
            "\n",
            "\n",
            "\n",
            ".gitattributes: 100% 1.52k/1.52k [00:00<00:00, 8.18MB/s]\n",
            "Download complete. Moving file to Meta-Llama-3-8B/.gitattributes\n",
            "Fetching 17 files:   6% 1/17 [00:00<00:12,  1.29it/s]\n",
            "model-00002-of-00004.safetensors:   0% 10.5M/5.00G [00:00<01:23, 59.8MB/s]\u001b[A\n",
            "\n",
            "\n",
            "\n",
            "original/params.json: 100% 211/211 [00:00<00:00, 1.24MB/s]\n",
            "Download complete. Moving file to Meta-Llama-3-8B/original/params.json\n",
            "Downloading 'special_tokens_map.json' to 'Meta-Llama-3-8B/.huggingface/download/special_tokens_map.json.d8cd5076496dbe4be2320312abc10adc43097b81.incomplete'\n",
            "Downloading 'original/tokenizer.model' to 'Meta-Llama-3-8B/.huggingface/download/original/tokenizer.model.82e9d31979e92ab929cd544440f129d9ecd797b69e327f80f17e1c50d5551b55.incomplete'\n",
            "\n",
            "\n",
            "\n",
            "model-00003-of-00004.safetensors:   0% 10.5M/4.92G [00:00<01:13, 66.7MB/s]\u001b[A\u001b[A\u001b[A\n",
            "\n",
            "model-00001-of-00004.safetensors:   0% 21.0M/4.98G [00:00<01:07, 73.5MB/s]\u001b[A\u001b[A\n",
            "model-00002-of-00004.safetensors:   0% 21.0M/5.00G [00:00<01:15, 65.8MB/s]\u001b[A\n",
            "\n",
            "\n",
            "\n",
            "model-00004-of-00004.safetensors:   0% 0.00/1.17G [00:00<?, ?B/s]\u001b[A\u001b[A\u001b[A\u001b[ADownloading 'tokenizer.json' to 'Meta-Llama-3-8B/.huggingface/download/tokenizer.json.b197f72effb9d5ed16ee0f5663e11e4cfac2ba62.incomplete'\n",
            "\n",
            "\n",
            "\n",
            "\n",
            "\n",
            "consolidated.00.pth:   0% 0.00/16.1G [00:00<?, ?B/s]\u001b[A\u001b[A\u001b[A\u001b[A\u001b[A\n",
            "\n",
            "\n",
            "model-00003-of-00004.safetensors:   0% 21.0M/4.92G [00:00<01:03, 76.6MB/s]\u001b[A\u001b[A\u001b[A\n",
            "\n",
            "model-00001-of-00004.safetensors:   1% 31.5M/4.98G [00:00<01:06, 74.5MB/s]\u001b[A\u001b[A\n",
            "\n",
            "\n",
            "\n",
            "\n",
            "\n",
            "tokenizer.json:   0% 0.00/9.09M [00:00<?, ?B/s]\u001b[A\u001b[A\u001b[A\u001b[A\u001b[A\u001b[A\n",
            "\n",
            "\n",
            "\n",
            "\n",
            "\n",
            "\n",
            "special_tokens_map.json: 100% 73.0/73.0 [00:00<00:00, 369kB/s]\n",
            "Download complete. Moving file to Meta-Llama-3-8B/special_tokens_map.json\n",
            "\n",
            "\n",
            "\n",
            "\n",
            "model-00004-of-00004.safetensors:   1% 10.5M/1.17G [00:00<00:19, 60.9MB/s]\u001b[A\u001b[A\u001b[A\u001b[A\n",
            "\n",
            "\n",
            "model-00003-of-00004.safetensors:   1% 31.5M/4.92G [00:00<01:00, 80.4MB/s]\u001b[A\u001b[A\u001b[A\n",
            "\n",
            "\n",
            "\n",
            "\n",
            "consolidated.00.pth:   0% 10.5M/16.1G [00:00<04:32, 58.9MB/s]\u001b[A\u001b[A\u001b[A\u001b[A\u001b[A\n",
            "model-00002-of-00004.safetensors:   1% 41.9M/5.00G [00:00<01:01, 80.7MB/s]\u001b[A\n",
            "\n",
            "\n",
            "\n",
            "\n",
            "\n",
            "\n",
            "tokenizer.model:   0% 0.00/2.18M [00:00<?, ?B/s]\u001b[A\u001b[A\u001b[A\u001b[A\u001b[A\u001b[A\u001b[A\n",
            "\n",
            "model-00001-of-00004.safetensors:   1% 41.9M/4.98G [00:00<01:04, 76.3MB/s]\u001b[A\u001b[ADownloading 'tokenizer_config.json' to 'Meta-Llama-3-8B/.huggingface/download/tokenizer_config.json.72193e9eb5cb6126087980deffb4930ec27a72a9.incomplete'\n",
            "\n",
            "\n",
            "\n",
            "model-00003-of-00004.safetensors:   1% 41.9M/4.92G [00:00<00:56, 86.4MB/s]\u001b[A\u001b[A\u001b[A\n",
            "model-00002-of-00004.safetensors:   1% 52.4M/5.00G [00:00<01:04, 77.0MB/s]\u001b[A\n",
            "\n",
            "\n",
            "\n",
            "\n",
            "\n",
            "\n",
            "\n",
            "tokenizer_config.json: 100% 50.6k/50.6k [00:00<00:00, 86.5MB/s]\n",
            "Download complete. Moving file to Meta-Llama-3-8B/tokenizer_config.json\n",
            "\n",
            "\n",
            "\n",
            "\n",
            "\n",
            "consolidated.00.pth:   0% 21.0M/16.1G [00:00<04:38, 57.6MB/s]\u001b[A\u001b[A\u001b[A\u001b[A\u001b[A\n",
            "\n",
            "\n",
            "\n",
            "model-00004-of-00004.safetensors:   2% 21.0M/1.17G [00:00<00:24, 46.5MB/s]\u001b[A\u001b[A\u001b[A\u001b[A\n",
            "\n",
            "model-00001-of-00004.safetensors:   1% 52.4M/4.98G [00:00<01:20, 61.1MB/s]\u001b[A\u001b[A\n",
            "\n",
            "\n",
            "\n",
            "\n",
            "\n",
            "\n",
            "tokenizer.model: 100% 2.18M/2.18M [00:00<00:00, 8.79MB/s]\n",
            "Download complete. Moving file to Meta-Llama-3-8B/original/tokenizer.model\n",
            "Fetching 17 files:  35% 6/17 [00:01<00:02,  4.22it/s]\n",
            "^C\n"
          ]
        }
      ],
      "source": [
        "# !huggingface-cli download meta-llama/Meta-Llama-3-8B --include \"original/*\" --local-dir Meta-Llama-3-8B\n",
        "!huggingface-cli download meta-llama/Meta-Llama-3-8B --local-dir Meta-Llama-3-8B\n"
      ]
    },
    {
      "cell_type": "code",
      "execution_count": null,
      "metadata": {
        "colab": {
          "base_uri": "https://localhost:8080/",
          "height": 260,
          "referenced_widgets": [
            "6b250f5b7b274f4e80792ff5e0f32ae2"
          ]
        },
        "collapsed": true,
        "id": "jGJaN2NiqUzI",
        "outputId": "70005f0d-825f-4258-e1e3-23659b11fe93"
      },
      "outputs": [
        {
          "name": "stderr",
          "output_type": "stream",
          "text": [
            "/usr/local/lib/python3.10/dist-packages/sentence_transformers/SentenceTransformer.py:99: FutureWarning: The `use_auth_token` argument is deprecated and will be removed in v3 of SentenceTransformers.\n",
            "  warnings.warn(\n",
            "/usr/local/lib/python3.10/dist-packages/huggingface_hub/utils/_token.py:89: UserWarning: \n",
            "The secret `HF_TOKEN` does not exist in your Colab secrets.\n",
            "To authenticate with the Hugging Face Hub, create a token in your settings tab (https://huggingface.co/settings/tokens), set it as secret in your Google Colab and restart your session.\n",
            "You will be able to reuse this secret in all of your notebooks.\n",
            "Please note that authentication is recommended but still optional to access public models or datasets.\n",
            "  warnings.warn(\n",
            "WARNING:sentence_transformers.SentenceTransformer:No sentence-transformers model found with name nvidia/NV-Embed-v1. Creating a new one with MEAN pooling.\n",
            "/usr/local/lib/python3.10/dist-packages/huggingface_hub/file_download.py:1132: FutureWarning: `resume_download` is deprecated and will be removed in version 1.0.0. Downloads always resume when possible. If you want to force a new download, use `force_download=True`.\n",
            "  warnings.warn(\n"
          ]
        },
        {
          "data": {
            "application/vnd.jupyter.widget-view+json": {
              "model_id": "6b250f5b7b274f4e80792ff5e0f32ae2",
              "version_major": 2,
              "version_minor": 0
            },
            "text/plain": [
              "Loading checkpoint shards:   0%|          | 0/4 [00:00<?, ?it/s]"
            ]
          },
          "metadata": {},
          "output_type": "display_data"
        }
      ],
      "source": [
        "Settings.embed_model = HuggingFaceEmbedding(model_name=\"nvidia/NV-Embed-v1\", trust_remote_code=True, use_auth_token=True)"
      ]
    },
    {
      "cell_type": "code",
      "execution_count": null,
      "metadata": {
        "colab": {
          "base_uri": "https://localhost:8080/",
          "height": 49,
          "referenced_widgets": [
            "ebbcae28a8654b058c38578b93025930"
          ]
        },
        "collapsed": true,
        "id": "Oz5LsknDBzF_",
        "outputId": "59796bdf-26a7-4039-ba40-d7ca936c5f82"
      },
      "outputs": [
        {
          "data": {
            "application/vnd.jupyter.widget-view+json": {
              "model_id": "ebbcae28a8654b058c38578b93025930",
              "version_major": 2,
              "version_minor": 0
            },
            "text/plain": [
              "Loading checkpoint shards:   0%|          | 0/4 [00:00<?, ?it/s]"
            ]
          },
          "metadata": {},
          "output_type": "display_data"
        }
      ],
      "source": [
        "from transformers import LlamaForCausalLM, LlamaTokenizer\n",
        "\n",
        "model = LlamaForCausalLM.from_pretrained(\"/content/Meta-Llama-3-8B(1)\")\n",
        "tokenizer = LlamaTokenizer.from_pretrained(\"/content/Meta-Llama-3-8B(1)\")\n"
      ]
    },
    {
      "cell_type": "markdown",
      "metadata": {
        "id": "jmhEyzBIwVhV"
      },
      "source": [
        "# Data loading and storing indexes"
      ]
    },
    {
      "cell_type": "markdown",
      "metadata": {
        "id": "pw60ZcrWhN7o"
      },
      "source": [
        "# Combined Index"
      ]
    },
    {
      "cell_type": "code",
      "source": [
        "from llama_index.core import VectorStoreIndex, SummaryIndex\n",
        "from llama_index.readers.web import SimpleWebPageReader\n",
        "import os\n",
        "from llama_index.core import (\n",
        "    load_index_from_storage,\n",
        "    StorageContext,\n",
        ")\n",
        "\n",
        "# Set up the language model and embedding\n",
        "Settings.llm = Ollama(model=\"llama3\", temperature=0, request_timeout=500.0)\n",
        "Settings.embed_model = HuggingFaceEmbedding(model_name=\"Alibaba-NLP/gte-large-en-v1.5\", trust_remote_code=True)\n",
        "# Settings.embed_model = HuggingFaceEmbedding(model_name=\"l3cube-pune/marathi-sentence-bert-nli\", trust_remote_code=True)\n",
        "\n",
        "# Readers for different file types\n",
        "docx_parser = DocxReader()\n",
        "csv_parser = PandasCSVReader()\n",
        "pdf_parser = PDFReader()\n",
        "\n",
        "file_extractor = {\n",
        "    \".docx\": docx_parser,\n",
        "    \".csv\": csv_parser,\n",
        "    \".pdf\": pdf_parser\n",
        "}\n",
        "\n",
        "def load_documents_from_directory(parent_dir, file_extractor):\n",
        "    documents = []\n",
        "    for root, dirs, files in os.walk(parent_dir):\n",
        "        for file in files:\n",
        "            file_path = os.path.join(root, file)\n",
        "            _, ext = os.path.splitext(file_path)\n",
        "            print(f\"Found file: {file_path}\")  # Print statement for each file found\n",
        "            if ext.lower() in file_extractor:\n",
        "                parser = file_extractor[ext.lower()]\n",
        "                try:\n",
        "                    if ext.lower() == \".csv\":\n",
        "                        docs = SimpleDirectoryReader(\n",
        "                            root, file_extractor={ext.lower(): parser}\n",
        "                        ).load_data()\n",
        "                    elif ext.lower() == \".pdf\":\n",
        "                        docs = SimpleDirectoryReader(\n",
        "                            root, file_extractor={ext.lower(): parser}\n",
        "                        ).load_data()\n",
        "                    else:\n",
        "                        docs = parser.read(file_path)\n",
        "                    documents.extend(docs)\n",
        "                    print(f\"Successfully read {len(docs)} documents from {file_path}\")\n",
        "                except Exception as e:\n",
        "                    print(f\"Error reading {file_path}: {e}\")\n",
        "            else:\n",
        "                print(f\"Skipped file: {file_path}\")\n",
        "    return documents\n",
        "\n",
        "# Define parent directory\n",
        "parent_dir = \"./dggi_folder\"\n",
        "\n",
        "# Load documents from the parent directory\n",
        "all_documents = load_documents_from_directory(parent_dir, file_extractor)\n",
        "\n",
        "# Now you can proceed with combining or processing the documents as needed\n",
        "print(f\"Total documents loaded: {len(all_documents)}\")\n"
      ],
      "metadata": {
        "colab": {
          "base_uri": "https://localhost:8080/"
        },
        "id": "OFqsjs-HZO0V",
        "outputId": "fb271b14-7485-48ff-b879-8e9a14fbc083",
        "collapsed": true
      },
      "execution_count": 19,
      "outputs": [
        {
          "output_type": "stream",
          "name": "stdout",
          "text": [
            "Found file: ./dggi_folder/dggi/Ranking and scores of all 36 districts.csv\n",
            "Successfully read 1 documents from ./dggi_folder/dggi/Ranking and scores of all 36 districts.csv\n",
            "Found file: ./dggi_folder/dggi/sector wise aspirant districts/Aspirant Districts in Social Development.csv\n",
            "Successfully read 10 documents from ./dggi_folder/dggi/sector wise aspirant districts/Aspirant Districts in Social Development.csv\n",
            "Found file: ./dggi_folder/dggi/sector wise aspirant districts/Aspirant Districts in Commerce and Industry.csv\n",
            "Successfully read 10 documents from ./dggi_folder/dggi/sector wise aspirant districts/Aspirant Districts in Commerce and Industry.csv\n",
            "Found file: ./dggi_folder/dggi/sector wise aspirant districts/Aspirant Districts in Economic Governance and Financial Inclusion.csv\n",
            "Successfully read 10 documents from ./dggi_folder/dggi/sector wise aspirant districts/Aspirant Districts in Economic Governance and Financial Inclusion.csv\n",
            "Found file: ./dggi_folder/dggi/sector wise aspirant districts/Aspirant Districts in Public Health.csv\n",
            "Successfully read 10 documents from ./dggi_folder/dggi/sector wise aspirant districts/Aspirant Districts in Public Health.csv\n",
            "Found file: ./dggi_folder/dggi/sector wise aspirant districts/Aspirant Districts in Human Resource Development.csv\n",
            "Successfully read 10 documents from ./dggi_folder/dggi/sector wise aspirant districts/Aspirant Districts in Human Resource Development.csv\n",
            "Found file: ./dggi_folder/dggi/sector wise aspirant districts/Aspirant Districts in Agriculture & Allied Sector.csv\n",
            "Successfully read 10 documents from ./dggi_folder/dggi/sector wise aspirant districts/Aspirant Districts in Agriculture & Allied Sector.csv\n",
            "Found file: ./dggi_folder/dggi/sector wise aspirant districts/Aspirant Districts in Judiciary and Public Safety.csv\n",
            "Successfully read 10 documents from ./dggi_folder/dggi/sector wise aspirant districts/Aspirant Districts in Judiciary and Public Safety.csv\n",
            "Found file: ./dggi_folder/dggi/sector wise aspirant districts/Aspirant Districts in Citizen Centric Governance.csv\n",
            "Successfully read 10 documents from ./dggi_folder/dggi/sector wise aspirant districts/Aspirant Districts in Citizen Centric Governance.csv\n",
            "Found file: ./dggi_folder/dggi/sector wise aspirant districts/Aspirant Districts in Environment.csv\n",
            "Successfully read 10 documents from ./dggi_folder/dggi/sector wise aspirant districts/Aspirant Districts in Environment.csv\n",
            "Found file: ./dggi_folder/dggi/sector wise aspirant districts/Aspirant Districts in Public Infrastructure and Utilities.csv\n",
            "Successfully read 10 documents from ./dggi_folder/dggi/sector wise aspirant districts/Aspirant Districts in Public Infrastructure and Utilities.csv\n",
            "Found file: ./dggi_folder/dggi/overall performance/Aspirant Districts.csv\n",
            "Successfully read 3 documents from ./dggi_folder/dggi/overall performance/Aspirant Districts.csv\n",
            "Found file: ./dggi_folder/dggi/overall performance/Achiever Districts.csv\n",
            "Successfully read 3 documents from ./dggi_folder/dggi/overall performance/Achiever Districts.csv\n",
            "Found file: ./dggi_folder/dggi/overall performance/Performer Districts.csv\n",
            "Successfully read 3 documents from ./dggi_folder/dggi/overall performance/Performer Districts.csv\n",
            "Found file: ./dggi_folder/dggi/indicator ranking/Indicator score of Public Health sector.csv\n",
            "Successfully read 8 documents from ./dggi_folder/dggi/indicator ranking/Indicator score of Public Health sector.csv\n",
            "Found file: ./dggi_folder/dggi/indicator ranking/indicator score of Human Resource Development sector.csv\n",
            "Successfully read 8 documents from ./dggi_folder/dggi/indicator ranking/indicator score of Human Resource Development sector.csv\n",
            "Found file: ./dggi_folder/dggi/indicator ranking/Indicator score of Judiciary & Public Safety sector.csv\n",
            "Successfully read 8 documents from ./dggi_folder/dggi/indicator ranking/Indicator score of Judiciary & Public Safety sector.csv\n",
            "Found file: ./dggi_folder/dggi/indicator ranking/Indicator score of Environment sector.csv\n",
            "Successfully read 8 documents from ./dggi_folder/dggi/indicator ranking/Indicator score of Environment sector.csv\n",
            "Found file: ./dggi_folder/dggi/indicator ranking/Indicator score of Social development sector.csv\n",
            "Successfully read 8 documents from ./dggi_folder/dggi/indicator ranking/Indicator score of Social development sector.csv\n",
            "Found file: ./dggi_folder/dggi/indicator ranking/Indicator score of Public Infrastructure & Utilities sector.csv\n",
            "Successfully read 8 documents from ./dggi_folder/dggi/indicator ranking/Indicator score of Public Infrastructure & Utilities sector.csv\n",
            "Found file: ./dggi_folder/dggi/indicator ranking/indicator score of Agriculture & Allied Sector.csv\n",
            "Successfully read 8 documents from ./dggi_folder/dggi/indicator ranking/indicator score of Agriculture & Allied Sector.csv\n",
            "Found file: ./dggi_folder/dggi/indicator ranking/Indicator score of Economic Governance and Financial Inclusion sector.csv\n",
            "Successfully read 8 documents from ./dggi_folder/dggi/indicator ranking/Indicator score of Economic Governance and Financial Inclusion sector.csv\n",
            "Found file: ./dggi_folder/dggi/sector ranking/sector ranking of Social Development.csv\n",
            "Successfully read 10 documents from ./dggi_folder/dggi/sector ranking/sector ranking of Social Development.csv\n",
            "Found file: ./dggi_folder/dggi/sector ranking/sector ranking of Environment.csv\n",
            "Successfully read 10 documents from ./dggi_folder/dggi/sector ranking/sector ranking of Environment.csv\n",
            "Found file: ./dggi_folder/dggi/sector ranking/sector ranking of Commerce and Industry.csv\n",
            "Successfully read 10 documents from ./dggi_folder/dggi/sector ranking/sector ranking of Commerce and Industry.csv\n",
            "Found file: ./dggi_folder/dggi/sector ranking/sector ranking of Public Health.csv\n",
            "Successfully read 10 documents from ./dggi_folder/dggi/sector ranking/sector ranking of Public Health.csv\n",
            "Found file: ./dggi_folder/dggi/sector ranking/sector ranking of Agriculture & Allied Sector.csv\n",
            "Successfully read 10 documents from ./dggi_folder/dggi/sector ranking/sector ranking of Agriculture & Allied Sector.csv\n",
            "Found file: ./dggi_folder/dggi/sector ranking/sector ranking of Human Resource Development.csv\n",
            "Successfully read 10 documents from ./dggi_folder/dggi/sector ranking/sector ranking of Human Resource Development.csv\n",
            "Found file: ./dggi_folder/dggi/sector ranking/sector ranking of Judiciary and Public Safety.csv\n",
            "Successfully read 10 documents from ./dggi_folder/dggi/sector ranking/sector ranking of Judiciary and Public Safety.csv\n",
            "Found file: ./dggi_folder/dggi/sector ranking/sector ranking of Economic Governance and Financial Inclusion.csv\n",
            "Successfully read 10 documents from ./dggi_folder/dggi/sector ranking/sector ranking of Economic Governance and Financial Inclusion.csv\n",
            "Found file: ./dggi_folder/dggi/sector ranking/sector ranking of Public Infrastructure and Utilities.csv\n",
            "Successfully read 10 documents from ./dggi_folder/dggi/sector ranking/sector ranking of Public Infrastructure and Utilities.csv\n",
            "Found file: ./dggi_folder/dggi/sector ranking/sector ranking of Citizen Centric Governance.csv\n",
            "Successfully read 10 documents from ./dggi_folder/dggi/sector ranking/sector ranking of Citizen Centric Governance.csv\n",
            "Found file: ./dggi_folder/dggi/sectors, indicators, weightage/indicator_weightage of Environment.csv\n",
            "Successfully read 10 documents from ./dggi_folder/dggi/sectors, indicators, weightage/indicator_weightage of Environment.csv\n",
            "Found file: ./dggi_folder/dggi/sectors, indicators, weightage/indicator_weightage of Human Resource Development.csv\n",
            "Successfully read 10 documents from ./dggi_folder/dggi/sectors, indicators, weightage/indicator_weightage of Human Resource Development.csv\n",
            "Found file: ./dggi_folder/dggi/sectors, indicators, weightage/indicator_weightage of Judiciary and Public Safety.csv\n",
            "Successfully read 10 documents from ./dggi_folder/dggi/sectors, indicators, weightage/indicator_weightage of Judiciary and Public Safety.csv\n",
            "Found file: ./dggi_folder/dggi/sectors, indicators, weightage/indicator_weightage of Public Infrastructure and Utilities.csv\n",
            "Successfully read 10 documents from ./dggi_folder/dggi/sectors, indicators, weightage/indicator_weightage of Public Infrastructure and Utilities.csv\n",
            "Found file: ./dggi_folder/dggi/sectors, indicators, weightage/indicator_weightage of Agriculture & Allied Sector.csv\n",
            "Successfully read 10 documents from ./dggi_folder/dggi/sectors, indicators, weightage/indicator_weightage of Agriculture & Allied Sector.csv\n",
            "Found file: ./dggi_folder/dggi/sectors, indicators, weightage/indicator_weightage of Commerce and Industry.csv\n",
            "Successfully read 10 documents from ./dggi_folder/dggi/sectors, indicators, weightage/indicator_weightage of Commerce and Industry.csv\n",
            "Found file: ./dggi_folder/dggi/sectors, indicators, weightage/indicator_weightage of Citizen Centric Governance.csv\n",
            "Successfully read 10 documents from ./dggi_folder/dggi/sectors, indicators, weightage/indicator_weightage of Citizen Centric Governance.csv\n",
            "Found file: ./dggi_folder/dggi/sectors, indicators, weightage/indicator_weightage of Public Health.csv\n",
            "Successfully read 10 documents from ./dggi_folder/dggi/sectors, indicators, weightage/indicator_weightage of Public Health.csv\n",
            "Found file: ./dggi_folder/dggi/sectors, indicators, weightage/indicator_weightage of Economic Governance and Financial Inclusion.csv\n",
            "Successfully read 10 documents from ./dggi_folder/dggi/sectors, indicators, weightage/indicator_weightage of Economic Governance and Financial Inclusion.csv\n",
            "Found file: ./dggi_folder/dggi/sectors, indicators, weightage/indicator_weightage of Social Development.csv\n",
            "Successfully read 10 documents from ./dggi_folder/dggi/sectors, indicators, weightage/indicator_weightage of Social Development.csv\n",
            "Found file: ./dggi_folder/dggi/pdf/Overview.pdf\n",
            "Successfully read 10 documents from ./dggi_folder/dggi/pdf/Overview.pdf\n",
            "Found file: ./dggi_folder/dggi/pdf/Terms and conditions.pdf\n",
            "Successfully read 10 documents from ./dggi_folder/dggi/pdf/Terms and conditions.pdf\n",
            "Found file: ./dggi_folder/dggi/pdf/Disclaimer.pdf\n",
            "Successfully read 10 documents from ./dggi_folder/dggi/pdf/Disclaimer.pdf\n",
            "Found file: ./dggi_folder/dggi/pdf/Contact Us Details.pdf\n",
            "Successfully read 10 documents from ./dggi_folder/dggi/pdf/Contact Us Details.pdf\n",
            "Found file: ./dggi_folder/dggi/pdf/Website Policies.pdf\n",
            "Successfully read 10 documents from ./dggi_folder/dggi/pdf/Website Policies.pdf\n",
            "Found file: ./dggi_folder/dggi/pdf/Web Information Manager.pdf\n",
            "Successfully read 10 documents from ./dggi_folder/dggi/pdf/Web Information Manager.pdf\n",
            "Found file: ./dggi_folder/dggi/pdf/Methodology for Computation of Ranks.pdf\n",
            "Successfully read 10 documents from ./dggi_folder/dggi/pdf/Methodology for Computation of Ranks.pdf\n",
            "Found file: ./dggi_folder/dggi/sector wise achiever districts/Achiever Districts in Social Development.csv\n",
            "Successfully read 10 documents from ./dggi_folder/dggi/sector wise achiever districts/Achiever Districts in Social Development.csv\n",
            "Found file: ./dggi_folder/dggi/sector wise achiever districts/Achiever Districts in Agriculture & Allied Sector.csv\n",
            "Successfully read 10 documents from ./dggi_folder/dggi/sector wise achiever districts/Achiever Districts in Agriculture & Allied Sector.csv\n",
            "Found file: ./dggi_folder/dggi/sector wise achiever districts/Achiever Districts in Human Resource Development.csv\n",
            "Successfully read 10 documents from ./dggi_folder/dggi/sector wise achiever districts/Achiever Districts in Human Resource Development.csv\n",
            "Found file: ./dggi_folder/dggi/sector wise achiever districts/Achiever Districts in Public Health.csv\n",
            "Successfully read 10 documents from ./dggi_folder/dggi/sector wise achiever districts/Achiever Districts in Public Health.csv\n",
            "Found file: ./dggi_folder/dggi/sector wise achiever districts/Achiever Districts in Economic Governance and Financial Inclusion.csv\n",
            "Successfully read 10 documents from ./dggi_folder/dggi/sector wise achiever districts/Achiever Districts in Economic Governance and Financial Inclusion.csv\n",
            "Found file: ./dggi_folder/dggi/sector wise achiever districts/Achiever Districts in Environment.csv\n",
            "Successfully read 10 documents from ./dggi_folder/dggi/sector wise achiever districts/Achiever Districts in Environment.csv\n",
            "Found file: ./dggi_folder/dggi/sector wise achiever districts/Achiever Districts in Commerce and Industry.csv\n",
            "Successfully read 10 documents from ./dggi_folder/dggi/sector wise achiever districts/Achiever Districts in Commerce and Industry.csv\n",
            "Found file: ./dggi_folder/dggi/sector wise achiever districts/Achiever Districts in Citizen Centric Governance.csv\n",
            "Successfully read 10 documents from ./dggi_folder/dggi/sector wise achiever districts/Achiever Districts in Citizen Centric Governance.csv\n",
            "Found file: ./dggi_folder/dggi/sector wise achiever districts/Achiever Districts in Judiciary and Public Safety.csv\n",
            "Successfully read 10 documents from ./dggi_folder/dggi/sector wise achiever districts/Achiever Districts in Judiciary and Public Safety.csv\n",
            "Found file: ./dggi_folder/dggi/sector wise achiever districts/Achiever Districts in Public Infrastructure and Utilities.csv\n",
            "Successfully read 10 documents from ./dggi_folder/dggi/sector wise achiever districts/Achiever Districts in Public Infrastructure and Utilities.csv\n",
            "Found file: ./dggi_folder/dggi/sector wise performer districts/Performer Districts in Public Health.csv\n",
            "Successfully read 10 documents from ./dggi_folder/dggi/sector wise performer districts/Performer Districts in Public Health.csv\n",
            "Found file: ./dggi_folder/dggi/sector wise performer districts/Performer Districts in Judiciary and Public Safety.csv\n",
            "Successfully read 10 documents from ./dggi_folder/dggi/sector wise performer districts/Performer Districts in Judiciary and Public Safety.csv\n",
            "Found file: ./dggi_folder/dggi/sector wise performer districts/Performer Districts in Citizen Centric Governance.csv\n",
            "Successfully read 10 documents from ./dggi_folder/dggi/sector wise performer districts/Performer Districts in Citizen Centric Governance.csv\n",
            "Found file: ./dggi_folder/dggi/sector wise performer districts/Performer Districts in Environment.csv\n",
            "Successfully read 10 documents from ./dggi_folder/dggi/sector wise performer districts/Performer Districts in Environment.csv\n",
            "Found file: ./dggi_folder/dggi/sector wise performer districts/Performer Districts in Social Development.csv\n",
            "Successfully read 10 documents from ./dggi_folder/dggi/sector wise performer districts/Performer Districts in Social Development.csv\n",
            "Found file: ./dggi_folder/dggi/sector wise performer districts/Performer Districts in Human Resource Development.csv\n",
            "Successfully read 10 documents from ./dggi_folder/dggi/sector wise performer districts/Performer Districts in Human Resource Development.csv\n",
            "Found file: ./dggi_folder/dggi/sector wise performer districts/Performer Districts in Agriculture & Allied Sector.csv\n",
            "Successfully read 10 documents from ./dggi_folder/dggi/sector wise performer districts/Performer Districts in Agriculture & Allied Sector.csv\n",
            "Found file: ./dggi_folder/dggi/sector wise performer districts/Performer Districts in Public Infrastructure and Utilities.csv\n",
            "Successfully read 10 documents from ./dggi_folder/dggi/sector wise performer districts/Performer Districts in Public Infrastructure and Utilities.csv\n",
            "Found file: ./dggi_folder/dggi/sector wise performer districts/Performer Districts in Commerce and Industry.csv\n",
            "Successfully read 10 documents from ./dggi_folder/dggi/sector wise performer districts/Performer Districts in Commerce and Industry.csv\n",
            "Found file: ./dggi_folder/dggi/sector wise performer districts/Performer Districts in Economic Governance and Financial Inclusion.csv\n",
            "Successfully read 10 documents from ./dggi_folder/dggi/sector wise performer districts/Performer Districts in Economic Governance and Financial Inclusion.csv\n",
            "Total documents loaded: 644\n"
          ]
        }
      ]
    },
    {
      "cell_type": "code",
      "source": [
        "# Create and save the Indexes for the loaded data\n",
        "index = VectorStoreIndex.from_documents(all_documents, llm=Settings.llm, embed_model=Settings.embed_model)\n",
        "\n",
        "# Save the combined index to disk\n",
        "index.set_index_id(\"vector_index\")\n",
        "index.storage_context.persist(\"./data_index_v2\")\n"
      ],
      "metadata": {
        "id": "jYjgj87rVC7O"
      },
      "execution_count": 21,
      "outputs": []
    },
    {
      "cell_type": "markdown",
      "metadata": {
        "id": "VK-slT2u5D0V"
      },
      "source": [
        "# Creating a zip of colab folder"
      ]
    },
    {
      "cell_type": "code",
      "execution_count": 35,
      "metadata": {
        "id": "HW0_pXeQSMYw"
      },
      "outputs": [],
      "source": [
        "import shutil\n",
        "import os\n",
        "import zipfile\n",
        "\n",
        "# Specify the parent folder path\n",
        "parent_folder = '/content/data_index_v2'\n",
        "\n",
        "# Create a zip file\n",
        "zip_file = zipfile.ZipFile('dggi_index.zip', 'w')\n",
        "\n",
        "# Iterate over the parent folder and its subfolders\n",
        "for root, dirs, files in os.walk(parent_folder):\n",
        "    for file in files:\n",
        "        file_path = os.path.join(root, file)\n",
        "        zip_file.write(file_path, os.path.relpath(file_path, parent_folder))\n",
        "\n",
        "zip_file.close()\n"
      ]
    },
    {
      "cell_type": "code",
      "execution_count": 37,
      "metadata": {
        "colab": {
          "base_uri": "https://localhost:8080/",
          "height": 17
        },
        "id": "JUwDsgCSSTKI",
        "outputId": "08e6f513-429b-4cbc-dde6-28240094b072"
      },
      "outputs": [
        {
          "output_type": "display_data",
          "data": {
            "text/plain": [
              "<IPython.core.display.Javascript object>"
            ],
            "application/javascript": [
              "\n",
              "    async function download(id, filename, size) {\n",
              "      if (!google.colab.kernel.accessAllowed) {\n",
              "        return;\n",
              "      }\n",
              "      const div = document.createElement('div');\n",
              "      const label = document.createElement('label');\n",
              "      label.textContent = `Downloading \"${filename}\": `;\n",
              "      div.appendChild(label);\n",
              "      const progress = document.createElement('progress');\n",
              "      progress.max = size;\n",
              "      div.appendChild(progress);\n",
              "      document.body.appendChild(div);\n",
              "\n",
              "      const buffers = [];\n",
              "      let downloaded = 0;\n",
              "\n",
              "      const channel = await google.colab.kernel.comms.open(id);\n",
              "      // Send a message to notify the kernel that we're ready.\n",
              "      channel.send({})\n",
              "\n",
              "      for await (const message of channel.messages) {\n",
              "        // Send a message to notify the kernel that we're ready.\n",
              "        channel.send({})\n",
              "        if (message.buffers) {\n",
              "          for (const buffer of message.buffers) {\n",
              "            buffers.push(buffer);\n",
              "            downloaded += buffer.byteLength;\n",
              "            progress.value = downloaded;\n",
              "          }\n",
              "        }\n",
              "      }\n",
              "      const blob = new Blob(buffers, {type: 'application/binary'});\n",
              "      const a = document.createElement('a');\n",
              "      a.href = window.URL.createObjectURL(blob);\n",
              "      a.download = filename;\n",
              "      div.appendChild(a);\n",
              "      a.click();\n",
              "      div.remove();\n",
              "    }\n",
              "  "
            ]
          },
          "metadata": {}
        },
        {
          "output_type": "display_data",
          "data": {
            "text/plain": [
              "<IPython.core.display.Javascript object>"
            ],
            "application/javascript": [
              "download(\"download_65384490-a1fe-48b2-8fc0-8ea251eff648\", \"dggi_index.zip\", 25176229)"
            ]
          },
          "metadata": {}
        }
      ],
      "source": [
        "from google.colab import files\n",
        "files.download(\"dggi_index.zip\")\n"
      ]
    },
    {
      "cell_type": "markdown",
      "metadata": {
        "id": "ZLbVmn0J3Ox3"
      },
      "source": [
        "# extracting folder paths"
      ]
    },
    {
      "cell_type": "code",
      "execution_count": null,
      "metadata": {
        "colab": {
          "base_uri": "https://localhost:8080/"
        },
        "id": "Qx97Ukmv3RT4",
        "outputId": "3a6c8c2e-e163-4212-838c-d838a0e80e1d"
      },
      "outputs": [
        {
          "name": "stdout",
          "output_type": "stream",
          "text": [
            "['/content/Index/Services_index', '/content/Index/rti_index', '/content/Index/webcast_index', '/content/Index/nicnet_index', '/content/Index/messaging_index', '/content/Index/help_index', '/content/Index/Home_index', '/content/Index/infrastructure_index', '/content/Index/website-policies_index', '/content/Index/profile_index', '/content/Index/domain_registration_index', '/content/Index/nkn_index', '/content/Index/web-information-manager_index', '/content/Index/government-local-area-networks-lans_index', '/content/Index/directory_index', '/content/Index/tabular_data_csv_index', '/content/Index/awards_index', '/content/Index/centralised-aadhaar-vault_index', '/content/Index/photo-gallery_index', '/content/Index/contact-us_index', '/content/Index/data-centre_index', '/content/Index/events_index', '/content/Index/remote-sensing-gis_index', '/content/Index/news-update_index', '/content/Index/video-conferencing_index', '/content/Index/security_index', '/content/Index/national-cloud_index', '/content/Index/video-gallery_index', '/content/Index/docs_index', '/content/Index/command-and-control-centre_index']\n",
            "30\n"
          ]
        }
      ],
      "source": [
        "import os\n",
        "\n",
        "# Specify the path to the parent directory\n",
        "parent_dir = '/content/Index'\n",
        "\n",
        "# Initialize an empty list to store the folder paths\n",
        "folder_paths = []\n",
        "\n",
        "# Iterate over the contents of the parent directory\n",
        "for item in os.listdir(parent_dir):\n",
        "    # Check if the item is a directory\n",
        "    if os.path.isdir(os.path.join(parent_dir, item)):\n",
        "        # Add the full path of the directory to the list\n",
        "        folder_paths.append(os.path.join(parent_dir, item))\n",
        "\n",
        "# Print the list of folder paths\n",
        "print(folder_paths)\n",
        "print(len(folder_paths))"
      ]
    },
    {
      "cell_type": "markdown",
      "metadata": {
        "id": "Dk5rq8kE0ajf"
      },
      "source": [
        "# Combining index"
      ]
    },
    {
      "cell_type": "code",
      "execution_count": null,
      "metadata": {
        "id": "5-n8L0020aLl"
      },
      "outputs": [],
      "source": [
        "import os\n",
        "import json\n",
        "\n",
        "# List of folders\n",
        "# folders = ['/content/Index/video-gallery_index', '/content/Index/remote-sensing-gis_index', '/content/Index/help_index', '/content/Index/events_index', '/content/Index/Services_index', '/content/Index/domain_registration_index', '/content/Index/data-centre_index', '/content/Index/messaging_index', '/content/Index/web-information-manager_index', '/content/Index/nicnet_index', '/content/Index/website-policies_index', '/content/Index/news-update_index', '/content/Index/government-local-area-networks-lans_index', '/content/Index/profile_index', '/content/Index/webcast_index', '/content/Index/rti_index', '/content/Index/nkn_index', '/content/Index/awards_index', '/content/Index/security_index', '/content/Index/photo-gallery_index', '/content/Index/centralised-aadhaar-vault_index', '/content/Index/Home_index', '/content/Index/contact-us_index', '/content/Index/infrastructure_index', '/content/Index/video-conferencing_index', '/content/Index/command-and-control-centre_index', '/content/Index/national-cloud_index', '/content/Index/directory_index', '/content/tabular_data_csv_index', '/content/text_Index']\n",
        "# folders = ['/content/Index/video-gallery_index', '/content/Index/remote-sensing-gis_index', '/content/Index/help_index', '/content/Index/events_index', '/content/Index/Services_index', '/content/Index/domain_registration_index', '/content/Index/data-centre_index', '/content/Index/messaging_index', '/content/Index/web-information-manager_index', '/content/Index/nicnet_index', '/content/Index/website-policies_index', '/content/Index/news-update_index', '/content/Index/government-local-area-networks-lans_index', '/content/Index/profile_index', '/content/Index/webcast_index', '/content/Index/rti_index', '/content/Index/nkn_index', '/content/Index/awards_index', '/content/Index/security_index', '/content/Index/photo-gallery_index', '/content/Index/centralised-aadhaar-vault_index', '/content/Index/Home_index', '/content/Index/contact-us_index', '/content/Index/infrastructure_index', '/content/Index/video-conferencing_index', '/content/Index/command-and-control-centre_index', '/content/Index/national-cloud_index', '/content/Index/directory_index', '/content/tabular_data_csv_index', '/content/Text_Index_v1/news_updates', '/content/Text_Index_v1/services', '/content/Text_Index_v1/districts', '/content/Text_Index_v1/events', '/content/Text_Index_v1/photo_gallery', '/content/Text_Index_v1/Nic']\n",
        "\n",
        "folders = ['/content/Index/Services_index', '/content/Index/rti_index', '/content/Index/webcast_index', '/content/Index/nicnet_index', '/content/Index/messaging_index', '/content/Index/help_index', '/content/Index/Home_index', '/content/Index/infrastructure_index', '/content/Index/website-policies_index', '/content/Index/profile_index', '/content/Index/domain_registration_index', '/content/Index/nkn_index', '/content/Index/web-information-manager_index', '/content/Index/government-local-area-networks-lans_index', '/content/Index/directory_index', '/content/Index/tabular_data_csv_index', '/content/Index/awards_index', '/content/Index/centralised-aadhaar-vault_index', '/content/Index/photo-gallery_index', '/content/Index/contact-us_index', '/content/Index/data-centre_index', '/content/Index/events_index', '/content/Index/remote-sensing-gis_index', '/content/Index/news-update_index', '/content/Index/video-conferencing_index', '/content/Index/security_index', '/content/Index/national-cloud_index', '/content/Index/video-gallery_index', '/content/Index/docs_index', '/content/Index/command-and-control-centre_index']\n",
        "\n",
        "\n",
        "# Initialize merged data\n",
        "merged_data = {\n",
        "    \"embedding_dict\": {},\n",
        "    \"text_id_to_ref_doc_id\": {},\n",
        "    \"metadata_dict\": {}\n",
        "}\n",
        "\n",
        "# Loop through each folder\n",
        "for folder in folders:\n",
        "    file_path = os.path.join(folder, 'default__vector_store.json')\n",
        "\n",
        "    # Load the contents of the JSON file\n",
        "    with open(file_path, 'r') as file:\n",
        "        data = json.load(file)\n",
        "\n",
        "    # Merge the embedding_dict\n",
        "    merged_data['embedding_dict'] = {**merged_data['embedding_dict'], **data['embedding_dict']}\n",
        "\n",
        "    # Merge the text_id_to_ref_doc_id\n",
        "    merged_data['text_id_to_ref_doc_id'] = {**merged_data['text_id_to_ref_doc_id'], **data['text_id_to_ref_doc_id']}\n",
        "\n",
        "    # Merge the metadata_dict\n",
        "    merged_data['metadata_dict'] = {**merged_data['metadata_dict'], **data['metadata_dict']}\n",
        "\n",
        "# Write the merged data to a new JSON file\n",
        "with open('/content/combined_index_v4/default__vector_store.json', 'w') as merged_file:\n",
        "    json.dump(merged_data, merged_file, indent=4)"
      ]
    },
    {
      "cell_type": "code",
      "execution_count": null,
      "metadata": {
        "id": "IZfDGR671Ldl"
      },
      "outputs": [],
      "source": [
        "import os\n",
        "import json\n",
        "\n",
        "# List of folders\n",
        "# folders = ['/content/Index/video-gallery_index', '/content/Index/remote-sensing-gis_index', '/content/Index/help_index', '/content/Index/events_index', '/content/Index/Services_index', '/content/Index/domain_registration_index', '/content/Index/data-centre_index', '/content/Index/messaging_index', '/content/Index/web-information-manager_index', '/content/Index/nicnet_index', '/content/Index/website-policies_index', '/content/Index/news-update_index', '/content/Index/government-local-area-networks-lans_index', '/content/Index/profile_index', '/content/Index/webcast_index', '/content/Index/rti_index', '/content/Index/nkn_index', '/content/Index/awards_index', '/content/Index/security_index', '/content/Index/photo-gallery_index', '/content/Index/centralised-aadhaar-vault_index', '/content/Index/Home_index', '/content/Index/contact-us_index', '/content/Index/infrastructure_index', '/content/Index/video-conferencing_index', '/content/Index/command-and-control-centre_index', '/content/Index/national-cloud_index', '/content/Index/directory_index', '/content/tabular_data_csv_index', '/content/text_Index']\n",
        "# folders = ['/content/Index/video-gallery_index', '/content/Index/remote-sensing-gis_index', '/content/Index/help_index', '/content/Index/events_index', '/content/Index/Services_index', '/content/Index/domain_registration_index', '/content/Index/data-centre_index', '/content/Index/messaging_index', '/content/Index/web-information-manager_index', '/content/Index/nicnet_index', '/content/Index/website-policies_index', '/content/Index/news-update_index', '/content/Index/government-local-area-networks-lans_index', '/content/Index/profile_index', '/content/Index/webcast_index', '/content/Index/rti_index', '/content/Index/nkn_index', '/content/Index/awards_index', '/content/Index/security_index', '/content/Index/photo-gallery_index', '/content/Index/centralised-aadhaar-vault_index', '/content/Index/Home_index', '/content/Index/contact-us_index', '/content/Index/infrastructure_index', '/content/Index/video-conferencing_index', '/content/Index/command-and-control-centre_index', '/content/Index/national-cloud_index', '/content/Index/directory_index', '/content/tabular_data_csv_index', '/content/Text_Index_v1/news_updates', '/content/Text_Index_v1/services', '/content/Text_Index_v1/districts', '/content/Text_Index_v1/events', '/content/Text_Index_v1/photo_gallery', '/content/Text_Index_v1/Nic']\n",
        "\n",
        "folders = ['/content/Index/Services_index', '/content/Index/rti_index', '/content/Index/webcast_index', '/content/Index/nicnet_index', '/content/Index/messaging_index', '/content/Index/help_index', '/content/Index/Home_index', '/content/Index/infrastructure_index', '/content/Index/website-policies_index', '/content/Index/profile_index', '/content/Index/domain_registration_index', '/content/Index/nkn_index', '/content/Index/web-information-manager_index', '/content/Index/government-local-area-networks-lans_index', '/content/Index/directory_index', '/content/Index/tabular_data_csv_index', '/content/Index/awards_index', '/content/Index/centralised-aadhaar-vault_index', '/content/Index/photo-gallery_index', '/content/Index/contact-us_index', '/content/Index/data-centre_index', '/content/Index/events_index', '/content/Index/remote-sensing-gis_index', '/content/Index/news-update_index', '/content/Index/video-conferencing_index', '/content/Index/security_index', '/content/Index/national-cloud_index', '/content/Index/video-gallery_index', '/content/Index/docs_index', '/content/Index/command-and-control-centre_index']\n",
        "\n",
        "\n",
        "# Initialize merged data\n",
        "merged_data = {\n",
        "    \"docstore/metadata\": {},\n",
        "    \"docstore/data\": {},\n",
        "    \"docstore/ref_doc_info\": {}\n",
        "}\n",
        "\n",
        "# Loop through each folder\n",
        "for folder in folders:\n",
        "    file_path = os.path.join(folder, 'docstore.json')\n",
        "\n",
        "    # Load the contents of the JSON file\n",
        "    with open(file_path, 'r') as file:\n",
        "        data = json.load(file)\n",
        "\n",
        "    # Merge the docstore/metadata\n",
        "    merged_data['docstore/metadata'] = {**merged_data['docstore/metadata'], **data['docstore/metadata']}\n",
        "\n",
        "    # Merge the docstore/data\n",
        "    merged_data['docstore/data'] = {**merged_data['docstore/data'], **data['docstore/data']}\n",
        "\n",
        "    # Merge the docstore/ref_doc_info\n",
        "    merged_data['docstore/ref_doc_info'] = {**merged_data['docstore/ref_doc_info'], **data['docstore/ref_doc_info']}\n",
        "\n",
        "# Create the merged JSON data\n",
        "merged_data_final = {\n",
        "    \"docstore/metadata\": merged_data['docstore/metadata'],\n",
        "    \"docstore/data\": merged_data['docstore/data'],\n",
        "    \"docstore/ref_doc_info\": merged_data['docstore/ref_doc_info']\n",
        "}\n",
        "\n",
        "# Write the merged data to a new JSON file\n",
        "with open('/content/combined_index_v4/docstore.json', 'w') as merged_file:\n",
        "    json.dump(merged_data_final, merged_file, indent=4)"
      ]
    },
    {
      "cell_type": "code",
      "execution_count": null,
      "metadata": {
        "id": "WADQ3qFy1Roh"
      },
      "outputs": [],
      "source": [
        "import os\n",
        "import json\n",
        "\n",
        "# List of folders\n",
        "# folders = ['/content/Index/video-gallery_index', '/content/Index/remote-sensing-gis_index', '/content/Index/help_index', '/content/Index/events_index', '/content/Index/Services_index', '/content/Index/domain_registration_index', '/content/Index/data-centre_index', '/content/Index/messaging_index', '/content/Index/web-information-manager_index', '/content/Index/nicnet_index', '/content/Index/website-policies_index', '/content/Index/news-update_index', '/content/Index/government-local-area-networks-lans_index', '/content/Index/profile_index', '/content/Index/webcast_index', '/content/Index/rti_index', '/content/Index/nkn_index', '/content/Index/awards_index', '/content/Index/security_index', '/content/Index/photo-gallery_index', '/content/Index/centralised-aadhaar-vault_index', '/content/Index/Home_index', '/content/Index/contact-us_index', '/content/Index/infrastructure_index', '/content/Index/video-conferencing_index', '/content/Index/command-and-control-centre_index', '/content/Index/national-cloud_index', '/content/Index/directory_index', '/content/tabular_data_csv_index', '/content/text_Index']\n",
        "# folders = ['/content/Index/video-gallery_index', '/content/Index/remote-sensing-gis_index', '/content/Index/help_index', '/content/Index/events_index', '/content/Index/Services_index', '/content/Index/domain_registration_index', '/content/Index/data-centre_index', '/content/Index/messaging_index', '/content/Index/web-information-manager_index', '/content/Index/nicnet_index', '/content/Index/website-policies_index', '/content/Index/news-update_index', '/content/Index/government-local-area-networks-lans_index', '/content/Index/profile_index', '/content/Index/webcast_index', '/content/Index/rti_index', '/content/Index/nkn_index', '/content/Index/awards_index', '/content/Index/security_index', '/content/Index/photo-gallery_index', '/content/Index/centralised-aadhaar-vault_index', '/content/Index/Home_index', '/content/Index/contact-us_index', '/content/Index/infrastructure_index', '/content/Index/video-conferencing_index', '/content/Index/command-and-control-centre_index', '/content/Index/national-cloud_index', '/content/Index/directory_index', '/content/tabular_data_csv_index', '/content/Text_Index_v1/news_updates', '/content/Text_Index_v1/services', '/content/Text_Index_v1/districts', '/content/Text_Index_v1/events', '/content/Text_Index_v1/photo_gallery', '/content/Text_Index_v1/Nic']\n",
        "\n",
        "folders = ['/content/Index/Services_index', '/content/Index/rti_index', '/content/Index/webcast_index', '/content/Index/nicnet_index', '/content/Index/messaging_index', '/content/Index/help_index', '/content/Index/Home_index', '/content/Index/infrastructure_index', '/content/Index/website-policies_index', '/content/Index/profile_index', '/content/Index/domain_registration_index', '/content/Index/nkn_index', '/content/Index/web-information-manager_index', '/content/Index/government-local-area-networks-lans_index', '/content/Index/directory_index', '/content/Index/tabular_data_csv_index', '/content/Index/awards_index', '/content/Index/centralised-aadhaar-vault_index', '/content/Index/photo-gallery_index', '/content/Index/contact-us_index', '/content/Index/data-centre_index', '/content/Index/events_index', '/content/Index/remote-sensing-gis_index', '/content/Index/news-update_index', '/content/Index/video-conferencing_index', '/content/Index/security_index', '/content/Index/national-cloud_index', '/content/Index/video-gallery_index', '/content/Index/docs_index', '/content/Index/command-and-control-centre_index']\n",
        "\n",
        "\n",
        "\n",
        "# Initialize merged data\n",
        "merged_data = {\n",
        "    \"graph_dict\": {}\n",
        "}\n",
        "\n",
        "# Loop through each folder\n",
        "for folder in folders:\n",
        "    file_path = os.path.join(folder, 'graph_store.json')\n",
        "\n",
        "    # Load the contents of the JSON file\n",
        "    with open(file_path, 'r') as file:\n",
        "        data = json.load(file)\n",
        "\n",
        "    # Merge the graph_dict\n",
        "    merged_data['graph_dict']= {**merged_data['graph_dict'],**data['graph_dict']}\n",
        "\n",
        "# Write the merged data to a new JSON file\n",
        "with open('/content/combined_index_v4/graph_store.json', 'w') as merged_file:\n",
        "    json.dump(merged_data, merged_file, indent=4)"
      ]
    },
    {
      "cell_type": "code",
      "execution_count": null,
      "metadata": {
        "id": "YjcM_VDK1V49"
      },
      "outputs": [],
      "source": [
        "import os\n",
        "import json\n",
        "\n",
        "# List of folders\n",
        "# folders = ['/content/Index/video-gallery_index', '/content/Index/remote-sensing-gis_index', '/content/Index/help_index', '/content/Index/events_index', '/content/Index/Services_index', '/content/Index/domain_registration_index', '/content/Index/data-centre_index', '/content/Index/messaging_index', '/content/Index/web-information-manager_index', '/content/Index/nicnet_index', '/content/Index/website-policies_index', '/content/Index/news-update_index', '/content/Index/government-local-area-networks-lans_index', '/content/Index/profile_index', '/content/Index/webcast_index', '/content/Index/rti_index', '/content/Index/nkn_index', '/content/Index/awards_index', '/content/Index/security_index', '/content/Index/photo-gallery_index', '/content/Index/centralised-aadhaar-vault_index', '/content/Index/Home_index', '/content/Index/contact-us_index', '/content/Index/infrastructure_index', '/content/Index/video-conferencing_index', '/content/Index/command-and-control-centre_index', '/content/Index/national-cloud_index', '/content/Index/directory_index', '/content/tabular_data_csv_index', '/content/text_Index']\n",
        "# folders = ['/content/Index/video-gallery_index', '/content/Index/remote-sensing-gis_index', '/content/Index/help_index', '/content/Index/events_index', '/content/Index/Services_index', '/content/Index/domain_registration_index', '/content/Index/data-centre_index', '/content/Index/messaging_index', '/content/Index/web-information-manager_index', '/content/Index/nicnet_index', '/content/Index/website-policies_index', '/content/Index/news-update_index', '/content/Index/government-local-area-networks-lans_index', '/content/Index/profile_index', '/content/Index/webcast_index', '/content/Index/rti_index', '/content/Index/nkn_index', '/content/Index/awards_index', '/content/Index/security_index', '/content/Index/photo-gallery_index', '/content/Index/centralised-aadhaar-vault_index', '/content/Index/Home_index', '/content/Index/contact-us_index', '/content/Index/infrastructure_index', '/content/Index/video-conferencing_index', '/content/Index/command-and-control-centre_index', '/content/Index/national-cloud_index', '/content/Index/directory_index', '/content/tabular_data_csv_index', '/content/Text_Index_v1/news_updates', '/content/Text_Index_v1/services', '/content/Text_Index_v1/districts', '/content/Text_Index_v1/events', '/content/Text_Index_v1/photo_gallery', '/content/Text_Index_v1/Nic']\n",
        "\n",
        "folders = ['/content/Index/Services_index', '/content/Index/rti_index', '/content/Index/webcast_index', '/content/Index/nicnet_index', '/content/Index/messaging_index', '/content/Index/help_index', '/content/Index/Home_index', '/content/Index/infrastructure_index', '/content/Index/website-policies_index', '/content/Index/profile_index', '/content/Index/domain_registration_index', '/content/Index/nkn_index', '/content/Index/web-information-manager_index', '/content/Index/government-local-area-networks-lans_index', '/content/Index/directory_index', '/content/Index/tabular_data_csv_index', '/content/Index/awards_index', '/content/Index/centralised-aadhaar-vault_index', '/content/Index/photo-gallery_index', '/content/Index/contact-us_index', '/content/Index/data-centre_index', '/content/Index/events_index', '/content/Index/remote-sensing-gis_index', '/content/Index/news-update_index', '/content/Index/video-conferencing_index', '/content/Index/security_index', '/content/Index/national-cloud_index', '/content/Index/video-gallery_index', '/content/Index/docs_index', '/content/Index/command-and-control-centre_index']\n",
        "\n",
        "# Initialize merged data\n",
        "merged_data = {\n",
        "    \"embedding_dict\": {},\n",
        "    \"text_id_to_ref_doc_id\": {},\n",
        "    \"metadata_dict\": {}\n",
        "}\n",
        "\n",
        "# Loop through each folder\n",
        "for folder in folders:\n",
        "    file_path = os.path.join(folder, 'image__vector_store.json')\n",
        "\n",
        "    # Load the contents of the JSON file\n",
        "    with open(file_path, 'r') as file:\n",
        "        data = json.load(file)\n",
        "\n",
        "    # Merge the embedding_dict\n",
        "    merged_data['embedding_dict'] = {**merged_data['embedding_dict'], **data['embedding_dict']}\n",
        "\n",
        "    # Merge the text_id_to_ref_doc_id\n",
        "    merged_data['text_id_to_ref_doc_id'] = {**merged_data['text_id_to_ref_doc_id'], **data['text_id_to_ref_doc_id']}\n",
        "\n",
        "    # Merge the metadata_dict\n",
        "    merged_data['metadata_dict'] = {**merged_data['metadata_dict'], **data['metadata_dict']}\n",
        "\n",
        "# Write the merged data to a new JSON file\n",
        "with open('/content/combined_index_v4/image_vector_store.json', 'w') as merged_file:\n",
        "    json.dump(merged_data, merged_file, indent=4)"
      ]
    },
    {
      "cell_type": "code",
      "execution_count": null,
      "metadata": {
        "id": "Wm58nnmX1cxz"
      },
      "outputs": [],
      "source": [
        "# VectorStoreIndex\n",
        "\n",
        "import os\n",
        "import json\n",
        "\n",
        "# List of folders\n",
        "# folders = ['/content/Index/video-gallery_index', '/content/Index/remote-sensing-gis_index', '/content/Index/help_index', '/content/Index/events_index', '/content/Index/Services_index', '/content/Index/domain_registration_index', '/content/Index/data-centre_index', '/content/Index/messaging_index', '/content/Index/web-information-manager_index', '/content/Index/nicnet_index', '/content/Index/website-policies_index', '/content/Index/news-update_index', '/content/Index/government-local-area-networks-lans_index', '/content/Index/profile_index', '/content/Index/webcast_index', '/content/Index/rti_index', '/content/Index/nkn_index', '/content/Index/awards_index', '/content/Index/security_index', '/content/Index/photo-gallery_index', '/content/Index/centralised-aadhaar-vault_index', '/content/Index/Home_index', '/content/Index/contact-us_index', '/content/Index/infrastructure_index', '/content/Index/video-conferencing_index', '/content/Index/command-and-control-centre_index', '/content/Index/national-cloud_index', '/content/Index/directory_index', '/content/tabular_data_csv_index', '/content/text_Index']\n",
        "# folders = ['/content/Index/video-gallery_index', '/content/Index/remote-sensing-gis_index', '/content/Index/help_index', '/content/Index/events_index', '/content/Index/Services_index', '/content/Index/domain_registration_index', '/content/Index/data-centre_index', '/content/Index/messaging_index', '/content/Index/web-information-manager_index', '/content/Index/nicnet_index', '/content/Index/website-policies_index', '/content/Index/news-update_index', '/content/Index/government-local-area-networks-lans_index', '/content/Index/profile_index', '/content/Index/webcast_index', '/content/Index/rti_index', '/content/Index/nkn_index', '/content/Index/awards_index', '/content/Index/security_index', '/content/Index/photo-gallery_index', '/content/Index/centralised-aadhaar-vault_index', '/content/Index/Home_index', '/content/Index/contact-us_index', '/content/Index/infrastructure_index', '/content/Index/video-conferencing_index', '/content/Index/command-and-control-centre_index', '/content/Index/national-cloud_index', '/content/Index/directory_index', '/content/tabular_data_csv_index', '/content/Text_Index_v1/news_updates', '/content/Text_Index_v1/services', '/content/Text_Index_v1/districts', '/content/Text_Index_v1/events', '/content/Text_Index_v1/photo_gallery', '/content/Text_Index_v1/Nic']\n",
        "\n",
        "folders = ['/content/Index/Services_index', '/content/Index/rti_index', '/content/Index/webcast_index', '/content/Index/nicnet_index', '/content/Index/messaging_index', '/content/Index/help_index', '/content/Index/Home_index', '/content/Index/infrastructure_index', '/content/Index/website-policies_index', '/content/Index/profile_index', '/content/Index/domain_registration_index', '/content/Index/nkn_index', '/content/Index/web-information-manager_index', '/content/Index/government-local-area-networks-lans_index', '/content/Index/directory_index', '/content/Index/tabular_data_csv_index', '/content/Index/awards_index', '/content/Index/centralised-aadhaar-vault_index', '/content/Index/photo-gallery_index', '/content/Index/contact-us_index', '/content/Index/data-centre_index', '/content/Index/events_index', '/content/Index/remote-sensing-gis_index', '/content/Index/news-update_index', '/content/Index/video-conferencing_index', '/content/Index/security_index', '/content/Index/national-cloud_index', '/content/Index/video-gallery_index', '/content/Index/docs_index', '/content/Index/command-and-control-centre_index']\n",
        "\n",
        "\n",
        "# Initialize merged data\n",
        "merged_data = {\n",
        "    \"index_store/data\": {\n",
        "        \"vector_index\": {\n",
        "            \"__type__\": \"vector_store\",\n",
        "            \"__data__\": \"{\\\"index_id\\\": \\\"vector_index\\\", \\\"summary\\\": null, \\\"nodes_dict\\\": {}, \\\"doc_id_dict\\\": {}, \\\"embeddings_dict\\\": {}}\"\n",
        "        }\n",
        "    }\n",
        "}\n",
        "\n",
        "\n",
        "# Loop through each folder\n",
        "for folder in folders:\n",
        "    file_path = os.path.join(folder, 'index_store.json')\n",
        "\n",
        "    # Load the contents of the JSON file\n",
        "    with open(file_path, 'r') as file:\n",
        "        data = json.load(file)\n",
        "\n",
        "    # Merge the vector_index data\n",
        "    vector_index_data = json.loads(merged_data['index_store/data']['vector_index']['__data__'])\n",
        "    vector_index_data['nodes_dict'] = {**vector_index_data['nodes_dict'], **json.loads(data['index_store/data']['vector_index']['__data__'])['nodes_dict']}\n",
        "    vector_index_data['doc_id_dict'] = {**vector_index_data['doc_id_dict'], **json.loads(data['index_store/data']['vector_index']['__data__'])['doc_id_dict']}\n",
        "    vector_index_data['embeddings_dict'] = {**vector_index_data['embeddings_dict'], **json.loads(data['index_store/data']['vector_index']['__data__'])['embeddings_dict']}\n",
        "    merged_data['index_store/data']['vector_index']['__data__'] = json.dumps(vector_index_data)\n",
        "\n",
        "# Write the merged data to a new JSON file\n",
        "with open('/content/combined_index_v4/index_store.json', 'w') as merged_file:\n",
        "    json.dump(merged_data, merged_file, indent=4)"
      ]
    },
    {
      "cell_type": "markdown",
      "metadata": {
        "id": "7psNNoags-LH"
      },
      "source": [
        "# Model and Embeddings"
      ]
    },
    {
      "cell_type": "code",
      "execution_count": 13,
      "metadata": {
        "id": "WgjpWDEJ0qdj"
      },
      "outputs": [],
      "source": [
        "# Initialize settings for LlamaIndex\n",
        "# Settings.llm = Ollama(model=\"llama3\", temperature=0, request_timeout=500.0)\n",
        "Settings.llm = Ollama(model=\"llama3\", temperature=0, request_timeout=500.0, max_tokens=800000)"
      ]
    },
    {
      "cell_type": "code",
      "execution_count": 14,
      "metadata": {
        "collapsed": true,
        "id": "CJLxkgcstBKH"
      },
      "outputs": [],
      "source": [
        "Settings.embed_model = HuggingFaceEmbedding(model_name=\"Alibaba-NLP/gte-large-en-v1.5\", trust_remote_code=True)\n",
        "\n",
        "# Settings.embed_model = HuggingFaceEmbedding(model_name=\"nvidia/NV-Embed-v1\", trust_remote_code=True, use_auth_token=True)\n"
      ]
    },
    {
      "cell_type": "markdown",
      "metadata": {
        "id": "_P8N2LmRtnBN"
      },
      "source": [
        "# Loading the index from disk"
      ]
    },
    {
      "cell_type": "code",
      "execution_count": null,
      "metadata": {
        "colab": {
          "base_uri": "https://localhost:8080/"
        },
        "id": "rxL9mXgTtpWR",
        "outputId": "fe3d887d-ef99-4861-8b4c-8028bb793898"
      },
      "outputs": [
        {
          "name": "stdout",
          "output_type": "stream",
          "text": [
            "<llama_index.core.indices.vector_store.base.VectorStoreIndex object at 0x794c29d73760>\n"
          ]
        }
      ],
      "source": [
        "persist_dir = \"/content/tabular_data_csv_index\"\n",
        "\n",
        "storage_context = StorageContext.from_defaults(persist_dir=persist_dir)\n",
        "index = load_index_from_storage(storage_context)\n",
        "\n",
        "print(index)"
      ]
    },
    {
      "cell_type": "code",
      "execution_count": 36,
      "metadata": {
        "colab": {
          "base_uri": "https://localhost:8080/"
        },
        "collapsed": true,
        "id": "rmuDdNp8BZyO",
        "outputId": "c905ce7f-8644-4c9c-cb3c-01d80b0c0c19"
      },
      "outputs": [
        {
          "output_type": "execute_result",
          "data": {
            "text/plain": [
              "['cat: /content/chat_store2.pkl: No such file or directory']"
            ]
          },
          "metadata": {},
          "execution_count": 36
        }
      ],
      "source": [
        "!!cat /content/chat_store2.pkl"
      ]
    },
    {
      "cell_type": "markdown",
      "metadata": {
        "id": "z1oZw7uie1E_"
      },
      "source": [
        "# Print the response"
      ]
    },
    {
      "cell_type": "code",
      "source": [
        "import os\n",
        "\n",
        "def list_all_files_in_directory(directory_path):\n",
        "    all_files = []\n",
        "    try:\n",
        "        for root, dirs, files in os.walk(directory_path):\n",
        "            for file in files:\n",
        "                all_files.append(os.path.join(root, file))\n",
        "        return all_files\n",
        "    except FileNotFoundError:\n",
        "        return f\"The directory {directory_path} does not exist.\"\n",
        "    except Exception as e:\n",
        "        return str(e)\n",
        "\n",
        "# Example usage\n",
        "parent_folder = \"/content/dggi_folder\"\n",
        "files = list_all_files_in_directory(parent_folder)\n",
        "for file in files:\n",
        "    print(file)\n"
      ],
      "metadata": {
        "colab": {
          "base_uri": "https://localhost:8080/"
        },
        "collapsed": true,
        "id": "_bfDBOOxjvmk",
        "outputId": "a9dbe5d4-b228-44c3-e369-832d638bbab6"
      },
      "execution_count": null,
      "outputs": [
        {
          "output_type": "stream",
          "name": "stdout",
          "text": [
            "/content/dggi_folder/dggi/DGGI_District Composite Ranking_1720592119006.csv\n",
            "/content/dggi_folder/dggi/sector ranking/sector ranking of Human Resource Development.csv\n",
            "/content/dggi_folder/dggi/sector ranking/sector ranking of Public Health.csv\n",
            "/content/dggi_folder/dggi/sector ranking/sector ranking of Citizen Centric Governance.csv\n",
            "/content/dggi_folder/dggi/sector ranking/sector ranking of Agriculture & Allied Sector.csv\n",
            "/content/dggi_folder/dggi/sector ranking/sector ranking of Commerce and Industry.csv\n",
            "/content/dggi_folder/dggi/sector ranking/sector ranking of Social Development.csv\n",
            "/content/dggi_folder/dggi/sector ranking/sector ranking of Environment.csv\n",
            "/content/dggi_folder/dggi/sector ranking/sector ranking of Public Infrastructure and Utilities.csv\n",
            "/content/dggi_folder/dggi/sector ranking/sector ranking of Economic Governance and Financial Inclusion.csv\n",
            "/content/dggi_folder/dggi/sector ranking/sector ranking of Judiciary and Public Safety.csv\n",
            "/content/dggi_folder/dggi/sectors, indicators, weightage/indicator_weightage of Social Development.csv\n",
            "/content/dggi_folder/dggi/sectors, indicators, weightage/indicator_weightage of Environment.csv\n",
            "/content/dggi_folder/dggi/sectors, indicators, weightage/indicator_weightage of Citizen Centric Governance.csv\n",
            "/content/dggi_folder/dggi/sectors, indicators, weightage/indicator_weightage of Human Resource Development.csv\n",
            "/content/dggi_folder/dggi/sectors, indicators, weightage/indicator_weightage of Public Health.csv\n",
            "/content/dggi_folder/dggi/sectors, indicators, weightage/indicator_weightage of Judiciary and Public Safety.csv\n",
            "/content/dggi_folder/dggi/sectors, indicators, weightage/indicator_weightage of Public Infrastructure and Utilities.csv\n",
            "/content/dggi_folder/dggi/sectors, indicators, weightage/indicator_weightage of Economic Governance and Financial Inclusion.csv\n",
            "/content/dggi_folder/dggi/sectors, indicators, weightage/indicator_weightage of Commerce and Industry.csv\n",
            "/content/dggi_folder/dggi/sectors, indicators, weightage/indicator_weightage of Agriculture & Allied Sector.csv\n",
            "/content/dggi_folder/dggi/sector wise aspirant districts/Aspirant Districts in Judiciary and Public Safety.csv\n",
            "/content/dggi_folder/dggi/sector wise aspirant districts/Aspirant Districts in Environment.csv\n",
            "/content/dggi_folder/dggi/sector wise aspirant districts/Aspirant Districts in Economic Governance and Financial Inclusion.csv\n",
            "/content/dggi_folder/dggi/sector wise aspirant districts/Aspirant Districts in Human Resource Development.csv\n",
            "/content/dggi_folder/dggi/sector wise aspirant districts/Aspirant Districts in Public Infrastructure and Utilities.csv\n",
            "/content/dggi_folder/dggi/sector wise aspirant districts/Aspirant Districts in Public Health.csv\n",
            "/content/dggi_folder/dggi/sector wise aspirant districts/Aspirant Districts in Social Development.csv\n",
            "/content/dggi_folder/dggi/sector wise aspirant districts/Aspirant Districts in Commerce and Industry.csv\n",
            "/content/dggi_folder/dggi/sector wise aspirant districts/Aspirant Districts in Agriculture & Allied Sector.csv\n",
            "/content/dggi_folder/dggi/sector wise aspirant districts/Aspirant Districts in Citizen Centric Governance.csv\n",
            "/content/dggi_folder/dggi/overall performance/Aspirant Districts.csv\n",
            "/content/dggi_folder/dggi/overall performance/Achiever Districts.csv\n",
            "/content/dggi_folder/dggi/overall performance/Performer Districts.csv\n",
            "/content/dggi_folder/dggi/indicator ranking/sector 1/Agriculture & Allied Sector_indicator_14.csv\n",
            "/content/dggi_folder/dggi/indicator ranking/sector 1/Agriculture & Allied Sector_indicator_21.csv\n",
            "/content/dggi_folder/dggi/indicator ranking/sector 1/Agriculture & Allied Sector_indicator_12.csv\n",
            "/content/dggi_folder/dggi/indicator ranking/sector 1/score_Agriculture & Allied Sector.csv\n",
            "/content/dggi_folder/dggi/indicator ranking/sector 1/Agriculture & Allied Sector_indicator_1.csv\n",
            "/content/dggi_folder/dggi/indicator ranking/sector 1/Agriculture & Allied Sector_indicator_27.csv\n",
            "/content/dggi_folder/dggi/indicator ranking/sector 1/Agriculture & Allied Sector_indicator_24.csv\n",
            "/content/dggi_folder/dggi/indicator ranking/sector 1/Agriculture & Allied Sector_indicator_22.csv\n",
            "/content/dggi_folder/dggi/indicator ranking/sector 1/Agriculture & Allied Sector_indicator_16.csv\n",
            "/content/dggi_folder/dggi/indicator ranking/sector 1/Agriculture & Allied Sector_indicator_11.csv\n",
            "/content/dggi_folder/dggi/indicator ranking/sector 1/Agriculture & Allied Sector_indicator_3.csv\n",
            "/content/dggi_folder/dggi/indicator ranking/sector 1/Agriculture & Allied Sector_indicator_18.csv\n",
            "/content/dggi_folder/dggi/indicator ranking/sector 1/Agriculture & Allied Sector_indicator_6.csv\n",
            "/content/dggi_folder/dggi/indicator ranking/sector 1/Agriculture & Allied Sector_indicator_23.csv\n",
            "/content/dggi_folder/dggi/indicator ranking/sector 1/Agriculture & Allied Sector_indicator_20.csv\n",
            "/content/dggi_folder/dggi/indicator ranking/sector 1/Agriculture & Allied Sector_indicator_25.csv\n",
            "/content/dggi_folder/dggi/indicator ranking/sector 1/Agriculture & Allied Sector_indicator_19.csv\n",
            "/content/dggi_folder/dggi/indicator ranking/sector 1/Agriculture & Allied Sector_indicator_5.csv\n",
            "/content/dggi_folder/dggi/indicator ranking/sector 1/Agriculture & Allied Sector_indicator_4.csv\n",
            "/content/dggi_folder/dggi/indicator ranking/sector 1/Agriculture & Allied Sector_indicator_26.csv\n",
            "/content/dggi_folder/dggi/indicator ranking/sector 1/Agriculture & Allied Sector_indicator_7.csv\n",
            "/content/dggi_folder/dggi/indicator ranking/sector 1/Agriculture & Allied Sector_indicator_15.csv\n",
            "/content/dggi_folder/dggi/indicator ranking/sector 1/Agriculture & Allied Sector_indicator_8.csv\n",
            "/content/dggi_folder/dggi/indicator ranking/sector 1/Agriculture & Allied Sector_indicator_2.csv\n",
            "/content/dggi_folder/dggi/indicator ranking/sector 1/Agriculture & Allied Sector_indicator_10.csv\n",
            "/content/dggi_folder/dggi/indicator ranking/sector 1/Agriculture & Allied Sector_indicator_9.csv\n",
            "/content/dggi_folder/dggi/indicator ranking/sector 1/Agriculture & Allied Sector_indicator_13.csv\n",
            "/content/dggi_folder/dggi/indicator ranking/sector 1/Agriculture & Allied Sector_indicator_17.csv\n",
            "/content/dggi_folder/dggi/indicator ranking/sector 4/Public Health_indicator_77.csv\n",
            "/content/dggi_folder/dggi/indicator ranking/sector 4/Public Health_indicator_73.csv\n",
            "/content/dggi_folder/dggi/indicator ranking/sector 4/Public Health_indicator_62.csv\n",
            "/content/dggi_folder/dggi/indicator ranking/sector 4/Public Health_indicator_63.csv\n",
            "/content/dggi_folder/dggi/indicator ranking/sector 4/Public Health_indicator_72.csv\n",
            "/content/dggi_folder/dggi/indicator ranking/sector 4/Public Health_indicator_68.csv\n",
            "/content/dggi_folder/dggi/indicator ranking/sector 4/Public Health_indicator_69.csv\n",
            "/content/dggi_folder/dggi/indicator ranking/sector 4/Public Health_indicator_60.csv\n",
            "/content/dggi_folder/dggi/indicator ranking/sector 4/Public Health_indicator_79.csv\n",
            "/content/dggi_folder/dggi/indicator ranking/sector 4/Public Health_indicator_80.csv\n",
            "/content/dggi_folder/dggi/indicator ranking/sector 4/Public Health_indicator_81.csv\n",
            "/content/dggi_folder/dggi/indicator ranking/sector 4/Public Health_indicator_65.csv\n",
            "/content/dggi_folder/dggi/indicator ranking/sector 4/Public Health_indicator_78.csv\n",
            "/content/dggi_folder/dggi/indicator ranking/sector 4/Public Health_indicator_64.csv\n",
            "/content/dggi_folder/dggi/indicator ranking/sector 4/Public Health_indicator_74.csv\n",
            "/content/dggi_folder/dggi/indicator ranking/sector 4/Public Health_indicator_66.csv\n",
            "/content/dggi_folder/dggi/indicator ranking/sector 4/Public Health_indicator_71.csv\n",
            "/content/dggi_folder/dggi/indicator ranking/sector 4/Public Health_indicator_59.csv\n",
            "/content/dggi_folder/dggi/indicator ranking/sector 4/Public Health_score.csv\n",
            "/content/dggi_folder/dggi/indicator ranking/sector 4/Public Health_indicator_70.csv\n",
            "/content/dggi_folder/dggi/indicator ranking/sector 4/Public Health_indicator_75.csv\n",
            "/content/dggi_folder/dggi/indicator ranking/sector 4/Public Health_indicator_67.csv\n",
            "/content/dggi_folder/dggi/indicator ranking/sector 4/Public Health_indicator_61.csv\n",
            "/content/dggi_folder/dggi/indicator ranking/sector 4/Public Health_indicator_76.csv\n",
            "/content/dggi_folder/dggi/indicator ranking/sector 7/Economic Governance and Financial Inclusion_130.csv\n",
            "/content/dggi_folder/dggi/indicator ranking/sector 7/Economic Governance and Financial Inclusion_132.csv\n",
            "/content/dggi_folder/dggi/indicator ranking/sector 7/Economic Governance and Financial Inclusion_127.csv\n",
            "/content/dggi_folder/dggi/indicator ranking/sector 7/Economic Governance and Financial Inclusion_126.csv\n",
            "/content/dggi_folder/dggi/indicator ranking/sector 7/Economic Governance and Financial Inclusion_131.csv\n",
            "/content/dggi_folder/dggi/indicator ranking/sector 7/Economic Governance and Financial Inclusion_129.csv\n",
            "/content/dggi_folder/dggi/indicator ranking/sector 7/Economic Governance and Financial Inclusion_score.csv\n",
            "/content/dggi_folder/dggi/indicator ranking/sector 7/Economic Governance and Financial Inclusion_133.csv\n",
            "/content/dggi_folder/dggi/indicator ranking/sector 7/Economic Governance and Financial Inclusion_135.csv\n",
            "/content/dggi_folder/dggi/indicator ranking/sector 7/Economic Governance and Financial Inclusion_134.csv\n",
            "/content/dggi_folder/dggi/indicator ranking/sector 7/Economic Governance and Financial Inclusion_128.csv\n",
            "/content/dggi_folder/dggi/indicator ranking/sector 5/Public Infrastructure & Utilities_indicator_87.csv\n",
            "/content/dggi_folder/dggi/indicator ranking/sector 5/Public Infrastructure & Utilities_indicator_93.csv\n",
            "/content/dggi_folder/dggi/indicator ranking/sector 5/Public Infrastructure & Utilities_indicator_88.csv\n",
            "/content/dggi_folder/dggi/indicator ranking/sector 5/Public Infrastructure & Utilities_indicator_83.csv\n",
            "/content/dggi_folder/dggi/indicator ranking/sector 5/Public Infrastructure & Utilities_indicator_96.csv\n",
            "/content/dggi_folder/dggi/indicator ranking/sector 5/Public Infrastructure & Utilities_indicator_82.csv\n",
            "/content/dggi_folder/dggi/indicator ranking/sector 5/Public Infrastructure & Utilities_indicator_89.csv\n",
            "/content/dggi_folder/dggi/indicator ranking/sector 5/Public Infrastructure & Utilities_indicator_85.csv\n",
            "/content/dggi_folder/dggi/indicator ranking/sector 5/Public Infrastructure & Utilities_indicator_92.csv\n",
            "/content/dggi_folder/dggi/indicator ranking/sector 5/Public Infrastructure & Utilities_indicator_84.csv\n",
            "/content/dggi_folder/dggi/indicator ranking/sector 5/Public Infrastructure & Utilities_indicator_97.csv\n",
            "/content/dggi_folder/dggi/indicator ranking/sector 5/Public Infrastructure & Utilities_indicator_99.csv\n",
            "/content/dggi_folder/dggi/indicator ranking/sector 5/Public Infrastructure & Utilities_indicator_94.csv\n",
            "/content/dggi_folder/dggi/indicator ranking/sector 5/Public Infrastructure & Utilities_indicator_91.csv\n",
            "/content/dggi_folder/dggi/indicator ranking/sector 5/Public Infrastructure & Utilities_scores.csv\n",
            "/content/dggi_folder/dggi/indicator ranking/sector 5/Public Infrastructure & Utilities_indicator_100.csv\n",
            "/content/dggi_folder/dggi/indicator ranking/sector 5/Public Infrastructure & Utilities_indicator_98.csv\n",
            "/content/dggi_folder/dggi/indicator ranking/sector 5/Public Infrastructure & Utilities_indicator_90.csv\n",
            "/content/dggi_folder/dggi/indicator ranking/sector 5/Public Infrastructure & Utilities_indicator_86.csv\n",
            "/content/dggi_folder/dggi/indicator ranking/sector 5/Public Infrastructure & Utilities_indicator_101.csv\n",
            "/content/dggi_folder/dggi/indicator ranking/sector 5/Public Infrastructure & Utilities_indicator_95.csv\n",
            "/content/dggi_folder/dggi/indicator ranking/sector 8/Judiciary & Public Safety_140.csv\n",
            "/content/dggi_folder/dggi/indicator ranking/sector 8/Judiciary & Public Safety_141.csv\n",
            "/content/dggi_folder/dggi/indicator ranking/sector 8/Judiciary & Public Safety_142.csv\n",
            "/content/dggi_folder/dggi/indicator ranking/sector 8/Judiciary & Public Safety_136.csv\n",
            "/content/dggi_folder/dggi/indicator ranking/sector 8/Judiciary & Public Safety_145.csv\n",
            "/content/dggi_folder/dggi/indicator ranking/sector 8/Judiciary & Public Safety_146.csv\n",
            "/content/dggi_folder/dggi/indicator ranking/sector 8/Judiciary & Public Safety_143.csv\n",
            "/content/dggi_folder/dggi/indicator ranking/sector 8/Judiciary & Public Safety_147.csv\n",
            "/content/dggi_folder/dggi/indicator ranking/sector 8/Judiciary & Public Safety_144.csv\n",
            "/content/dggi_folder/dggi/indicator ranking/sector 8/Judiciary & Public Safety_139.csv\n",
            "/content/dggi_folder/dggi/indicator ranking/sector 8/Judiciary & Public Safety_score.csv\n",
            "/content/dggi_folder/dggi/indicator ranking/sector 8/Judiciary & Public Safety_148.csv\n",
            "/content/dggi_folder/dggi/indicator ranking/sector 8/Judiciary & Public Safety_137.csv\n",
            "/content/dggi_folder/dggi/indicator ranking/sector 8/Judiciary & Public Safety_138.csv\n",
            "/content/dggi_folder/dggi/indicator ranking/sector 6/Social development_indicator_105.csv\n",
            "/content/dggi_folder/dggi/indicator ranking/sector 6/Social development_indicator_108.csv\n",
            "/content/dggi_folder/dggi/indicator ranking/sector 6/Social development_indicator_115.csv\n",
            "/content/dggi_folder/dggi/indicator ranking/sector 6/Social development_indicator_125.csv\n",
            "/content/dggi_folder/dggi/indicator ranking/sector 6/Social development_indicator_120.csv\n",
            "/content/dggi_folder/dggi/indicator ranking/sector 6/Social development_indicator_113.csv\n",
            "/content/dggi_folder/dggi/indicator ranking/sector 6/Social development_indicator_102.csv\n",
            "/content/dggi_folder/dggi/indicator ranking/sector 6/Social development_indicator_103.csv\n",
            "/content/dggi_folder/dggi/indicator ranking/sector 6/Social development_indicator_116.csv\n",
            "/content/dggi_folder/dggi/indicator ranking/sector 6/Social development_indicator_121.csv\n",
            "/content/dggi_folder/dggi/indicator ranking/sector 6/Social development_indicator_112.csv\n",
            "/content/dggi_folder/dggi/indicator ranking/sector 6/Social development_scores.csv\n",
            "/content/dggi_folder/dggi/indicator ranking/sector 6/Social development_indicator_109.csv\n",
            "/content/dggi_folder/dggi/indicator ranking/sector 6/Social development_indicator_122.csv\n",
            "/content/dggi_folder/dggi/indicator ranking/sector 6/Social development_indicator_104.csv\n",
            "/content/dggi_folder/dggi/indicator ranking/sector 6/Social development_indicator_107.csv\n",
            "/content/dggi_folder/dggi/indicator ranking/sector 6/Social development_indicator_111.csv\n",
            "/content/dggi_folder/dggi/indicator ranking/sector 6/Social development_indicator_114.csv\n",
            "/content/dggi_folder/dggi/indicator ranking/sector 6/Social development_indicator_119.csv\n",
            "/content/dggi_folder/dggi/indicator ranking/sector 6/Social development_indicator_123.csv\n",
            "/content/dggi_folder/dggi/indicator ranking/sector 6/Social development_indicator_124.csv\n",
            "/content/dggi_folder/dggi/indicator ranking/sector 6/Social development_indicator_110.csv\n",
            "/content/dggi_folder/dggi/indicator ranking/sector 6/Social development_indicator_106.csv\n",
            "/content/dggi_folder/dggi/indicator ranking/sector 6/Social development_indicator_117.csv\n",
            "/content/dggi_folder/dggi/indicator ranking/sector 6/Social development_indicator_118.csv\n",
            "/content/dggi_folder/dggi/indicator ranking/sector 9/Environment_151.csv\n",
            "/content/dggi_folder/dggi/indicator ranking/sector 9/Environment_153.csv\n",
            "/content/dggi_folder/dggi/indicator ranking/sector 9/Environment_154.csv\n",
            "/content/dggi_folder/dggi/indicator ranking/sector 9/Environment_157.csv\n",
            "/content/dggi_folder/dggi/indicator ranking/sector 9/Environment_score.csv\n",
            "/content/dggi_folder/dggi/indicator ranking/sector 9/Environment_150.csv\n",
            "/content/dggi_folder/dggi/indicator ranking/sector 9/Environment_155.csv\n",
            "/content/dggi_folder/dggi/indicator ranking/sector 9/Environment_152.csv\n",
            "/content/dggi_folder/dggi/indicator ranking/sector 9/Environment_149.csv\n",
            "/content/dggi_folder/dggi/indicator ranking/sector 9/Environment_156.csv\n",
            "/content/dggi_folder/dggi/indicator ranking/sector 3/Human Resource Development_indicator_45.csv\n",
            "/content/dggi_folder/dggi/indicator ranking/sector 3/Human Resource Development_indicator_38.csv\n",
            "/content/dggi_folder/dggi/indicator ranking/sector 3/Human Resource Development_indicator_58.csv\n",
            "/content/dggi_folder/dggi/indicator ranking/sector 3/Human Resource Development_indicator_48.csv\n",
            "/content/dggi_folder/dggi/indicator ranking/sector 3/Human Resource Development_indicator_53.csv\n",
            "/content/dggi_folder/dggi/indicator ranking/sector 3/Human Resource Development_indicator_47.csv\n",
            "/content/dggi_folder/dggi/indicator ranking/sector 3/Human Resource Development_indicator_57.csv\n",
            "/content/dggi_folder/dggi/indicator ranking/sector 3/Human Resource Development_indicator_39.csv\n",
            "/content/dggi_folder/dggi/indicator ranking/sector 3/Human Resource Development_indicator_46.csv\n",
            "/content/dggi_folder/dggi/indicator ranking/sector 3/Human Resource Development_indicator_51.csv\n",
            "/content/dggi_folder/dggi/indicator ranking/sector 3/Human Resource Development_indicator_55.csv\n",
            "/content/dggi_folder/dggi/indicator ranking/sector 3/Human Resource Development_indicator_42.csv\n",
            "/content/dggi_folder/dggi/indicator ranking/sector 3/Human Resource Development_indicator_54.csv\n",
            "/content/dggi_folder/dggi/indicator ranking/sector 3/Human Resource Development_indicator_56.csv\n",
            "/content/dggi_folder/dggi/indicator ranking/sector 3/Human Resource Development_indicator_49.csv\n",
            "/content/dggi_folder/dggi/indicator ranking/sector 3/Human Resource Development_indicator_44.csv\n",
            "/content/dggi_folder/dggi/indicator ranking/sector 3/Human Resource Development_indicator_50.csv\n",
            "/content/dggi_folder/dggi/indicator ranking/sector 3/Human Resource Development_indicator_41.csv\n",
            "/content/dggi_folder/dggi/indicator ranking/sector 3/Human Resource Development_indicator_40.csv\n",
            "/content/dggi_folder/dggi/indicator ranking/sector 3/Human Resource Development_indicator_52.csv\n",
            "/content/dggi_folder/dggi/indicator ranking/sector 3/Human Resource Development_indicator_43.csv\n",
            "/content/dggi_folder/dggi/indicator ranking/sector 3/Human Resource Development_indicator_37.csv\n",
            "/content/dggi_folder/dggi/indicator ranking/sector 3/Human Resource Development_scores.csv\n",
            "/content/dggi_folder/dggi/indicator ranking/final_district/cumulative score.csv\n",
            "/content/dggi_folder/dggi/indicator ranking/final_district/ranking of all the districts.csv\n",
            "/content/dggi_folder/dggi/pdf/Methodology for Computation of Ranks.pdf\n",
            "/content/dggi_folder/dggi/pdf/Overview.pdf\n",
            "/content/dggi_folder/dggi/pdf/dggi_report2023.pdf\n",
            "/content/dggi_folder/dggi/sector wise achiever districts/Achiever Districts in Citizen Centric Governance.csv\n",
            "/content/dggi_folder/dggi/sector wise achiever districts/Achiever Districts in Public Infrastructure and Utilities.csv\n",
            "/content/dggi_folder/dggi/sector wise achiever districts/Achiever Districts in Commerce and Industry.csv\n",
            "/content/dggi_folder/dggi/sector wise achiever districts/Achiever Districts in Human Resource Development.csv\n",
            "/content/dggi_folder/dggi/sector wise achiever districts/Achiever Districts in Environment.csv\n",
            "/content/dggi_folder/dggi/sector wise achiever districts/Achiever Districts in Judiciary and Public Safety.csv\n",
            "/content/dggi_folder/dggi/sector wise achiever districts/Achiever Districts in Social Development.csv\n",
            "/content/dggi_folder/dggi/sector wise achiever districts/Achiever Districts in Economic Governance and Financial Inclusion.csv\n",
            "/content/dggi_folder/dggi/sector wise achiever districts/Achiever Districts in Agriculture & Allied Sector.csv\n",
            "/content/dggi_folder/dggi/sector wise achiever districts/Achiever Districts in Public Health.csv\n",
            "/content/dggi_folder/dggi/sector wise performer districts/Performer Districts in Environment.csv\n",
            "/content/dggi_folder/dggi/sector wise performer districts/Performer Districts in Social Development.csv\n",
            "/content/dggi_folder/dggi/sector wise performer districts/Performer Districts in Commerce and Industry.csv\n",
            "/content/dggi_folder/dggi/sector wise performer districts/Performer Districts in Citizen Centric Governance.csv\n",
            "/content/dggi_folder/dggi/sector wise performer districts/Performer Districts in Agriculture & Allied Sector.csv\n",
            "/content/dggi_folder/dggi/sector wise performer districts/Performer Districts in Human Resource Development.csv\n",
            "/content/dggi_folder/dggi/sector wise performer districts/Performer Districts in Economic Governance and Financial Inclusion.csv\n",
            "/content/dggi_folder/dggi/sector wise performer districts/Performer Districts in Public Health.csv\n",
            "/content/dggi_folder/dggi/sector wise performer districts/Performer Districts in Public Infrastructure and Utilities.csv\n",
            "/content/dggi_folder/dggi/sector wise performer districts/Performer Districts in Judiciary and Public Safety.csv\n"
          ]
        }
      ]
    },
    {
      "cell_type": "code",
      "source": [
        "file_to_url_mapping = {\n",
        "    'https://dggi.maharashtra.gov.in/compositeDistricts': [\n",
        "        \"Ranking and scores of all 36 districts.csv\"\n",
        "    ],\n",
        "    'https://dggi.maharashtra.gov.in/sectorDistricts': [\n",
        "        \"sector ranking of Human Resource Development.csv\",\n",
        "        \"sector ranking of Public Health.csv\",\n",
        "        \"sector ranking of Citizen Centric Governance.csv\",\n",
        "        \"sector ranking of Agriculture & Allied Sector.csv\",\n",
        "        \"sector ranking of Commerce and Industry.csv\",\n",
        "        \"sector ranking of Social Development.csv\",\n",
        "        \"sector ranking of Environment.csv\",\n",
        "        \"sector ranking of Public Infrastructure and Utilities.csv\",\n",
        "        \"sector ranking of Economic Governance and Financial Inclusion.csv\",\n",
        "        \"sector ranking of Judiciary and Public Safety.csv\"\n",
        "    ],\n",
        "    'https://dggi.maharashtra.gov.in/methodologySectorIndicator': [\n",
        "        \"indicator_weightage of Social Development.csv\",\n",
        "        \"indicator_weightage of Environment.csv\",\n",
        "        \"indicator_weightage of Citizen Centric Governance.csv\",\n",
        "        \"indicator_weightage of Human Resource Development.csv\",\n",
        "        \"indicator_weightage of Public Health.csv\",\n",
        "        \"indicator_weightage of Judiciary and Public Safety.csv\",\n",
        "        \"indicator_weightage of Public Infrastructure and Utilities.csv\",\n",
        "        \"indicator_weightage of Economic Governance and Financial Inclusion.csv\",\n",
        "        \"indicator_weightage of Commerce and Industry.csv\",\n",
        "        \"indicator_weightage of Agriculture & Allied Sector.csv\"\n",
        "    ],\n",
        "    'https://dggi.maharashtra.gov.in/performanceAspirantDistricts': [\n",
        "        \"Aspirant Districts in Judiciary and Public Safety.csv\",\n",
        "        \"Aspirant Districts in Environment.csv\",\n",
        "        \"Aspirant Districts in Economic Governance and Financial Inclusion.csv\",\n",
        "        \"Aspirant Districts in Human Resource Development.csv\",\n",
        "        \"Aspirant Districts in Public Infrastructure and Utilities.csv\",\n",
        "        \"Aspirant Districts in Public Health.csv\",\n",
        "        \"Aspirant Districts in Social Development.csv\",\n",
        "        \"Aspirant Districts in Commerce and Industry.csv\",\n",
        "        \"Aspirant Districts in Agriculture & Allied Sector.csv\",\n",
        "        \"Aspirant Districts in Citizen Centric Governance.csv\"\n",
        "    ],\n",
        "    'https://dggi.maharashtra.gov.in/performanceOverview': [\n",
        "        \"Aspirant Districts.csv\",\n",
        "        \"Achiever Districts.csv\",\n",
        "        \"Performer Districts.csv\"\n",
        "    ],\n",
        "    'https://dggi.maharashtra.gov.in/indicatorRanking': [\n",
        "        \"Indicator score of Environment sector.csv\",\n",
        "        \"Indicator score of Judiciary & Public Safety sector.csv\",\n",
        "        \"Indicator score of Economic Governance and Financial Inclusion sector.csv\",\n",
        "        \"Indicator score of Social development sector.csv\",\n",
        "        \"Indicator score of Public Infrastructure & Utilities sector.csv\",\n",
        "        \"Indicator score of Public Health sector.csv\",\n",
        "        \"indicator score of Human Resource Development sector.csv\",\n",
        "        \"indicator score of Agriculture & Allied Sector.csv\"\n",
        "    ],\n",
        "    'https://dggi.maharashtra.gov.in/methodologyRankingScore': [\n",
        "        \"Methodology for Computation of Ranks.pdf\"\n",
        "    ],\n",
        "    'https://dggi.maharashtra.gov.in/aboutUs': [\n",
        "        \"Overview.pdf\"\n",
        "    ],\n",
        "    'https://dggi.maharashtra.gov.in/assets/reports/report2023.pdf': [\n",
        "        \"dggi_report2023.pdf\"\n",
        "    ],\n",
        "    'https://dggi.maharashtra.gov.in/ContactUs': [\n",
        "        \"Contact Us Details.pdf\"\n",
        "    ],\n",
        "    'https://dggi.maharashtra.gov.in/disclaimer': [\n",
        "        \"Disclaimer.pdf\"\n",
        "    ],\n",
        "    'https://dggi.maharashtra.gov.in/websitepolicy': [\n",
        "        \"Website Policies.pdf\"\n",
        "    ],\n",
        "    'https://dggi.maharashtra.gov.in/WIM': [\n",
        "        \"Web Information Manager.pdf\"\n",
        "    ],\n",
        "    'https://dggi.maharashtra.gov.in/terms-and-condition': [\n",
        "        \"Terms and conditions.pdf\"\n",
        "    ],\n",
        "    'https://dggi.maharashtra.gov.in/performanceAchieverDistricts': [\n",
        "        \"Achiever Districts in Citizen Centric Governance.csv\",\n",
        "        \"Achiever Districts in Public Infrastructure and Utilities.csv\",\n",
        "        \"Achiever Districts in Commerce and Industry.csv\",\n",
        "        \"Achiever Districts in Human Resource Development.csv\",\n",
        "        \"Achiever Districts in Environment.csv\",\n",
        "        \"Achiever Districts in Judiciary and Public Safety.csv\",\n",
        "        \"Achiever Districts in Social Development.csv\",\n",
        "        \"Achiever Districts in Economic Governance and Financial Inclusion.csv\",\n",
        "        \"Achiever Districts in Agriculture & Allied Sector.csv\",\n",
        "        \"Achiever Districts in Public Health.csv\"\n",
        "    ],\n",
        "    'https://dggi.maharashtra.gov.in/performancePerformerDistricts': [\n",
        "        \"Performer Districts in Environment.csv\",\n",
        "        \"Performer Districts in Social Development.csv\",\n",
        "        \"Performer Districts in Commerce and Industry.csv\",\n",
        "        \"Performer Districts in Citizen Centric Governance.csv\",\n",
        "        \"Performer Districts in Agriculture & Allied Sector.csv\",\n",
        "        \"Performer Districts in Human Resource Development.csv\",\n",
        "        \"Performer Districts in Economic Governance and Financial Inclusion.csv\",\n",
        "        \"Performer Districts in Public Health.csv\",\n",
        "        \"Performer Districts in Public Infrastructure and Utilities.csv\",\n",
        "        \"Performer Districts in Judiciary and Public Safety.csv\"\n",
        "    ]\n",
        "}\n"
      ],
      "metadata": {
        "id": "qR-S_xQxSJqJ"
      },
      "execution_count": 30,
      "outputs": []
    },
    {
      "cell_type": "code",
      "execution_count": 23,
      "metadata": {
        "colab": {
          "base_uri": "https://localhost:8080/"
        },
        "id": "Au8y_CsQHN_U",
        "outputId": "0932c34d-c445-4394-9e62-0049164c74c5"
      },
      "outputs": [
        {
          "output_type": "stream",
          "name": "stdout",
          "text": [
            "<llama_index.core.indices.vector_store.base.VectorStoreIndex object at 0x786a0dd27e50>\n"
          ]
        }
      ],
      "source": [
        "from llama_index.core.storage.chat_store import SimpleChatStore\n",
        "from llama_index.core.memory import ChatMemoryBuffer\n",
        "from llama_index.core import VectorStoreIndex, get_response_synthesizer\n",
        "from llama_index.core.retrievers import VectorIndexRetriever\n",
        "from llama_index.core.postprocessor import LongContextReorder\n",
        "from llama_index.core.postprocessor import SentenceTransformerRerank\n",
        "\n",
        "\n",
        "persist_dir = \"/content/data_index_v2\"\n",
        "storage_context = StorageContext.from_defaults(persist_dir=persist_dir)\n",
        "index_1 = load_index_from_storage(storage_context)\n",
        "\n",
        "print(index_1)\n",
        "\n",
        "# reorder = LongContextReorder()\n",
        "rerank = SentenceTransformerRerank(model=\"BAAI/bge-reranker-large\", top_n=7)\n",
        "\n",
        "\n",
        "chat_store= SimpleChatStore()\n",
        "\n",
        "chat_memory= ChatMemoryBuffer.from_defaults(\n",
        "    token_limit=30000,\n",
        "    chat_store=chat_store,\n",
        "    chat_store_key=\"user1\",\n",
        "\n",
        ")\n",
        "\n",
        "chat_engine = index_1.as_chat_engine(\n",
        "    chat_mode=\"context\",\n",
        "    system_prompt=\"You are a helpful AI assistant. You are expert in retrieving the answer for the user input based on the provided context. You don't mention any file name or file path in your response.\",\n",
        "    memory=chat_memory,\n",
        "    similarity_top_k=10,\n",
        "    node_postprocessors=[rerank],\n",
        "    verbose = True\n",
        ")\n",
        "\n"
      ]
    },
    {
      "cell_type": "code",
      "source": [
        "response = chat_engine.chat(\"Which district is ranked last and what is its score?\")\n",
        "node = response.source_nodes[0]\n",
        "response_json = {}\n",
        "# response_json['response'] = response.response\n",
        "# response_json['Search_Score'] = node.score\n",
        "\n",
        "try:\n",
        "    response_json['Please visit the following url:'] = str(node.metadata['URL'])\n",
        "except KeyError:\n",
        "    file_name = node.metadata['file_name']\n",
        "    try:\n",
        "        response_json['Please visit the following url:'] = next(url for url, files in file_to_url_mapping.items() if file_name in files)\n",
        "    except StopIteration:\n",
        "        response_json['Please visit the following url:'] = 'URL not found'\n",
        "\n",
        "print(response_json)"
      ],
      "metadata": {
        "colab": {
          "base_uri": "https://localhost:8080/"
        },
        "id": "xqSxsWjQS_Mq",
        "outputId": "229fd459-4da3-4f56-caf7-0a0c4263ed1f"
      },
      "execution_count": 31,
      "outputs": [
        {
          "output_type": "stream",
          "name": "stdout",
          "text": [
            "{'Please visit the following url:': 'https://dggi.maharashtra.gov.in/compositeDistricts'}\n"
          ]
        }
      ]
    },
    {
      "cell_type": "code",
      "source": [
        "response"
      ],
      "metadata": {
        "colab": {
          "base_uri": "https://localhost:8080/"
        },
        "collapsed": true,
        "id": "00FKquwcNcGy",
        "outputId": "9b44080a-13b0-4853-bcce-ba91f0cc77d8"
      },
      "execution_count": 18,
      "outputs": [
        {
          "output_type": "execute_result",
          "data": {
            "text/plain": [
              "AgentChatResponse(response='According to the provided data, Mumbai Suburban is ranked last with a score of 368.107.', sources=[ToolOutput(content=\"system: You are a helpful AI assistant. You are expert in retrieving the answer for the user input based on the provided context. You don't mention any file name or file path in your response.\\nContext information is below.\\n--------------------\\nfile_path: /content/dggi_folder/dggi/Composite Ranking of all 36 districts.csv\\n\\nRaigad, 528.514, 1\\nGondia, 518.254, 2\\nNashik, 513.504, 3\\nNagpur, 493.302, 4\\nPune, 492.041, 5\\nWashim, 483.969, 6\\nPalghar, 480.807, 7\\nKolhapur, 480.64, 8\\nSolapur, 472.255, 9\\nBhandara, 468.499, 10\\nSangli, 464.042, 11\\nJalgaon, 463.719, 12\\nSatara, 459.997, 13\\nAkola, 458.675, 14\\nAmravati, 455.887, 15\\nWardha, 451.264, 16\\nRatnagiri, 443.326, 17\\nJalna, 441.28, 18\\nChhatrapati Sambhajinagar, 438.712, 19\\nChandrapur, 436.584, 20\\nHingoli, 435.978, 21\\nThane, 435.39, 22\\nBuldhana, 435.098, 23\\nSindhudurg, 434.262, 24\\nYavatmal, 431.164, 25\\nParbhani, 428.526, 26\\nAhmednagar, 426.269, 27\\nLatur, 418.61, 28\\nNanded, 415.822, 29\\nMumbai, 408.325, 30\\nBeed, 400.699, 31\\nDharashiv, 399.852, 32\\nGadchiroli, 397.745, 33\\nDhule, 394.916, 34\\nNandurbar, 385.686, 35\\nMumbai Suburban, 368.107, 36\\n\\nfile_path: /content/dggi_folder/dggi/overall performance/Achiever Districts.csv\\n\\nRaigad, 528.514, 1\\nGondia, 518.254, 2\\nNashik, 513.504, 3\\nNagpur, 493.302, 4\\nPune, 492.041, 5\\nWashim, 483.969, 6\\nPalghar, 480.807, 7\\nKolhapur, 480.64, 8\\nSolapur, 472.255, 9\\nBhandara, 468.499, 10\\nSangli, 464.042, 11\\nJalgaon, 463.719, 12\\n\\nfile_path: /content/dggi_folder/dggi/overall performance/Aspirant Districts.csv\\n\\nYavatmal, 431.164, 25\\nParbhani, 428.526, 26\\nAhmednagar, 426.269, 27\\nLatur, 418.61, 28\\nNanded, 415.822, 29\\nMumbai, 408.325, 30\\nBeed, 400.699, 31\\nDharashiv, 399.852, 32\\nGadchiroli, 397.745, 33\\nDhule, 394.916, 34\\nNandurbar, 385.686, 35\\nMumbai Suburban, 368.107, 36\\n\\nfile_path: /content/dggi_folder/dggi/overall performance/Performer Districts.csv\\n\\nSatara, 459.997, 13\\nAkola, 458.675, 14\\nAmravati, 455.887, 15\\nWardha, 451.264, 16\\nRatnagiri, 443.326, 17\\nJalna, 441.28, 18\\nChhatrapati Sambhajinagar, 438.712, 19\\nChandrapur, 436.584, 20\\nHingoli, 435.978, 21\\nThane, 435.39, 22\\nBuldhana, 435.098, 23\\nSindhudurg, 434.262, 24\\n--------------------\\n\", tool_name='retriever', raw_input={'message': 'Which district is ranked last and what is its score?'}, raw_output=ChatMessage(role=<MessageRole.SYSTEM: 'system'>, content=\"You are a helpful AI assistant. You are expert in retrieving the answer for the user input based on the provided context. You don't mention any file name or file path in your response.\\nContext information is below.\\n--------------------\\nfile_path: /content/dggi_folder/dggi/Composite Ranking of all 36 districts.csv\\n\\nRaigad, 528.514, 1\\nGondia, 518.254, 2\\nNashik, 513.504, 3\\nNagpur, 493.302, 4\\nPune, 492.041, 5\\nWashim, 483.969, 6\\nPalghar, 480.807, 7\\nKolhapur, 480.64, 8\\nSolapur, 472.255, 9\\nBhandara, 468.499, 10\\nSangli, 464.042, 11\\nJalgaon, 463.719, 12\\nSatara, 459.997, 13\\nAkola, 458.675, 14\\nAmravati, 455.887, 15\\nWardha, 451.264, 16\\nRatnagiri, 443.326, 17\\nJalna, 441.28, 18\\nChhatrapati Sambhajinagar, 438.712, 19\\nChandrapur, 436.584, 20\\nHingoli, 435.978, 21\\nThane, 435.39, 22\\nBuldhana, 435.098, 23\\nSindhudurg, 434.262, 24\\nYavatmal, 431.164, 25\\nParbhani, 428.526, 26\\nAhmednagar, 426.269, 27\\nLatur, 418.61, 28\\nNanded, 415.822, 29\\nMumbai, 408.325, 30\\nBeed, 400.699, 31\\nDharashiv, 399.852, 32\\nGadchiroli, 397.745, 33\\nDhule, 394.916, 34\\nNandurbar, 385.686, 35\\nMumbai Suburban, 368.107, 36\\n\\nfile_path: /content/dggi_folder/dggi/overall performance/Achiever Districts.csv\\n\\nRaigad, 528.514, 1\\nGondia, 518.254, 2\\nNashik, 513.504, 3\\nNagpur, 493.302, 4\\nPune, 492.041, 5\\nWashim, 483.969, 6\\nPalghar, 480.807, 7\\nKolhapur, 480.64, 8\\nSolapur, 472.255, 9\\nBhandara, 468.499, 10\\nSangli, 464.042, 11\\nJalgaon, 463.719, 12\\n\\nfile_path: /content/dggi_folder/dggi/overall performance/Aspirant Districts.csv\\n\\nYavatmal, 431.164, 25\\nParbhani, 428.526, 26\\nAhmednagar, 426.269, 27\\nLatur, 418.61, 28\\nNanded, 415.822, 29\\nMumbai, 408.325, 30\\nBeed, 400.699, 31\\nDharashiv, 399.852, 32\\nGadchiroli, 397.745, 33\\nDhule, 394.916, 34\\nNandurbar, 385.686, 35\\nMumbai Suburban, 368.107, 36\\n\\nfile_path: /content/dggi_folder/dggi/overall performance/Performer Districts.csv\\n\\nSatara, 459.997, 13\\nAkola, 458.675, 14\\nAmravati, 455.887, 15\\nWardha, 451.264, 16\\nRatnagiri, 443.326, 17\\nJalna, 441.28, 18\\nChhatrapati Sambhajinagar, 438.712, 19\\nChandrapur, 436.584, 20\\nHingoli, 435.978, 21\\nThane, 435.39, 22\\nBuldhana, 435.098, 23\\nSindhudurg, 434.262, 24\\n--------------------\\n\", additional_kwargs={}), is_error=False)], source_nodes=[NodeWithScore(node=TextNode(id_='4be7ae61-33f9-45bd-814b-f7309e0cd722', embedding=None, metadata={'file_path': '/content/dggi_folder/dggi/Composite Ranking of all 36 districts.csv', 'file_name': 'Composite Ranking of all 36 districts.csv', 'file_type': 'text/csv', 'file_size': 757, 'creation_date': '2024-07-18', 'last_modified_date': '2024-07-18'}, excluded_embed_metadata_keys=['file_name', 'file_type', 'file_size', 'creation_date', 'last_modified_date', 'last_accessed_date'], excluded_llm_metadata_keys=['file_name', 'file_type', 'file_size', 'creation_date', 'last_modified_date', 'last_accessed_date'], relationships={<NodeRelationship.SOURCE: '1'>: RelatedNodeInfo(node_id='463c66ed-987f-4cb8-9556-e0ce72400675', node_type=<ObjectType.DOCUMENT: '4'>, metadata={'file_path': '/content/dggi_folder/dggi/Composite Ranking of all 36 districts.csv', 'file_name': 'Composite Ranking of all 36 districts.csv', 'file_type': 'text/csv', 'file_size': 757, 'creation_date': '2024-07-18', 'last_modified_date': '2024-07-18'}, hash='bc49369e4eb030c41323226d2f0bf12a730c39619c69ba5967294c74598bac5d')}, text='Raigad, 528.514, 1\\nGondia, 518.254, 2\\nNashik, 513.504, 3\\nNagpur, 493.302, 4\\nPune, 492.041, 5\\nWashim, 483.969, 6\\nPalghar, 480.807, 7\\nKolhapur, 480.64, 8\\nSolapur, 472.255, 9\\nBhandara, 468.499, 10\\nSangli, 464.042, 11\\nJalgaon, 463.719, 12\\nSatara, 459.997, 13\\nAkola, 458.675, 14\\nAmravati, 455.887, 15\\nWardha, 451.264, 16\\nRatnagiri, 443.326, 17\\nJalna, 441.28, 18\\nChhatrapati Sambhajinagar, 438.712, 19\\nChandrapur, 436.584, 20\\nHingoli, 435.978, 21\\nThane, 435.39, 22\\nBuldhana, 435.098, 23\\nSindhudurg, 434.262, 24\\nYavatmal, 431.164, 25\\nParbhani, 428.526, 26\\nAhmednagar, 426.269, 27\\nLatur, 418.61, 28\\nNanded, 415.822, 29\\nMumbai, 408.325, 30\\nBeed, 400.699, 31\\nDharashiv, 399.852, 32\\nGadchiroli, 397.745, 33\\nDhule, 394.916, 34\\nNandurbar, 385.686, 35\\nMumbai Suburban, 368.107, 36', mimetype='text/plain', start_char_idx=0, end_char_idx=766, text_template='{metadata_str}\\n\\n{content}', metadata_template='{key}: {value}', metadata_seperator='\\n'), score=0.048506424), NodeWithScore(node=TextNode(id_='9dfece93-7909-45b8-81f7-fd05d5eea5d0', embedding=None, metadata={'file_path': '/content/dggi_folder/dggi/overall performance/Achiever Districts.csv', 'file_name': 'Achiever Districts.csv', 'file_type': 'text/csv', 'file_size': 252, 'creation_date': '2024-07-18', 'last_modified_date': '2024-07-18'}, excluded_embed_metadata_keys=['file_name', 'file_type', 'file_size', 'creation_date', 'last_modified_date', 'last_accessed_date'], excluded_llm_metadata_keys=['file_name', 'file_type', 'file_size', 'creation_date', 'last_modified_date', 'last_accessed_date'], relationships={<NodeRelationship.SOURCE: '1'>: RelatedNodeInfo(node_id='2518cd49-33a0-414c-9f0f-5f8a0e62b968', node_type=<ObjectType.DOCUMENT: '4'>, metadata={'file_path': '/content/dggi_folder/dggi/overall performance/Achiever Districts.csv', 'file_name': 'Achiever Districts.csv', 'file_type': 'text/csv', 'file_size': 252, 'creation_date': '2024-07-18', 'last_modified_date': '2024-07-18'}, hash='27b842ecffa89674d785576d8312f691d342f0edfe659079d0fa29857662f138')}, text='Raigad, 528.514, 1\\nGondia, 518.254, 2\\nNashik, 513.504, 3\\nNagpur, 493.302, 4\\nPune, 492.041, 5\\nWashim, 483.969, 6\\nPalghar, 480.807, 7\\nKolhapur, 480.64, 8\\nSolapur, 472.255, 9\\nBhandara, 468.499, 10\\nSangli, 464.042, 11\\nJalgaon, 463.719, 12', mimetype='text/plain', start_char_idx=0, end_char_idx=234, text_template='{metadata_str}\\n\\n{content}', metadata_template='{key}: {value}', metadata_seperator='\\n'), score=0.03984955), NodeWithScore(node=TextNode(id_='9173a3bd-7231-41ca-a74f-924f9016f853', embedding=None, metadata={'file_path': '/content/dggi_folder/dggi/overall performance/Aspirant Districts.csv', 'file_name': 'Aspirant Districts.csv', 'file_type': 'text/csv', 'file_size': 279, 'creation_date': '2024-07-18', 'last_modified_date': '2024-07-18'}, excluded_embed_metadata_keys=['file_name', 'file_type', 'file_size', 'creation_date', 'last_modified_date', 'last_accessed_date'], excluded_llm_metadata_keys=['file_name', 'file_type', 'file_size', 'creation_date', 'last_modified_date', 'last_accessed_date'], relationships={<NodeRelationship.SOURCE: '1'>: RelatedNodeInfo(node_id='9edb4517-1ecd-4c9b-b662-13d6bfc4184a', node_type=<ObjectType.DOCUMENT: '4'>, metadata={'file_path': '/content/dggi_folder/dggi/overall performance/Aspirant Districts.csv', 'file_name': 'Aspirant Districts.csv', 'file_type': 'text/csv', 'file_size': 279, 'creation_date': '2024-07-18', 'last_modified_date': '2024-07-18'}, hash='afe19f2d0d6555e6722f4f136dc77bb6c7786ecad4756fc2cd11b807c9b6fac6')}, text='Yavatmal, 431.164, 25\\nParbhani, 428.526, 26\\nAhmednagar, 426.269, 27\\nLatur, 418.61, 28\\nNanded, 415.822, 29\\nMumbai, 408.325, 30\\nBeed, 400.699, 31\\nDharashiv, 399.852, 32\\nGadchiroli, 397.745, 33\\nDhule, 394.916, 34\\nNandurbar, 385.686, 35\\nMumbai Suburban, 368.107, 36', mimetype='text/plain', start_char_idx=0, end_char_idx=261, text_template='{metadata_str}\\n\\n{content}', metadata_template='{key}: {value}', metadata_seperator='\\n'), score=0.027320113), NodeWithScore(node=TextNode(id_='1746f340-7ca1-4055-a7d4-4575c81708f3', embedding=None, metadata={'file_path': '/content/dggi_folder/dggi/overall performance/Performer Districts.csv', 'file_name': 'Performer Districts.csv', 'file_type': 'text/csv', 'file_size': 287, 'creation_date': '2024-07-18', 'last_modified_date': '2024-07-18'}, excluded_embed_metadata_keys=['file_name', 'file_type', 'file_size', 'creation_date', 'last_modified_date', 'last_accessed_date'], excluded_llm_metadata_keys=['file_name', 'file_type', 'file_size', 'creation_date', 'last_modified_date', 'last_accessed_date'], relationships={<NodeRelationship.SOURCE: '1'>: RelatedNodeInfo(node_id='eef8881a-3163-484d-99fb-1429d1fb0c89', node_type=<ObjectType.DOCUMENT: '4'>, metadata={'file_path': '/content/dggi_folder/dggi/overall performance/Performer Districts.csv', 'file_name': 'Performer Districts.csv', 'file_type': 'text/csv', 'file_size': 287, 'creation_date': '2024-07-18', 'last_modified_date': '2024-07-18'}, hash='b1e790662edfa89ca744c14edac7189e0606b9eab92623d50caa222565f83826')}, text='Satara, 459.997, 13\\nAkola, 458.675, 14\\nAmravati, 455.887, 15\\nWardha, 451.264, 16\\nRatnagiri, 443.326, 17\\nJalna, 441.28, 18\\nChhatrapati Sambhajinagar, 438.712, 19\\nChandrapur, 436.584, 20\\nHingoli, 435.978, 21\\nThane, 435.39, 22\\nBuldhana, 435.098, 23\\nSindhudurg, 434.262, 24', mimetype='text/plain', start_char_idx=0, end_char_idx=269, text_template='{metadata_str}\\n\\n{content}', metadata_template='{key}: {value}', metadata_seperator='\\n'), score=0.023952294)], is_dummy_stream=False, metadata=None)"
            ]
          },
          "metadata": {},
          "execution_count": 18
        }
      ]
    },
    {
      "cell_type": "code",
      "source": [
        "response = chat_engine.chat(\"Describe in detail the performance of ahmednagar.\")\n",
        "node = response.source_nodes[0]\n",
        "response_json = {}\n",
        "# response_json['response'] = response.response\n",
        "# response_json['Search_Score'] = node.score\n",
        "\n",
        "try:\n",
        "    response_json['Please visit the following url:'] = str(node.metadata['URL'])\n",
        "except KeyError:\n",
        "    file_name = node.metadata['file_name']\n",
        "    try:\n",
        "        response_json['Please visit the following url:'] = next(url for url, files in file_to_url_mapping.items() if file_name in files)\n",
        "    except StopIteration:\n",
        "        response_json['Please visit the following url:'] = 'URL not found'\n",
        "\n",
        "print(response_json)"
      ],
      "metadata": {
        "colab": {
          "base_uri": "https://localhost:8080/"
        },
        "id": "9_mn7cDtfWul",
        "outputId": "d09307b3-839c-4a98-d2b4-ef45e854ceac"
      },
      "execution_count": 32,
      "outputs": [
        {
          "output_type": "stream",
          "name": "stdout",
          "text": [
            "{'Please visit the following url:': 'https://dggi.maharashtra.gov.in/performanceOverview'}\n"
          ]
        }
      ]
    },
    {
      "cell_type": "code",
      "execution_count": 34,
      "metadata": {
        "id": "ws6ctQwErwiC",
        "colab": {
          "base_uri": "https://localhost:8080/"
        },
        "outputId": "2d083b61-9250-4b65-e3b3-323ab0f4ab90"
      },
      "outputs": [
        {
          "output_type": "stream",
          "name": "stdout",
          "text": [
            "{'Please visit the following url:': 'https://dggi.maharashtra.gov.in/WIM'}\n"
          ]
        }
      ],
      "source": [
        "response = chat_engine.chat(\"Ya projectche owner kon aahe?\")\n",
        "node = response.source_nodes[0]\n",
        "response_json = {}\n",
        "# response_json['response'] = response.response\n",
        "# response_json['Search_Score'] = node.score\n",
        "\n",
        "try:\n",
        "    response_json['Please visit the following url:'] = str(node.metadata['URL'])\n",
        "except KeyError:\n",
        "    file_name = node.metadata['file_name']\n",
        "    try:\n",
        "        response_json['Please visit the following url:'] = next(url for url, files in file_to_url_mapping.items() if file_name in files)\n",
        "    except StopIteration:\n",
        "        response_json['Please visit the following url:'] = 'URL not found'\n",
        "\n",
        "print(response_json)"
      ]
    }
  ],
  "metadata": {
    "accelerator": "GPU",
    "colab": {
      "collapsed_sections": [
        "Wb1HMZ2ZonWW",
        "ZLbVmn0J3Ox3",
        "Dk5rq8kE0ajf"
      ],
      "gpuType": "T4",
      "provenance": []
    },
    "kernelspec": {
      "display_name": "Python 3",
      "name": "python3"
    },
    "language_info": {
      "name": "python"
    },
    "widgets": {
      "application/vnd.jupyter.widget-state+json": {}
    }
  },
  "nbformat": 4,
  "nbformat_minor": 0
}